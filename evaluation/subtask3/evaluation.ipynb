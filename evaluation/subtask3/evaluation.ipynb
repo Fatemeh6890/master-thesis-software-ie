{
 "cells": [
  {
   "cell_type": "code",
   "execution_count": 1,
   "id": "5e84e0c6",
   "metadata": {},
   "outputs": [
    {
     "name": "stderr",
     "output_type": "stream",
     "text": [
      "C:\\Users\\fschr\\AppData\\Roaming\\Python\\Python311\\site-packages\\pandas\\core\\arrays\\masked.py:60: UserWarning: Pandas requires version '1.3.6' or newer of 'bottleneck' (version '1.3.5' currently installed).\n",
      "  from pandas.core import (\n"
     ]
    }
   ],
   "source": [
    "import sys\n",
    "import random\n",
    "import pandas as pd\n",
    "from sklearn.metrics import classification_report\n",
    "import json\n",
    "\n",
    "sys.path.append('..')\n",
    "import calc_metrics"
   ]
  },
  {
   "cell_type": "markdown",
   "id": "3e78a8b1",
   "metadata": {},
   "source": [
    "## Load Predictions and gold"
   ]
  },
  {
   "cell_type": "code",
   "execution_count": 2,
   "id": "cde0c8e2",
   "metadata": {
    "scrolled": true
   },
   "outputs": [
    {
     "name": "stdout",
     "output_type": "stream",
     "text": [
      "335 330\n"
     ]
    }
   ],
   "source": [
    "fn_pred = \"../../experiments/subtask3/experiment_scibert_uncased/prediction_force_one.txt\"\n",
    "fn_gold = \"../../data/subtask3/subtask3_test.labels.txt\"\n",
    "\n",
    "\n",
    "preds = calc_metrics.parse_content(calc_metrics.load_relation_info(fn_pred))\n",
    "gold = calc_metrics.parse_content(calc_metrics.load_relation_info(fn_gold))\n",
    "print(len(preds), len(gold))"
   ]
  },
  {
   "cell_type": "code",
   "execution_count": 3,
   "id": "25697861",
   "metadata": {},
   "outputs": [],
   "source": [
    "keys = set(preds.keys())|set(gold.keys())\n",
    "gold_aligned, preds_aligned = [], []\n",
    "for key in keys:\n",
    "    g = gold.get(key, \"nil\")\n",
    "    p = preds.get(key, \"nil\")\n",
    "    gold_aligned.append(g)\n",
    "    preds_aligned.append(p) "
   ]
  },
  {
   "cell_type": "code",
   "execution_count": 4,
   "id": "00a05520",
   "metadata": {},
   "outputs": [
    {
     "data": {
      "text/plain": [
       "(362, 362)"
      ]
     },
     "execution_count": 4,
     "metadata": {},
     "output_type": "execute_result"
    }
   ],
   "source": [
    "len(gold_aligned), len(preds_aligned)"
   ]
  },
  {
   "cell_type": "markdown",
   "id": "02a2d78e",
   "metadata": {},
   "source": [
    "## Calculate Metrics"
   ]
  },
  {
   "cell_type": "code",
   "execution_count": 10,
   "id": "3327e22d",
   "metadata": {},
   "outputs": [
    {
     "data": {
      "text/html": [
       "<div>\n",
       "<style scoped>\n",
       "    .dataframe tbody tr th:only-of-type {\n",
       "        vertical-align: middle;\n",
       "    }\n",
       "\n",
       "    .dataframe tbody tr th {\n",
       "        vertical-align: top;\n",
       "    }\n",
       "\n",
       "    .dataframe thead th {\n",
       "        text-align: right;\n",
       "    }\n",
       "</style>\n",
       "<table border=\"1\" class=\"dataframe\">\n",
       "  <thead>\n",
       "    <tr style=\"text-align: right;\">\n",
       "      <th></th>\n",
       "      <th>precision</th>\n",
       "      <th>recall</th>\n",
       "      <th>f1-score</th>\n",
       "      <th>support</th>\n",
       "    </tr>\n",
       "    <tr>\n",
       "      <th>index</th>\n",
       "      <th></th>\n",
       "      <th></th>\n",
       "      <th></th>\n",
       "      <th></th>\n",
       "    </tr>\n",
       "  </thead>\n",
       "  <tbody>\n",
       "    <tr>\n",
       "      <th>Abbreviation_of</th>\n",
       "      <td>1.000000</td>\n",
       "      <td>1.000000</td>\n",
       "      <td>1.000000</td>\n",
       "      <td>5.0</td>\n",
       "    </tr>\n",
       "    <tr>\n",
       "      <th>AlternativeName_of</th>\n",
       "      <td>1.000000</td>\n",
       "      <td>1.000000</td>\n",
       "      <td>1.000000</td>\n",
       "      <td>1.0</td>\n",
       "    </tr>\n",
       "    <tr>\n",
       "      <th>Citation_of</th>\n",
       "      <td>0.933333</td>\n",
       "      <td>0.933333</td>\n",
       "      <td>0.933333</td>\n",
       "      <td>45.0</td>\n",
       "    </tr>\n",
       "    <tr>\n",
       "      <th>Developer_of</th>\n",
       "      <td>0.951807</td>\n",
       "      <td>0.951807</td>\n",
       "      <td>0.951807</td>\n",
       "      <td>83.0</td>\n",
       "    </tr>\n",
       "    <tr>\n",
       "      <th>Extension_of</th>\n",
       "      <td>0.785714</td>\n",
       "      <td>1.000000</td>\n",
       "      <td>0.880000</td>\n",
       "      <td>11.0</td>\n",
       "    </tr>\n",
       "    <tr>\n",
       "      <th>License_of</th>\n",
       "      <td>0.818182</td>\n",
       "      <td>1.000000</td>\n",
       "      <td>0.900000</td>\n",
       "      <td>9.0</td>\n",
       "    </tr>\n",
       "    <tr>\n",
       "      <th>PlugIn_of</th>\n",
       "      <td>0.769231</td>\n",
       "      <td>0.769231</td>\n",
       "      <td>0.769231</td>\n",
       "      <td>13.0</td>\n",
       "    </tr>\n",
       "    <tr>\n",
       "      <th>Release_of</th>\n",
       "      <td>0.857143</td>\n",
       "      <td>0.857143</td>\n",
       "      <td>0.857143</td>\n",
       "      <td>7.0</td>\n",
       "    </tr>\n",
       "    <tr>\n",
       "      <th>Specification_of</th>\n",
       "      <td>0.625000</td>\n",
       "      <td>0.625000</td>\n",
       "      <td>0.625000</td>\n",
       "      <td>8.0</td>\n",
       "    </tr>\n",
       "    <tr>\n",
       "      <th>URL_of</th>\n",
       "      <td>0.948718</td>\n",
       "      <td>0.948718</td>\n",
       "      <td>0.948718</td>\n",
       "      <td>39.0</td>\n",
       "    </tr>\n",
       "    <tr>\n",
       "      <th>Version_of</th>\n",
       "      <td>0.899083</td>\n",
       "      <td>0.899083</td>\n",
       "      <td>0.899083</td>\n",
       "      <td>109.0</td>\n",
       "    </tr>\n",
       "    <tr>\n",
       "      <th>micro avg</th>\n",
       "      <td>0.904478</td>\n",
       "      <td>0.918182</td>\n",
       "      <td>0.911278</td>\n",
       "      <td>330.0</td>\n",
       "    </tr>\n",
       "    <tr>\n",
       "      <th>macro avg</th>\n",
       "      <td>0.871656</td>\n",
       "      <td>0.907665</td>\n",
       "      <td>0.887665</td>\n",
       "      <td>330.0</td>\n",
       "    </tr>\n",
       "    <tr>\n",
       "      <th>weighted avg</th>\n",
       "      <td>0.906080</td>\n",
       "      <td>0.918182</td>\n",
       "      <td>0.911455</td>\n",
       "      <td>330.0</td>\n",
       "    </tr>\n",
       "  </tbody>\n",
       "</table>\n",
       "</div>"
      ],
      "text/plain": [
       "                    precision    recall  f1-score  support\n",
       "index                                                     \n",
       "Abbreviation_of      1.000000  1.000000  1.000000      5.0\n",
       "AlternativeName_of   1.000000  1.000000  1.000000      1.0\n",
       "Citation_of          0.933333  0.933333  0.933333     45.0\n",
       "Developer_of         0.951807  0.951807  0.951807     83.0\n",
       "Extension_of         0.785714  1.000000  0.880000     11.0\n",
       "License_of           0.818182  1.000000  0.900000      9.0\n",
       "PlugIn_of            0.769231  0.769231  0.769231     13.0\n",
       "Release_of           0.857143  0.857143  0.857143      7.0\n",
       "Specification_of     0.625000  0.625000  0.625000      8.0\n",
       "URL_of               0.948718  0.948718  0.948718     39.0\n",
       "Version_of           0.899083  0.899083  0.899083    109.0\n",
       "micro avg            0.904478  0.918182  0.911278    330.0\n",
       "macro avg            0.871656  0.907665  0.887665    330.0\n",
       "weighted avg         0.906080  0.918182  0.911455    330.0"
      ]
     },
     "execution_count": 10,
     "metadata": {},
     "output_type": "execute_result"
    }
   ],
   "source": [
    "labels = ['Abbreviation_of', 'AlternativeName_of', 'Citation_of', 'Developer_of',\n",
    "       'Extension_of', 'License_of', 'PlugIn_of', 'Release_of',\n",
    "       'Specification_of', 'URL_of', 'Version_of']\n",
    "metrics_df = pd.DataFrame(classification_report(gold_aligned, preds_aligned, output_dict=True, labels=labels)).T\n",
    "# Reset the index to make 'nil' accessible as a column\n",
    "metrics_df.reset_index(inplace=True)\n",
    "\n",
    "# Filter out rows where the index column has the value 'nil'\n",
    "# metrics_df = metrics_df[metrics_df['index'] != 'nil']\n",
    "\n",
    "# Set the index back to its original form\n",
    "metrics_df.set_index('index', inplace=True)\n",
    "metrics_df\n"
   ]
  },
  {
   "cell_type": "code",
   "execution_count": 11,
   "id": "af6debc8",
   "metadata": {},
   "outputs": [],
   "source": [
    "metrics_df = metrics_df.iloc[:-3]"
   ]
  },
  {
   "cell_type": "code",
   "execution_count": 12,
   "id": "8d80f795",
   "metadata": {},
   "outputs": [
    {
     "data": {
      "text/html": [
       "<div>\n",
       "<style scoped>\n",
       "    .dataframe tbody tr th:only-of-type {\n",
       "        vertical-align: middle;\n",
       "    }\n",
       "\n",
       "    .dataframe tbody tr th {\n",
       "        vertical-align: top;\n",
       "    }\n",
       "\n",
       "    .dataframe thead th {\n",
       "        text-align: right;\n",
       "    }\n",
       "</style>\n",
       "<table border=\"1\" class=\"dataframe\">\n",
       "  <thead>\n",
       "    <tr style=\"text-align: right;\">\n",
       "      <th></th>\n",
       "      <th>precision</th>\n",
       "      <th>recall</th>\n",
       "      <th>f1-score</th>\n",
       "      <th>support</th>\n",
       "    </tr>\n",
       "    <tr>\n",
       "      <th>index</th>\n",
       "      <th></th>\n",
       "      <th></th>\n",
       "      <th></th>\n",
       "      <th></th>\n",
       "    </tr>\n",
       "  </thead>\n",
       "  <tbody>\n",
       "    <tr>\n",
       "      <th>Abbreviation_of</th>\n",
       "      <td>1.000000</td>\n",
       "      <td>1.000000</td>\n",
       "      <td>1.000000</td>\n",
       "      <td>5.0</td>\n",
       "    </tr>\n",
       "    <tr>\n",
       "      <th>AlternativeName_of</th>\n",
       "      <td>1.000000</td>\n",
       "      <td>1.000000</td>\n",
       "      <td>1.000000</td>\n",
       "      <td>1.0</td>\n",
       "    </tr>\n",
       "    <tr>\n",
       "      <th>Citation_of</th>\n",
       "      <td>0.911111</td>\n",
       "      <td>0.911111</td>\n",
       "      <td>0.911111</td>\n",
       "      <td>45.0</td>\n",
       "    </tr>\n",
       "    <tr>\n",
       "      <th>Developer_of</th>\n",
       "      <td>0.951807</td>\n",
       "      <td>0.951807</td>\n",
       "      <td>0.951807</td>\n",
       "      <td>83.0</td>\n",
       "    </tr>\n",
       "    <tr>\n",
       "      <th>Extension_of</th>\n",
       "      <td>0.818182</td>\n",
       "      <td>0.818182</td>\n",
       "      <td>0.818182</td>\n",
       "      <td>11.0</td>\n",
       "    </tr>\n",
       "    <tr>\n",
       "      <th>License_of</th>\n",
       "      <td>0.818182</td>\n",
       "      <td>1.000000</td>\n",
       "      <td>0.900000</td>\n",
       "      <td>9.0</td>\n",
       "    </tr>\n",
       "    <tr>\n",
       "      <th>PlugIn_of</th>\n",
       "      <td>0.714286</td>\n",
       "      <td>0.769231</td>\n",
       "      <td>0.740741</td>\n",
       "      <td>13.0</td>\n",
       "    </tr>\n",
       "    <tr>\n",
       "      <th>Release_of</th>\n",
       "      <td>1.000000</td>\n",
       "      <td>1.000000</td>\n",
       "      <td>1.000000</td>\n",
       "      <td>7.0</td>\n",
       "    </tr>\n",
       "    <tr>\n",
       "      <th>Specification_of</th>\n",
       "      <td>0.666667</td>\n",
       "      <td>0.500000</td>\n",
       "      <td>0.571429</td>\n",
       "      <td>8.0</td>\n",
       "    </tr>\n",
       "    <tr>\n",
       "      <th>URL_of</th>\n",
       "      <td>0.948718</td>\n",
       "      <td>0.948718</td>\n",
       "      <td>0.948718</td>\n",
       "      <td>39.0</td>\n",
       "    </tr>\n",
       "    <tr>\n",
       "      <th>Version_of</th>\n",
       "      <td>0.862385</td>\n",
       "      <td>0.862385</td>\n",
       "      <td>0.862385</td>\n",
       "      <td>109.0</td>\n",
       "    </tr>\n",
       "  </tbody>\n",
       "</table>\n",
       "</div>"
      ],
      "text/plain": [
       "                    precision    recall  f1-score  support\n",
       "index                                                     \n",
       "Abbreviation_of      1.000000  1.000000  1.000000      5.0\n",
       "AlternativeName_of   1.000000  1.000000  1.000000      1.0\n",
       "Citation_of          0.911111  0.911111  0.911111     45.0\n",
       "Developer_of         0.951807  0.951807  0.951807     83.0\n",
       "Extension_of         0.818182  0.818182  0.818182     11.0\n",
       "License_of           0.818182  1.000000  0.900000      9.0\n",
       "PlugIn_of            0.714286  0.769231  0.740741     13.0\n",
       "Release_of           1.000000  1.000000  1.000000      7.0\n",
       "Specification_of     0.666667  0.500000  0.571429      8.0\n",
       "URL_of               0.948718  0.948718  0.948718     39.0\n",
       "Version_of           0.862385  0.862385  0.862385    109.0"
      ]
     },
     "execution_count": 12,
     "metadata": {},
     "output_type": "execute_result"
    }
   ],
   "source": [
    "metrics_df"
   ]
  },
  {
   "cell_type": "code",
   "execution_count": 17,
   "id": "7a19f761",
   "metadata": {},
   "outputs": [
    {
     "data": {
      "text/plain": [
       "<Figure size 1400x800 with 0 Axes>"
      ]
     },
     "metadata": {},
     "output_type": "display_data"
    },
    {
     "data": {
      "image/png": "[encoded data removed]",
      "text/plain": [
       "<Figure size 1400x800 with 1 Axes>"
      ]
     },
     "metadata": {},
     "output_type": "display_data"
    }
   ],
   "source": [
    "import seaborn as sns\n",
    "import matplotlib.pyplot as plt\n",
    "colors = sns.color_palette('Set3')\n",
    "colors_list = [colors[7], colors[9], colors[6]]\n",
    "# Set the size of the plot\n",
    "plt.figure(figsize=(14, 8))\n",
    "\n",
    "# Plotting the precision, recall, and f1-score\n",
    "ax = metrics_df.plot(kind='bar', x='support', y=['precision', 'recall', 'f1-score'], color=colors_list, figsize=(14, 8))\n",
    "\n",
    "# Adding title and labels\n",
    "plt.title('Performance Metrics for bert-base-uncased model')\n",
    "plt.xlabel('number of samples in each class')\n",
    "plt.ylabel('score')\n",
    "\n",
    "for i in range(len(metrics_df)):\n",
    "    p = ax.containers[1][i]  # Select the middle bar in each group\n",
    "    class_name = metrics_df.index[i]  # Get the class name for the current group\n",
    "    ax.text(x=p.get_x() + p.get_width() / 2, \n",
    "            y=p.get_height() if p.get_height() != 0 else 0.2 ,  # Position slightly above the bar#+ 0.02\n",
    "            s=class_name, \n",
    "            ha='center', va='top', rotation=90, fontsize=8, color='black')\n",
    "# Rotating the x-axis labels for better readability\n",
    "plt.xticks(rotation=45, ha='right')\n",
    "# plt.legend(['Precision', 'Recall', 'F1-Score'], loc=(0.45, 0.5))\n",
    "plt.legend(['Precision', 'Recall', 'F1-Score'], loc='upper right')\n",
    "# Show the plot\n",
    "plt.tight_layout()\n",
    "plt.show()"
   ]
  },
  {
   "cell_type": "code",
   "execution_count": 13,
   "id": "76585cb8",
   "metadata": {},
   "outputs": [],
   "source": [
    "result = metrics_df.loc[\"weighted avg\"].drop(\"support\").to_dict()"
   ]
  },
  {
   "cell_type": "code",
   "execution_count": 14,
   "id": "ee0bc55f",
   "metadata": {},
   "outputs": [
    {
     "data": {
      "text/plain": [
       "{'precision': 0.8380602684223855,\n",
       " 'recall': 0.841225626740947,\n",
       " 'f1-score': 0.8390992923753007}"
      ]
     },
     "execution_count": 14,
     "metadata": {},
     "output_type": "execute_result"
    }
   ],
   "source": [
    "result"
   ]
  },
  {
   "cell_type": "code",
   "execution_count": 15,
   "id": "d3325516",
   "metadata": {},
   "outputs": [],
   "source": [
    "result['name'] = 'bert-base-cased'\n",
    "# result['negative_sampling_ratio'] = '16_1'\n",
    "# result['epochs'] = hyperparameter['num_train_epochs']\n",
    "# result['train_batch_size'] = hyperparameter['per_device_train_batch_size'] * hyperparameter['gradient_accumulation_steps']\n",
    "# result['val_batch_size'] = hyperparameter['per_device_eval_batch_size']\n",
    "# result['lr'] = hyperparameter['learning_rate']\n",
    "# result['weight_decay'] = hyperparameter['weight_decay']\n",
    "# result['warmup_ratio'] = hyperparameter['warmup_ratio']"
   ]
  },
  {
   "cell_type": "code",
   "execution_count": 16,
   "id": "a90557cb",
   "metadata": {},
   "outputs": [
    {
     "data": {
      "text/plain": [
       "{'precision': 0.8380602684223855,\n",
       " 'recall': 0.841225626740947,\n",
       " 'f1-score': 0.8390992923753007,\n",
       " 'name': 'bert-base-cased'}"
      ]
     },
     "execution_count": 16,
     "metadata": {},
     "output_type": "execute_result"
    }
   ],
   "source": [
    "result"
   ]
  },
  {
   "cell_type": "code",
   "execution_count": 17,
   "id": "0fff5ba2",
   "metadata": {},
   "outputs": [],
   "source": [
    "with open(\"subtask3_all_model_comparison_results_force_one.txt\", \"a\") as myfile:\n",
    "    myfile.write(json.dumps(result) + '\\n')"
   ]
  },
  {
   "cell_type": "code",
   "execution_count": null,
   "id": "fbdba30b",
   "metadata": {},
   "outputs": [],
   "source": []
  },
  {
   "cell_type": "code",
   "execution_count": null,
   "id": "c4493279",
   "metadata": {},
   "outputs": [],
   "source": []
  }
 ],
 "metadata": {
  "kernelspec": {
   "display_name": "Python 3 (ipykernel)",
   "language": "python",
   "name": "python3"
  },
  "language_info": {
   "codemirror_mode": {
    "name": "ipython",
    "version": 3
   },
   "file_extension": ".py",
   "mimetype": "text/x-python",
   "name": "python",
   "nbconvert_exporter": "python",
   "pygments_lexer": "ipython3",
   "version": "3.11.4"
  }
 },
 "nbformat": 4,
 "nbformat_minor": 5
}
