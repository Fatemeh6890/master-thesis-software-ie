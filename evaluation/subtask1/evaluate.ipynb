{
 "cells": [
  {
   "cell_type": "code",
   "execution_count": 1,
   "id": "d1ea33a2-25da-4dee-b9bb-fdf2256d55e9",
   "metadata": {},
   "outputs": [
    {
     "name": "stderr",
     "output_type": "stream",
     "text": [
      "C:\\Users\\fschr\\AppData\\Roaming\\Python\\Python311\\site-packages\\pandas\\core\\arrays\\masked.py:60: UserWarning: Pandas requires version '1.3.6' or newer of 'bottleneck' (version '1.3.5' currently installed).\n",
      "  from pandas.core import (\n"
     ]
    }
   ],
   "source": [
    "import random\n",
    "import sys\n",
    "import json\n",
    "import os\n",
    "\n",
    "sys.path.append(\"..\")\n",
    "import calc_metrics"
   ]
  },
  {
   "cell_type": "markdown",
   "id": "e9ea91bc-3cca-4a08-b3d1-b2e02c144194",
   "metadata": {},
   "source": [
    "## Load predictions and gold"
   ]
  },
  {
   "cell_type": "code",
   "execution_count": 2,
   "id": "520e7438-3280-4512-9719-8c358aeb0fd4",
   "metadata": {},
   "outputs": [
    {
     "name": "stdout",
     "output_type": "stream",
     "text": [
      "8181 8181\n"
     ]
    }
   ],
   "source": [
    "fn_pred = \"C:/Users/fschr/Desktop/Masterarbeit/master-thesis-software-ie/experiments/subtask1/model_comparison/hyper_base_bert-base-uncased/prediction.txt\" #../data/subtask1/prediction/\n",
    "fn_gold = \"C:/Users/fschr/Desktop/Masterarbeit/master-thesis-software-ie/data/subtask1/subtask1_test.labels.txt\"\n",
    "\n",
    "preds = calc_metrics.load_bio(fn_pred)\n",
    "gold = calc_metrics.load_bio(fn_gold)\n",
    "\n",
    "print(len(preds), len(gold))"
   ]
  },
  {
   "cell_type": "markdown",
   "id": "c43b28f0-e156-4644-83fd-4165b680119f",
   "metadata": {},
   "source": [
    "## show example:"
   ]
  },
  {
   "cell_type": "code",
   "execution_count": 3,
   "id": "d9fb7acd-e984-4149-a7d3-91857cbab481",
   "metadata": {},
   "outputs": [
    {
     "name": "stdout",
     "output_type": "stream",
     "text": [
      "test sentence: 4353\n",
      "[('O', 'O'), ('O', 'O'), ('O', 'O'), ('O', 'O'), ('O', 'O'), ('O', 'O'), ('O', 'O'), ('O', 'O'), ('O', 'O'), ('O', 'O'), ('O', 'O'), ('O', 'O'), ('O', 'O'), ('O', 'O'), ('O', 'O'), ('B-Application_Usage', 'B-Application_Usage'), ('O', 'O'), ('O', 'O'), ('O', 'O'), ('O', 'O'), ('O', 'O'), ('O', 'O'), ('O', 'O'), ('O', 'O'), ('O', 'O'), ('O', 'O'), ('O', 'O'), ('O', 'O'), ('O', 'O'), ('O', 'O'), ('O', 'O')]\n"
     ]
    }
   ],
   "source": [
    "idx = random.choice(list(range(len(gold))))\n",
    "print(f\"test sentence: {idx}\")\n",
    "print(list(zip(gold[idx], preds[idx])))"
   ]
  },
  {
   "cell_type": "markdown",
   "id": "782de092-fc6b-4cae-8546-2b04f4e4fc31",
   "metadata": {
    "scrolled": true
   },
   "source": [
    "## every sentence need to have the same length!"
   ]
  },
  {
   "cell_type": "code",
   "execution_count": 4,
   "id": "0dd851a2-9df0-427c-ba3b-df4b75180335",
   "metadata": {
    "scrolled": true
   },
   "outputs": [],
   "source": [
    "for idx, (g, pred) in enumerate(zip(gold, preds)):\n",
    "    if len(g) != len(pred):\n",
    "        print(idx, len(g), len(pred))"
   ]
  },
  {
   "cell_type": "markdown",
   "id": "d1342140-9472-4f14-a426-b0b85743f697",
   "metadata": {},
   "source": [
    "## Are there different labels in gold and prediction?"
   ]
  },
  {
   "cell_type": "code",
   "execution_count": 5,
   "id": "355a2eb8",
   "metadata": {
    "scrolled": true
   },
   "outputs": [
    {
     "name": "stdout",
     "output_type": "stream",
     "text": [
      "26 23\n"
     ]
    },
    {
     "data": {
      "text/plain": [
       "{'I-OperatingSystem_Mention', 'I-PlugIn_Creation', 'I-PlugIn_Mention'}"
      ]
     },
     "execution_count": 5,
     "metadata": {},
     "output_type": "execute_result"
    }
   ],
   "source": [
    "label_test = {anno for sentence in gold for anno in sentence}    \n",
    "label_pred = {anno for sentence in preds for anno in sentence}\n",
    "print(len(label_test), len(label_pred))\n",
    "label_test - label_pred"
   ]
  },
  {
   "cell_type": "markdown",
   "id": "f3fdbfe4-6040-436a-84d6-cccc9976637c",
   "metadata": {},
   "source": [
    "## Calculate Metrics"
   ]
  },
  {
   "cell_type": "code",
   "execution_count": 6,
   "id": "68c08280-51e2-4da6-8fed-048a413dd2bd",
   "metadata": {
    "scrolled": true
   },
   "outputs": [],
   "source": [
    "metrics_df = calc_metrics.compute(preds, gold)"
   ]
  },
  {
   "cell_type": "code",
   "execution_count": 7,
   "id": "6277a469-9968-4dbe-8e54-0459eb0a0a88",
   "metadata": {},
   "outputs": [
    {
     "data": {
      "text/html": [
       "<div>\n",
       "<style scoped>\n",
       "    .dataframe tbody tr th:only-of-type {\n",
       "        vertical-align: middle;\n",
       "    }\n",
       "\n",
       "    .dataframe tbody tr th {\n",
       "        vertical-align: top;\n",
       "    }\n",
       "\n",
       "    .dataframe thead th {\n",
       "        text-align: right;\n",
       "    }\n",
       "</style>\n",
       "<table border=\"1\" class=\"dataframe\">\n",
       "  <thead>\n",
       "    <tr style=\"text-align: right;\">\n",
       "      <th></th>\n",
       "      <th>precision</th>\n",
       "      <th>recall</th>\n",
       "      <th>f1</th>\n",
       "      <th>number</th>\n",
       "    </tr>\n",
       "  </thead>\n",
       "  <tbody>\n",
       "    <tr>\n",
       "      <th>Application_Creation</th>\n",
       "      <td>0.686275</td>\n",
       "      <td>0.744681</td>\n",
       "      <td>0.714286</td>\n",
       "      <td>47.0</td>\n",
       "    </tr>\n",
       "    <tr>\n",
       "      <th>Application_Deposition</th>\n",
       "      <td>0.612903</td>\n",
       "      <td>0.863636</td>\n",
       "      <td>0.716981</td>\n",
       "      <td>22.0</td>\n",
       "    </tr>\n",
       "    <tr>\n",
       "      <th>Application_Mention</th>\n",
       "      <td>0.259259</td>\n",
       "      <td>0.225806</td>\n",
       "      <td>0.241379</td>\n",
       "      <td>31.0</td>\n",
       "    </tr>\n",
       "    <tr>\n",
       "      <th>Application_Usage</th>\n",
       "      <td>0.752066</td>\n",
       "      <td>0.733871</td>\n",
       "      <td>0.742857</td>\n",
       "      <td>248.0</td>\n",
       "    </tr>\n",
       "    <tr>\n",
       "      <th>OperatingSystem_Mention</th>\n",
       "      <td>1.000000</td>\n",
       "      <td>0.058824</td>\n",
       "      <td>0.111111</td>\n",
       "      <td>17.0</td>\n",
       "    </tr>\n",
       "    <tr>\n",
       "      <th>OperatingSystem_Usage</th>\n",
       "      <td>0.357143</td>\n",
       "      <td>0.625000</td>\n",
       "      <td>0.454545</td>\n",
       "      <td>16.0</td>\n",
       "    </tr>\n",
       "    <tr>\n",
       "      <th>PlugIn_Creation</th>\n",
       "      <td>0.400000</td>\n",
       "      <td>0.117647</td>\n",
       "      <td>0.181818</td>\n",
       "      <td>17.0</td>\n",
       "    </tr>\n",
       "    <tr>\n",
       "      <th>PlugIn_Deposition</th>\n",
       "      <td>0.333333</td>\n",
       "      <td>0.125000</td>\n",
       "      <td>0.181818</td>\n",
       "      <td>8.0</td>\n",
       "    </tr>\n",
       "    <tr>\n",
       "      <th>PlugIn_Mention</th>\n",
       "      <td>0.300000</td>\n",
       "      <td>0.272727</td>\n",
       "      <td>0.285714</td>\n",
       "      <td>11.0</td>\n",
       "    </tr>\n",
       "    <tr>\n",
       "      <th>PlugIn_Usage</th>\n",
       "      <td>0.555556</td>\n",
       "      <td>0.333333</td>\n",
       "      <td>0.416667</td>\n",
       "      <td>45.0</td>\n",
       "    </tr>\n",
       "    <tr>\n",
       "      <th>ProgrammingEnvironment_Mention</th>\n",
       "      <td>0.250000</td>\n",
       "      <td>0.166667</td>\n",
       "      <td>0.200000</td>\n",
       "      <td>6.0</td>\n",
       "    </tr>\n",
       "    <tr>\n",
       "      <th>ProgrammingEnvironment_Usage</th>\n",
       "      <td>0.902439</td>\n",
       "      <td>0.860465</td>\n",
       "      <td>0.880952</td>\n",
       "      <td>43.0</td>\n",
       "    </tr>\n",
       "    <tr>\n",
       "      <th>SoftwareCoreference_Deposition</th>\n",
       "      <td>0.600000</td>\n",
       "      <td>0.750000</td>\n",
       "      <td>0.666667</td>\n",
       "      <td>4.0</td>\n",
       "    </tr>\n",
       "    <tr>\n",
       "      <th>micro</th>\n",
       "      <td>0.665263</td>\n",
       "      <td>0.613592</td>\n",
       "      <td>0.638384</td>\n",
       "      <td>NaN</td>\n",
       "    </tr>\n",
       "    <tr>\n",
       "      <th>macro</th>\n",
       "      <td>0.548160</td>\n",
       "      <td>0.463661</td>\n",
       "      <td>0.459513</td>\n",
       "      <td>NaN</td>\n",
       "    </tr>\n",
       "    <tr>\n",
       "      <th>macro_weighted</th>\n",
       "      <td>0.666940</td>\n",
       "      <td>0.613592</td>\n",
       "      <td>0.618260</td>\n",
       "      <td>NaN</td>\n",
       "    </tr>\n",
       "  </tbody>\n",
       "</table>\n",
       "</div>"
      ],
      "text/plain": [
       "                                precision    recall        f1  number\n",
       "Application_Creation             0.686275  0.744681  0.714286    47.0\n",
       "Application_Deposition           0.612903  0.863636  0.716981    22.0\n",
       "Application_Mention              0.259259  0.225806  0.241379    31.0\n",
       "Application_Usage                0.752066  0.733871  0.742857   248.0\n",
       "OperatingSystem_Mention          1.000000  0.058824  0.111111    17.0\n",
       "OperatingSystem_Usage            0.357143  0.625000  0.454545    16.0\n",
       "PlugIn_Creation                  0.400000  0.117647  0.181818    17.0\n",
       "PlugIn_Deposition                0.333333  0.125000  0.181818     8.0\n",
       "PlugIn_Mention                   0.300000  0.272727  0.285714    11.0\n",
       "PlugIn_Usage                     0.555556  0.333333  0.416667    45.0\n",
       "ProgrammingEnvironment_Mention   0.250000  0.166667  0.200000     6.0\n",
       "ProgrammingEnvironment_Usage     0.902439  0.860465  0.880952    43.0\n",
       "SoftwareCoreference_Deposition   0.600000  0.750000  0.666667     4.0\n",
       "micro                            0.665263  0.613592  0.638384     NaN\n",
       "macro                            0.548160  0.463661  0.459513     NaN\n",
       "macro_weighted                   0.666940  0.613592  0.618260     NaN"
      ]
     },
     "execution_count": 7,
     "metadata": {},
     "output_type": "execute_result"
    }
   ],
   "source": [
    "metrics_df"
   ]
  },
  {
   "cell_type": "code",
   "execution_count": 8,
   "id": "7890d758",
   "metadata": {},
   "outputs": [],
   "source": [
    "class_names = metrics_df.index.tolist()"
   ]
  },
  {
   "cell_type": "code",
   "execution_count": 9,
   "id": "12a1ffe2",
   "metadata": {},
   "outputs": [
    {
     "data": {
      "text/plain": [
       "(13, 4)"
      ]
     },
     "execution_count": 9,
     "metadata": {},
     "output_type": "execute_result"
    }
   ],
   "source": [
    "metrics_df = metrics_df.iloc[:-3]\n",
    "metrics_df.shape"
   ]
  },
  {
   "cell_type": "code",
   "execution_count": 10,
   "id": "5da2dcb3",
   "metadata": {},
   "outputs": [
    {
     "data": {
      "text/html": [
       "<div>\n",
       "<style scoped>\n",
       "    .dataframe tbody tr th:only-of-type {\n",
       "        vertical-align: middle;\n",
       "    }\n",
       "\n",
       "    .dataframe tbody tr th {\n",
       "        vertical-align: top;\n",
       "    }\n",
       "\n",
       "    .dataframe thead th {\n",
       "        text-align: right;\n",
       "    }\n",
       "</style>\n",
       "<table border=\"1\" class=\"dataframe\">\n",
       "  <thead>\n",
       "    <tr style=\"text-align: right;\">\n",
       "      <th></th>\n",
       "      <th>precision</th>\n",
       "      <th>recall</th>\n",
       "      <th>f1</th>\n",
       "      <th>number</th>\n",
       "    </tr>\n",
       "  </thead>\n",
       "  <tbody>\n",
       "    <tr>\n",
       "      <th>Application_Creation</th>\n",
       "      <td>0.686275</td>\n",
       "      <td>0.744681</td>\n",
       "      <td>0.714286</td>\n",
       "      <td>47.0</td>\n",
       "    </tr>\n",
       "    <tr>\n",
       "      <th>Application_Deposition</th>\n",
       "      <td>0.612903</td>\n",
       "      <td>0.863636</td>\n",
       "      <td>0.716981</td>\n",
       "      <td>22.0</td>\n",
       "    </tr>\n",
       "    <tr>\n",
       "      <th>Application_Mention</th>\n",
       "      <td>0.259259</td>\n",
       "      <td>0.225806</td>\n",
       "      <td>0.241379</td>\n",
       "      <td>31.0</td>\n",
       "    </tr>\n",
       "    <tr>\n",
       "      <th>Application_Usage</th>\n",
       "      <td>0.752066</td>\n",
       "      <td>0.733871</td>\n",
       "      <td>0.742857</td>\n",
       "      <td>248.0</td>\n",
       "    </tr>\n",
       "    <tr>\n",
       "      <th>OperatingSystem_Mention</th>\n",
       "      <td>1.000000</td>\n",
       "      <td>0.058824</td>\n",
       "      <td>0.111111</td>\n",
       "      <td>17.0</td>\n",
       "    </tr>\n",
       "    <tr>\n",
       "      <th>OperatingSystem_Usage</th>\n",
       "      <td>0.357143</td>\n",
       "      <td>0.625000</td>\n",
       "      <td>0.454545</td>\n",
       "      <td>16.0</td>\n",
       "    </tr>\n",
       "    <tr>\n",
       "      <th>PlugIn_Creation</th>\n",
       "      <td>0.400000</td>\n",
       "      <td>0.117647</td>\n",
       "      <td>0.181818</td>\n",
       "      <td>17.0</td>\n",
       "    </tr>\n",
       "    <tr>\n",
       "      <th>PlugIn_Deposition</th>\n",
       "      <td>0.333333</td>\n",
       "      <td>0.125000</td>\n",
       "      <td>0.181818</td>\n",
       "      <td>8.0</td>\n",
       "    </tr>\n",
       "    <tr>\n",
       "      <th>PlugIn_Mention</th>\n",
       "      <td>0.300000</td>\n",
       "      <td>0.272727</td>\n",
       "      <td>0.285714</td>\n",
       "      <td>11.0</td>\n",
       "    </tr>\n",
       "    <tr>\n",
       "      <th>PlugIn_Usage</th>\n",
       "      <td>0.555556</td>\n",
       "      <td>0.333333</td>\n",
       "      <td>0.416667</td>\n",
       "      <td>45.0</td>\n",
       "    </tr>\n",
       "    <tr>\n",
       "      <th>ProgrammingEnvironment_Mention</th>\n",
       "      <td>0.250000</td>\n",
       "      <td>0.166667</td>\n",
       "      <td>0.200000</td>\n",
       "      <td>6.0</td>\n",
       "    </tr>\n",
       "    <tr>\n",
       "      <th>ProgrammingEnvironment_Usage</th>\n",
       "      <td>0.902439</td>\n",
       "      <td>0.860465</td>\n",
       "      <td>0.880952</td>\n",
       "      <td>43.0</td>\n",
       "    </tr>\n",
       "    <tr>\n",
       "      <th>SoftwareCoreference_Deposition</th>\n",
       "      <td>0.600000</td>\n",
       "      <td>0.750000</td>\n",
       "      <td>0.666667</td>\n",
       "      <td>4.0</td>\n",
       "    </tr>\n",
       "  </tbody>\n",
       "</table>\n",
       "</div>"
      ],
      "text/plain": [
       "                                precision    recall        f1  number\n",
       "Application_Creation             0.686275  0.744681  0.714286    47.0\n",
       "Application_Deposition           0.612903  0.863636  0.716981    22.0\n",
       "Application_Mention              0.259259  0.225806  0.241379    31.0\n",
       "Application_Usage                0.752066  0.733871  0.742857   248.0\n",
       "OperatingSystem_Mention          1.000000  0.058824  0.111111    17.0\n",
       "OperatingSystem_Usage            0.357143  0.625000  0.454545    16.0\n",
       "PlugIn_Creation                  0.400000  0.117647  0.181818    17.0\n",
       "PlugIn_Deposition                0.333333  0.125000  0.181818     8.0\n",
       "PlugIn_Mention                   0.300000  0.272727  0.285714    11.0\n",
       "PlugIn_Usage                     0.555556  0.333333  0.416667    45.0\n",
       "ProgrammingEnvironment_Mention   0.250000  0.166667  0.200000     6.0\n",
       "ProgrammingEnvironment_Usage     0.902439  0.860465  0.880952    43.0\n",
       "SoftwareCoreference_Deposition   0.600000  0.750000  0.666667     4.0"
      ]
     },
     "execution_count": 10,
     "metadata": {},
     "output_type": "execute_result"
    }
   ],
   "source": [
    "metrics_df"
   ]
  },
  {
   "cell_type": "code",
   "execution_count": 13,
   "id": "dbc7da03",
   "metadata": {},
   "outputs": [
    {
     "data": {
      "text/plain": [
       "<Figure size 1400x800 with 0 Axes>"
      ]
     },
     "metadata": {},
     "output_type": "display_data"
    },
    {
     "data": {
      "image/png": "[encoded data removed]",
      "text/plain": [
       "<Figure size 1400x800 with 1 Axes>"
      ]
     },
     "metadata": {},
     "output_type": "display_data"
    }
   ],
   "source": [
    "import seaborn as sns\n",
    "import matplotlib.pyplot as plt\n",
    "colors = sns.color_palette('Set3')\n",
    "colors_list = [colors[7], colors[9], colors[6]]\n",
    "# Set the size of the plot\n",
    "plt.figure(figsize=(14, 8))\n",
    "\n",
    "# Plotting the precision, recall, and f1-score\n",
    "ax = metrics_df.plot(kind='bar', x='number', y=['precision', 'recall', 'f1'], color=colors_list, figsize=(14, 8))\n",
    "\n",
    "# Adding title and labels\n",
    "plt.title('Performance Metrics for bert-base-uncased')\n",
    "plt.xlabel('number of samples in each class')\n",
    "plt.ylabel('score')\n",
    "\n",
    "for i in range(len(metrics_df)):\n",
    "    p = ax.containers[1][i]  # Select the middle bar in each group\n",
    "    class_name = metrics_df.index[i]  # Get the class name for the current group\n",
    "    ax.text(x=p.get_x() + p.get_width() / 2, \n",
    "            y=p.get_height() + 0.18,  # Position slightly above the bar#+ 0.02\n",
    "            s=class_name, \n",
    "            ha='center', va='top', rotation=90, fontsize=8, color='black')\n",
    "        \n",
    "        \n",
    "# Rotating the x-axis labels for better readability\n",
    "plt.xticks(rotation=45, ha='right')\n",
    "\n",
    "# Show the plot\n",
    "plt.tight_layout()\n",
    "plt.show()"
   ]
  },
  {
   "cell_type": "code",
   "execution_count": 23,
   "id": "47d09394",
   "metadata": {},
   "outputs": [
    {
     "data": {
      "text/html": [
       "<svg  width=\"660\" height=\"55\"><rect x=\"0\" y=\"0\" width=\"55\" height=\"55\" style=\"fill:#8dd3c7;stroke-width:2;stroke:rgb(255,255,255)\"/><rect x=\"55\" y=\"0\" width=\"55\" height=\"55\" style=\"fill:#ffffb3;stroke-width:2;stroke:rgb(255,255,255)\"/><rect x=\"110\" y=\"0\" width=\"55\" height=\"55\" style=\"fill:#bebada;stroke-width:2;stroke:rgb(255,255,255)\"/><rect x=\"165\" y=\"0\" width=\"55\" height=\"55\" style=\"fill:#fb8072;stroke-width:2;stroke:rgb(255,255,255)\"/><rect x=\"220\" y=\"0\" width=\"55\" height=\"55\" style=\"fill:#80b1d3;stroke-width:2;stroke:rgb(255,255,255)\"/><rect x=\"275\" y=\"0\" width=\"55\" height=\"55\" style=\"fill:#fdb462;stroke-width:2;stroke:rgb(255,255,255)\"/><rect x=\"330\" y=\"0\" width=\"55\" height=\"55\" style=\"fill:#b3de69;stroke-width:2;stroke:rgb(255,255,255)\"/><rect x=\"385\" y=\"0\" width=\"55\" height=\"55\" style=\"fill:#fccde5;stroke-width:2;stroke:rgb(255,255,255)\"/><rect x=\"440\" y=\"0\" width=\"55\" height=\"55\" style=\"fill:#d9d9d9;stroke-width:2;stroke:rgb(255,255,255)\"/><rect x=\"495\" y=\"0\" width=\"55\" height=\"55\" style=\"fill:#bc80bd;stroke-width:2;stroke:rgb(255,255,255)\"/><rect x=\"550\" y=\"0\" width=\"55\" height=\"55\" style=\"fill:#ccebc5;stroke-width:2;stroke:rgb(255,255,255)\"/><rect x=\"605\" y=\"0\" width=\"55\" height=\"55\" style=\"fill:#ffed6f;stroke-width:2;stroke:rgb(255,255,255)\"/></svg>"
      ],
      "text/plain": [
       "[(0.5529411764705883, 0.8274509803921568, 0.7803921568627451),\n",
       " (1.0, 1.0, 0.7019607843137254),\n",
       " (0.7450980392156863, 0.7294117647058823, 0.8549019607843137),\n",
       " (0.984313725490196, 0.5019607843137255, 0.4470588235294118),\n",
       " (0.5019607843137255, 0.6941176470588235, 0.8274509803921568),\n",
       " (0.9921568627450981, 0.7058823529411765, 0.3843137254901961),\n",
       " (0.7019607843137254, 0.8705882352941177, 0.4117647058823529),\n",
       " (0.9882352941176471, 0.803921568627451, 0.8980392156862745),\n",
       " (0.8509803921568627, 0.8509803921568627, 0.8509803921568627),\n",
       " (0.7372549019607844, 0.5019607843137255, 0.7411764705882353),\n",
       " (0.8, 0.9215686274509803, 0.7725490196078432),\n",
       " (1.0, 0.9294117647058824, 0.43529411764705883)]"
      ]
     },
     "execution_count": 23,
     "metadata": {},
     "output_type": "execute_result"
    }
   ],
   "source": [
    "sns.color_palette('Set3')"
   ]
  },
  {
   "cell_type": "code",
   "execution_count": 8,
   "id": "a9791ce6-9049-4ad2-9507-11f3f6f487fe",
   "metadata": {},
   "outputs": [],
   "source": [
    "result = metrics_df.loc[\"macro_weighted\"].drop(\"number\").to_dict()"
   ]
  },
  {
   "cell_type": "code",
   "execution_count": 9,
   "id": "51e74016",
   "metadata": {},
   "outputs": [
    {
     "data": {
      "text/plain": [
       "{'precision': 0.6988917160310092,\n",
       " 'recall': 0.625242718446602,\n",
       " 'f1': 0.6515889050289028}"
      ]
     },
     "execution_count": 9,
     "metadata": {},
     "output_type": "execute_result"
    }
   ],
   "source": [
    "result"
   ]
  },
  {
   "cell_type": "code",
   "execution_count": 10,
   "id": "fb1699e0",
   "metadata": {},
   "outputs": [],
   "source": [
    "path = \"C:/Users/fschr/Desktop/Masterarbeit/master-thesis-software-ie/experiments/subtask1/model_comparison/scibert_uncased_hyperparams/training_args.json\"\n",
    "with open(path) as file:\n",
    "    hyperparameter = json.load(file)"
   ]
  },
  {
   "cell_type": "code",
   "execution_count": 11,
   "id": "20b6e3ba",
   "metadata": {},
   "outputs": [
    {
     "data": {
      "text/plain": [
       "{'save_total_limit': 2,\n",
       " 'metric_for_best_model': 'f1_macro_weighted',\n",
       " 'output_dir': '/data_ssds/disk01/ottowg/somd/2024-07-24_16-31-41',\n",
       " 'learning_rate': 1.2713362421362374e-05,\n",
       " 'num_train_epochs': 7,\n",
       " 'weight_decay': 0.0001,\n",
       " 'max_grad_norm': 1.0,\n",
       " 'warmup_ratio': 0.1,\n",
       " 'per_device_eval_batch_size': 16,\n",
       " 'evaluation_strategy': 'epoch',\n",
       " 'logging_steps': 100,\n",
       " 'seed': 42,\n",
       " 'per_device_train_batch_size': 8,\n",
       " 'gradient_accumulation_steps': 1}"
      ]
     },
     "execution_count": 11,
     "metadata": {},
     "output_type": "execute_result"
    }
   ],
   "source": [
    "hyperparameter"
   ]
  },
  {
   "cell_type": "code",
   "execution_count": 12,
   "id": "a4579c7e",
   "metadata": {},
   "outputs": [
    {
     "data": {
      "text/plain": [
       "{'precision': 0.6988917160310092,\n",
       " 'recall': 0.625242718446602,\n",
       " 'f1': 0.6515889050289028,\n",
       " 'name': 'scibert_uncased_hyperparams',\n",
       " 'epochs': 7,\n",
       " 'train_batch_size': 8,\n",
       " 'val_batch_size': 16,\n",
       " 'lr': 1.2713362421362374e-05,\n",
       " 'weight_decay': 0.0001,\n",
       " 'warmup_ratio': 0.1}"
      ]
     },
     "execution_count": 12,
     "metadata": {},
     "output_type": "execute_result"
    }
   ],
   "source": [
    "result['name'] = 'scibert_uncased_hyperparams'\n",
    "# result['negative_sampling_ratio'] = '16_1'\n",
    "result['epochs'] = hyperparameter['num_train_epochs']\n",
    "result['train_batch_size'] = hyperparameter['per_device_train_batch_size'] * hyperparameter['gradient_accumulation_steps']\n",
    "result['val_batch_size'] = hyperparameter['per_device_eval_batch_size']\n",
    "result['lr'] = hyperparameter['learning_rate']\n",
    "result['weight_decay'] = hyperparameter['weight_decay']\n",
    "result['warmup_ratio'] = hyperparameter['warmup_ratio']\n",
    "result"
   ]
  },
  {
   "cell_type": "markdown",
   "id": "3a5f7c8d",
   "metadata": {},
   "source": [
    "### Write the result in a text file"
   ]
  },
  {
   "cell_type": "code",
   "execution_count": 13,
   "id": "446dd453",
   "metadata": {},
   "outputs": [],
   "source": [
    "with open(\"subtask1_model_comparison_results.txt\", \"a\") as myfile:\n",
    "    myfile.write(json.dumps(result) + '\\n')"
   ]
  },
  {
   "cell_type": "code",
   "execution_count": null,
   "id": "1b5bcb0d",
   "metadata": {},
   "outputs": [],
   "source": []
  }
 ],
 "metadata": {
  "kernelspec": {
   "display_name": "Python 3 (ipykernel)",
   "language": "python",
   "name": "python3"
  },
  "language_info": {
   "codemirror_mode": {
    "name": "ipython",
    "version": 3
   },
   "file_extension": ".py",
   "mimetype": "text/x-python",
   "name": "python",
   "nbconvert_exporter": "python",
   "pygments_lexer": "ipython3",
   "version": "3.11.4"
  }
 },
 "nbformat": 4,
 "nbformat_minor": 5
}
