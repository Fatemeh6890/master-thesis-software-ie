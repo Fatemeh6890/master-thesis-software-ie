{
 "cells": [
  {
   "cell_type": "code",
   "execution_count": 1,
   "id": "5e84e0c6",
   "metadata": {},
   "outputs": [
    {
     "name": "stderr",
     "output_type": "stream",
     "text": [
      "C:\\Users\\fschr\\AppData\\Roaming\\Python\\Python311\\site-packages\\pandas\\core\\arrays\\masked.py:60: UserWarning: Pandas requires version '1.3.6' or newer of 'bottleneck' (version '1.3.5' currently installed).\n",
      "  from pandas.core import (\n"
     ]
    }
   ],
   "source": [
    "import random\n",
    "import sys\n",
    "import json\n",
    "import ast\n",
    "\n",
    "sys.path.append('..')\n",
    "import calc_metrics"
   ]
  },
  {
   "cell_type": "markdown",
   "id": "3e78a8b1",
   "metadata": {},
   "source": [
    "## Load Predictions and gold"
   ]
  },
  {
   "cell_type": "code",
   "execution_count": 2,
   "id": "cde0c8e2",
   "metadata": {},
   "outputs": [
    {
     "name": "stdout",
     "output_type": "stream",
     "text": [
      "375 375\n"
     ]
    }
   ],
   "source": [
    "fn_pred = \"../../experiments/subtask2/optimized/scibert/prediction.txt\"\n",
    "fn_gold = \"../../data/subtask2/subtask2_test.labels.txt\"\n",
    "\n",
    "preds = calc_metrics.load_bio(fn_pred)\n",
    "gold = calc_metrics.load_bio(fn_gold)\n",
    "print(len(preds), len(gold))\n"
   ]
  },
  {
   "cell_type": "markdown",
   "id": "0eee15f3",
   "metadata": {},
   "source": [
    "## Show Example"
   ]
  },
  {
   "cell_type": "code",
   "execution_count": 3,
   "id": "92939823",
   "metadata": {},
   "outputs": [
    {
     "name": "stdout",
     "output_type": "stream",
     "text": [
      "test sentence: 147\n",
      "[('O', 'O'), ('O', 'O'), ('O', 'O'), ('O', 'O'), ('O', 'O'), ('O', 'O'), ('O', 'O'), ('O', 'O'), ('O', 'O'), ('O', 'O'), ('O', 'O'), ('B-Developer', 'O'), ('O', 'O'), ('O', 'O'), ('O', 'O'), ('O', 'O'), ('O', 'O'), ('O', 'O'), ('O', 'O'), ('O', 'O'), ('O', 'O'), ('O', 'O'), ('O', 'O'), ('O', 'O'), ('O', 'O'), ('O', 'O'), ('O', 'O'), ('O', 'O'), ('O', 'O'), ('O', 'O'), ('O', 'O'), ('O', 'O'), ('O', 'O'), ('O', 'O'), ('O', 'O'), ('O', 'O'), ('O', 'O'), ('O', 'O'), ('O', 'O'), ('O', 'O'), ('O', 'O'), ('O', 'O'), ('O', 'B-Developer'), ('O', 'I-Developer'), ('O', 'O'), ('O', 'O'), ('O', 'O'), ('O', 'O'), ('O', 'O'), ('O', 'O'), ('O', 'O'), ('O', 'O'), ('O', 'B-Version'), ('O', 'O'), ('O', 'B-Developer'), ('O', 'I-Developer'), ('O', 'O'), ('O', 'O'), ('O', 'O'), ('O', 'O'), ('O', 'O'), ('O', 'O'), ('O', 'O'), ('O', 'O'), ('O', 'O'), ('O', 'O'), ('O', 'O'), ('O', 'O'), ('O', 'O'), ('O', 'O'), ('O', 'O'), ('O', 'O'), ('O', 'O'), ('O', 'O'), ('O', 'O'), ('O', 'O'), ('O', 'O'), ('O', 'O'), ('O', 'O'), ('O', 'O'), ('O', 'O'), ('O', 'O'), ('O', 'O'), ('O', 'O'), ('O', 'O'), ('O', 'O'), ('O', 'O'), ('O', 'O'), ('O', 'O'), ('O', 'O'), ('O', 'O'), ('O', 'O'), ('O', 'O'), ('O', 'O'), ('O', 'O'), ('O', 'O'), ('O', 'O'), ('O', 'O'), ('O', 'O'), ('O', 'O'), ('O', 'O'), ('O', 'O'), ('O', 'O'), ('O', 'O'), ('O', 'O'), ('O', 'O'), ('O', 'O')]\n"
     ]
    }
   ],
   "source": [
    "idx = random.choice(list(range(len(gold))))\n",
    "print(f\"test sentence: {idx}\")\n",
    "print(list(zip(gold[idx], preds[idx])))"
   ]
  },
  {
   "cell_type": "markdown",
   "id": "1dc2a99f",
   "metadata": {},
   "source": [
    "## every sentence need to have the same length!"
   ]
  },
  {
   "cell_type": "code",
   "execution_count": 4,
   "id": "5f0ac30a",
   "metadata": {},
   "outputs": [],
   "source": [
    "for idx, (g, pred) in enumerate(zip(gold, preds)):\n",
    "    if len(g) != len(pred):\n",
    "        print(idx, len(g), len(pred))"
   ]
  },
  {
   "cell_type": "markdown",
   "id": "452dc334",
   "metadata": {},
   "source": [
    "## Are there different labels in gold and prediction?"
   ]
  },
  {
   "cell_type": "code",
   "execution_count": 5,
   "id": "0eedf5ae",
   "metadata": {},
   "outputs": [
    {
     "name": "stdout",
     "output_type": "stream",
     "text": [
      "17 16\n"
     ]
    },
    {
     "data": {
      "text/plain": [
       "{'I-Extension'}"
      ]
     },
     "execution_count": 5,
     "metadata": {},
     "output_type": "execute_result"
    }
   ],
   "source": [
    "label_test = {anno for sentence in gold for anno in sentence}\n",
    "label_pred = {anno for sentence in preds for anno in sentence}\n",
    "print(len(label_test), len(label_pred))\n",
    "label_test - label_pred"
   ]
  },
  {
   "cell_type": "markdown",
   "id": "02a2d78e",
   "metadata": {},
   "source": [
    "## Calculate Metrics"
   ]
  },
  {
   "cell_type": "code",
   "execution_count": 6,
   "id": "5c17e048",
   "metadata": {},
   "outputs": [
    {
     "data": {
      "text/html": [
       "<div>\n",
       "<style scoped>\n",
       "    .dataframe tbody tr th:only-of-type {\n",
       "        vertical-align: middle;\n",
       "    }\n",
       "\n",
       "    .dataframe tbody tr th {\n",
       "        vertical-align: top;\n",
       "    }\n",
       "\n",
       "    .dataframe thead th {\n",
       "        text-align: right;\n",
       "    }\n",
       "</style>\n",
       "<table border=\"1\" class=\"dataframe\">\n",
       "  <thead>\n",
       "    <tr style=\"text-align: right;\">\n",
       "      <th></th>\n",
       "      <th>precision</th>\n",
       "      <th>recall</th>\n",
       "      <th>f1</th>\n",
       "      <th>number</th>\n",
       "    </tr>\n",
       "  </thead>\n",
       "  <tbody>\n",
       "    <tr>\n",
       "      <th>Abbreviation</th>\n",
       "      <td>0.727273</td>\n",
       "      <td>0.800000</td>\n",
       "      <td>0.761905</td>\n",
       "      <td>10.0</td>\n",
       "    </tr>\n",
       "    <tr>\n",
       "      <th>AlternativeName</th>\n",
       "      <td>0.400000</td>\n",
       "      <td>1.000000</td>\n",
       "      <td>0.571429</td>\n",
       "      <td>2.0</td>\n",
       "    </tr>\n",
       "    <tr>\n",
       "      <th>Citation</th>\n",
       "      <td>0.833333</td>\n",
       "      <td>0.909091</td>\n",
       "      <td>0.869565</td>\n",
       "      <td>66.0</td>\n",
       "    </tr>\n",
       "    <tr>\n",
       "      <th>Developer</th>\n",
       "      <td>0.809091</td>\n",
       "      <td>0.847619</td>\n",
       "      <td>0.827907</td>\n",
       "      <td>105.0</td>\n",
       "    </tr>\n",
       "    <tr>\n",
       "      <th>Extension</th>\n",
       "      <td>0.857143</td>\n",
       "      <td>0.600000</td>\n",
       "      <td>0.705882</td>\n",
       "      <td>10.0</td>\n",
       "    </tr>\n",
       "    <tr>\n",
       "      <th>License</th>\n",
       "      <td>0.769231</td>\n",
       "      <td>0.909091</td>\n",
       "      <td>0.833333</td>\n",
       "      <td>11.0</td>\n",
       "    </tr>\n",
       "    <tr>\n",
       "      <th>Release</th>\n",
       "      <td>0.466667</td>\n",
       "      <td>1.000000</td>\n",
       "      <td>0.636364</td>\n",
       "      <td>7.0</td>\n",
       "    </tr>\n",
       "    <tr>\n",
       "      <th>URL</th>\n",
       "      <td>1.000000</td>\n",
       "      <td>0.923077</td>\n",
       "      <td>0.960000</td>\n",
       "      <td>65.0</td>\n",
       "    </tr>\n",
       "    <tr>\n",
       "      <th>Version</th>\n",
       "      <td>0.935714</td>\n",
       "      <td>0.963235</td>\n",
       "      <td>0.949275</td>\n",
       "      <td>136.0</td>\n",
       "    </tr>\n",
       "    <tr>\n",
       "      <th>micro</th>\n",
       "      <td>0.861432</td>\n",
       "      <td>0.905340</td>\n",
       "      <td>0.882840</td>\n",
       "      <td>NaN</td>\n",
       "    </tr>\n",
       "    <tr>\n",
       "      <th>macro</th>\n",
       "      <td>0.765988</td>\n",
       "      <td>0.885745</td>\n",
       "      <td>0.799850</td>\n",
       "      <td>NaN</td>\n",
       "    </tr>\n",
       "    <tr>\n",
       "      <th>macro_weighted</th>\n",
       "      <td>0.875204</td>\n",
       "      <td>0.905340</td>\n",
       "      <td>0.886565</td>\n",
       "      <td>NaN</td>\n",
       "    </tr>\n",
       "  </tbody>\n",
       "</table>\n",
       "</div>"
      ],
      "text/plain": [
       "                 precision    recall        f1  number\n",
       "Abbreviation      0.727273  0.800000  0.761905    10.0\n",
       "AlternativeName   0.400000  1.000000  0.571429     2.0\n",
       "Citation          0.833333  0.909091  0.869565    66.0\n",
       "Developer         0.809091  0.847619  0.827907   105.0\n",
       "Extension         0.857143  0.600000  0.705882    10.0\n",
       "License           0.769231  0.909091  0.833333    11.0\n",
       "Release           0.466667  1.000000  0.636364     7.0\n",
       "URL               1.000000  0.923077  0.960000    65.0\n",
       "Version           0.935714  0.963235  0.949275   136.0\n",
       "micro             0.861432  0.905340  0.882840     NaN\n",
       "macro             0.765988  0.885745  0.799850     NaN\n",
       "macro_weighted    0.875204  0.905340  0.886565     NaN"
      ]
     },
     "execution_count": 6,
     "metadata": {},
     "output_type": "execute_result"
    }
   ],
   "source": [
    "metrics_df = calc_metrics.compute(preds, gold)\n",
    "metrics_df"
   ]
  },
  {
   "cell_type": "code",
   "execution_count": 7,
   "id": "5b8156a2",
   "metadata": {},
   "outputs": [],
   "source": [
    "metrics_df = metrics_df.iloc[:-3]"
   ]
  },
  {
   "cell_type": "code",
   "execution_count": null,
   "id": "b561e28a",
   "metadata": {},
   "outputs": [],
   "source": []
  },
  {
   "cell_type": "code",
   "execution_count": 8,
   "id": "2ad6e6a0",
   "metadata": {},
   "outputs": [
    {
     "data": {
      "text/plain": [
       "<Figure size 1400x800 with 0 Axes>"
      ]
     },
     "metadata": {},
     "output_type": "display_data"
    },
    {
     "data": {
      "image/png": "[encoded data removed]",
      "text/plain": [
       "<Figure size 1400x800 with 1 Axes>"
      ]
     },
     "metadata": {},
     "output_type": "display_data"
    }
   ],
   "source": [
    "import seaborn as sns\n",
    "import matplotlib.pyplot as plt\n",
    "colors = sns.color_palette('Set3')\n",
    "colors_list = [colors[7], colors[9], colors[6]]\n",
    "# Set the size of the plot\n",
    "plt.figure(figsize=(14, 8))\n",
    "\n",
    "# Plotting the precision, recall, and f1-score\n",
    "ax = metrics_df.plot(kind='bar', x='number', y=['precision', 'recall', 'f1'], color=colors_list, figsize=(14, 8))\n",
    "\n",
    "# Adding title and labels\n",
    "plt.title('Performance Metrics for allenai/scibert-scivocab-uncased')\n",
    "plt.xlabel('number of samples in each class')\n",
    "plt.ylabel('score')\n",
    "\n",
    "for i in range(len(metrics_df)):\n",
    "    p = ax.containers[1][i]  # Select the middle bar in each group\n",
    "    class_name = metrics_df.index[i]  # Get the class name for the current group\n",
    "    ax.text(x=p.get_x() + p.get_width() / 2, \n",
    "            y=p.get_height()/2 ,  # Position slightly above the bar#+ 0.02\n",
    "            s=class_name, \n",
    "            ha='center', va='top', rotation=90, fontsize=8, color='black')\n",
    "# Rotating the x-axis labels for better readability\n",
    "plt.xticks(rotation=45, ha='right')\n",
    "\n",
    "# Show the plot\n",
    "plt.tight_layout()\n",
    "plt.show()"
   ]
  },
  {
   "cell_type": "code",
   "execution_count": 7,
   "id": "76585cb8",
   "metadata": {},
   "outputs": [],
   "source": [
    "result = metrics_df.loc[\"macro_weighted\"].drop('number').to_dict()"
   ]
  },
  {
   "cell_type": "code",
   "execution_count": 8,
   "id": "9e0e04b9",
   "metadata": {},
   "outputs": [
    {
     "data": {
      "text/plain": [
       "{'precision': 0.8592520667637842,\n",
       " 'recall': 0.9053398058252429,\n",
       " 'f1': 0.8777309199255193}"
      ]
     },
     "execution_count": 8,
     "metadata": {},
     "output_type": "execute_result"
    }
   ],
   "source": [
    "result"
   ]
  },
  {
   "cell_type": "code",
   "execution_count": 9,
   "id": "760a4bb2",
   "metadata": {},
   "outputs": [],
   "source": [
    "with open( \"../../experiments/subtask2/optimized/bert_base_uncased/training_arguments.txt\") as f:\n",
    "    training_arguments = f.read()"
   ]
  },
  {
   "cell_type": "code",
   "execution_count": 10,
   "id": "35f2c332",
   "metadata": {},
   "outputs": [
    {
     "data": {
      "text/plain": [
       "\"{'num_train_epochs': 8, 'learning_rate': 4.049121342923264e-05, 'per_device_train_batch_size': 4, 'per_device_eval_batch_size': 4, 'weight_decay': 0.0006606303078059762, 'eval_strategy': 'epoch', 'logging_dir': './logs', 'logging_steps': 100, 'warmup_ratio': 0.1, 'gradient_accumulation_steps': 2, 'max_grad_norm': 1.0, 'disable_tqdm': False, 'model_name': 'bert-base-uncaced'}\""
      ]
     },
     "execution_count": 10,
     "metadata": {},
     "output_type": "execute_result"
    }
   ],
   "source": [
    "training_arguments.split('\\n')[0]"
   ]
  },
  {
   "cell_type": "code",
   "execution_count": 11,
   "id": "e08e8dea",
   "metadata": {},
   "outputs": [],
   "source": [
    "# training_args = json.loads(training_arguments)"
   ]
  },
  {
   "cell_type": "code",
   "execution_count": 12,
   "id": "0e48360b",
   "metadata": {
    "scrolled": true
   },
   "outputs": [],
   "source": [
    "training_arguments = ast.literal_eval(training_arguments.split('\\n')[0])\n",
    "epoch = training_arguments['num_train_epochs']\n",
    "learning_rate = training_arguments['learning_rate']\n",
    "train_batch_size = training_arguments['per_device_train_batch_size'] * training_arguments['gradient_accumulation_steps']\n",
    "val_batch_size = training_arguments['per_device_eval_batch_size']\n",
    "weight_decay = training_arguments['weight_decay']\n",
    "model_name = training_arguments['model_name']"
   ]
  },
  {
   "cell_type": "code",
   "execution_count": 13,
   "id": "829ae4dd",
   "metadata": {},
   "outputs": [],
   "source": [
    "result['name'] = model_name\n",
    "# result['precision'] = output['precision']\n",
    "# result['recall'] = output['recall']\n",
    "# result['f1'] = output['f1']\n",
    "result['epochs'] = epoch\n",
    "result['train_batch_size'] = train_batch_size\n",
    "result['val_batch_size'] = val_batch_size\n",
    "result['lr'] = learning_rate\n",
    "result['weight_decay']= weight_decay\n",
    "result['warmup_ratio']= 0.1\n",
    "# result['precision'] = output['precision']\n",
    "# result['recall'] = output['recall']\n",
    "# result['f1'] = output['f1']"
   ]
  },
  {
   "cell_type": "code",
   "execution_count": 14,
   "id": "4acec061",
   "metadata": {},
   "outputs": [
    {
     "data": {
      "text/plain": [
       "{'precision': 0.8592520667637842,\n",
       " 'recall': 0.9053398058252429,\n",
       " 'f1': 0.8777309199255193,\n",
       " 'name': 'bert-base-uncaced',\n",
       " 'epochs': 8,\n",
       " 'train_batch_size': 8,\n",
       " 'val_batch_size': 4,\n",
       " 'lr': 4.049121342923264e-05,\n",
       " 'weight_decay': 0.0006606303078059762,\n",
       " 'warmup_ratio': 0.1}"
      ]
     },
     "execution_count": 14,
     "metadata": {},
     "output_type": "execute_result"
    }
   ],
   "source": [
    "result"
   ]
  },
  {
   "cell_type": "markdown",
   "id": "11194e15",
   "metadata": {},
   "source": [
    "### Write the result in a text file"
   ]
  },
  {
   "cell_type": "code",
   "execution_count": 15,
   "id": "0eda9e7e",
   "metadata": {},
   "outputs": [],
   "source": [
    "with open(\"subtask2_optimized_results.txt\", \"a\") as myfile:\n",
    "    myfile.write(json.dumps(result) + \"\\n\")"
   ]
  },
  {
   "cell_type": "code",
   "execution_count": 16,
   "id": "d62f7fa9",
   "metadata": {},
   "outputs": [],
   "source": [
    "# with open(\"../../experiments/subtask2/optimized/subtask2_optimized_results.txt\", \"a\") as myfile:\n",
    "#     myfile.write(\"\\n\" + json.dumps(result) + \"\\n\")"
   ]
  },
  {
   "cell_type": "code",
   "execution_count": null,
   "id": "ed8269c8",
   "metadata": {},
   "outputs": [],
   "source": []
  }
 ],
 "metadata": {
  "kernelspec": {
   "display_name": "Python 3 (ipykernel)",
   "language": "python",
   "name": "python3"
  },
  "language_info": {
   "codemirror_mode": {
    "name": "ipython",
    "version": 3
   },
   "file_extension": ".py",
   "mimetype": "text/x-python",
   "name": "python",
   "nbconvert_exporter": "python",
   "pygments_lexer": "ipython3",
   "version": "3.11.4"
  }
 },
 "nbformat": 4,
 "nbformat_minor": 5
}
