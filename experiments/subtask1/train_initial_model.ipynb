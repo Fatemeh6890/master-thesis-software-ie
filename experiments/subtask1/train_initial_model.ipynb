{
 "cells": [
  {
   "cell_type": "code",
   "execution_count": 1,
   "id": "85f55051",
   "metadata": {
    "id": "85f55051"
   },
   "outputs": [],
   "source": [
    "# !pip install evaluate\n",
    "# !pip install seqeval"
   ]
  },
  {
   "cell_type": "code",
   "execution_count": 2,
   "id": "61fc09d1",
   "metadata": {
    "id": "61fc09d1"
   },
   "outputs": [],
   "source": [
    "# !pip install accelerate -U\n",
    "# !pip install transformers[torch]"
   ]
  },
  {
   "cell_type": "code",
   "execution_count": 3,
   "id": "ef800d19",
   "metadata": {
    "colab": {
     "base_uri": "https://localhost:8080/",
     "height": 301,
     "referenced_widgets": [
      "6b9fcbb56e9e431a8083d3616aebe5bb",
      "cfb8a213d79b47a482677b36858aaf12",
      "dcea58e4bc5f4dfab7ca4da94c914a48",
      "2f83bc3c298d46c1aa2bd6c27631b5ec",
      "e5223b587f7a4fe3acc7a47e4517e0ef",
      "76a33986f2f34a7cbf24e1fdcba8e0a3",
      "2ada89d80cf940be9f807c3655393ce9",
      "1fc43ed603804ea08e8db0d13937b079",
      "81f073dbbad346d0bdd80da0da291215",
      "6b3af90e92224bcfac3a67127e65866b",
      "fe71e8a14585414faa209dfcbc1480c9",
      "552f02e95221495b84388ffde345bdd4",
      "f049e1d471584804833045c0d3a53190",
      "d777c2c5885c44f4ad1e44bdbd985955",
      "8abda490020449ac83d7bc6eac69ad1c",
      "549a630783e84ff28502c4274a89290f",
      "83fe433eb5a740e8a2d757e737ffb02a",
      "f0805c6a2de64e699fad5c3b1d99cc3b",
      "94fb091ac8564a62ad754e3d4a7f5d96",
      "e79c6d54287d41ffbc443b5d614e5433",
      "d773da0a0b624b57b4e2f32c74089f4c",
      "19a77db2b9a543dba098bdc392ebce3e",
      "b98f5dfbc081443b8a2a2d2ecd080b87",
      "45fcd577563d4a0994ed60b315630e15",
      "bf32fb234aad4ce09d3e05a378eb45b7",
      "60804a73cd5d451c9eabe77aff1caee6",
      "be8f96f6345044078462c1f0fdc4a33e",
      "2b5f717f5c034adebbde3d1b3ca92ff8",
      "c731dfaf6b5347359252725424ffab9f",
      "1394ff47d34c4d6d8ed2010a83b09648",
      "47c3e2d835a14705b4c43ef0bfeb5164",
      "867c14680dd84c998d4e78182b157412",
      "b42421fdcf0b412690d59b48bba50198",
      "80301d5d63014918892b22ca7c90f797",
      "a28c6b5a1dd44f8898f70c99f2300897",
      "9695bb7f7a6c40c3858b54c38177e269",
      "fff6275657134fb186dbf9ce94edb5e7",
      "6cf4dc4bf13a4d5c9186ad447cfc6c11",
      "5fcb0e3a66104a158e55766dee7cb5c1",
      "467646914a824ae3b38e7f6dc07c1386",
      "4b3c75e0aa0c4e12979c0c5c7777e65e",
      "4dee39607d72404ca17da3a19ca51401",
      "7fcac46a1a7c4427b079c9c20c26e332",
      "540258638e39457d8fac71558dddfd5a",
      "87d8ba475c864548bce8051a4a267d64",
      "f46fe6fe3a5241ff9f03435d818bcb44",
      "8ef33d7c57634d48a358f03024a9b19d",
      "82d0db6dc5dc47d2bb8f78d90d4435ea",
      "ca6ece53230d4e95b03f421305475ea3",
      "84732dfba1504220b50c0a035fe2a867",
      "b9741ed54f864f768ef5c6671b45c09a",
      "236d0a73cb664333bce246649e4ccb2b",
      "68e1360c5a7d430fbe6838ca31a2051e",
      "f156b5ad06de40728738996ff0442f6c",
      "e65d43f9494b41d48bab9a3dc64396b5"
     ]
    },
    "id": "ef800d19",
    "outputId": "78341ece-cf80-4e78-e4ac-59d67d8254be"
   },
   "outputs": [],
   "source": [
    "import sys\n",
    "sys.path.insert(1, 'C:/Users/fschr/Desktop/Masterarbeit/master-thesis-software-ie/experiments')\n",
    "import helper"
   ]
  },
  {
   "cell_type": "markdown",
   "id": "cece180b",
   "metadata": {
    "id": "cece180b"
   },
   "source": [
    "## Dataset"
   ]
  },
  {
   "cell_type": "markdown",
   "id": "d3599e7b",
   "metadata": {
    "id": "d3599e7b"
   },
   "source": [
    "### Read the Train Dataset (Sentences and Labels)"
   ]
  },
  {
   "cell_type": "code",
   "execution_count": 4,
   "id": "a53b235e",
   "metadata": {
    "id": "a53b235e"
   },
   "outputs": [],
   "source": [
    "# Open the Data of Sentences\n",
    "with open('../../data/subtask1/subtask1_train.data.txt', 'r', encoding='utf-8') as file:\n",
    "    sentences = file.readlines()\n",
    "\n",
    "\n",
    "# Open the label data\n",
    "with open('../../data/subtask1/subtask1_train.labels.txt', 'r', encoding='utf-8') as file:\n",
    "    labels = file.readlines()"
   ]
  },
  {
   "cell_type": "markdown",
   "id": "4f5c9b8e",
   "metadata": {
    "id": "4f5c9b8e"
   },
   "source": [
    "### Convert the Datasets into a pandas Dataframe"
   ]
  },
  {
   "cell_type": "code",
   "execution_count": 5,
   "id": "9bd4e122",
   "metadata": {
    "id": "9bd4e122"
   },
   "outputs": [],
   "source": [
    "import pandas as pd\n",
    "\n",
    "dataset = pd.DataFrame(list(zip(sentences, labels)), columns=['sentences', 'labels'])"
   ]
  },
  {
   "cell_type": "markdown",
   "id": "94257736",
   "metadata": {
    "id": "94257736"
   },
   "source": [
    "### Split sentences and labels"
   ]
  },
  {
   "cell_type": "code",
   "execution_count": 6,
   "id": "1e5f25e2",
   "metadata": {
    "id": "1e5f25e2",
    "scrolled": true
   },
   "outputs": [],
   "source": [
    "dataset['sentences'] = dataset['sentences'].apply(lambda row: row.split())\n",
    "dataset['labels'] = dataset['labels'].apply(lambda row: row.split())"
   ]
  },
  {
   "cell_type": "markdown",
   "id": "a6b812dc",
   "metadata": {
    "id": "a6b812dc"
   },
   "source": [
    "### The class labels"
   ]
  },
  {
   "cell_type": "code",
   "execution_count": 7,
   "id": "a432a415",
   "metadata": {
    "colab": {
     "base_uri": "https://localhost:8080/"
    },
    "id": "a432a415",
    "outputId": "a2f639c3-ecfb-4371-b6d5-0e9f1e25195d",
    "scrolled": true
   },
   "outputs": [
    {
     "data": {
      "text/plain": [
       "['O',\n",
       " 'B-Application_Creation',\n",
       " 'B-Application_Mention',\n",
       " 'B-SoftwareCoreference_Deposition',\n",
       " 'B-Application_Deposition',\n",
       " 'B-OperatingSystem_Usage',\n",
       " 'B-ProgrammingEnvironment_Usage',\n",
       " 'B-Application_Usage',\n",
       " 'I-SoftwareCoreference_Deposition',\n",
       " 'B-PlugIn_Creation',\n",
       " 'B-ProgrammingEnvironment_Mention',\n",
       " 'B-PlugIn_Deposition',\n",
       " 'B-PlugIn_Mention',\n",
       " 'I-PlugIn_Mention',\n",
       " 'I-Application_Creation',\n",
       " 'I-PlugIn_Creation',\n",
       " 'I-PlugIn_Deposition',\n",
       " 'B-PlugIn_Usage',\n",
       " 'I-PlugIn_Usage',\n",
       " 'I-ProgrammingEnvironment_Usage',\n",
       " 'I-ProgrammingEnvironment_Mention',\n",
       " 'I-Application_Usage',\n",
       " 'I-Application_Mention',\n",
       " 'I-Application_Deposition',\n",
       " 'B-OperatingSystem_Mention',\n",
       " 'I-OperatingSystem_Usage',\n",
       " 'I-OperatingSystem_Mention']"
      ]
     },
     "execution_count": 7,
     "metadata": {},
     "output_type": "execute_result"
    }
   ],
   "source": [
    "class_labels = []\n",
    "for line in labels:\n",
    "    labels_list = line.split()\n",
    "    for label in labels_list:\n",
    "        if label not in class_labels:\n",
    "            class_labels.append(label)\n",
    "class_labels"
   ]
  },
  {
   "cell_type": "markdown",
   "id": "f3d77002",
   "metadata": {
    "id": "f3d77002"
   },
   "source": [
    "### Entity Labels"
   ]
  },
  {
   "cell_type": "code",
   "execution_count": 28,
   "id": "16885a63",
   "metadata": {},
   "outputs": [
    {
     "data": {
      "text/plain": [
       "['O',\n",
       " 'B-Application',\n",
       " 'B-SoftwareCoreference',\n",
       " 'B-OperatingSystem',\n",
       " 'B-ProgrammingEnvironment',\n",
       " 'I-SoftwareCoreference',\n",
       " 'B-PlugIn',\n",
       " 'I-PlugIn',\n",
       " 'I-Application',\n",
       " 'I-ProgrammingEnvironment',\n",
       " 'I-OperatingSystem']"
      ]
     },
     "execution_count": 28,
     "metadata": {},
     "output_type": "execute_result"
    }
   ],
   "source": [
    "entity_labels = ['O']\n",
    "for label in class_labels:\n",
    "    if label == 'O':\n",
    "        continue\n",
    "    entity_label = label.split('_')[0]\n",
    "    if entity_label not in entity_labels:\n",
    "        entity_labels.append(entity_label)\n",
    "\n",
    "entity_label_grouping = True\n",
    "entity_labels"
   ]
  },
  {
   "cell_type": "markdown",
   "id": "8b63a241",
   "metadata": {
    "id": "8b63a241"
   },
   "source": [
    "### Change the labels, if we have Entity Labels"
   ]
  },
  {
   "cell_type": "code",
   "execution_count": 26,
   "id": "c6601766",
   "metadata": {
    "id": "c6601766"
   },
   "outputs": [],
   "source": [
    "if entity_label_grouping:\n",
    "    dataset['labels'] = dataset['labels'].apply(helper.reduce_to_entity_type_labels)"
   ]
  },
  {
   "cell_type": "markdown",
   "id": "4ae61305",
   "metadata": {
    "id": "4ae61305"
   },
   "source": [
    "#### label to id"
   ]
  },
  {
   "cell_type": "code",
   "execution_count": 29,
   "id": "8e1d0651",
   "metadata": {
    "id": "8e1d0651"
   },
   "outputs": [],
   "source": [
    "if entity_label_grouping:\n",
    "    class_labels = entity_labels\n",
    "label_to_id = {label:id for id, label in enumerate(class_labels)}"
   ]
  },
  {
   "cell_type": "markdown",
   "id": "44af2be9",
   "metadata": {
    "id": "44af2be9"
   },
   "source": [
    "#### id to label"
   ]
  },
  {
   "cell_type": "code",
   "execution_count": 30,
   "id": "1e0685f8",
   "metadata": {
    "colab": {
     "base_uri": "https://localhost:8080/"
    },
    "id": "1e0685f8",
    "outputId": "98eebf0b-1319-4b55-f792-acc87ca2ff62"
   },
   "outputs": [
    {
     "data": {
      "text/plain": [
       "{0: 'O',\n",
       " 1: 'B-Application',\n",
       " 2: 'B-SoftwareCoreference',\n",
       " 3: 'B-OperatingSystem',\n",
       " 4: 'B-ProgrammingEnvironment',\n",
       " 5: 'I-SoftwareCoreference',\n",
       " 6: 'B-PlugIn',\n",
       " 7: 'I-PlugIn',\n",
       " 8: 'I-Application',\n",
       " 9: 'I-ProgrammingEnvironment',\n",
       " 10: 'I-OperatingSystem'}"
      ]
     },
     "execution_count": 30,
     "metadata": {},
     "output_type": "execute_result"
    }
   ],
   "source": [
    "id_to_label = {id:label for id, label in enumerate(class_labels)}\n",
    "id_to_label"
   ]
  },
  {
   "cell_type": "markdown",
   "id": "eee0c5d2",
   "metadata": {
    "id": "eee0c5d2"
   },
   "source": [
    "### Map Labels to Class_Labels"
   ]
  },
  {
   "cell_type": "code",
   "execution_count": 31,
   "id": "e06bbff7",
   "metadata": {
    "id": "e06bbff7"
   },
   "outputs": [],
   "source": [
    "dataset['ids'] = dataset['labels'].apply(lambda row: [label_to_id.get(label) for label in row])"
   ]
  },
  {
   "cell_type": "code",
   "execution_count": 32,
   "id": "c3463c89",
   "metadata": {
    "colab": {
     "base_uri": "https://localhost:8080/",
     "height": 275
    },
    "id": "c3463c89",
    "outputId": "f08ebf95-ea3f-4ff4-c573-0e1e7f9d0318",
    "scrolled": true
   },
   "outputs": [
    {
     "data": {
      "text/html": [
       "<div>\n",
       "<style scoped>\n",
       "    .dataframe tbody tr th:only-of-type {\n",
       "        vertical-align: middle;\n",
       "    }\n",
       "\n",
       "    .dataframe tbody tr th {\n",
       "        vertical-align: top;\n",
       "    }\n",
       "\n",
       "    .dataframe thead th {\n",
       "        text-align: right;\n",
       "    }\n",
       "</style>\n",
       "<table border=\"1\" class=\"dataframe\">\n",
       "  <thead>\n",
       "    <tr style=\"text-align: right;\">\n",
       "      <th></th>\n",
       "      <th>sentences</th>\n",
       "      <th>labels</th>\n",
       "      <th>ids</th>\n",
       "    </tr>\n",
       "  </thead>\n",
       "  <tbody>\n",
       "    <tr>\n",
       "      <th>0</th>\n",
       "      <td>[Here, we, report, a, comprehensive, suite, fo...</td>\n",
       "      <td>[O, O, O, O, O, O, O, O, O, O, O, O, O, O, O, ...</td>\n",
       "      <td>[0, 0, 0, 0, 0, 0, 0, 0, 0, 0, 0, 0, 0, 0, 0, ...</td>\n",
       "    </tr>\n",
       "    <tr>\n",
       "      <th>1</th>\n",
       "      <td>[The, resource, is, available, free, of, charg...</td>\n",
       "      <td>[O, B-SoftwareCoreference, O, O, O, O, O, O, O...</td>\n",
       "      <td>[0, 2, 0, 0, 0, 0, 0, 0, 0, 0, 0, 0, 0, 0, 0]</td>\n",
       "    </tr>\n",
       "    <tr>\n",
       "      <th>2</th>\n",
       "      <td>[In, this, work, ,, we, described, the, DelPhi...</td>\n",
       "      <td>[O, O, O, O, O, O, O, B-Application, O, O, O, ...</td>\n",
       "      <td>[0, 0, 0, 0, 0, 0, 0, 1, 0, 0, 0, 0, 0]</td>\n",
       "    </tr>\n",
       "    <tr>\n",
       "      <th>3</th>\n",
       "      <td>[\", Project, name, :, DelPhi, Project, home, p...</td>\n",
       "      <td>[O, O, O, O, B-Application, O, O, O, O, O, O, ...</td>\n",
       "      <td>[0, 0, 0, 0, 1, 0, 0, 0, 0, 0, 0, 0, 0, 0, 0, ...</td>\n",
       "    </tr>\n",
       "    <tr>\n",
       "      <th>4</th>\n",
       "      <td>[We, have, developed, ANDES, ,, a, software, l...</td>\n",
       "      <td>[O, O, O, B-Application, O, O, O, O, O, O, O, ...</td>\n",
       "      <td>[0, 0, 0, 1, 0, 0, 0, 0, 0, 0, 0, 0, 0, 0, 0, ...</td>\n",
       "    </tr>\n",
       "  </tbody>\n",
       "</table>\n",
       "</div>"
      ],
      "text/plain": [
       "                                           sentences  \\\n",
       "0  [Here, we, report, a, comprehensive, suite, fo...   \n",
       "1  [The, resource, is, available, free, of, charg...   \n",
       "2  [In, this, work, ,, we, described, the, DelPhi...   \n",
       "3  [\", Project, name, :, DelPhi, Project, home, p...   \n",
       "4  [We, have, developed, ANDES, ,, a, software, l...   \n",
       "\n",
       "                                              labels  \\\n",
       "0  [O, O, O, O, O, O, O, O, O, O, O, O, O, O, O, ...   \n",
       "1  [O, B-SoftwareCoreference, O, O, O, O, O, O, O...   \n",
       "2  [O, O, O, O, O, O, O, B-Application, O, O, O, ...   \n",
       "3  [O, O, O, O, B-Application, O, O, O, O, O, O, ...   \n",
       "4  [O, O, O, B-Application, O, O, O, O, O, O, O, ...   \n",
       "\n",
       "                                                 ids  \n",
       "0  [0, 0, 0, 0, 0, 0, 0, 0, 0, 0, 0, 0, 0, 0, 0, ...  \n",
       "1      [0, 2, 0, 0, 0, 0, 0, 0, 0, 0, 0, 0, 0, 0, 0]  \n",
       "2            [0, 0, 0, 0, 0, 0, 0, 1, 0, 0, 0, 0, 0]  \n",
       "3  [0, 0, 0, 0, 1, 0, 0, 0, 0, 0, 0, 0, 0, 0, 0, ...  \n",
       "4  [0, 0, 0, 1, 0, 0, 0, 0, 0, 0, 0, 0, 0, 0, 0, ...  "
      ]
     },
     "execution_count": 32,
     "metadata": {},
     "output_type": "execute_result"
    }
   ],
   "source": [
    "dataset.head()"
   ]
  },
  {
   "cell_type": "markdown",
   "id": "950dab12",
   "metadata": {
    "id": "950dab12"
   },
   "source": [
    "## Prepare and Train the dataset"
   ]
  },
  {
   "cell_type": "markdown",
   "id": "bb8e85f0",
   "metadata": {
    "id": "bb8e85f0"
   },
   "source": [
    "### Split the dataset into Trian and Validation"
   ]
  },
  {
   "cell_type": "code",
   "execution_count": 33,
   "id": "c8c8d702",
   "metadata": {
    "id": "c8c8d702"
   },
   "outputs": [],
   "source": [
    "from sklearn.model_selection import train_test_split\n",
    "\n",
    "train, validation = train_test_split(dataset, test_size=0.25, random_state=42)"
   ]
  },
  {
   "cell_type": "markdown",
   "id": "240c2240",
   "metadata": {
    "id": "240c2240"
   },
   "source": [
    "#### Write the Train and Validation dataset"
   ]
  },
  {
   "cell_type": "code",
   "execution_count": 34,
   "id": "0ae0929f",
   "metadata": {
    "id": "0ae0929f"
   },
   "outputs": [],
   "source": [
    "train.to_csv('../../data/subtask1/subtask1_split.train.txt', header=False, index=False, sep='\\n', encoding='utf-8')"
   ]
  },
  {
   "cell_type": "code",
   "execution_count": 35,
   "id": "f466ebb0",
   "metadata": {
    "id": "f466ebb0"
   },
   "outputs": [],
   "source": [
    "validation.to_csv('../../data/subtask1/subtask1_split.validation.txt', header=False, index=False, sep='\\n', encoding='utf-8')"
   ]
  },
  {
   "cell_type": "markdown",
   "id": "e0fd9a8f",
   "metadata": {
    "id": "e0fd9a8f"
   },
   "source": [
    "### Tokenize and convert the labels from tokenized into ids"
   ]
  },
  {
   "cell_type": "code",
   "execution_count": 37,
   "id": "866d57f9",
   "metadata": {
    "id": "866d57f9"
   },
   "outputs": [],
   "source": [
    "from transformers import BertTokenizerFast, AutoTokenizer\n",
    "\n",
    "tokenizer = BertTokenizerFast.from_pretrained('bert-base-uncased')"
   ]
  },
  {
   "cell_type": "markdown",
   "id": "c7b72799",
   "metadata": {
    "id": "c7b72799"
   },
   "source": [
    "### Positive Samples (Sentences with labels)"
   ]
  },
  {
   "cell_type": "code",
   "execution_count": 38,
   "id": "893f2083",
   "metadata": {
    "id": "893f2083",
    "scrolled": true
   },
   "outputs": [],
   "source": [
    "train_contains_labels = train.ids.apply(sum) != 0\n",
    "validation_contains_labels = validation.ids.apply(sum) != 0\n",
    "# validation[validation_contains_labels]"
   ]
  },
  {
   "cell_type": "markdown",
   "id": "80e5994f",
   "metadata": {
    "id": "80e5994f"
   },
   "source": [
    "### Negative Samples (Sentences without any labels)"
   ]
  },
  {
   "cell_type": "code",
   "execution_count": 39,
   "id": "e37403a9",
   "metadata": {
    "id": "e37403a9"
   },
   "outputs": [],
   "source": [
    "train_without_labels = train.ids.apply(sum) == 0\n",
    "validation_without_labels = validation.ids.apply(sum) == 0"
   ]
  },
  {
   "cell_type": "markdown",
   "id": "fe734555",
   "metadata": {
    "id": "fe734555"
   },
   "source": [
    "### Reduce the dataset to positive samples"
   ]
  },
  {
   "cell_type": "code",
   "execution_count": 41,
   "id": "e86cdafc",
   "metadata": {
    "id": "e86cdafc"
   },
   "outputs": [
    {
     "name": "stderr",
     "output_type": "stream",
     "text": [
      "C:\\Users\\Public\\Documents\\Wondershare\\CreatorTemp\\ipykernel_8824\\3314195239.py:3: UserWarning: Boolean Series key will be reindexed to match DataFrame index.\n",
      "  train = train[train_contains_labels].copy()\n",
      "C:\\Users\\Public\\Documents\\Wondershare\\CreatorTemp\\ipykernel_8824\\3314195239.py:4: UserWarning: Boolean Series key will be reindexed to match DataFrame index.\n",
      "  validation = validation[validation_contains_labels].copy()\n"
     ]
    }
   ],
   "source": [
    "reduce_to_positive_samples = True\n",
    "if reduce_to_positive_samples:\n",
    "    train = train[train_contains_labels].copy()\n",
    "    validation = validation[validation_contains_labels].copy()\n",
    "else:\n",
    "    train = train[train_without_labels].copy()\n",
    "    validation = validation[validation_without_labels].copy()"
   ]
  },
  {
   "cell_type": "markdown",
   "id": "444982da",
   "metadata": {
    "id": "444982da"
   },
   "source": [
    "### Tokenize and convert the labels from tokenized into ids"
   ]
  },
  {
   "cell_type": "code",
   "execution_count": 42,
   "id": "40752849",
   "metadata": {},
   "outputs": [],
   "source": [
    "def tokenization(input_data):\n",
    "    tokenized_train_inputs = tokenizer(\n",
    "        input_data,\n",
    "        return_tensors=\"pt\",\n",
    "        truncation=True,\n",
    "        is_split_into_words=True,\n",
    "        padding=\"max_length\",\n",
    "        max_length=512,\n",
    "    )\n",
    "    \n",
    "    return tokenized_train_inputs"
   ]
  },
  {
   "cell_type": "markdown",
   "id": "6211223e",
   "metadata": {
    "id": "6211223e"
   },
   "source": [
    "#### Tokenize Train"
   ]
  },
  {
   "cell_type": "code",
   "execution_count": 43,
   "id": "a2900464",
   "metadata": {
    "id": "a2900464"
   },
   "outputs": [],
   "source": [
    "train['tokenized'] = train.apply(lambda row: helper.tokenized_align_labels(tokenization(row['sentences']), row['ids']), axis=1)"
   ]
  },
  {
   "cell_type": "markdown",
   "id": "fba3a469",
   "metadata": {
    "id": "fba3a469"
   },
   "source": [
    "#### Tokenize Validation"
   ]
  },
  {
   "cell_type": "code",
   "execution_count": 44,
   "id": "6b344b82",
   "metadata": {
    "id": "6b344b82"
   },
   "outputs": [],
   "source": [
    "validation['tokenized'] = validation.apply(lambda row: helper.tokenized_align_labels(tokenization(row['sentences']), row['ids']), axis=1)"
   ]
  },
  {
   "cell_type": "markdown",
   "id": "9c3fdb42",
   "metadata": {
    "id": "9c3fdb42"
   },
   "source": [
    "### Prepare Train Dataset for fine-tuning"
   ]
  },
  {
   "cell_type": "code",
   "execution_count": 45,
   "id": "69a33021",
   "metadata": {
    "id": "69a33021"
   },
   "outputs": [],
   "source": [
    "Train_dataset = train.tokenized.apply(\n",
    "    lambda x: {\n",
    "        k: v[0]\n",
    "        if type(v) is not list\n",
    "        else torch.tensor(v)\n",
    "        for k, v in x.items()}).to_list()"
   ]
  },
  {
   "cell_type": "markdown",
   "id": "329b235d",
   "metadata": {
    "id": "329b235d"
   },
   "source": [
    "### Prepare Validation Dataset for fine-tuning"
   ]
  },
  {
   "cell_type": "code",
   "execution_count": 46,
   "id": "34ede30e",
   "metadata": {
    "id": "34ede30e"
   },
   "outputs": [],
   "source": [
    "Val_dataset = validation.tokenized.apply(\n",
    "    lambda x: {\n",
    "        k: v[0]\n",
    "        if type(v) is not list\n",
    "        else torch.tensor(v)\n",
    "        for k, v in x.items()}).to_list()"
   ]
  },
  {
   "cell_type": "markdown",
   "id": "3446d79e",
   "metadata": {
    "id": "3446d79e"
   },
   "source": [
    "### Load Pre_trained Model"
   ]
  },
  {
   "cell_type": "code",
   "execution_count": 47,
   "id": "fc935863",
   "metadata": {
    "colab": {
     "base_uri": "https://localhost:8080/",
     "height": 104,
     "referenced_widgets": [
      "3c4908ecc078474baf00b1965dfd6395",
      "6658842e0bc7486faa9ea6327ffb3a38",
      "57bb3795a10d47be8aa5f22fa0d7ff4c",
      "253ffef5ea19431397e7523136115c6f",
      "d563cca42ef14221a2afa9a37a5c25fa",
      "caefe7aeb55d462bb43cfc21c00c9434",
      "8bf7096d7a0245ef8855df8736446a19",
      "189ed86866564e07a5ec98fa8ab0199e",
      "3dd5fa3321ec4b308a2c8d82b927c7a8",
      "e723ef6487874645bdbc5307027fdaa1",
      "0a9339f34417403795fbbc037632ab8f"
     ]
    },
    "id": "fc935863",
    "outputId": "04b459c3-5a0c-4db0-9acb-ead5c2a804a9"
   },
   "outputs": [
    {
     "name": "stderr",
     "output_type": "stream",
     "text": [
      "Some weights of BertForTokenClassification were not initialized from the model checkpoint at bert-base-uncased and are newly initialized: ['classifier.bias', 'classifier.weight']\n",
      "You should probably TRAIN this model on a down-stream task to be able to use it for predictions and inference.\n"
     ]
    }
   ],
   "source": [
    "from transformers import AutoModelForTokenClassification\n",
    "### todo guck mal nach cased und uncased ob es mit cased besser funktioniert oder mit uncased\n",
    "model = AutoModelForTokenClassification.from_pretrained('bert-base-uncased', id2label=id_to_label, num_labels=len(class_labels))"
   ]
  },
  {
   "cell_type": "markdown",
   "id": "0e637c0a",
   "metadata": {
    "id": "0e637c0a"
   },
   "source": [
    "### Evaluation"
   ]
  },
  {
   "cell_type": "code",
   "execution_count": 48,
   "id": "2e4d3884",
   "metadata": {
    "id": "2e4d3884"
   },
   "outputs": [],
   "source": [
    "import evaluate\n",
    "import numpy as np\n",
    "metric = evaluate.load('seqeval')\n",
    "\n",
    "\n",
    "def compute_metrics(eval_preds, label_class=class_labels):\n",
    "    logits, labels = eval_preds\n",
    "    # becase the logics and probabilities both are in the same order, we don't need to aply softmax here\n",
    "    predictions = np.argmax(logits, axis=-1)\n",
    "    # now we need to remove all the values, where the label is -100\n",
    "    # before passing to metric.compute we should have these inputs as a list\n",
    "    true_labels = [[label_class[l] for l in label if l != -100]\n",
    "                   for label in labels]\n",
    "\n",
    "    true_predictions = [[label_class[p] for p,l in zip(prediction, label) if l != -100]\n",
    "                        for prediction, label in zip(predictions, labels)]\n",
    "\n",
    "    all_metrics = metric.compute(predictions=true_predictions, references=true_labels)\n",
    "\n",
    "    return all_metrics"
   ]
  },
  {
   "cell_type": "markdown",
   "id": "cd087adc",
   "metadata": {
    "id": "cd087adc"
   },
   "source": [
    "### Training"
   ]
  },
  {
   "cell_type": "code",
   "execution_count": 49,
   "id": "c369b6f2",
   "metadata": {
    "colab": {
     "base_uri": "https://localhost:8080/",
     "height": 317
    },
    "id": "c369b6f2",
    "outputId": "0d6e3552-4ec1-4f6d-cc20-f55decfa32ea"
   },
   "outputs": [
    {
     "data": {
      "text/html": [
       "\n",
       "    <div>\n",
       "      \n",
       "      <progress value='39' max='39' style='width:300px; height:20px; vertical-align: middle;'></progress>\n",
       "      [39/39 25:32, Epoch 3/3]\n",
       "    </div>\n",
       "    <table border=\"1\" class=\"dataframe\">\n",
       "  <thead>\n",
       " <tr style=\"text-align: left;\">\n",
       "      <th>Epoch</th>\n",
       "      <th>Training Loss</th>\n",
       "      <th>Validation Loss</th>\n",
       "      <th>Application</th>\n",
       "      <th>Operatingsystem</th>\n",
       "      <th>Plugin</th>\n",
       "      <th>Programmingenvironment</th>\n",
       "      <th>Softwarecoreference</th>\n",
       "      <th>Overall Precision</th>\n",
       "      <th>Overall Recall</th>\n",
       "      <th>Overall F1</th>\n",
       "      <th>Overall Accuracy</th>\n",
       "    </tr>\n",
       "  </thead>\n",
       "  <tbody>\n",
       "    <tr>\n",
       "      <td>1</td>\n",
       "      <td>No log</td>\n",
       "      <td>0.424590</td>\n",
       "      <td>{'precision': 0.0, 'recall': 0.0, 'f1': 0.0, 'number': 104}</td>\n",
       "      <td>{'precision': 0.0, 'recall': 0.0, 'f1': 0.0, 'number': 8}</td>\n",
       "      <td>{'precision': 0.0, 'recall': 0.0, 'f1': 0.0, 'number': 16}</td>\n",
       "      <td>{'precision': 0.0, 'recall': 0.0, 'f1': 0.0, 'number': 12}</td>\n",
       "      <td>{'precision': 0.0, 'recall': 0.0, 'f1': 0.0, 'number': 1}</td>\n",
       "      <td>0.000000</td>\n",
       "      <td>0.000000</td>\n",
       "      <td>0.000000</td>\n",
       "      <td>0.931400</td>\n",
       "    </tr>\n",
       "    <tr>\n",
       "      <td>2</td>\n",
       "      <td>No log</td>\n",
       "      <td>0.347046</td>\n",
       "      <td>{'precision': 0.0, 'recall': 0.0, 'f1': 0.0, 'number': 104}</td>\n",
       "      <td>{'precision': 0.0, 'recall': 0.0, 'f1': 0.0, 'number': 8}</td>\n",
       "      <td>{'precision': 0.0, 'recall': 0.0, 'f1': 0.0, 'number': 16}</td>\n",
       "      <td>{'precision': 0.0, 'recall': 0.0, 'f1': 0.0, 'number': 12}</td>\n",
       "      <td>{'precision': 0.0, 'recall': 0.0, 'f1': 0.0, 'number': 1}</td>\n",
       "      <td>0.000000</td>\n",
       "      <td>0.000000</td>\n",
       "      <td>0.000000</td>\n",
       "      <td>0.931400</td>\n",
       "    </tr>\n",
       "    <tr>\n",
       "      <td>3</td>\n",
       "      <td>No log</td>\n",
       "      <td>0.331370</td>\n",
       "      <td>{'precision': 0.0, 'recall': 0.0, 'f1': 0.0, 'number': 104}</td>\n",
       "      <td>{'precision': 0.0, 'recall': 0.0, 'f1': 0.0, 'number': 8}</td>\n",
       "      <td>{'precision': 0.0, 'recall': 0.0, 'f1': 0.0, 'number': 16}</td>\n",
       "      <td>{'precision': 0.0, 'recall': 0.0, 'f1': 0.0, 'number': 12}</td>\n",
       "      <td>{'precision': 0.0, 'recall': 0.0, 'f1': 0.0, 'number': 1}</td>\n",
       "      <td>0.000000</td>\n",
       "      <td>0.000000</td>\n",
       "      <td>0.000000</td>\n",
       "      <td>0.931400</td>\n",
       "    </tr>\n",
       "  </tbody>\n",
       "</table><p>"
      ],
      "text/plain": [
       "<IPython.core.display.HTML object>"
      ]
     },
     "metadata": {},
     "output_type": "display_data"
    },
    {
     "name": "stderr",
     "output_type": "stream",
     "text": [
      "C:\\Users\\fschr\\AppData\\Roaming\\Python\\Python311\\site-packages\\seqeval\\metrics\\v1.py:57: UndefinedMetricWarning: Precision and F-score are ill-defined and being set to 0.0 in labels with no predicted samples. Use `zero_division` parameter to control this behavior.\n",
      "  _warn_prf(average, modifier, msg_start, len(result))\n",
      "C:\\Users\\fschr\\AppData\\Roaming\\Python\\Python311\\site-packages\\seqeval\\metrics\\v1.py:57: UndefinedMetricWarning: Precision and F-score are ill-defined and being set to 0.0 due to no predicted samples. Use `zero_division` parameter to control this behavior.\n",
      "  _warn_prf(average, modifier, msg_start, len(result))\n",
      "Trainer is attempting to log a value of \"{'precision': 0.0, 'recall': 0.0, 'f1': 0.0, 'number': 104}\" of type <class 'dict'> for key \"eval/Application\" as a scalar. This invocation of Tensorboard's writer.add_scalar() is incorrect so we dropped this attribute.\n",
      "Trainer is attempting to log a value of \"{'precision': 0.0, 'recall': 0.0, 'f1': 0.0, 'number': 8}\" of type <class 'dict'> for key \"eval/OperatingSystem\" as a scalar. This invocation of Tensorboard's writer.add_scalar() is incorrect so we dropped this attribute.\n",
      "Trainer is attempting to log a value of \"{'precision': 0.0, 'recall': 0.0, 'f1': 0.0, 'number': 16}\" of type <class 'dict'> for key \"eval/PlugIn\" as a scalar. This invocation of Tensorboard's writer.add_scalar() is incorrect so we dropped this attribute.\n",
      "Trainer is attempting to log a value of \"{'precision': 0.0, 'recall': 0.0, 'f1': 0.0, 'number': 12}\" of type <class 'dict'> for key \"eval/ProgrammingEnvironment\" as a scalar. This invocation of Tensorboard's writer.add_scalar() is incorrect so we dropped this attribute.\n",
      "Trainer is attempting to log a value of \"{'precision': 0.0, 'recall': 0.0, 'f1': 0.0, 'number': 1}\" of type <class 'dict'> for key \"eval/SoftwareCoreference\" as a scalar. This invocation of Tensorboard's writer.add_scalar() is incorrect so we dropped this attribute.\n",
      "Trainer is attempting to log a value of \"{'precision': 0.0, 'recall': 0.0, 'f1': 0.0, 'number': 104}\" of type <class 'dict'> for key \"eval/Application\" as a scalar. This invocation of Tensorboard's writer.add_scalar() is incorrect so we dropped this attribute.\n",
      "Trainer is attempting to log a value of \"{'precision': 0.0, 'recall': 0.0, 'f1': 0.0, 'number': 8}\" of type <class 'dict'> for key \"eval/OperatingSystem\" as a scalar. This invocation of Tensorboard's writer.add_scalar() is incorrect so we dropped this attribute.\n",
      "Trainer is attempting to log a value of \"{'precision': 0.0, 'recall': 0.0, 'f1': 0.0, 'number': 16}\" of type <class 'dict'> for key \"eval/PlugIn\" as a scalar. This invocation of Tensorboard's writer.add_scalar() is incorrect so we dropped this attribute.\n",
      "Trainer is attempting to log a value of \"{'precision': 0.0, 'recall': 0.0, 'f1': 0.0, 'number': 12}\" of type <class 'dict'> for key \"eval/ProgrammingEnvironment\" as a scalar. This invocation of Tensorboard's writer.add_scalar() is incorrect so we dropped this attribute.\n",
      "Trainer is attempting to log a value of \"{'precision': 0.0, 'recall': 0.0, 'f1': 0.0, 'number': 1}\" of type <class 'dict'> for key \"eval/SoftwareCoreference\" as a scalar. This invocation of Tensorboard's writer.add_scalar() is incorrect so we dropped this attribute.\n",
      "Trainer is attempting to log a value of \"{'precision': 0.0, 'recall': 0.0, 'f1': 0.0, 'number': 104}\" of type <class 'dict'> for key \"eval/Application\" as a scalar. This invocation of Tensorboard's writer.add_scalar() is incorrect so we dropped this attribute.\n",
      "Trainer is attempting to log a value of \"{'precision': 0.0, 'recall': 0.0, 'f1': 0.0, 'number': 8}\" of type <class 'dict'> for key \"eval/OperatingSystem\" as a scalar. This invocation of Tensorboard's writer.add_scalar() is incorrect so we dropped this attribute.\n",
      "Trainer is attempting to log a value of \"{'precision': 0.0, 'recall': 0.0, 'f1': 0.0, 'number': 16}\" of type <class 'dict'> for key \"eval/PlugIn\" as a scalar. This invocation of Tensorboard's writer.add_scalar() is incorrect so we dropped this attribute.\n",
      "Trainer is attempting to log a value of \"{'precision': 0.0, 'recall': 0.0, 'f1': 0.0, 'number': 12}\" of type <class 'dict'> for key \"eval/ProgrammingEnvironment\" as a scalar. This invocation of Tensorboard's writer.add_scalar() is incorrect so we dropped this attribute.\n",
      "Trainer is attempting to log a value of \"{'precision': 0.0, 'recall': 0.0, 'f1': 0.0, 'number': 1}\" of type <class 'dict'> for key \"eval/SoftwareCoreference\" as a scalar. This invocation of Tensorboard's writer.add_scalar() is incorrect so we dropped this attribute.\n"
     ]
    }
   ],
   "source": [
    "from transformers import  TrainingArguments, Trainer\n",
    "\n",
    "training_args = TrainingArguments(output_dir='../../data/subtask1/sub_ner',\n",
    "                                  num_train_epochs=3,\n",
    "                                  learning_rate=2e-5,\n",
    "                                  per_device_train_batch_size=8,\n",
    "                                  per_device_eval_batch_size=8,\n",
    "                                  weight_decay=0.01,\n",
    "                                  evaluation_strategy='epoch',\n",
    "                                  disable_tqdm=False)\n",
    "\n",
    "\n",
    "trainer = Trainer(model=model, args=training_args, compute_metrics=compute_metrics, train_dataset=Train_dataset,\n",
    "                  eval_dataset=Val_dataset,tokenizer=tokenizer)\n",
    "\n",
    "\n",
    "dataset_performance = trainer.train()"
   ]
  },
  {
   "cell_type": "markdown",
   "id": "d6143ba2",
   "metadata": {
    "id": "d6143ba2"
   },
   "source": [
    "### Performance of dataset"
   ]
  },
  {
   "cell_type": "code",
   "execution_count": 50,
   "id": "52d4be28",
   "metadata": {
    "colab": {
     "base_uri": "https://localhost:8080/"
    },
    "id": "52d4be28",
    "outputId": "a32d0d84-6908-4eaf-a208-836bed2299e9"
   },
   "outputs": [
    {
     "data": {
      "text/plain": [
       "TrainOutput(global_step=39, training_loss=0.6284570449437851, metrics={'train_runtime': 1561.9986, 'train_samples_per_second': 0.192, 'train_steps_per_second': 0.025, 'total_flos': 78395405414400.0, 'train_loss': 0.6284570449437851, 'epoch': 3.0})"
      ]
     },
     "execution_count": 50,
     "metadata": {},
     "output_type": "execute_result"
    }
   ],
   "source": [
    "dataset_performance"
   ]
  },
  {
   "cell_type": "markdown",
   "id": "a28d7dd6",
   "metadata": {
    "id": "a28d7dd6"
   },
   "source": [
    "### Save the fine-tuned Model and Tokenizer"
   ]
  },
  {
   "cell_type": "code",
   "execution_count": 51,
   "id": "5f2ba63c",
   "metadata": {
    "colab": {
     "base_uri": "https://localhost:8080/"
    },
    "id": "5f2ba63c",
    "outputId": "e69435e8-5cfc-4f5e-9fec-53a2333e400d"
   },
   "outputs": [
    {
     "data": {
      "text/plain": [
       "('../../data/subtask1/dataset_tokenizer\\\\tokenizer_config.json',\n",
       " '../../data/subtask1/dataset_tokenizer\\\\special_tokens_map.json',\n",
       " '../../data/subtask1/dataset_tokenizer\\\\vocab.txt',\n",
       " '../../data/subtask1/dataset_tokenizer\\\\added_tokens.json',\n",
       " '../../data/subtask1/dataset_tokenizer\\\\tokenizer.json')"
      ]
     },
     "execution_count": 51,
     "metadata": {},
     "output_type": "execute_result"
    }
   ],
   "source": [
    "model.save_pretrained(\"../../data/subtask1/dataset_ner_model\")\n",
    "tokenizer.save_pretrained(\"../../data/subtask1/dataset_tokenizer\")"
   ]
  },
  {
   "cell_type": "markdown",
   "id": "d870c4b8",
   "metadata": {
    "id": "d870c4b8"
   },
   "source": [
    "### Load the saved Model and Tokenizer"
   ]
  },
  {
   "cell_type": "code",
   "execution_count": 52,
   "id": "1ab52067",
   "metadata": {
    "id": "1ab52067"
   },
   "outputs": [],
   "source": [
    "from transformers import BertTokenizer, BertForTokenClassification\n",
    "\n",
    "tokenizer = BertTokenizerFast.from_pretrained('../../data/subtask1/dataset_tokenizer')\n",
    "model = BertForTokenClassification.from_pretrained('../../data/subtask1/dataset_ner_model')"
   ]
  },
  {
   "cell_type": "markdown",
   "id": "1c618f71",
   "metadata": {
    "id": "1c618f71"
   },
   "source": [
    "### Read the Test dataset and Prediction for  it"
   ]
  },
  {
   "cell_type": "code",
   "execution_count": 53,
   "id": "0758fd1f",
   "metadata": {
    "id": "0758fd1f"
   },
   "outputs": [],
   "source": [
    "with open('../../data/subtask1/subtask1_test.data.txt', 'r', encoding='utf-8') as file:\n",
    "    test = file.readlines()"
   ]
  },
  {
   "cell_type": "markdown",
   "id": "4b43a67c",
   "metadata": {
    "id": "4b43a67c"
   },
   "source": [
    "#### Post-process"
   ]
  },
  {
   "cell_type": "markdown",
   "id": "50ab9669",
   "metadata": {
    "id": "50ab9669"
   },
   "source": [
    "##### convert ids to label"
   ]
  },
  {
   "cell_type": "code",
   "execution_count": 54,
   "id": "3752358e",
   "metadata": {
    "id": "3752358e"
   },
   "outputs": [],
   "source": [
    "import torch\n",
    "\n",
    "def convert_ids_to_labels(sentence, model, tokenizer, id_to_label=id_to_label):\n",
    "      sentence = sentence.split()\n",
    "      inputs = tokenizer([sentence], truncation=True,is_split_into_words = True, padding=True,return_tensors='pt')\n",
    "      word_ids = inputs.word_ids()\n",
    "      with torch.no_grad():\n",
    "          model.eval()\n",
    "          outputs = model(**inputs)\n",
    "      prediction = outputs.logits.argmax(dim=2)\n",
    "      prediction = prediction[0].tolist()\n",
    "      predictions_for_words = helper.align_labels(word_ids, prediction)\n",
    "      predicted_labels = [id_to_label[id] for id in predictions_for_words]\n",
    "      labels = ' '.join([p_label for p_label in predicted_labels]) ### Todo guck mal ob du überhaupt hier die str brauchst\n",
    "      return labels"
   ]
  },
  {
   "cell_type": "markdown",
   "id": "98a2a917",
   "metadata": {
    "id": "98a2a917"
   },
   "source": [
    "#### Predict"
   ]
  },
  {
   "cell_type": "code",
   "execution_count": 55,
   "id": "a24bfbf4",
   "metadata": {
    "colab": {
     "background_save": true
    },
    "id": "a24bfbf4"
   },
   "outputs": [],
   "source": [
    "all_predicted_entities_dataset = []\n",
    "for sentence in test:\n",
    "    labels = convert_ids_to_labels(sentence=sentence, model=model, tokenizer=tokenizer, id_to_label=id_to_label)\n",
    "    all_predicted_entities_dataset.append(labels)"
   ]
  },
  {
   "cell_type": "code",
   "execution_count": 56,
   "id": "7df70d1a",
   "metadata": {
    "id": "7df70d1a"
   },
   "outputs": [],
   "source": [
    "with open('../../data/subtask1/prediction/prediction_dataset.txt', 'w') as file:\n",
    "  for prediction in all_predicted_entities_dataset:\n",
    "    file.write(f'{prediction}\\n')"
   ]
  },
  {
   "cell_type": "code",
   "execution_count": null,
   "id": "Tpck6sdNPGh3",
   "metadata": {
    "id": "Tpck6sdNPGh3"
   },
   "outputs": [],
   "source": []
  }
 ],
 "metadata": {
  "accelerator": "GPU",
  "colab": {
   "gpuType": "T4",
   "provenance": []
  },
  "kernelspec": {
   "display_name": "Python 3 (ipykernel)",
   "language": "python",
   "name": "python3"
  },
  "language_info": {
   "codemirror_mode": {
    "name": "ipython",
    "version": 3
   },
   "file_extension": ".py",
   "mimetype": "text/x-python",
   "name": "python",
   "nbconvert_exporter": "python",
   "pygments_lexer": "ipython3",
   "version": "3.11.4"
  },
  "widgets": {
   "application/vnd.jupyter.widget-state+json": {
    "0a9339f34417403795fbbc037632ab8f": {
     "model_module": "@jupyter-widgets/controls",
     "model_module_version": "1.5.0",
     "model_name": "DescriptionStyleModel",
     "state": {
      "_model_module": "@jupyter-widgets/controls",
      "_model_module_version": "1.5.0",
      "_model_name": "DescriptionStyleModel",
      "_view_count": null,
      "_view_module": "@jupyter-widgets/base",
      "_view_module_version": "1.2.0",
      "_view_name": "StyleView",
      "description_width": ""
     }
    },
    "1394ff47d34c4d6d8ed2010a83b09648": {
     "model_module": "@jupyter-widgets/base",
     "model_module_version": "1.2.0",
     "model_name": "LayoutModel",
     "state": {
      "_model_module": "@jupyter-widgets/base",
      "_model_module_version": "1.2.0",
      "_model_name": "LayoutModel",
      "_view_count": null,
      "_view_module": "@jupyter-widgets/base",
      "_view_module_version": "1.2.0",
      "_view_name": "LayoutView",
      "align_content": null,
      "align_items": null,
      "align_self": null,
      "border": null,
      "bottom": null,
      "display": null,
      "flex": null,
      "flex_flow": null,
      "grid_area": null,
      "grid_auto_columns": null,
      "grid_auto_flow": null,
      "grid_auto_rows": null,
      "grid_column": null,
      "grid_gap": null,
      "grid_row": null,
      "grid_template_areas": null,
      "grid_template_columns": null,
      "grid_template_rows": null,
      "height": null,
      "justify_content": null,
      "justify_items": null,
      "left": null,
      "margin": null,
      "max_height": null,
      "max_width": null,
      "min_height": null,
      "min_width": null,
      "object_fit": null,
      "object_position": null,
      "order": null,
      "overflow": null,
      "overflow_x": null,
      "overflow_y": null,
      "padding": null,
      "right": null,
      "top": null,
      "visibility": null,
      "width": null
     }
    },
    "189ed86866564e07a5ec98fa8ab0199e": {
     "model_module": "@jupyter-widgets/base",
     "model_module_version": "1.2.0",
     "model_name": "LayoutModel",
     "state": {
      "_model_module": "@jupyter-widgets/base",
      "_model_module_version": "1.2.0",
      "_model_name": "LayoutModel",
      "_view_count": null,
      "_view_module": "@jupyter-widgets/base",
      "_view_module_version": "1.2.0",
      "_view_name": "LayoutView",
      "align_content": null,
      "align_items": null,
      "align_self": null,
      "border": null,
      "bottom": null,
      "display": null,
      "flex": null,
      "flex_flow": null,
      "grid_area": null,
      "grid_auto_columns": null,
      "grid_auto_flow": null,
      "grid_auto_rows": null,
      "grid_column": null,
      "grid_gap": null,
      "grid_row": null,
      "grid_template_areas": null,
      "grid_template_columns": null,
      "grid_template_rows": null,
      "height": null,
      "justify_content": null,
      "justify_items": null,
      "left": null,
      "margin": null,
      "max_height": null,
      "max_width": null,
      "min_height": null,
      "min_width": null,
      "object_fit": null,
      "object_position": null,
      "order": null,
      "overflow": null,
      "overflow_x": null,
      "overflow_y": null,
      "padding": null,
      "right": null,
      "top": null,
      "visibility": null,
      "width": null
     }
    },
    "19a77db2b9a543dba098bdc392ebce3e": {
     "model_module": "@jupyter-widgets/controls",
     "model_module_version": "1.5.0",
     "model_name": "DescriptionStyleModel",
     "state": {
      "_model_module": "@jupyter-widgets/controls",
      "_model_module_version": "1.5.0",
      "_model_name": "DescriptionStyleModel",
      "_view_count": null,
      "_view_module": "@jupyter-widgets/base",
      "_view_module_version": "1.2.0",
      "_view_name": "StyleView",
      "description_width": ""
     }
    },
    "1fc43ed603804ea08e8db0d13937b079": {
     "model_module": "@jupyter-widgets/base",
     "model_module_version": "1.2.0",
     "model_name": "LayoutModel",
     "state": {
      "_model_module": "@jupyter-widgets/base",
      "_model_module_version": "1.2.0",
      "_model_name": "LayoutModel",
      "_view_count": null,
      "_view_module": "@jupyter-widgets/base",
      "_view_module_version": "1.2.0",
      "_view_name": "LayoutView",
      "align_content": null,
      "align_items": null,
      "align_self": null,
      "border": null,
      "bottom": null,
      "display": null,
      "flex": null,
      "flex_flow": null,
      "grid_area": null,
      "grid_auto_columns": null,
      "grid_auto_flow": null,
      "grid_auto_rows": null,
      "grid_column": null,
      "grid_gap": null,
      "grid_row": null,
      "grid_template_areas": null,
      "grid_template_columns": null,
      "grid_template_rows": null,
      "height": null,
      "justify_content": null,
      "justify_items": null,
      "left": null,
      "margin": null,
      "max_height": null,
      "max_width": null,
      "min_height": null,
      "min_width": null,
      "object_fit": null,
      "object_position": null,
      "order": null,
      "overflow": null,
      "overflow_x": null,
      "overflow_y": null,
      "padding": null,
      "right": null,
      "top": null,
      "visibility": null,
      "width": null
     }
    },
    "236d0a73cb664333bce246649e4ccb2b": {
     "model_module": "@jupyter-widgets/base",
     "model_module_version": "1.2.0",
     "model_name": "LayoutModel",
     "state": {
      "_model_module": "@jupyter-widgets/base",
      "_model_module_version": "1.2.0",
      "_model_name": "LayoutModel",
      "_view_count": null,
      "_view_module": "@jupyter-widgets/base",
      "_view_module_version": "1.2.0",
      "_view_name": "LayoutView",
      "align_content": null,
      "align_items": null,
      "align_self": null,
      "border": null,
      "bottom": null,
      "display": null,
      "flex": null,
      "flex_flow": null,
      "grid_area": null,
      "grid_auto_columns": null,
      "grid_auto_flow": null,
      "grid_auto_rows": null,
      "grid_column": null,
      "grid_gap": null,
      "grid_row": null,
      "grid_template_areas": null,
      "grid_template_columns": null,
      "grid_template_rows": null,
      "height": null,
      "justify_content": null,
      "justify_items": null,
      "left": null,
      "margin": null,
      "max_height": null,
      "max_width": null,
      "min_height": null,
      "min_width": null,
      "object_fit": null,
      "object_position": null,
      "order": null,
      "overflow": null,
      "overflow_x": null,
      "overflow_y": null,
      "padding": null,
      "right": null,
      "top": null,
      "visibility": null,
      "width": null
     }
    },
    "253ffef5ea19431397e7523136115c6f": {
     "model_module": "@jupyter-widgets/controls",
     "model_module_version": "1.5.0",
     "model_name": "HTMLModel",
     "state": {
      "_dom_classes": [],
      "_model_module": "@jupyter-widgets/controls",
      "_model_module_version": "1.5.0",
      "_model_name": "HTMLModel",
      "_view_count": null,
      "_view_module": "@jupyter-widgets/controls",
      "_view_module_version": "1.5.0",
      "_view_name": "HTMLView",
      "description": "",
      "description_tooltip": null,
      "layout": "IPY_MODEL_e723ef6487874645bdbc5307027fdaa1",
      "placeholder": "​",
      "style": "IPY_MODEL_0a9339f34417403795fbbc037632ab8f",
      "value": " 440M/440M [00:06&lt;00:00, 90.2MB/s]"
     }
    },
    "2ada89d80cf940be9f807c3655393ce9": {
     "model_module": "@jupyter-widgets/controls",
     "model_module_version": "1.5.0",
     "model_name": "DescriptionStyleModel",
     "state": {
      "_model_module": "@jupyter-widgets/controls",
      "_model_module_version": "1.5.0",
      "_model_name": "DescriptionStyleModel",
      "_view_count": null,
      "_view_module": "@jupyter-widgets/base",
      "_view_module_version": "1.2.0",
      "_view_name": "StyleView",
      "description_width": ""
     }
    },
    "2b5f717f5c034adebbde3d1b3ca92ff8": {
     "model_module": "@jupyter-widgets/base",
     "model_module_version": "1.2.0",
     "model_name": "LayoutModel",
     "state": {
      "_model_module": "@jupyter-widgets/base",
      "_model_module_version": "1.2.0",
      "_model_name": "LayoutModel",
      "_view_count": null,
      "_view_module": "@jupyter-widgets/base",
      "_view_module_version": "1.2.0",
      "_view_name": "LayoutView",
      "align_content": null,
      "align_items": null,
      "align_self": null,
      "border": null,
      "bottom": null,
      "display": null,
      "flex": null,
      "flex_flow": null,
      "grid_area": null,
      "grid_auto_columns": null,
      "grid_auto_flow": null,
      "grid_auto_rows": null,
      "grid_column": null,
      "grid_gap": null,
      "grid_row": null,
      "grid_template_areas": null,
      "grid_template_columns": null,
      "grid_template_rows": null,
      "height": null,
      "justify_content": null,
      "justify_items": null,
      "left": null,
      "margin": null,
      "max_height": null,
      "max_width": null,
      "min_height": null,
      "min_width": null,
      "object_fit": null,
      "object_position": null,
      "order": null,
      "overflow": null,
      "overflow_x": null,
      "overflow_y": null,
      "padding": null,
      "right": null,
      "top": null,
      "visibility": null,
      "width": null
     }
    },
    "2f83bc3c298d46c1aa2bd6c27631b5ec": {
     "model_module": "@jupyter-widgets/controls",
     "model_module_version": "1.5.0",
     "model_name": "HTMLModel",
     "state": {
      "_dom_classes": [],
      "_model_module": "@jupyter-widgets/controls",
      "_model_module_version": "1.5.0",
      "_model_name": "HTMLModel",
      "_view_count": null,
      "_view_module": "@jupyter-widgets/controls",
      "_view_module_version": "1.5.0",
      "_view_name": "HTMLView",
      "description": "",
      "description_tooltip": null,
      "layout": "IPY_MODEL_6b3af90e92224bcfac3a67127e65866b",
      "placeholder": "​",
      "style": "IPY_MODEL_fe71e8a14585414faa209dfcbc1480c9",
      "value": " 48.0/48.0 [00:00&lt;00:00, 2.20kB/s]"
     }
    },
    "3c4908ecc078474baf00b1965dfd6395": {
     "model_module": "@jupyter-widgets/controls",
     "model_module_version": "1.5.0",
     "model_name": "HBoxModel",
     "state": {
      "_dom_classes": [],
      "_model_module": "@jupyter-widgets/controls",
      "_model_module_version": "1.5.0",
      "_model_name": "HBoxModel",
      "_view_count": null,
      "_view_module": "@jupyter-widgets/controls",
      "_view_module_version": "1.5.0",
      "_view_name": "HBoxView",
      "box_style": "",
      "children": [
       "IPY_MODEL_6658842e0bc7486faa9ea6327ffb3a38",
       "IPY_MODEL_57bb3795a10d47be8aa5f22fa0d7ff4c",
       "IPY_MODEL_253ffef5ea19431397e7523136115c6f"
      ],
      "layout": "IPY_MODEL_d563cca42ef14221a2afa9a37a5c25fa"
     }
    },
    "3dd5fa3321ec4b308a2c8d82b927c7a8": {
     "model_module": "@jupyter-widgets/controls",
     "model_module_version": "1.5.0",
     "model_name": "ProgressStyleModel",
     "state": {
      "_model_module": "@jupyter-widgets/controls",
      "_model_module_version": "1.5.0",
      "_model_name": "ProgressStyleModel",
      "_view_count": null,
      "_view_module": "@jupyter-widgets/base",
      "_view_module_version": "1.2.0",
      "_view_name": "StyleView",
      "bar_color": null,
      "description_width": ""
     }
    },
    "45fcd577563d4a0994ed60b315630e15": {
     "model_module": "@jupyter-widgets/controls",
     "model_module_version": "1.5.0",
     "model_name": "HTMLModel",
     "state": {
      "_dom_classes": [],
      "_model_module": "@jupyter-widgets/controls",
      "_model_module_version": "1.5.0",
      "_model_name": "HTMLModel",
      "_view_count": null,
      "_view_module": "@jupyter-widgets/controls",
      "_view_module_version": "1.5.0",
      "_view_name": "HTMLView",
      "description": "",
      "description_tooltip": null,
      "layout": "IPY_MODEL_2b5f717f5c034adebbde3d1b3ca92ff8",
      "placeholder": "​",
      "style": "IPY_MODEL_c731dfaf6b5347359252725424ffab9f",
      "value": "tokenizer.json: 100%"
     }
    },
    "467646914a824ae3b38e7f6dc07c1386": {
     "model_module": "@jupyter-widgets/controls",
     "model_module_version": "1.5.0",
     "model_name": "DescriptionStyleModel",
     "state": {
      "_model_module": "@jupyter-widgets/controls",
      "_model_module_version": "1.5.0",
      "_model_name": "DescriptionStyleModel",
      "_view_count": null,
      "_view_module": "@jupyter-widgets/base",
      "_view_module_version": "1.2.0",
      "_view_name": "StyleView",
      "description_width": ""
     }
    },
    "47c3e2d835a14705b4c43ef0bfeb5164": {
     "model_module": "@jupyter-widgets/controls",
     "model_module_version": "1.5.0",
     "model_name": "ProgressStyleModel",
     "state": {
      "_model_module": "@jupyter-widgets/controls",
      "_model_module_version": "1.5.0",
      "_model_name": "ProgressStyleModel",
      "_view_count": null,
      "_view_module": "@jupyter-widgets/base",
      "_view_module_version": "1.2.0",
      "_view_name": "StyleView",
      "bar_color": null,
      "description_width": ""
     }
    },
    "4b3c75e0aa0c4e12979c0c5c7777e65e": {
     "model_module": "@jupyter-widgets/base",
     "model_module_version": "1.2.0",
     "model_name": "LayoutModel",
     "state": {
      "_model_module": "@jupyter-widgets/base",
      "_model_module_version": "1.2.0",
      "_model_name": "LayoutModel",
      "_view_count": null,
      "_view_module": "@jupyter-widgets/base",
      "_view_module_version": "1.2.0",
      "_view_name": "LayoutView",
      "align_content": null,
      "align_items": null,
      "align_self": null,
      "border": null,
      "bottom": null,
      "display": null,
      "flex": null,
      "flex_flow": null,
      "grid_area": null,
      "grid_auto_columns": null,
      "grid_auto_flow": null,
      "grid_auto_rows": null,
      "grid_column": null,
      "grid_gap": null,
      "grid_row": null,
      "grid_template_areas": null,
      "grid_template_columns": null,
      "grid_template_rows": null,
      "height": null,
      "justify_content": null,
      "justify_items": null,
      "left": null,
      "margin": null,
      "max_height": null,
      "max_width": null,
      "min_height": null,
      "min_width": null,
      "object_fit": null,
      "object_position": null,
      "order": null,
      "overflow": null,
      "overflow_x": null,
      "overflow_y": null,
      "padding": null,
      "right": null,
      "top": null,
      "visibility": null,
      "width": null
     }
    },
    "4dee39607d72404ca17da3a19ca51401": {
     "model_module": "@jupyter-widgets/controls",
     "model_module_version": "1.5.0",
     "model_name": "ProgressStyleModel",
     "state": {
      "_model_module": "@jupyter-widgets/controls",
      "_model_module_version": "1.5.0",
      "_model_name": "ProgressStyleModel",
      "_view_count": null,
      "_view_module": "@jupyter-widgets/base",
      "_view_module_version": "1.2.0",
      "_view_name": "StyleView",
      "bar_color": null,
      "description_width": ""
     }
    },
    "540258638e39457d8fac71558dddfd5a": {
     "model_module": "@jupyter-widgets/controls",
     "model_module_version": "1.5.0",
     "model_name": "DescriptionStyleModel",
     "state": {
      "_model_module": "@jupyter-widgets/controls",
      "_model_module_version": "1.5.0",
      "_model_name": "DescriptionStyleModel",
      "_view_count": null,
      "_view_module": "@jupyter-widgets/base",
      "_view_module_version": "1.2.0",
      "_view_name": "StyleView",
      "description_width": ""
     }
    },
    "549a630783e84ff28502c4274a89290f": {
     "model_module": "@jupyter-widgets/base",
     "model_module_version": "1.2.0",
     "model_name": "LayoutModel",
     "state": {
      "_model_module": "@jupyter-widgets/base",
      "_model_module_version": "1.2.0",
      "_model_name": "LayoutModel",
      "_view_count": null,
      "_view_module": "@jupyter-widgets/base",
      "_view_module_version": "1.2.0",
      "_view_name": "LayoutView",
      "align_content": null,
      "align_items": null,
      "align_self": null,
      "border": null,
      "bottom": null,
      "display": null,
      "flex": null,
      "flex_flow": null,
      "grid_area": null,
      "grid_auto_columns": null,
      "grid_auto_flow": null,
      "grid_auto_rows": null,
      "grid_column": null,
      "grid_gap": null,
      "grid_row": null,
      "grid_template_areas": null,
      "grid_template_columns": null,
      "grid_template_rows": null,
      "height": null,
      "justify_content": null,
      "justify_items": null,
      "left": null,
      "margin": null,
      "max_height": null,
      "max_width": null,
      "min_height": null,
      "min_width": null,
      "object_fit": null,
      "object_position": null,
      "order": null,
      "overflow": null,
      "overflow_x": null,
      "overflow_y": null,
      "padding": null,
      "right": null,
      "top": null,
      "visibility": null,
      "width": null
     }
    },
    "552f02e95221495b84388ffde345bdd4": {
     "model_module": "@jupyter-widgets/controls",
     "model_module_version": "1.5.0",
     "model_name": "HBoxModel",
     "state": {
      "_dom_classes": [],
      "_model_module": "@jupyter-widgets/controls",
      "_model_module_version": "1.5.0",
      "_model_name": "HBoxModel",
      "_view_count": null,
      "_view_module": "@jupyter-widgets/controls",
      "_view_module_version": "1.5.0",
      "_view_name": "HBoxView",
      "box_style": "",
      "children": [
       "IPY_MODEL_f049e1d471584804833045c0d3a53190",
       "IPY_MODEL_d777c2c5885c44f4ad1e44bdbd985955",
       "IPY_MODEL_8abda490020449ac83d7bc6eac69ad1c"
      ],
      "layout": "IPY_MODEL_549a630783e84ff28502c4274a89290f"
     }
    },
    "57bb3795a10d47be8aa5f22fa0d7ff4c": {
     "model_module": "@jupyter-widgets/controls",
     "model_module_version": "1.5.0",
     "model_name": "FloatProgressModel",
     "state": {
      "_dom_classes": [],
      "_model_module": "@jupyter-widgets/controls",
      "_model_module_version": "1.5.0",
      "_model_name": "FloatProgressModel",
      "_view_count": null,
      "_view_module": "@jupyter-widgets/controls",
      "_view_module_version": "1.5.0",
      "_view_name": "ProgressView",
      "bar_style": "success",
      "description": "",
      "description_tooltip": null,
      "layout": "IPY_MODEL_189ed86866564e07a5ec98fa8ab0199e",
      "max": 440449768,
      "min": 0,
      "orientation": "horizontal",
      "style": "IPY_MODEL_3dd5fa3321ec4b308a2c8d82b927c7a8",
      "value": 440449768
     }
    },
    "5fcb0e3a66104a158e55766dee7cb5c1": {
     "model_module": "@jupyter-widgets/base",
     "model_module_version": "1.2.0",
     "model_name": "LayoutModel",
     "state": {
      "_model_module": "@jupyter-widgets/base",
      "_model_module_version": "1.2.0",
      "_model_name": "LayoutModel",
      "_view_count": null,
      "_view_module": "@jupyter-widgets/base",
      "_view_module_version": "1.2.0",
      "_view_name": "LayoutView",
      "align_content": null,
      "align_items": null,
      "align_self": null,
      "border": null,
      "bottom": null,
      "display": null,
      "flex": null,
      "flex_flow": null,
      "grid_area": null,
      "grid_auto_columns": null,
      "grid_auto_flow": null,
      "grid_auto_rows": null,
      "grid_column": null,
      "grid_gap": null,
      "grid_row": null,
      "grid_template_areas": null,
      "grid_template_columns": null,
      "grid_template_rows": null,
      "height": null,
      "justify_content": null,
      "justify_items": null,
      "left": null,
      "margin": null,
      "max_height": null,
      "max_width": null,
      "min_height": null,
      "min_width": null,
      "object_fit": null,
      "object_position": null,
      "order": null,
      "overflow": null,
      "overflow_x": null,
      "overflow_y": null,
      "padding": null,
      "right": null,
      "top": null,
      "visibility": null,
      "width": null
     }
    },
    "60804a73cd5d451c9eabe77aff1caee6": {
     "model_module": "@jupyter-widgets/controls",
     "model_module_version": "1.5.0",
     "model_name": "HTMLModel",
     "state": {
      "_dom_classes": [],
      "_model_module": "@jupyter-widgets/controls",
      "_model_module_version": "1.5.0",
      "_model_name": "HTMLModel",
      "_view_count": null,
      "_view_module": "@jupyter-widgets/controls",
      "_view_module_version": "1.5.0",
      "_view_name": "HTMLView",
      "description": "",
      "description_tooltip": null,
      "layout": "IPY_MODEL_867c14680dd84c998d4e78182b157412",
      "placeholder": "​",
      "style": "IPY_MODEL_b42421fdcf0b412690d59b48bba50198",
      "value": " 466k/466k [00:00&lt;00:00, 679kB/s]"
     }
    },
    "6658842e0bc7486faa9ea6327ffb3a38": {
     "model_module": "@jupyter-widgets/controls",
     "model_module_version": "1.5.0",
     "model_name": "HTMLModel",
     "state": {
      "_dom_classes": [],
      "_model_module": "@jupyter-widgets/controls",
      "_model_module_version": "1.5.0",
      "_model_name": "HTMLModel",
      "_view_count": null,
      "_view_module": "@jupyter-widgets/controls",
      "_view_module_version": "1.5.0",
      "_view_name": "HTMLView",
      "description": "",
      "description_tooltip": null,
      "layout": "IPY_MODEL_caefe7aeb55d462bb43cfc21c00c9434",
      "placeholder": "​",
      "style": "IPY_MODEL_8bf7096d7a0245ef8855df8736446a19",
      "value": "model.safetensors: 100%"
     }
    },
    "68e1360c5a7d430fbe6838ca31a2051e": {
     "model_module": "@jupyter-widgets/controls",
     "model_module_version": "1.5.0",
     "model_name": "ProgressStyleModel",
     "state": {
      "_model_module": "@jupyter-widgets/controls",
      "_model_module_version": "1.5.0",
      "_model_name": "ProgressStyleModel",
      "_view_count": null,
      "_view_module": "@jupyter-widgets/base",
      "_view_module_version": "1.2.0",
      "_view_name": "StyleView",
      "bar_color": null,
      "description_width": ""
     }
    },
    "6b3af90e92224bcfac3a67127e65866b": {
     "model_module": "@jupyter-widgets/base",
     "model_module_version": "1.2.0",
     "model_name": "LayoutModel",
     "state": {
      "_model_module": "@jupyter-widgets/base",
      "_model_module_version": "1.2.0",
      "_model_name": "LayoutModel",
      "_view_count": null,
      "_view_module": "@jupyter-widgets/base",
      "_view_module_version": "1.2.0",
      "_view_name": "LayoutView",
      "align_content": null,
      "align_items": null,
      "align_self": null,
      "border": null,
      "bottom": null,
      "display": null,
      "flex": null,
      "flex_flow": null,
      "grid_area": null,
      "grid_auto_columns": null,
      "grid_auto_flow": null,
      "grid_auto_rows": null,
      "grid_column": null,
      "grid_gap": null,
      "grid_row": null,
      "grid_template_areas": null,
      "grid_template_columns": null,
      "grid_template_rows": null,
      "height": null,
      "justify_content": null,
      "justify_items": null,
      "left": null,
      "margin": null,
      "max_height": null,
      "max_width": null,
      "min_height": null,
      "min_width": null,
      "object_fit": null,
      "object_position": null,
      "order": null,
      "overflow": null,
      "overflow_x": null,
      "overflow_y": null,
      "padding": null,
      "right": null,
      "top": null,
      "visibility": null,
      "width": null
     }
    },
    "6b9fcbb56e9e431a8083d3616aebe5bb": {
     "model_module": "@jupyter-widgets/controls",
     "model_module_version": "1.5.0",
     "model_name": "HBoxModel",
     "state": {
      "_dom_classes": [],
      "_model_module": "@jupyter-widgets/controls",
      "_model_module_version": "1.5.0",
      "_model_name": "HBoxModel",
      "_view_count": null,
      "_view_module": "@jupyter-widgets/controls",
      "_view_module_version": "1.5.0",
      "_view_name": "HBoxView",
      "box_style": "",
      "children": [
       "IPY_MODEL_cfb8a213d79b47a482677b36858aaf12",
       "IPY_MODEL_dcea58e4bc5f4dfab7ca4da94c914a48",
       "IPY_MODEL_2f83bc3c298d46c1aa2bd6c27631b5ec"
      ],
      "layout": "IPY_MODEL_e5223b587f7a4fe3acc7a47e4517e0ef"
     }
    },
    "6cf4dc4bf13a4d5c9186ad447cfc6c11": {
     "model_module": "@jupyter-widgets/base",
     "model_module_version": "1.2.0",
     "model_name": "LayoutModel",
     "state": {
      "_model_module": "@jupyter-widgets/base",
      "_model_module_version": "1.2.0",
      "_model_name": "LayoutModel",
      "_view_count": null,
      "_view_module": "@jupyter-widgets/base",
      "_view_module_version": "1.2.0",
      "_view_name": "LayoutView",
      "align_content": null,
      "align_items": null,
      "align_self": null,
      "border": null,
      "bottom": null,
      "display": null,
      "flex": null,
      "flex_flow": null,
      "grid_area": null,
      "grid_auto_columns": null,
      "grid_auto_flow": null,
      "grid_auto_rows": null,
      "grid_column": null,
      "grid_gap": null,
      "grid_row": null,
      "grid_template_areas": null,
      "grid_template_columns": null,
      "grid_template_rows": null,
      "height": null,
      "justify_content": null,
      "justify_items": null,
      "left": null,
      "margin": null,
      "max_height": null,
      "max_width": null,
      "min_height": null,
      "min_width": null,
      "object_fit": null,
      "object_position": null,
      "order": null,
      "overflow": null,
      "overflow_x": null,
      "overflow_y": null,
      "padding": null,
      "right": null,
      "top": null,
      "visibility": null,
      "width": null
     }
    },
    "76a33986f2f34a7cbf24e1fdcba8e0a3": {
     "model_module": "@jupyter-widgets/base",
     "model_module_version": "1.2.0",
     "model_name": "LayoutModel",
     "state": {
      "_model_module": "@jupyter-widgets/base",
      "_model_module_version": "1.2.0",
      "_model_name": "LayoutModel",
      "_view_count": null,
      "_view_module": "@jupyter-widgets/base",
      "_view_module_version": "1.2.0",
      "_view_name": "LayoutView",
      "align_content": null,
      "align_items": null,
      "align_self": null,
      "border": null,
      "bottom": null,
      "display": null,
      "flex": null,
      "flex_flow": null,
      "grid_area": null,
      "grid_auto_columns": null,
      "grid_auto_flow": null,
      "grid_auto_rows": null,
      "grid_column": null,
      "grid_gap": null,
      "grid_row": null,
      "grid_template_areas": null,
      "grid_template_columns": null,
      "grid_template_rows": null,
      "height": null,
      "justify_content": null,
      "justify_items": null,
      "left": null,
      "margin": null,
      "max_height": null,
      "max_width": null,
      "min_height": null,
      "min_width": null,
      "object_fit": null,
      "object_position": null,
      "order": null,
      "overflow": null,
      "overflow_x": null,
      "overflow_y": null,
      "padding": null,
      "right": null,
      "top": null,
      "visibility": null,
      "width": null
     }
    },
    "7fcac46a1a7c4427b079c9c20c26e332": {
     "model_module": "@jupyter-widgets/base",
     "model_module_version": "1.2.0",
     "model_name": "LayoutModel",
     "state": {
      "_model_module": "@jupyter-widgets/base",
      "_model_module_version": "1.2.0",
      "_model_name": "LayoutModel",
      "_view_count": null,
      "_view_module": "@jupyter-widgets/base",
      "_view_module_version": "1.2.0",
      "_view_name": "LayoutView",
      "align_content": null,
      "align_items": null,
      "align_self": null,
      "border": null,
      "bottom": null,
      "display": null,
      "flex": null,
      "flex_flow": null,
      "grid_area": null,
      "grid_auto_columns": null,
      "grid_auto_flow": null,
      "grid_auto_rows": null,
      "grid_column": null,
      "grid_gap": null,
      "grid_row": null,
      "grid_template_areas": null,
      "grid_template_columns": null,
      "grid_template_rows": null,
      "height": null,
      "justify_content": null,
      "justify_items": null,
      "left": null,
      "margin": null,
      "max_height": null,
      "max_width": null,
      "min_height": null,
      "min_width": null,
      "object_fit": null,
      "object_position": null,
      "order": null,
      "overflow": null,
      "overflow_x": null,
      "overflow_y": null,
      "padding": null,
      "right": null,
      "top": null,
      "visibility": null,
      "width": null
     }
    },
    "80301d5d63014918892b22ca7c90f797": {
     "model_module": "@jupyter-widgets/controls",
     "model_module_version": "1.5.0",
     "model_name": "HBoxModel",
     "state": {
      "_dom_classes": [],
      "_model_module": "@jupyter-widgets/controls",
      "_model_module_version": "1.5.0",
      "_model_name": "HBoxModel",
      "_view_count": null,
      "_view_module": "@jupyter-widgets/controls",
      "_view_module_version": "1.5.0",
      "_view_name": "HBoxView",
      "box_style": "",
      "children": [
       "IPY_MODEL_a28c6b5a1dd44f8898f70c99f2300897",
       "IPY_MODEL_9695bb7f7a6c40c3858b54c38177e269",
       "IPY_MODEL_fff6275657134fb186dbf9ce94edb5e7"
      ],
      "layout": "IPY_MODEL_6cf4dc4bf13a4d5c9186ad447cfc6c11"
     }
    },
    "81f073dbbad346d0bdd80da0da291215": {
     "model_module": "@jupyter-widgets/controls",
     "model_module_version": "1.5.0",
     "model_name": "ProgressStyleModel",
     "state": {
      "_model_module": "@jupyter-widgets/controls",
      "_model_module_version": "1.5.0",
      "_model_name": "ProgressStyleModel",
      "_view_count": null,
      "_view_module": "@jupyter-widgets/base",
      "_view_module_version": "1.2.0",
      "_view_name": "StyleView",
      "bar_color": null,
      "description_width": ""
     }
    },
    "82d0db6dc5dc47d2bb8f78d90d4435ea": {
     "model_module": "@jupyter-widgets/controls",
     "model_module_version": "1.5.0",
     "model_name": "HTMLModel",
     "state": {
      "_dom_classes": [],
      "_model_module": "@jupyter-widgets/controls",
      "_model_module_version": "1.5.0",
      "_model_name": "HTMLModel",
      "_view_count": null,
      "_view_module": "@jupyter-widgets/controls",
      "_view_module_version": "1.5.0",
      "_view_name": "HTMLView",
      "description": "",
      "description_tooltip": null,
      "layout": "IPY_MODEL_f156b5ad06de40728738996ff0442f6c",
      "placeholder": "​",
      "style": "IPY_MODEL_e65d43f9494b41d48bab9a3dc64396b5",
      "value": " 6.34k/6.34k [00:00&lt;00:00, 321kB/s]"
     }
    },
    "83fe433eb5a740e8a2d757e737ffb02a": {
     "model_module": "@jupyter-widgets/base",
     "model_module_version": "1.2.0",
     "model_name": "LayoutModel",
     "state": {
      "_model_module": "@jupyter-widgets/base",
      "_model_module_version": "1.2.0",
      "_model_name": "LayoutModel",
      "_view_count": null,
      "_view_module": "@jupyter-widgets/base",
      "_view_module_version": "1.2.0",
      "_view_name": "LayoutView",
      "align_content": null,
      "align_items": null,
      "align_self": null,
      "border": null,
      "bottom": null,
      "display": null,
      "flex": null,
      "flex_flow": null,
      "grid_area": null,
      "grid_auto_columns": null,
      "grid_auto_flow": null,
      "grid_auto_rows": null,
      "grid_column": null,
      "grid_gap": null,
      "grid_row": null,
      "grid_template_areas": null,
      "grid_template_columns": null,
      "grid_template_rows": null,
      "height": null,
      "justify_content": null,
      "justify_items": null,
      "left": null,
      "margin": null,
      "max_height": null,
      "max_width": null,
      "min_height": null,
      "min_width": null,
      "object_fit": null,
      "object_position": null,
      "order": null,
      "overflow": null,
      "overflow_x": null,
      "overflow_y": null,
      "padding": null,
      "right": null,
      "top": null,
      "visibility": null,
      "width": null
     }
    },
    "84732dfba1504220b50c0a035fe2a867": {
     "model_module": "@jupyter-widgets/base",
     "model_module_version": "1.2.0",
     "model_name": "LayoutModel",
     "state": {
      "_model_module": "@jupyter-widgets/base",
      "_model_module_version": "1.2.0",
      "_model_name": "LayoutModel",
      "_view_count": null,
      "_view_module": "@jupyter-widgets/base",
      "_view_module_version": "1.2.0",
      "_view_name": "LayoutView",
      "align_content": null,
      "align_items": null,
      "align_self": null,
      "border": null,
      "bottom": null,
      "display": null,
      "flex": null,
      "flex_flow": null,
      "grid_area": null,
      "grid_auto_columns": null,
      "grid_auto_flow": null,
      "grid_auto_rows": null,
      "grid_column": null,
      "grid_gap": null,
      "grid_row": null,
      "grid_template_areas": null,
      "grid_template_columns": null,
      "grid_template_rows": null,
      "height": null,
      "justify_content": null,
      "justify_items": null,
      "left": null,
      "margin": null,
      "max_height": null,
      "max_width": null,
      "min_height": null,
      "min_width": null,
      "object_fit": null,
      "object_position": null,
      "order": null,
      "overflow": null,
      "overflow_x": null,
      "overflow_y": null,
      "padding": null,
      "right": null,
      "top": null,
      "visibility": null,
      "width": null
     }
    },
    "867c14680dd84c998d4e78182b157412": {
     "model_module": "@jupyter-widgets/base",
     "model_module_version": "1.2.0",
     "model_name": "LayoutModel",
     "state": {
      "_model_module": "@jupyter-widgets/base",
      "_model_module_version": "1.2.0",
      "_model_name": "LayoutModel",
      "_view_count": null,
      "_view_module": "@jupyter-widgets/base",
      "_view_module_version": "1.2.0",
      "_view_name": "LayoutView",
      "align_content": null,
      "align_items": null,
      "align_self": null,
      "border": null,
      "bottom": null,
      "display": null,
      "flex": null,
      "flex_flow": null,
      "grid_area": null,
      "grid_auto_columns": null,
      "grid_auto_flow": null,
      "grid_auto_rows": null,
      "grid_column": null,
      "grid_gap": null,
      "grid_row": null,
      "grid_template_areas": null,
      "grid_template_columns": null,
      "grid_template_rows": null,
      "height": null,
      "justify_content": null,
      "justify_items": null,
      "left": null,
      "margin": null,
      "max_height": null,
      "max_width": null,
      "min_height": null,
      "min_width": null,
      "object_fit": null,
      "object_position": null,
      "order": null,
      "overflow": null,
      "overflow_x": null,
      "overflow_y": null,
      "padding": null,
      "right": null,
      "top": null,
      "visibility": null,
      "width": null
     }
    },
    "87d8ba475c864548bce8051a4a267d64": {
     "model_module": "@jupyter-widgets/controls",
     "model_module_version": "1.5.0",
     "model_name": "HBoxModel",
     "state": {
      "_dom_classes": [],
      "_model_module": "@jupyter-widgets/controls",
      "_model_module_version": "1.5.0",
      "_model_name": "HBoxModel",
      "_view_count": null,
      "_view_module": "@jupyter-widgets/controls",
      "_view_module_version": "1.5.0",
      "_view_name": "HBoxView",
      "box_style": "",
      "children": [
       "IPY_MODEL_f46fe6fe3a5241ff9f03435d818bcb44",
       "IPY_MODEL_8ef33d7c57634d48a358f03024a9b19d",
       "IPY_MODEL_82d0db6dc5dc47d2bb8f78d90d4435ea"
      ],
      "layout": "IPY_MODEL_ca6ece53230d4e95b03f421305475ea3"
     }
    },
    "8abda490020449ac83d7bc6eac69ad1c": {
     "model_module": "@jupyter-widgets/controls",
     "model_module_version": "1.5.0",
     "model_name": "HTMLModel",
     "state": {
      "_dom_classes": [],
      "_model_module": "@jupyter-widgets/controls",
      "_model_module_version": "1.5.0",
      "_model_name": "HTMLModel",
      "_view_count": null,
      "_view_module": "@jupyter-widgets/controls",
      "_view_module_version": "1.5.0",
      "_view_name": "HTMLView",
      "description": "",
      "description_tooltip": null,
      "layout": "IPY_MODEL_d773da0a0b624b57b4e2f32c74089f4c",
      "placeholder": "​",
      "style": "IPY_MODEL_19a77db2b9a543dba098bdc392ebce3e",
      "value": " 232k/232k [00:00&lt;00:00, 968kB/s]"
     }
    },
    "8bf7096d7a0245ef8855df8736446a19": {
     "model_module": "@jupyter-widgets/controls",
     "model_module_version": "1.5.0",
     "model_name": "DescriptionStyleModel",
     "state": {
      "_model_module": "@jupyter-widgets/controls",
      "_model_module_version": "1.5.0",
      "_model_name": "DescriptionStyleModel",
      "_view_count": null,
      "_view_module": "@jupyter-widgets/base",
      "_view_module_version": "1.2.0",
      "_view_name": "StyleView",
      "description_width": ""
     }
    },
    "8ef33d7c57634d48a358f03024a9b19d": {
     "model_module": "@jupyter-widgets/controls",
     "model_module_version": "1.5.0",
     "model_name": "FloatProgressModel",
     "state": {
      "_dom_classes": [],
      "_model_module": "@jupyter-widgets/controls",
      "_model_module_version": "1.5.0",
      "_model_name": "FloatProgressModel",
      "_view_count": null,
      "_view_module": "@jupyter-widgets/controls",
      "_view_module_version": "1.5.0",
      "_view_name": "ProgressView",
      "bar_style": "success",
      "description": "",
      "description_tooltip": null,
      "layout": "IPY_MODEL_236d0a73cb664333bce246649e4ccb2b",
      "max": 6338,
      "min": 0,
      "orientation": "horizontal",
      "style": "IPY_MODEL_68e1360c5a7d430fbe6838ca31a2051e",
      "value": 6338
     }
    },
    "94fb091ac8564a62ad754e3d4a7f5d96": {
     "model_module": "@jupyter-widgets/base",
     "model_module_version": "1.2.0",
     "model_name": "LayoutModel",
     "state": {
      "_model_module": "@jupyter-widgets/base",
      "_model_module_version": "1.2.0",
      "_model_name": "LayoutModel",
      "_view_count": null,
      "_view_module": "@jupyter-widgets/base",
      "_view_module_version": "1.2.0",
      "_view_name": "LayoutView",
      "align_content": null,
      "align_items": null,
      "align_self": null,
      "border": null,
      "bottom": null,
      "display": null,
      "flex": null,
      "flex_flow": null,
      "grid_area": null,
      "grid_auto_columns": null,
      "grid_auto_flow": null,
      "grid_auto_rows": null,
      "grid_column": null,
      "grid_gap": null,
      "grid_row": null,
      "grid_template_areas": null,
      "grid_template_columns": null,
      "grid_template_rows": null,
      "height": null,
      "justify_content": null,
      "justify_items": null,
      "left": null,
      "margin": null,
      "max_height": null,
      "max_width": null,
      "min_height": null,
      "min_width": null,
      "object_fit": null,
      "object_position": null,
      "order": null,
      "overflow": null,
      "overflow_x": null,
      "overflow_y": null,
      "padding": null,
      "right": null,
      "top": null,
      "visibility": null,
      "width": null
     }
    },
    "9695bb7f7a6c40c3858b54c38177e269": {
     "model_module": "@jupyter-widgets/controls",
     "model_module_version": "1.5.0",
     "model_name": "FloatProgressModel",
     "state": {
      "_dom_classes": [],
      "_model_module": "@jupyter-widgets/controls",
      "_model_module_version": "1.5.0",
      "_model_name": "FloatProgressModel",
      "_view_count": null,
      "_view_module": "@jupyter-widgets/controls",
      "_view_module_version": "1.5.0",
      "_view_name": "ProgressView",
      "bar_style": "success",
      "description": "",
      "description_tooltip": null,
      "layout": "IPY_MODEL_4b3c75e0aa0c4e12979c0c5c7777e65e",
      "max": 570,
      "min": 0,
      "orientation": "horizontal",
      "style": "IPY_MODEL_4dee39607d72404ca17da3a19ca51401",
      "value": 570
     }
    },
    "a28c6b5a1dd44f8898f70c99f2300897": {
     "model_module": "@jupyter-widgets/controls",
     "model_module_version": "1.5.0",
     "model_name": "HTMLModel",
     "state": {
      "_dom_classes": [],
      "_model_module": "@jupyter-widgets/controls",
      "_model_module_version": "1.5.0",
      "_model_name": "HTMLModel",
      "_view_count": null,
      "_view_module": "@jupyter-widgets/controls",
      "_view_module_version": "1.5.0",
      "_view_name": "HTMLView",
      "description": "",
      "description_tooltip": null,
      "layout": "IPY_MODEL_5fcb0e3a66104a158e55766dee7cb5c1",
      "placeholder": "​",
      "style": "IPY_MODEL_467646914a824ae3b38e7f6dc07c1386",
      "value": "config.json: 100%"
     }
    },
    "b42421fdcf0b412690d59b48bba50198": {
     "model_module": "@jupyter-widgets/controls",
     "model_module_version": "1.5.0",
     "model_name": "DescriptionStyleModel",
     "state": {
      "_model_module": "@jupyter-widgets/controls",
      "_model_module_version": "1.5.0",
      "_model_name": "DescriptionStyleModel",
      "_view_count": null,
      "_view_module": "@jupyter-widgets/base",
      "_view_module_version": "1.2.0",
      "_view_name": "StyleView",
      "description_width": ""
     }
    },
    "b9741ed54f864f768ef5c6671b45c09a": {
     "model_module": "@jupyter-widgets/controls",
     "model_module_version": "1.5.0",
     "model_name": "DescriptionStyleModel",
     "state": {
      "_model_module": "@jupyter-widgets/controls",
      "_model_module_version": "1.5.0",
      "_model_name": "DescriptionStyleModel",
      "_view_count": null,
      "_view_module": "@jupyter-widgets/base",
      "_view_module_version": "1.2.0",
      "_view_name": "StyleView",
      "description_width": ""
     }
    },
    "b98f5dfbc081443b8a2a2d2ecd080b87": {
     "model_module": "@jupyter-widgets/controls",
     "model_module_version": "1.5.0",
     "model_name": "HBoxModel",
     "state": {
      "_dom_classes": [],
      "_model_module": "@jupyter-widgets/controls",
      "_model_module_version": "1.5.0",
      "_model_name": "HBoxModel",
      "_view_count": null,
      "_view_module": "@jupyter-widgets/controls",
      "_view_module_version": "1.5.0",
      "_view_name": "HBoxView",
      "box_style": "",
      "children": [
       "IPY_MODEL_45fcd577563d4a0994ed60b315630e15",
       "IPY_MODEL_bf32fb234aad4ce09d3e05a378eb45b7",
       "IPY_MODEL_60804a73cd5d451c9eabe77aff1caee6"
      ],
      "layout": "IPY_MODEL_be8f96f6345044078462c1f0fdc4a33e"
     }
    },
    "be8f96f6345044078462c1f0fdc4a33e": {
     "model_module": "@jupyter-widgets/base",
     "model_module_version": "1.2.0",
     "model_name": "LayoutModel",
     "state": {
      "_model_module": "@jupyter-widgets/base",
      "_model_module_version": "1.2.0",
      "_model_name": "LayoutModel",
      "_view_count": null,
      "_view_module": "@jupyter-widgets/base",
      "_view_module_version": "1.2.0",
      "_view_name": "LayoutView",
      "align_content": null,
      "align_items": null,
      "align_self": null,
      "border": null,
      "bottom": null,
      "display": null,
      "flex": null,
      "flex_flow": null,
      "grid_area": null,
      "grid_auto_columns": null,
      "grid_auto_flow": null,
      "grid_auto_rows": null,
      "grid_column": null,
      "grid_gap": null,
      "grid_row": null,
      "grid_template_areas": null,
      "grid_template_columns": null,
      "grid_template_rows": null,
      "height": null,
      "justify_content": null,
      "justify_items": null,
      "left": null,
      "margin": null,
      "max_height": null,
      "max_width": null,
      "min_height": null,
      "min_width": null,
      "object_fit": null,
      "object_position": null,
      "order": null,
      "overflow": null,
      "overflow_x": null,
      "overflow_y": null,
      "padding": null,
      "right": null,
      "top": null,
      "visibility": null,
      "width": null
     }
    },
    "bf32fb234aad4ce09d3e05a378eb45b7": {
     "model_module": "@jupyter-widgets/controls",
     "model_module_version": "1.5.0",
     "model_name": "FloatProgressModel",
     "state": {
      "_dom_classes": [],
      "_model_module": "@jupyter-widgets/controls",
      "_model_module_version": "1.5.0",
      "_model_name": "FloatProgressModel",
      "_view_count": null,
      "_view_module": "@jupyter-widgets/controls",
      "_view_module_version": "1.5.0",
      "_view_name": "ProgressView",
      "bar_style": "success",
      "description": "",
      "description_tooltip": null,
      "layout": "IPY_MODEL_1394ff47d34c4d6d8ed2010a83b09648",
      "max": 466062,
      "min": 0,
      "orientation": "horizontal",
      "style": "IPY_MODEL_47c3e2d835a14705b4c43ef0bfeb5164",
      "value": 466062
     }
    },
    "c731dfaf6b5347359252725424ffab9f": {
     "model_module": "@jupyter-widgets/controls",
     "model_module_version": "1.5.0",
     "model_name": "DescriptionStyleModel",
     "state": {
      "_model_module": "@jupyter-widgets/controls",
      "_model_module_version": "1.5.0",
      "_model_name": "DescriptionStyleModel",
      "_view_count": null,
      "_view_module": "@jupyter-widgets/base",
      "_view_module_version": "1.2.0",
      "_view_name": "StyleView",
      "description_width": ""
     }
    },
    "ca6ece53230d4e95b03f421305475ea3": {
     "model_module": "@jupyter-widgets/base",
     "model_module_version": "1.2.0",
     "model_name": "LayoutModel",
     "state": {
      "_model_module": "@jupyter-widgets/base",
      "_model_module_version": "1.2.0",
      "_model_name": "LayoutModel",
      "_view_count": null,
      "_view_module": "@jupyter-widgets/base",
      "_view_module_version": "1.2.0",
      "_view_name": "LayoutView",
      "align_content": null,
      "align_items": null,
      "align_self": null,
      "border": null,
      "bottom": null,
      "display": null,
      "flex": null,
      "flex_flow": null,
      "grid_area": null,
      "grid_auto_columns": null,
      "grid_auto_flow": null,
      "grid_auto_rows": null,
      "grid_column": null,
      "grid_gap": null,
      "grid_row": null,
      "grid_template_areas": null,
      "grid_template_columns": null,
      "grid_template_rows": null,
      "height": null,
      "justify_content": null,
      "justify_items": null,
      "left": null,
      "margin": null,
      "max_height": null,
      "max_width": null,
      "min_height": null,
      "min_width": null,
      "object_fit": null,
      "object_position": null,
      "order": null,
      "overflow": null,
      "overflow_x": null,
      "overflow_y": null,
      "padding": null,
      "right": null,
      "top": null,
      "visibility": null,
      "width": null
     }
    },
    "caefe7aeb55d462bb43cfc21c00c9434": {
     "model_module": "@jupyter-widgets/base",
     "model_module_version": "1.2.0",
     "model_name": "LayoutModel",
     "state": {
      "_model_module": "@jupyter-widgets/base",
      "_model_module_version": "1.2.0",
      "_model_name": "LayoutModel",
      "_view_count": null,
      "_view_module": "@jupyter-widgets/base",
      "_view_module_version": "1.2.0",
      "_view_name": "LayoutView",
      "align_content": null,
      "align_items": null,
      "align_self": null,
      "border": null,
      "bottom": null,
      "display": null,
      "flex": null,
      "flex_flow": null,
      "grid_area": null,
      "grid_auto_columns": null,
      "grid_auto_flow": null,
      "grid_auto_rows": null,
      "grid_column": null,
      "grid_gap": null,
      "grid_row": null,
      "grid_template_areas": null,
      "grid_template_columns": null,
      "grid_template_rows": null,
      "height": null,
      "justify_content": null,
      "justify_items": null,
      "left": null,
      "margin": null,
      "max_height": null,
      "max_width": null,
      "min_height": null,
      "min_width": null,
      "object_fit": null,
      "object_position": null,
      "order": null,
      "overflow": null,
      "overflow_x": null,
      "overflow_y": null,
      "padding": null,
      "right": null,
      "top": null,
      "visibility": null,
      "width": null
     }
    },
    "cfb8a213d79b47a482677b36858aaf12": {
     "model_module": "@jupyter-widgets/controls",
     "model_module_version": "1.5.0",
     "model_name": "HTMLModel",
     "state": {
      "_dom_classes": [],
      "_model_module": "@jupyter-widgets/controls",
      "_model_module_version": "1.5.0",
      "_model_name": "HTMLModel",
      "_view_count": null,
      "_view_module": "@jupyter-widgets/controls",
      "_view_module_version": "1.5.0",
      "_view_name": "HTMLView",
      "description": "",
      "description_tooltip": null,
      "layout": "IPY_MODEL_76a33986f2f34a7cbf24e1fdcba8e0a3",
      "placeholder": "​",
      "style": "IPY_MODEL_2ada89d80cf940be9f807c3655393ce9",
      "value": "tokenizer_config.json: 100%"
     }
    },
    "d563cca42ef14221a2afa9a37a5c25fa": {
     "model_module": "@jupyter-widgets/base",
     "model_module_version": "1.2.0",
     "model_name": "LayoutModel",
     "state": {
      "_model_module": "@jupyter-widgets/base",
      "_model_module_version": "1.2.0",
      "_model_name": "LayoutModel",
      "_view_count": null,
      "_view_module": "@jupyter-widgets/base",
      "_view_module_version": "1.2.0",
      "_view_name": "LayoutView",
      "align_content": null,
      "align_items": null,
      "align_self": null,
      "border": null,
      "bottom": null,
      "display": null,
      "flex": null,
      "flex_flow": null,
      "grid_area": null,
      "grid_auto_columns": null,
      "grid_auto_flow": null,
      "grid_auto_rows": null,
      "grid_column": null,
      "grid_gap": null,
      "grid_row": null,
      "grid_template_areas": null,
      "grid_template_columns": null,
      "grid_template_rows": null,
      "height": null,
      "justify_content": null,
      "justify_items": null,
      "left": null,
      "margin": null,
      "max_height": null,
      "max_width": null,
      "min_height": null,
      "min_width": null,
      "object_fit": null,
      "object_position": null,
      "order": null,
      "overflow": null,
      "overflow_x": null,
      "overflow_y": null,
      "padding": null,
      "right": null,
      "top": null,
      "visibility": null,
      "width": null
     }
    },
    "d773da0a0b624b57b4e2f32c74089f4c": {
     "model_module": "@jupyter-widgets/base",
     "model_module_version": "1.2.0",
     "model_name": "LayoutModel",
     "state": {
      "_model_module": "@jupyter-widgets/base",
      "_model_module_version": "1.2.0",
      "_model_name": "LayoutModel",
      "_view_count": null,
      "_view_module": "@jupyter-widgets/base",
      "_view_module_version": "1.2.0",
      "_view_name": "LayoutView",
      "align_content": null,
      "align_items": null,
      "align_self": null,
      "border": null,
      "bottom": null,
      "display": null,
      "flex": null,
      "flex_flow": null,
      "grid_area": null,
      "grid_auto_columns": null,
      "grid_auto_flow": null,
      "grid_auto_rows": null,
      "grid_column": null,
      "grid_gap": null,
      "grid_row": null,
      "grid_template_areas": null,
      "grid_template_columns": null,
      "grid_template_rows": null,
      "height": null,
      "justify_content": null,
      "justify_items": null,
      "left": null,
      "margin": null,
      "max_height": null,
      "max_width": null,
      "min_height": null,
      "min_width": null,
      "object_fit": null,
      "object_position": null,
      "order": null,
      "overflow": null,
      "overflow_x": null,
      "overflow_y": null,
      "padding": null,
      "right": null,
      "top": null,
      "visibility": null,
      "width": null
     }
    },
    "d777c2c5885c44f4ad1e44bdbd985955": {
     "model_module": "@jupyter-widgets/controls",
     "model_module_version": "1.5.0",
     "model_name": "FloatProgressModel",
     "state": {
      "_dom_classes": [],
      "_model_module": "@jupyter-widgets/controls",
      "_model_module_version": "1.5.0",
      "_model_name": "FloatProgressModel",
      "_view_count": null,
      "_view_module": "@jupyter-widgets/controls",
      "_view_module_version": "1.5.0",
      "_view_name": "ProgressView",
      "bar_style": "success",
      "description": "",
      "description_tooltip": null,
      "layout": "IPY_MODEL_94fb091ac8564a62ad754e3d4a7f5d96",
      "max": 231508,
      "min": 0,
      "orientation": "horizontal",
      "style": "IPY_MODEL_e79c6d54287d41ffbc443b5d614e5433",
      "value": 231508
     }
    },
    "dcea58e4bc5f4dfab7ca4da94c914a48": {
     "model_module": "@jupyter-widgets/controls",
     "model_module_version": "1.5.0",
     "model_name": "FloatProgressModel",
     "state": {
      "_dom_classes": [],
      "_model_module": "@jupyter-widgets/controls",
      "_model_module_version": "1.5.0",
      "_model_name": "FloatProgressModel",
      "_view_count": null,
      "_view_module": "@jupyter-widgets/controls",
      "_view_module_version": "1.5.0",
      "_view_name": "ProgressView",
      "bar_style": "success",
      "description": "",
      "description_tooltip": null,
      "layout": "IPY_MODEL_1fc43ed603804ea08e8db0d13937b079",
      "max": 48,
      "min": 0,
      "orientation": "horizontal",
      "style": "IPY_MODEL_81f073dbbad346d0bdd80da0da291215",
      "value": 48
     }
    },
    "e5223b587f7a4fe3acc7a47e4517e0ef": {
     "model_module": "@jupyter-widgets/base",
     "model_module_version": "1.2.0",
     "model_name": "LayoutModel",
     "state": {
      "_model_module": "@jupyter-widgets/base",
      "_model_module_version": "1.2.0",
      "_model_name": "LayoutModel",
      "_view_count": null,
      "_view_module": "@jupyter-widgets/base",
      "_view_module_version": "1.2.0",
      "_view_name": "LayoutView",
      "align_content": null,
      "align_items": null,
      "align_self": null,
      "border": null,
      "bottom": null,
      "display": null,
      "flex": null,
      "flex_flow": null,
      "grid_area": null,
      "grid_auto_columns": null,
      "grid_auto_flow": null,
      "grid_auto_rows": null,
      "grid_column": null,
      "grid_gap": null,
      "grid_row": null,
      "grid_template_areas": null,
      "grid_template_columns": null,
      "grid_template_rows": null,
      "height": null,
      "justify_content": null,
      "justify_items": null,
      "left": null,
      "margin": null,
      "max_height": null,
      "max_width": null,
      "min_height": null,
      "min_width": null,
      "object_fit": null,
      "object_position": null,
      "order": null,
      "overflow": null,
      "overflow_x": null,
      "overflow_y": null,
      "padding": null,
      "right": null,
      "top": null,
      "visibility": null,
      "width": null
     }
    },
    "e65d43f9494b41d48bab9a3dc64396b5": {
     "model_module": "@jupyter-widgets/controls",
     "model_module_version": "1.5.0",
     "model_name": "DescriptionStyleModel",
     "state": {
      "_model_module": "@jupyter-widgets/controls",
      "_model_module_version": "1.5.0",
      "_model_name": "DescriptionStyleModel",
      "_view_count": null,
      "_view_module": "@jupyter-widgets/base",
      "_view_module_version": "1.2.0",
      "_view_name": "StyleView",
      "description_width": ""
     }
    },
    "e723ef6487874645bdbc5307027fdaa1": {
     "model_module": "@jupyter-widgets/base",
     "model_module_version": "1.2.0",
     "model_name": "LayoutModel",
     "state": {
      "_model_module": "@jupyter-widgets/base",
      "_model_module_version": "1.2.0",
      "_model_name": "LayoutModel",
      "_view_count": null,
      "_view_module": "@jupyter-widgets/base",
      "_view_module_version": "1.2.0",
      "_view_name": "LayoutView",
      "align_content": null,
      "align_items": null,
      "align_self": null,
      "border": null,
      "bottom": null,
      "display": null,
      "flex": null,
      "flex_flow": null,
      "grid_area": null,
      "grid_auto_columns": null,
      "grid_auto_flow": null,
      "grid_auto_rows": null,
      "grid_column": null,
      "grid_gap": null,
      "grid_row": null,
      "grid_template_areas": null,
      "grid_template_columns": null,
      "grid_template_rows": null,
      "height": null,
      "justify_content": null,
      "justify_items": null,
      "left": null,
      "margin": null,
      "max_height": null,
      "max_width": null,
      "min_height": null,
      "min_width": null,
      "object_fit": null,
      "object_position": null,
      "order": null,
      "overflow": null,
      "overflow_x": null,
      "overflow_y": null,
      "padding": null,
      "right": null,
      "top": null,
      "visibility": null,
      "width": null
     }
    },
    "e79c6d54287d41ffbc443b5d614e5433": {
     "model_module": "@jupyter-widgets/controls",
     "model_module_version": "1.5.0",
     "model_name": "ProgressStyleModel",
     "state": {
      "_model_module": "@jupyter-widgets/controls",
      "_model_module_version": "1.5.0",
      "_model_name": "ProgressStyleModel",
      "_view_count": null,
      "_view_module": "@jupyter-widgets/base",
      "_view_module_version": "1.2.0",
      "_view_name": "StyleView",
      "bar_color": null,
      "description_width": ""
     }
    },
    "f049e1d471584804833045c0d3a53190": {
     "model_module": "@jupyter-widgets/controls",
     "model_module_version": "1.5.0",
     "model_name": "HTMLModel",
     "state": {
      "_dom_classes": [],
      "_model_module": "@jupyter-widgets/controls",
      "_model_module_version": "1.5.0",
      "_model_name": "HTMLModel",
      "_view_count": null,
      "_view_module": "@jupyter-widgets/controls",
      "_view_module_version": "1.5.0",
      "_view_name": "HTMLView",
      "description": "",
      "description_tooltip": null,
      "layout": "IPY_MODEL_83fe433eb5a740e8a2d757e737ffb02a",
      "placeholder": "​",
      "style": "IPY_MODEL_f0805c6a2de64e699fad5c3b1d99cc3b",
      "value": "vocab.txt: 100%"
     }
    },
    "f0805c6a2de64e699fad5c3b1d99cc3b": {
     "model_module": "@jupyter-widgets/controls",
     "model_module_version": "1.5.0",
     "model_name": "DescriptionStyleModel",
     "state": {
      "_model_module": "@jupyter-widgets/controls",
      "_model_module_version": "1.5.0",
      "_model_name": "DescriptionStyleModel",
      "_view_count": null,
      "_view_module": "@jupyter-widgets/base",
      "_view_module_version": "1.2.0",
      "_view_name": "StyleView",
      "description_width": ""
     }
    },
    "f156b5ad06de40728738996ff0442f6c": {
     "model_module": "@jupyter-widgets/base",
     "model_module_version": "1.2.0",
     "model_name": "LayoutModel",
     "state": {
      "_model_module": "@jupyter-widgets/base",
      "_model_module_version": "1.2.0",
      "_model_name": "LayoutModel",
      "_view_count": null,
      "_view_module": "@jupyter-widgets/base",
      "_view_module_version": "1.2.0",
      "_view_name": "LayoutView",
      "align_content": null,
      "align_items": null,
      "align_self": null,
      "border": null,
      "bottom": null,
      "display": null,
      "flex": null,
      "flex_flow": null,
      "grid_area": null,
      "grid_auto_columns": null,
      "grid_auto_flow": null,
      "grid_auto_rows": null,
      "grid_column": null,
      "grid_gap": null,
      "grid_row": null,
      "grid_template_areas": null,
      "grid_template_columns": null,
      "grid_template_rows": null,
      "height": null,
      "justify_content": null,
      "justify_items": null,
      "left": null,
      "margin": null,
      "max_height": null,
      "max_width": null,
      "min_height": null,
      "min_width": null,
      "object_fit": null,
      "object_position": null,
      "order": null,
      "overflow": null,
      "overflow_x": null,
      "overflow_y": null,
      "padding": null,
      "right": null,
      "top": null,
      "visibility": null,
      "width": null
     }
    },
    "f46fe6fe3a5241ff9f03435d818bcb44": {
     "model_module": "@jupyter-widgets/controls",
     "model_module_version": "1.5.0",
     "model_name": "HTMLModel",
     "state": {
      "_dom_classes": [],
      "_model_module": "@jupyter-widgets/controls",
      "_model_module_version": "1.5.0",
      "_model_name": "HTMLModel",
      "_view_count": null,
      "_view_module": "@jupyter-widgets/controls",
      "_view_module_version": "1.5.0",
      "_view_name": "HTMLView",
      "description": "",
      "description_tooltip": null,
      "layout": "IPY_MODEL_84732dfba1504220b50c0a035fe2a867",
      "placeholder": "​",
      "style": "IPY_MODEL_b9741ed54f864f768ef5c6671b45c09a",
      "value": "Downloading builder script: 100%"
     }
    },
    "fe71e8a14585414faa209dfcbc1480c9": {
     "model_module": "@jupyter-widgets/controls",
     "model_module_version": "1.5.0",
     "model_name": "DescriptionStyleModel",
     "state": {
      "_model_module": "@jupyter-widgets/controls",
      "_model_module_version": "1.5.0",
      "_model_name": "DescriptionStyleModel",
      "_view_count": null,
      "_view_module": "@jupyter-widgets/base",
      "_view_module_version": "1.2.0",
      "_view_name": "StyleView",
      "description_width": ""
     }
    },
    "fff6275657134fb186dbf9ce94edb5e7": {
     "model_module": "@jupyter-widgets/controls",
     "model_module_version": "1.5.0",
     "model_name": "HTMLModel",
     "state": {
      "_dom_classes": [],
      "_model_module": "@jupyter-widgets/controls",
      "_model_module_version": "1.5.0",
      "_model_name": "HTMLModel",
      "_view_count": null,
      "_view_module": "@jupyter-widgets/controls",
      "_view_module_version": "1.5.0",
      "_view_name": "HTMLView",
      "description": "",
      "description_tooltip": null,
      "layout": "IPY_MODEL_7fcac46a1a7c4427b079c9c20c26e332",
      "placeholder": "​",
      "style": "IPY_MODEL_540258638e39457d8fac71558dddfd5a",
      "value": " 570/570 [00:00&lt;00:00, 41.0kB/s]"
     }
    }
   }
  }
 },
 "nbformat": 4,
 "nbformat_minor": 5
}
