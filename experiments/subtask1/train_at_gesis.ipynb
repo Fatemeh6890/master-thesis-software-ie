{
 "cells": [
  {
   "cell_type": "code",
   "execution_count": 1,
   "id": "92bccaa2-a515-4668-a21d-da4794789b95",
   "metadata": {
    "id": "85f55051"
   },
   "outputs": [
    {
     "name": "stdout",
     "output_type": "stream",
     "text": [
      "env: CUDA_VISIBLE_DEVICES=7\n"
     ]
    }
   ],
   "source": [
    "%env CUDA_VISIBLE_DEVICES=7"
   ]
  },
  {
   "cell_type": "code",
   "execution_count": null,
   "id": "90bd5225-ea5a-47ec-a11c-12c1a4755615",
   "metadata": {
    "colab": {
     "base_uri": "https://localhost:8080/",
     "height": 301,
     "referenced_widgets": [
      "6b9fcbb56e9e431a8083d3616aebe5bb",
      "cfb8a213d79b47a482677b36858aaf12",
      "dcea58e4bc5f4dfab7ca4da94c914a48",
      "2f83bc3c298d46c1aa2bd6c27631b5ec",
      "e5223b587f7a4fe3acc7a47e4517e0ef",
      "76a33986f2f34a7cbf24e1fdcba8e0a3",
      "2ada89d80cf940be9f807c3655393ce9",
      "1fc43ed603804ea08e8db0d13937b079",
      "81f073dbbad346d0bdd80da0da291215",
      "6b3af90e92224bcfac3a67127e65866b",
      "fe71e8a14585414faa209dfcbc1480c9",
      "552f02e95221495b84388ffde345bdd4",
      "f049e1d471584804833045c0d3a53190",
      "d777c2c5885c44f4ad1e44bdbd985955",
      "8abda490020449ac83d7bc6eac69ad1c",
      "549a630783e84ff28502c4274a89290f",
      "83fe433eb5a740e8a2d757e737ffb02a",
      "f0805c6a2de64e699fad5c3b1d99cc3b",
      "94fb091ac8564a62ad754e3d4a7f5d96",
      "e79c6d54287d41ffbc443b5d614e5433",
      "d773da0a0b624b57b4e2f32c74089f4c",
      "19a77db2b9a543dba098bdc392ebce3e",
      "b98f5dfbc081443b8a2a2d2ecd080b87",
      "45fcd577563d4a0994ed60b315630e15",
      "bf32fb234aad4ce09d3e05a378eb45b7",
      "60804a73cd5d451c9eabe77aff1caee6",
      "be8f96f6345044078462c1f0fdc4a33e",
      "2b5f717f5c034adebbde3d1b3ca92ff8",
      "c731dfaf6b5347359252725424ffab9f",
      "1394ff47d34c4d6d8ed2010a83b09648",
      "47c3e2d835a14705b4c43ef0bfeb5164",
      "867c14680dd84c998d4e78182b157412",
      "b42421fdcf0b412690d59b48bba50198",
      "80301d5d63014918892b22ca7c90f797",
      "a28c6b5a1dd44f8898f70c99f2300897",
      "9695bb7f7a6c40c3858b54c38177e269",
      "fff6275657134fb186dbf9ce94edb5e7",
      "6cf4dc4bf13a4d5c9186ad447cfc6c11",
      "5fcb0e3a66104a158e55766dee7cb5c1",
      "467646914a824ae3b38e7f6dc07c1386",
      "4b3c75e0aa0c4e12979c0c5c7777e65e",
      "4dee39607d72404ca17da3a19ca51401",
      "7fcac46a1a7c4427b079c9c20c26e332",
      "540258638e39457d8fac71558dddfd5a",
      "87d8ba475c864548bce8051a4a267d64",
      "f46fe6fe3a5241ff9f03435d818bcb44",
      "8ef33d7c57634d48a358f03024a9b19d",
      "82d0db6dc5dc47d2bb8f78d90d4435ea",
      "ca6ece53230d4e95b03f421305475ea3",
      "84732dfba1504220b50c0a035fe2a867",
      "b9741ed54f864f768ef5c6671b45c09a",
      "236d0a73cb664333bce246649e4ccb2b",
      "68e1360c5a7d430fbe6838ca31a2051e",
      "f156b5ad06de40728738996ff0442f6c",
      "e65d43f9494b41d48bab9a3dc64396b5"
     ]
    },
    "id": "ef800d19",
    "outputId": "78341ece-cf80-4e78-e4ac-59d67d8254be"
   },
   "outputs": [],
   "source": [
    "import sys\n",
    "sys.path.append(\"..\")\n",
    "sys.path.append(\"../../evaluation\")\n",
    "import helper"
   ]
  },
  {
   "cell_type": "code",
   "execution_count": null,
   "id": "de5520ad-e0cb-49ef-9bc4-7a9e4e6e13f4",
   "metadata": {
    "colab": {
     "base_uri": "https://localhost:8080/",
     "height": 301,
     "referenced_widgets": [
      "6b9fcbb56e9e431a8083d3616aebe5bb",
      "cfb8a213d79b47a482677b36858aaf12",
      "dcea58e4bc5f4dfab7ca4da94c914a48",
      "2f83bc3c298d46c1aa2bd6c27631b5ec",
      "e5223b587f7a4fe3acc7a47e4517e0ef",
      "76a33986f2f34a7cbf24e1fdcba8e0a3",
      "2ada89d80cf940be9f807c3655393ce9",
      "1fc43ed603804ea08e8db0d13937b079",
      "81f073dbbad346d0bdd80da0da291215",
      "6b3af90e92224bcfac3a67127e65866b",
      "fe71e8a14585414faa209dfcbc1480c9",
      "552f02e95221495b84388ffde345bdd4",
      "f049e1d471584804833045c0d3a53190",
      "d777c2c5885c44f4ad1e44bdbd985955",
      "8abda490020449ac83d7bc6eac69ad1c",
      "549a630783e84ff28502c4274a89290f",
      "83fe433eb5a740e8a2d757e737ffb02a",
      "f0805c6a2de64e699fad5c3b1d99cc3b",
      "94fb091ac8564a62ad754e3d4a7f5d96",
      "e79c6d54287d41ffbc443b5d614e5433",
      "d773da0a0b624b57b4e2f32c74089f4c",
      "19a77db2b9a543dba098bdc392ebce3e",
      "b98f5dfbc081443b8a2a2d2ecd080b87",
      "45fcd577563d4a0994ed60b315630e15",
      "bf32fb234aad4ce09d3e05a378eb45b7",
      "60804a73cd5d451c9eabe77aff1caee6",
      "be8f96f6345044078462c1f0fdc4a33e",
      "2b5f717f5c034adebbde3d1b3ca92ff8",
      "c731dfaf6b5347359252725424ffab9f",
      "1394ff47d34c4d6d8ed2010a83b09648",
      "47c3e2d835a14705b4c43ef0bfeb5164",
      "867c14680dd84c998d4e78182b157412",
      "b42421fdcf0b412690d59b48bba50198",
      "80301d5d63014918892b22ca7c90f797",
      "a28c6b5a1dd44f8898f70c99f2300897",
      "9695bb7f7a6c40c3858b54c38177e269",
      "fff6275657134fb186dbf9ce94edb5e7",
      "6cf4dc4bf13a4d5c9186ad447cfc6c11",
      "5fcb0e3a66104a158e55766dee7cb5c1",
      "467646914a824ae3b38e7f6dc07c1386",
      "4b3c75e0aa0c4e12979c0c5c7777e65e",
      "4dee39607d72404ca17da3a19ca51401",
      "7fcac46a1a7c4427b079c9c20c26e332",
      "540258638e39457d8fac71558dddfd5a",
      "87d8ba475c864548bce8051a4a267d64",
      "f46fe6fe3a5241ff9f03435d818bcb44",
      "8ef33d7c57634d48a358f03024a9b19d",
      "82d0db6dc5dc47d2bb8f78d90d4435ea",
      "ca6ece53230d4e95b03f421305475ea3",
      "84732dfba1504220b50c0a035fe2a867",
      "b9741ed54f864f768ef5c6671b45c09a",
      "236d0a73cb664333bce246649e4ccb2b",
      "68e1360c5a7d430fbe6838ca31a2051e",
      "f156b5ad06de40728738996ff0442f6c",
      "e65d43f9494b41d48bab9a3dc64396b5"
     ]
    },
    "id": "ef800d19",
    "outputId": "78341ece-cf80-4e78-e4ac-59d67d8254be"
   },
   "outputs": [
    {
     "name": "stderr",
     "output_type": "stream",
     "text": [
      "/home/ottowg/.pyenv/versions/somd_master/lib/python3.10/site-packages/tqdm/auto.py:21: TqdmWarning: IProgress not found. Please update jupyter and ipywidgets. See https://ipywidgets.readthedocs.io/en/stable/user_install.html\n",
      "  from .autonotebook import tqdm as notebook_tqdm\n"
     ]
    }
   ],
   "source": [
    "import calc_metrics"
   ]
  },
  {
   "cell_type": "code",
   "execution_count": 5,
   "id": "d59971b6-52d7-4f83-8b80-dc200300e115",
   "metadata": {
    "colab": {
     "base_uri": "https://localhost:8080/",
     "height": 301,
     "referenced_widgets": [
      "6b9fcbb56e9e431a8083d3616aebe5bb",
      "cfb8a213d79b47a482677b36858aaf12",
      "dcea58e4bc5f4dfab7ca4da94c914a48",
      "2f83bc3c298d46c1aa2bd6c27631b5ec",
      "e5223b587f7a4fe3acc7a47e4517e0ef",
      "76a33986f2f34a7cbf24e1fdcba8e0a3",
      "2ada89d80cf940be9f807c3655393ce9",
      "1fc43ed603804ea08e8db0d13937b079",
      "81f073dbbad346d0bdd80da0da291215",
      "6b3af90e92224bcfac3a67127e65866b",
      "fe71e8a14585414faa209dfcbc1480c9",
      "552f02e95221495b84388ffde345bdd4",
      "f049e1d471584804833045c0d3a53190",
      "d777c2c5885c44f4ad1e44bdbd985955",
      "8abda490020449ac83d7bc6eac69ad1c",
      "549a630783e84ff28502c4274a89290f",
      "83fe433eb5a740e8a2d757e737ffb02a",
      "f0805c6a2de64e699fad5c3b1d99cc3b",
      "94fb091ac8564a62ad754e3d4a7f5d96",
      "e79c6d54287d41ffbc443b5d614e5433",
      "d773da0a0b624b57b4e2f32c74089f4c",
      "19a77db2b9a543dba098bdc392ebce3e",
      "b98f5dfbc081443b8a2a2d2ecd080b87",
      "45fcd577563d4a0994ed60b315630e15",
      "bf32fb234aad4ce09d3e05a378eb45b7",
      "60804a73cd5d451c9eabe77aff1caee6",
      "be8f96f6345044078462c1f0fdc4a33e",
      "2b5f717f5c034adebbde3d1b3ca92ff8",
      "c731dfaf6b5347359252725424ffab9f",
      "1394ff47d34c4d6d8ed2010a83b09648",
      "47c3e2d835a14705b4c43ef0bfeb5164",
      "867c14680dd84c998d4e78182b157412",
      "b42421fdcf0b412690d59b48bba50198",
      "80301d5d63014918892b22ca7c90f797",
      "a28c6b5a1dd44f8898f70c99f2300897",
      "9695bb7f7a6c40c3858b54c38177e269",
      "fff6275657134fb186dbf9ce94edb5e7",
      "6cf4dc4bf13a4d5c9186ad447cfc6c11",
      "5fcb0e3a66104a158e55766dee7cb5c1",
      "467646914a824ae3b38e7f6dc07c1386",
      "4b3c75e0aa0c4e12979c0c5c7777e65e",
      "4dee39607d72404ca17da3a19ca51401",
      "7fcac46a1a7c4427b079c9c20c26e332",
      "540258638e39457d8fac71558dddfd5a",
      "87d8ba475c864548bce8051a4a267d64",
      "f46fe6fe3a5241ff9f03435d818bcb44",
      "8ef33d7c57634d48a358f03024a9b19d",
      "82d0db6dc5dc47d2bb8f78d90d4435ea",
      "ca6ece53230d4e95b03f421305475ea3",
      "84732dfba1504220b50c0a035fe2a867",
      "b9741ed54f864f768ef5c6671b45c09a",
      "236d0a73cb664333bce246649e4ccb2b",
      "68e1360c5a7d430fbe6838ca31a2051e",
      "f156b5ad06de40728738996ff0442f6c",
      "e65d43f9494b41d48bab9a3dc64396b5"
     ]
    },
    "id": "ef800d19",
    "outputId": "78341ece-cf80-4e78-e4ac-59d67d8254be"
   },
   "outputs": [],
   "source": [
    "import datetime\n",
    "from functools import partial\n",
    "from glob import glob\n",
    "from pathlib import Path\n",
    "import json\n",
    "from itertools import chain"
   ]
  },
  {
   "cell_type": "code",
   "execution_count": null,
   "id": "bda25f44-53ad-4c43-9dd2-3c0e8fd7d3ff",
   "metadata": {
    "colab": {
     "base_uri": "https://localhost:8080/",
     "height": 301,
     "referenced_widgets": [
      "6b9fcbb56e9e431a8083d3616aebe5bb",
      "cfb8a213d79b47a482677b36858aaf12",
      "dcea58e4bc5f4dfab7ca4da94c914a48",
      "2f83bc3c298d46c1aa2bd6c27631b5ec",
      "e5223b587f7a4fe3acc7a47e4517e0ef",
      "76a33986f2f34a7cbf24e1fdcba8e0a3",
      "2ada89d80cf940be9f807c3655393ce9",
      "1fc43ed603804ea08e8db0d13937b079",
      "81f073dbbad346d0bdd80da0da291215",
      "6b3af90e92224bcfac3a67127e65866b",
      "fe71e8a14585414faa209dfcbc1480c9",
      "552f02e95221495b84388ffde345bdd4",
      "f049e1d471584804833045c0d3a53190",
      "d777c2c5885c44f4ad1e44bdbd985955",
      "8abda490020449ac83d7bc6eac69ad1c",
      "549a630783e84ff28502c4274a89290f",
      "83fe433eb5a740e8a2d757e737ffb02a",
      "f0805c6a2de64e699fad5c3b1d99cc3b",
      "94fb091ac8564a62ad754e3d4a7f5d96",
      "e79c6d54287d41ffbc443b5d614e5433",
      "d773da0a0b624b57b4e2f32c74089f4c",
      "19a77db2b9a543dba098bdc392ebce3e",
      "b98f5dfbc081443b8a2a2d2ecd080b87",
      "45fcd577563d4a0994ed60b315630e15",
      "bf32fb234aad4ce09d3e05a378eb45b7",
      "60804a73cd5d451c9eabe77aff1caee6",
      "be8f96f6345044078462c1f0fdc4a33e",
      "2b5f717f5c034adebbde3d1b3ca92ff8",
      "c731dfaf6b5347359252725424ffab9f",
      "1394ff47d34c4d6d8ed2010a83b09648",
      "47c3e2d835a14705b4c43ef0bfeb5164",
      "867c14680dd84c998d4e78182b157412",
      "b42421fdcf0b412690d59b48bba50198",
      "80301d5d63014918892b22ca7c90f797",
      "a28c6b5a1dd44f8898f70c99f2300897",
      "9695bb7f7a6c40c3858b54c38177e269",
      "fff6275657134fb186dbf9ce94edb5e7",
      "6cf4dc4bf13a4d5c9186ad447cfc6c11",
      "5fcb0e3a66104a158e55766dee7cb5c1",
      "467646914a824ae3b38e7f6dc07c1386",
      "4b3c75e0aa0c4e12979c0c5c7777e65e",
      "4dee39607d72404ca17da3a19ca51401",
      "7fcac46a1a7c4427b079c9c20c26e332",
      "540258638e39457d8fac71558dddfd5a",
      "87d8ba475c864548bce8051a4a267d64",
      "f46fe6fe3a5241ff9f03435d818bcb44",
      "8ef33d7c57634d48a358f03024a9b19d",
      "82d0db6dc5dc47d2bb8f78d90d4435ea",
      "ca6ece53230d4e95b03f421305475ea3",
      "84732dfba1504220b50c0a035fe2a867",
      "b9741ed54f864f768ef5c6671b45c09a",
      "236d0a73cb664333bce246649e4ccb2b",
      "68e1360c5a7d430fbe6838ca31a2051e",
      "f156b5ad06de40728738996ff0442f6c",
      "e65d43f9494b41d48bab9a3dc64396b5"
     ]
    },
    "id": "ef800d19",
    "outputId": "78341ece-cf80-4e78-e4ac-59d67d8254be"
   },
   "outputs": [],
   "source": [
    "from datasets import Dataset\n",
    "from sklearn.model_selection import train_test_split\n",
    "import evaluate\n",
    "import numpy as np\n",
    "import pandas as pd\n",
    "import torch\n",
    "\n",
    "from transformers import AutoModelForTokenClassification,\\\n",
    "                         BertTokenizerFast, BertTokenizer, AutoTokenizer,\\\n",
    "                         TrainingArguments, Trainer, DataCollatorForTokenClassification,\\\n",
    "                         BertForTokenClassification"
   ]
  },
  {
   "cell_type": "code",
   "execution_count": null,
   "id": "1284bc25-fdde-4307-af7f-bf6c778ae697",
   "metadata": {
    "colab": {
     "base_uri": "https://localhost:8080/",
     "height": 301,
     "referenced_widgets": [
      "6b9fcbb56e9e431a8083d3616aebe5bb",
      "cfb8a213d79b47a482677b36858aaf12",
      "dcea58e4bc5f4dfab7ca4da94c914a48",
      "2f83bc3c298d46c1aa2bd6c27631b5ec",
      "e5223b587f7a4fe3acc7a47e4517e0ef",
      "76a33986f2f34a7cbf24e1fdcba8e0a3",
      "2ada89d80cf940be9f807c3655393ce9",
      "1fc43ed603804ea08e8db0d13937b079",
      "81f073dbbad346d0bdd80da0da291215",
      "6b3af90e92224bcfac3a67127e65866b",
      "fe71e8a14585414faa209dfcbc1480c9",
      "552f02e95221495b84388ffde345bdd4",
      "f049e1d471584804833045c0d3a53190",
      "d777c2c5885c44f4ad1e44bdbd985955",
      "8abda490020449ac83d7bc6eac69ad1c",
      "549a630783e84ff28502c4274a89290f",
      "83fe433eb5a740e8a2d757e737ffb02a",
      "f0805c6a2de64e699fad5c3b1d99cc3b",
      "94fb091ac8564a62ad754e3d4a7f5d96",
      "e79c6d54287d41ffbc443b5d614e5433",
      "d773da0a0b624b57b4e2f32c74089f4c",
      "19a77db2b9a543dba098bdc392ebce3e",
      "b98f5dfbc081443b8a2a2d2ecd080b87",
      "45fcd577563d4a0994ed60b315630e15",
      "bf32fb234aad4ce09d3e05a378eb45b7",
      "60804a73cd5d451c9eabe77aff1caee6",
      "be8f96f6345044078462c1f0fdc4a33e",
      "2b5f717f5c034adebbde3d1b3ca92ff8",
      "c731dfaf6b5347359252725424ffab9f",
      "1394ff47d34c4d6d8ed2010a83b09648",
      "47c3e2d835a14705b4c43ef0bfeb5164",
      "867c14680dd84c998d4e78182b157412",
      "b42421fdcf0b412690d59b48bba50198",
      "80301d5d63014918892b22ca7c90f797",
      "a28c6b5a1dd44f8898f70c99f2300897",
      "9695bb7f7a6c40c3858b54c38177e269",
      "fff6275657134fb186dbf9ce94edb5e7",
      "6cf4dc4bf13a4d5c9186ad447cfc6c11",
      "5fcb0e3a66104a158e55766dee7cb5c1",
      "467646914a824ae3b38e7f6dc07c1386",
      "4b3c75e0aa0c4e12979c0c5c7777e65e",
      "4dee39607d72404ca17da3a19ca51401",
      "7fcac46a1a7c4427b079c9c20c26e332",
      "540258638e39457d8fac71558dddfd5a",
      "87d8ba475c864548bce8051a4a267d64",
      "f46fe6fe3a5241ff9f03435d818bcb44",
      "8ef33d7c57634d48a358f03024a9b19d",
      "82d0db6dc5dc47d2bb8f78d90d4435ea",
      "ca6ece53230d4e95b03f421305475ea3",
      "84732dfba1504220b50c0a035fe2a867",
      "b9741ed54f864f768ef5c6671b45c09a",
      "236d0a73cb664333bce246649e4ccb2b",
      "68e1360c5a7d430fbe6838ca31a2051e",
      "f156b5ad06de40728738996ff0442f6c",
      "e65d43f9494b41d48bab9a3dc64396b5"
     ]
    },
    "id": "ef800d19",
    "outputId": "78341ece-cf80-4e78-e4ac-59d67d8254be"
   },
   "outputs": [],
   "source": [
    "device = \"cuda\" if torch.cuda.is_available() else \"cpu\""
   ]
  },
  {
   "cell_type": "code",
   "execution_count": 133,
   "id": "85871c09-b892-4e26-897a-5aeaa5c76691",
   "metadata": {
    "colab": {
     "base_uri": "https://localhost:8080/",
     "height": 301,
     "referenced_widgets": [
      "6b9fcbb56e9e431a8083d3616aebe5bb",
      "cfb8a213d79b47a482677b36858aaf12",
      "dcea58e4bc5f4dfab7ca4da94c914a48",
      "2f83bc3c298d46c1aa2bd6c27631b5ec",
      "e5223b587f7a4fe3acc7a47e4517e0ef",
      "76a33986f2f34a7cbf24e1fdcba8e0a3",
      "2ada89d80cf940be9f807c3655393ce9",
      "1fc43ed603804ea08e8db0d13937b079",
      "81f073dbbad346d0bdd80da0da291215",
      "6b3af90e92224bcfac3a67127e65866b",
      "fe71e8a14585414faa209dfcbc1480c9",
      "552f02e95221495b84388ffde345bdd4",
      "f049e1d471584804833045c0d3a53190",
      "d777c2c5885c44f4ad1e44bdbd985955",
      "8abda490020449ac83d7bc6eac69ad1c",
      "549a630783e84ff28502c4274a89290f",
      "83fe433eb5a740e8a2d757e737ffb02a",
      "f0805c6a2de64e699fad5c3b1d99cc3b",
      "94fb091ac8564a62ad754e3d4a7f5d96",
      "e79c6d54287d41ffbc443b5d614e5433",
      "d773da0a0b624b57b4e2f32c74089f4c",
      "19a77db2b9a543dba098bdc392ebce3e",
      "b98f5dfbc081443b8a2a2d2ecd080b87",
      "45fcd577563d4a0994ed60b315630e15",
      "bf32fb234aad4ce09d3e05a378eb45b7",
      "60804a73cd5d451c9eabe77aff1caee6",
      "be8f96f6345044078462c1f0fdc4a33e",
      "2b5f717f5c034adebbde3d1b3ca92ff8",
      "c731dfaf6b5347359252725424ffab9f",
      "1394ff47d34c4d6d8ed2010a83b09648",
      "47c3e2d835a14705b4c43ef0bfeb5164",
      "867c14680dd84c998d4e78182b157412",
      "b42421fdcf0b412690d59b48bba50198",
      "80301d5d63014918892b22ca7c90f797",
      "a28c6b5a1dd44f8898f70c99f2300897",
      "9695bb7f7a6c40c3858b54c38177e269",
      "fff6275657134fb186dbf9ce94edb5e7",
      "6cf4dc4bf13a4d5c9186ad447cfc6c11",
      "5fcb0e3a66104a158e55766dee7cb5c1",
      "467646914a824ae3b38e7f6dc07c1386",
      "4b3c75e0aa0c4e12979c0c5c7777e65e",
      "4dee39607d72404ca17da3a19ca51401",
      "7fcac46a1a7c4427b079c9c20c26e332",
      "540258638e39457d8fac71558dddfd5a",
      "87d8ba475c864548bce8051a4a267d64",
      "f46fe6fe3a5241ff9f03435d818bcb44",
      "8ef33d7c57634d48a358f03024a9b19d",
      "82d0db6dc5dc47d2bb8f78d90d4435ea",
      "ca6ece53230d4e95b03f421305475ea3",
      "84732dfba1504220b50c0a035fe2a867",
      "b9741ed54f864f768ef5c6671b45c09a",
      "236d0a73cb664333bce246649e4ccb2b",
      "68e1360c5a7d430fbe6838ca31a2051e",
      "f156b5ad06de40728738996ff0442f6c",
      "e65d43f9494b41d48bab9a3dc64396b5"
     ]
    },
    "id": "ef800d19",
    "outputId": "78341ece-cf80-4e78-e4ac-59d67d8254be"
   },
   "outputs": [],
   "source": [
    "log_path_base = f\"negative_sampling_rate\""
   ]
  },
  {
   "cell_type": "markdown",
   "id": "cece180b",
   "metadata": {
    "id": "cece180b"
   },
   "source": [
    "## Dataset"
   ]
  },
  {
   "cell_type": "markdown",
   "id": "d3599e7b",
   "metadata": {
    "id": "d3599e7b"
   },
   "source": [
    "### Read the Train Dataset (Sentences and Labels)"
   ]
  },
  {
   "cell_type": "code",
   "execution_count": null,
   "id": "d44ae5c3-fe0b-4e1f-b2d8-199a39eba1a5",
   "metadata": {
    "id": "a53b235e"
   },
   "outputs": [],
   "source": [
    "fn_train_sentences = '../../data/subtask1/subtask1_train.data.txt'\n",
    "fn_train_labels = '../../data/subtask1/subtask1_train.labels.txt'\n",
    "entity_label_grouping = False\n",
    "\n",
    "# Open the Data of Sentences\n",
    "with open(fn_train_sentences, 'r', encoding='utf-8') as file:\n",
    "    train_sentences = file.readlines()\n",
    "    train_sentences = [sentence.split() for sentence in train_sentences]\n",
    "\n",
    "# Open the label data\n",
    "with open(fn_train_labels, 'r', encoding='utf-8') as file:\n",
    "    train_labels = file.readlines()\n",
    "    train_labels = [sentence_labels.split() for sentence_labels in train_labels]\n",
    "\n",
    "### Change the labels, if we have Entity Labels\n",
    "if entity_label_grouping:\n",
    "    train_labels = [helper.reduce_to_entity_type_labels(labels) for labels in train_labels]\n"
   ]
  },
  {
   "cell_type": "code",
   "execution_count": 24,
   "id": "bc46a401-fb57-4db0-b3fd-42a749ff12c4",
   "metadata": {
    "id": "a53b235e"
   },
   "outputs": [
    {
     "data": {
      "text/html": [
       "<div>\n",
       "<style scoped>\n",
       "    .dataframe tbody tr th:only-of-type {\n",
       "        vertical-align: middle;\n",
       "    }\n",
       "\n",
       "    .dataframe tbody tr th {\n",
       "        vertical-align: top;\n",
       "    }\n",
       "\n",
       "    .dataframe thead th {\n",
       "        text-align: right;\n",
       "    }\n",
       "</style>\n",
       "<table border=\"1\" class=\"dataframe\">\n",
       "  <thead>\n",
       "    <tr style=\"text-align: right;\">\n",
       "      <th></th>\n",
       "      <th>sentence</th>\n",
       "      <th>label</th>\n",
       "    </tr>\n",
       "  </thead>\n",
       "  <tbody>\n",
       "    <tr>\n",
       "      <th>0</th>\n",
       "      <td>[Here, we, report, a, comprehensive, suite, fo...</td>\n",
       "      <td>[O, O, O, O, O, O, O, O, O, O, O, O, O, O, O, ...</td>\n",
       "    </tr>\n",
       "    <tr>\n",
       "      <th>1</th>\n",
       "      <td>[The, resource, is, available, free, of, charg...</td>\n",
       "      <td>[O, B-SoftwareCoreference_Deposition, O, O, O,...</td>\n",
       "    </tr>\n",
       "    <tr>\n",
       "      <th>2</th>\n",
       "      <td>[In, this, work, ,, we, described, the, DelPhi...</td>\n",
       "      <td>[O, O, O, O, O, O, O, B-Application_Creation, ...</td>\n",
       "    </tr>\n",
       "    <tr>\n",
       "      <th>3</th>\n",
       "      <td>[\", Project, name, :, DelPhi, Project, home, p...</td>\n",
       "      <td>[O, O, O, O, B-Application_Deposition, O, O, O...</td>\n",
       "    </tr>\n",
       "    <tr>\n",
       "      <th>4</th>\n",
       "      <td>[We, have, developed, ANDES, ,, a, software, l...</td>\n",
       "      <td>[O, O, O, B-Application_Creation, O, O, O, O, ...</td>\n",
       "    </tr>\n",
       "  </tbody>\n",
       "</table>\n",
       "</div>"
      ],
      "text/plain": [
       "                                            sentence  \\\n",
       "0  [Here, we, report, a, comprehensive, suite, fo...   \n",
       "1  [The, resource, is, available, free, of, charg...   \n",
       "2  [In, this, work, ,, we, described, the, DelPhi...   \n",
       "3  [\", Project, name, :, DelPhi, Project, home, p...   \n",
       "4  [We, have, developed, ANDES, ,, a, software, l...   \n",
       "\n",
       "                                               label  \n",
       "0  [O, O, O, O, O, O, O, O, O, O, O, O, O, O, O, ...  \n",
       "1  [O, B-SoftwareCoreference_Deposition, O, O, O,...  \n",
       "2  [O, O, O, O, O, O, O, B-Application_Creation, ...  \n",
       "3  [O, O, O, O, B-Application_Deposition, O, O, O...  \n",
       "4  [O, O, O, B-Application_Creation, O, O, O, O, ...  "
      ]
     },
     "execution_count": 24,
     "metadata": {},
     "output_type": "execute_result"
    }
   ],
   "source": [
    "dataset = pd.DataFrame(zip(train_sentences, train_labels), columns=[\"sentence\", \"label\"])\n",
    "dataset.head()"
   ]
  },
  {
   "cell_type": "markdown",
   "id": "33ce2a16-f037-40eb-af6b-ec748f0e7773",
   "metadata": {
    "id": "c6601766",
    "scrolled": true
   },
   "source": [
    "## Create label id lookup"
   ]
  },
  {
   "cell_type": "code",
   "execution_count": 20,
   "id": "5ada6316-a070-46d5-9628-9ec3b800cb36",
   "metadata": {
    "id": "c6601766",
    "scrolled": true
   },
   "outputs": [],
   "source": [
    "possible_labels = list(set(chain(*train_labels)))\n",
    "possible_labels.sort(key=lambda x: (x != \"O\", x[2:], x[0]))"
   ]
  },
  {
   "cell_type": "code",
   "execution_count": 21,
   "id": "25dd69c8-2775-4be2-ba08-40dd20ab37b5",
   "metadata": {
    "id": "c6601766",
    "scrolled": true
   },
   "outputs": [
    {
     "data": {
      "text/plain": [
       "{0: 'O',\n",
       " 1: 'B-Application_Creation',\n",
       " 2: 'I-Application_Creation',\n",
       " 3: 'B-Application_Deposition',\n",
       " 4: 'I-Application_Deposition',\n",
       " 5: 'B-Application_Mention',\n",
       " 6: 'I-Application_Mention',\n",
       " 7: 'B-Application_Usage',\n",
       " 8: 'I-Application_Usage',\n",
       " 9: 'B-OperatingSystem_Mention',\n",
       " 10: 'I-OperatingSystem_Mention',\n",
       " 11: 'B-OperatingSystem_Usage',\n",
       " 12: 'I-OperatingSystem_Usage',\n",
       " 13: 'B-PlugIn_Creation',\n",
       " 14: 'I-PlugIn_Creation',\n",
       " 15: 'B-PlugIn_Deposition',\n",
       " 16: 'I-PlugIn_Deposition',\n",
       " 17: 'B-PlugIn_Mention',\n",
       " 18: 'I-PlugIn_Mention',\n",
       " 19: 'B-PlugIn_Usage',\n",
       " 20: 'I-PlugIn_Usage',\n",
       " 21: 'B-ProgrammingEnvironment_Mention',\n",
       " 22: 'I-ProgrammingEnvironment_Mention',\n",
       " 23: 'B-ProgrammingEnvironment_Usage',\n",
       " 24: 'I-ProgrammingEnvironment_Usage',\n",
       " 25: 'B-SoftwareCoreference_Deposition',\n",
       " 26: 'I-SoftwareCoreference_Deposition'}"
      ]
     },
     "execution_count": 21,
     "metadata": {},
     "output_type": "execute_result"
    }
   ],
   "source": [
    "id_to_label = dict(enumerate(possible_labels))\n",
    "label_to_id = {label:id for id, label in id_to_label.items()}\n",
    "id_to_label"
   ]
  },
  {
   "cell_type": "markdown",
   "id": "950dab12",
   "metadata": {
    "id": "950dab12"
   },
   "source": [
    "## Prepare and Train the dataset"
   ]
  },
  {
   "cell_type": "code",
   "execution_count": 135,
   "id": "4396e041-80dc-4e94-adb7-ffe53c803005",
   "metadata": {
    "id": "c8c8d702"
   },
   "outputs": [
    {
     "data": {
      "text/plain": [
       "'5_0'"
      ]
     },
     "execution_count": 135,
     "metadata": {},
     "output_type": "execute_result"
    }
   ],
   "source": [
    "# parameter\n",
    "eval_size=0.25\n",
    "random_state=42\n",
    "negative_sample_rate = 5. # set to None if all negative samples should be used\n",
    "experiment_name = f'{negative_sample_rate:2.1f}'.replace(\".\", \"_\") if negative_sample_rate is not None else \"None\"\n",
    "#experiment_name = \"sunny\"\n",
    "experiment_name"
   ]
  },
  {
   "cell_type": "markdown",
   "id": "bb8e85f0",
   "metadata": {
    "id": "bb8e85f0"
   },
   "source": [
    "### Split the dataset into Train and Validation"
   ]
  },
  {
   "cell_type": "code",
   "execution_count": 136,
   "id": "3b5a2c19-b881-4cd2-b3fb-128ab894de72",
   "metadata": {
    "id": "c8c8d702"
   },
   "outputs": [
    {
     "data": {
      "text/plain": [
       "(29826, 9942)"
      ]
     },
     "execution_count": 136,
     "metadata": {},
     "output_type": "execute_result"
    }
   ],
   "source": [
    "train, validation = train_test_split(dataset, test_size=eval_size, random_state=random_state)\n",
    "len(train), len(validation)"
   ]
  },
  {
   "cell_type": "markdown",
   "id": "fe734555",
   "metadata": {
    "id": "fe734555"
   },
   "source": [
    "### Reduce the dataset to positive samples"
   ]
  },
  {
   "cell_type": "code",
   "execution_count": 137,
   "id": "7a1042d7-806f-46c7-aae3-8d75244c099a",
   "metadata": {
    "id": "e86cdafc"
   },
   "outputs": [
    {
     "name": "stdout",
     "output_type": "stream",
     "text": [
      "Positive Samples: {False: 28088, True: 1738}\n"
     ]
    }
   ],
   "source": [
    "if negative_sample_rate is not None:\n",
    "    ### Positive Samples (Sentences with labels)\n",
    "    train_contains_labels = train.label.apply(lambda x: len([l for l in x if l != \"O\"]) > 0)\n",
    "    print(\"Positive Samples:\", str(train_contains_labels.value_counts().to_dict()))\n",
    "    pos_sample_ids = train_contains_labels[train_contains_labels].index\n",
    "    neg_sample_ids = train_contains_labels[~train_contains_labels].index\n",
    "    pivot_idx = int(len(pos_sample_ids) * negative_sample_rate)\n",
    "    train_ids = list(pos_sample_ids) + list(neg_sample_ids[:pivot_idx])\n",
    "    train = train.loc[train_ids].copy()"
   ]
  },
  {
   "cell_type": "code",
   "execution_count": 138,
   "id": "1bf8ee38-236c-46ac-867f-cada31b685c0",
   "metadata": {
    "id": "e86cdafc"
   },
   "outputs": [
    {
     "data": {
      "text/plain": [
       "(10428, 9942)"
      ]
     },
     "execution_count": 138,
     "metadata": {},
     "output_type": "execute_result"
    }
   ],
   "source": [
    "len(train), len(validation)"
   ]
  },
  {
   "cell_type": "markdown",
   "id": "e4dc2cd7-0813-475e-84fa-694678a8c17a",
   "metadata": {
    "id": "a2900464"
   },
   "source": [
    "# Tokenize and map labels"
   ]
  },
  {
   "cell_type": "code",
   "execution_count": 139,
   "id": "590414d5-21c4-441b-b614-fad23b64a032",
   "metadata": {
    "id": "a2900464"
   },
   "outputs": [],
   "source": [
    "base_model = 'bert-base-uncased'"
   ]
  },
  {
   "cell_type": "code",
   "execution_count": 140,
   "id": "4b9ca8b9-8ee7-48aa-b590-e1b7214acf31",
   "metadata": {
    "id": "a2900464"
   },
   "outputs": [
    {
     "name": "stdout",
     "output_type": "stream",
     "text": [
      "CPU times: user 22.6 s, sys: 461 ms, total: 23.1 s\n",
      "Wall time: 2.2 s\n"
     ]
    },
    {
     "data": {
      "text/plain": [
       "{'n_train': 10428,\n",
       " 'n_eval': 9942,\n",
       " 'negative_sample_rate': 5.0,\n",
       " 'eval_size': 0.25}"
      ]
     },
     "execution_count": 140,
     "metadata": {},
     "output_type": "execute_result"
    }
   ],
   "source": [
    "%%time\n",
    "tokenizer = BertTokenizerFast.from_pretrained(base_model)\n",
    "tokenizer_params = dict(\n",
    "    truncation=True,\n",
    "    is_split_into_words=True,\n",
    "    padding=\"do_not_pad\",\n",
    "    max_length=512)\n",
    "\n",
    "Train_dataset = tokenizer(train['sentence'].to_list(), **tokenizer_params)\n",
    "label_ids = train['label'].apply(lambda labels: [label_to_id.get(label) for label in labels]).to_list()\n",
    "helper.map_labels(Train_dataset, label_ids)\n",
    "Train_dataset = Dataset.from_dict(Train_dataset)\n",
    "\n",
    "Val_dataset = tokenizer(validation['sentence'].to_list(), **tokenizer_params)\n",
    "label_ids = validation['label'].apply(lambda labels: [label_to_id.get(label) for label in labels]).to_list()\n",
    "helper.map_labels(Val_dataset, label_ids)\n",
    "Val_dataset = Dataset.from_dict(Val_dataset)\n",
    "\n",
    "dataset_info = dict(\n",
    "    n_train=len(Train_dataset),\n",
    "    n_eval=len(Val_dataset),\n",
    "    negative_sample_rate=negative_sample_rate,\n",
    "    eval_size=eval_size,\n",
    ")\n",
    "dataset_info"
   ]
  },
  {
   "cell_type": "markdown",
   "id": "3446d79e",
   "metadata": {
    "id": "3446d79e"
   },
   "source": [
    "### Train Model"
   ]
  },
  {
   "cell_type": "code",
   "execution_count": 141,
   "id": "d3ec874d-6f05-4376-a74a-bba4e231ee9b",
   "metadata": {
    "colab": {
     "base_uri": "https://localhost:8080/",
     "height": 317
    },
    "id": "c369b6f2",
    "outputId": "0d6e3552-4ec1-4f6d-cc20-f55decfa32ea"
   },
   "outputs": [],
   "source": [
    "def get_trainer_state(model_path):\n",
    "    states = glob(f\"{model_path}/*/trainer_state.json\")\n",
    "    if not states:\n",
    "        return\n",
    "    states = [json.load(open(f)) for f in states]\n",
    "    states.sort(key=lambda x: -x[\"epoch\"])\n",
    "    states_last = states[0]\n",
    "    return states_last\n",
    "\n",
    "def get_best_model_checkpoint(model_path):\n",
    "    states = get_trainer_state(model_path)\n",
    "    best_model_checkpoint = states[\"best_model_checkpoint\"]\n",
    "    return best_model_checkpoint"
   ]
  },
  {
   "cell_type": "code",
   "execution_count": null,
   "id": "4d5c8285-9405-46bd-89bc-5f0ebefbd9a2",
   "metadata": {
    "id": "2e4d3884"
   },
   "outputs": [],
   "source": []
  },
  {
   "cell_type": "code",
   "execution_count": null,
   "id": "4afcded3-6de6-4273-8451-5d7755d546b2",
   "metadata": {
    "id": "2e4d3884"
   },
   "outputs": [],
   "source": []
  },
  {
   "cell_type": "code",
   "execution_count": 142,
   "id": "a852102f-0776-406e-8ccf-c2d24c03cafc",
   "metadata": {
    "id": "2e4d3884"
   },
   "outputs": [
    {
     "name": "stdout",
     "output_type": "stream",
     "text": [
      "\n"
     ]
    }
   ],
   "source": [
    "print()"
   ]
  },
  {
   "cell_type": "markdown",
   "id": "cd087adc",
   "metadata": {
    "id": "cd087adc"
   },
   "source": [
    "### Training"
   ]
  },
  {
   "cell_type": "code",
   "execution_count": 143,
   "id": "94fc5a7b-914d-42b8-aabb-fc1a6f71f132",
   "metadata": {
    "colab": {
     "base_uri": "https://localhost:8080/",
     "height": 317
    },
    "id": "c369b6f2",
    "outputId": "0d6e3552-4ec1-4f6d-cc20-f55decfa32ea"
   },
   "outputs": [
    {
     "data": {
      "text/plain": [
       "'../../models/subtask1/2024-07-13_00-22-22'"
      ]
     },
     "execution_count": 143,
     "metadata": {},
     "output_type": "execute_result"
    }
   ],
   "source": [
    "# Mail: Sent: Donnerstag, 11. Juli 2024 13:39\n",
    "# Epochs=5 , train_batch_size=64, validation_batch_size=32, lr=2e-5\n",
    "\n",
    "model_base_path =  '../../models/subtask1'\n",
    "\n",
    "training_args = dict(\n",
    "    save_total_limit=2,\n",
    "    save_strategy='epoch',\n",
    "    metric_for_best_model=\"overall_f1\",\n",
    "    num_train_epochs=5,\n",
    "    learning_rate=2e-5,\n",
    "    per_device_train_batch_size=8,\n",
    "    per_device_eval_batch_size=8,\n",
    "    gradient_accumulation_steps=8,\n",
    "    weight_decay=0.01,\n",
    "    warmup_ratio=0.0,\n",
    "    evaluation_strategy='epoch',\n",
    "    disable_tqdm=False,\n",
    ")\n",
    "start = datetime.datetime.now().strftime('%Y-%m-%d_%H-%M-%S')\n",
    "model_path = f'{model_base_path}/{start}'\n",
    "training_args[\"output_dir\"] = model_path\n",
    "model_path"
   ]
  },
  {
   "cell_type": "code",
   "execution_count": 144,
   "id": "85d29757-66e0-4d96-b5d5-495eb5d65271",
   "metadata": {
    "colab": {
     "base_uri": "https://localhost:8080/",
     "height": 317
    },
    "id": "c369b6f2",
    "outputId": "0d6e3552-4ec1-4f6d-cc20-f55decfa32ea"
   },
   "outputs": [
    {
     "name": "stderr",
     "output_type": "stream",
     "text": [
      "Some weights of BertForTokenClassification were not initialized from the model checkpoint at bert-base-uncased and are newly initialized: ['classifier.bias', 'classifier.weight']\n",
      "You should probably TRAIN this model on a down-stream task to be able to use it for predictions and inference.\n"
     ]
    }
   ],
   "source": [
    "model = AutoModelForTokenClassification.from_pretrained(base_model, id2label=id_to_label, num_labels=len(id_to_label))\n",
    "trainer = Trainer(model=model,\n",
    "                  args=TrainingArguments(**training_args),\n",
    "                  compute_metrics=partial(helper.ner_eval_metrics, id_to_label=id_to_label),\n",
    "                  train_dataset=Train_dataset,\n",
    "                  eval_dataset=Val_dataset,\n",
    "                  data_collator=DataCollatorForTokenClassification(tokenizer, padding=\"longest\", max_length=512),\n",
    "                  tokenizer=tokenizer)"
   ]
  },
  {
   "cell_type": "code",
   "execution_count": 145,
   "id": "803231fc-1c59-4888-a8f6-9f37121b6e59",
   "metadata": {
    "colab": {
     "base_uri": "https://localhost:8080/",
     "height": 317
    },
    "id": "c369b6f2",
    "outputId": "0d6e3552-4ec1-4f6d-cc20-f55decfa32ea"
   },
   "outputs": [],
   "source": [
    "# old time: 1:23 => 19 minutes\n",
    "# only positive => "
   ]
  },
  {
   "cell_type": "code",
   "execution_count": null,
   "id": "68c4abd5-6182-44d2-b6bd-a51b20cf7ff4",
   "metadata": {
    "colab": {
     "base_uri": "https://localhost:8080/",
     "height": 317
    },
    "id": "c369b6f2",
    "outputId": "0d6e3552-4ec1-4f6d-cc20-f55decfa32ea"
   },
   "outputs": [
    {
     "data": {
      "text/html": [
       "\n",
       "    <div>\n",
       "      \n",
       "      <progress value='497' max='815' style='width:300px; height:20px; vertical-align: middle;'></progress>\n",
       "      [497/815 05:17 < 03:23, 1.56 it/s, Epoch 3.04/5]\n",
       "    </div>\n",
       "    <table border=\"1\" class=\"dataframe\">\n",
       "  <thead>\n",
       " <tr style=\"text-align: left;\">\n",
       "      <th>Epoch</th>\n",
       "      <th>Training Loss</th>\n",
       "      <th>Validation Loss</th>\n",
       "      <th>Application Creation</th>\n",
       "      <th>Application Deposition</th>\n",
       "      <th>Application Mention</th>\n",
       "      <th>Application Usage</th>\n",
       "      <th>Operatingsystem Mention</th>\n",
       "      <th>Operatingsystem Usage</th>\n",
       "      <th>Plugin Creation</th>\n",
       "      <th>Plugin Deposition</th>\n",
       "      <th>Plugin Mention</th>\n",
       "      <th>Plugin Usage</th>\n",
       "      <th>Programmingenvironment Mention</th>\n",
       "      <th>Programmingenvironment Usage</th>\n",
       "      <th>Softwarecoreference Deposition</th>\n",
       "      <th>Overall Precision</th>\n",
       "      <th>Overall Recall</th>\n",
       "      <th>Overall F1</th>\n",
       "      <th>Overall Accuracy</th>\n",
       "    </tr>\n",
       "  </thead>\n",
       "  <tbody>\n",
       "    <tr>\n",
       "      <td>1</td>\n",
       "      <td>No log</td>\n",
       "      <td>0.017149</td>\n",
       "      <td>{'precision': 0.0, 'recall': 0.0, 'f1': 0.0, 'number': 44}</td>\n",
       "      <td>{'precision': 0.0, 'recall': 0.0, 'f1': 0.0, 'number': 25}</td>\n",
       "      <td>{'precision': 0.0, 'recall': 0.0, 'f1': 0.0, 'number': 45}</td>\n",
       "      <td>{'precision': 0.4524207011686144, 'recall': 0.5122873345935728, 'f1': 0.4804964539007093, 'number': 529}</td>\n",
       "      <td>{'precision': 0.0, 'recall': 0.0, 'f1': 0.0, 'number': 4}</td>\n",
       "      <td>{'precision': 0.0, 'recall': 0.0, 'f1': 0.0, 'number': 30}</td>\n",
       "      <td>{'precision': 0.0, 'recall': 0.0, 'f1': 0.0, 'number': 12}</td>\n",
       "      <td>{'precision': 0.0, 'recall': 0.0, 'f1': 0.0, 'number': 3}</td>\n",
       "      <td>{'precision': 0.0, 'recall': 0.0, 'f1': 0.0, 'number': 7}</td>\n",
       "      <td>{'precision': 0.0, 'recall': 0.0, 'f1': 0.0, 'number': 55}</td>\n",
       "      <td>{'precision': 0.0, 'recall': 0.0, 'f1': 0.0, 'number': 6}</td>\n",
       "      <td>{'precision': 0.0, 'recall': 0.0, 'f1': 0.0, 'number': 92}</td>\n",
       "      <td>{'precision': 0.0, 'recall': 0.0, 'f1': 0.0, 'number': 12}</td>\n",
       "      <td>0.452421</td>\n",
       "      <td>0.313657</td>\n",
       "      <td>0.370472</td>\n",
       "      <td>0.996672</td>\n",
       "    </tr>\n",
       "    <tr>\n",
       "      <td>2</td>\n",
       "      <td>No log</td>\n",
       "      <td>0.010397</td>\n",
       "      <td>{'precision': 0.0, 'recall': 0.0, 'f1': 0.0, 'number': 44}</td>\n",
       "      <td>{'precision': 0.0, 'recall': 0.0, 'f1': 0.0, 'number': 25}</td>\n",
       "      <td>{'precision': 0.0, 'recall': 0.0, 'f1': 0.0, 'number': 45}</td>\n",
       "      <td>{'precision': 0.604135893648449, 'recall': 0.7731568998109641, 'f1': 0.6782752902155887, 'number': 529}</td>\n",
       "      <td>{'precision': 0.0, 'recall': 0.0, 'f1': 0.0, 'number': 4}</td>\n",
       "      <td>{'precision': 0.6756756756756757, 'recall': 0.8333333333333334, 'f1': 0.746268656716418, 'number': 30}</td>\n",
       "      <td>{'precision': 0.0, 'recall': 0.0, 'f1': 0.0, 'number': 12}</td>\n",
       "      <td>{'precision': 0.0, 'recall': 0.0, 'f1': 0.0, 'number': 3}</td>\n",
       "      <td>{'precision': 0.0, 'recall': 0.0, 'f1': 0.0, 'number': 7}</td>\n",
       "      <td>{'precision': 0.0, 'recall': 0.0, 'f1': 0.0, 'number': 55}</td>\n",
       "      <td>{'precision': 0.0, 'recall': 0.0, 'f1': 0.0, 'number': 6}</td>\n",
       "      <td>{'precision': 0.6698113207547169, 'recall': 0.7717391304347826, 'f1': 0.7171717171717172, 'number': 92}</td>\n",
       "      <td>{'precision': 0.0, 'recall': 0.0, 'f1': 0.0, 'number': 12}</td>\n",
       "      <td>0.615104</td>\n",
       "      <td>0.584491</td>\n",
       "      <td>0.599407</td>\n",
       "      <td>0.997805</td>\n",
       "    </tr>\n",
       "    <tr>\n",
       "      <td>3</td>\n",
       "      <td>No log</td>\n",
       "      <td>0.009492</td>\n",
       "      <td>{'precision': 0.20833333333333334, 'recall': 0.22727272727272727, 'f1': 0.21739130434782608, 'number': 44}</td>\n",
       "      <td>{'precision': 0.0, 'recall': 0.0, 'f1': 0.0, 'number': 25}</td>\n",
       "      <td>{'precision': 0.0, 'recall': 0.0, 'f1': 0.0, 'number': 45}</td>\n",
       "      <td>{'precision': 0.5614035087719298, 'recall': 0.8468809073724007, 'f1': 0.6752072343632253, 'number': 529}</td>\n",
       "      <td>{'precision': 0.0, 'recall': 0.0, 'f1': 0.0, 'number': 4}</td>\n",
       "      <td>{'precision': 0.6829268292682927, 'recall': 0.9333333333333333, 'f1': 0.7887323943661972, 'number': 30}</td>\n",
       "      <td>{'precision': 0.0, 'recall': 0.0, 'f1': 0.0, 'number': 12}</td>\n",
       "      <td>{'precision': 0.0, 'recall': 0.0, 'f1': 0.0, 'number': 3}</td>\n",
       "      <td>{'precision': 0.0, 'recall': 0.0, 'f1': 0.0, 'number': 7}</td>\n",
       "      <td>{'precision': 0.1111111111111111, 'recall': 0.03636363636363636, 'f1': 0.0547945205479452, 'number': 55}</td>\n",
       "      <td>{'precision': 0.0, 'recall': 0.0, 'f1': 0.0, 'number': 6}</td>\n",
       "      <td>{'precision': 0.6528925619834711, 'recall': 0.8586956521739131, 'f1': 0.7417840375586856, 'number': 92}</td>\n",
       "      <td>{'precision': 0.0, 'recall': 0.0, 'f1': 0.0, 'number': 12}</td>\n",
       "      <td>0.552632</td>\n",
       "      <td>0.656250</td>\n",
       "      <td>0.600000</td>\n",
       "      <td>0.997755</td>\n",
       "    </tr>\n",
       "  </tbody>\n",
       "</table><p>"
      ],
      "text/plain": [
       "<IPython.core.display.HTML object>"
      ]
     },
     "metadata": {},
     "output_type": "display_data"
    },
    {
     "name": "stderr",
     "output_type": "stream",
     "text": [
      "/home/ottowg/.pyenv/versions/somd_master/lib/python3.10/site-packages/seqeval/metrics/v1.py:57: UndefinedMetricWarning: Precision and F-score are ill-defined and being set to 0.0 in labels with no predicted samples. Use `zero_division` parameter to control this behavior.\n",
      "  _warn_prf(average, modifier, msg_start, len(result))\n",
      "/home/ottowg/.pyenv/versions/somd_master/lib/python3.10/site-packages/seqeval/metrics/v1.py:57: UndefinedMetricWarning: Precision and F-score are ill-defined and being set to 0.0 in labels with no predicted samples. Use `zero_division` parameter to control this behavior.\n",
      "  _warn_prf(average, modifier, msg_start, len(result))\n",
      "/home/ottowg/.pyenv/versions/somd_master/lib/python3.10/site-packages/seqeval/metrics/v1.py:57: UndefinedMetricWarning: Precision and F-score are ill-defined and being set to 0.0 in labels with no predicted samples. Use `zero_division` parameter to control this behavior.\n",
      "  _warn_prf(average, modifier, msg_start, len(result))\n"
     ]
    }
   ],
   "source": [
    "dataset_performance = trainer.train()"
   ]
  },
  {
   "cell_type": "markdown",
   "id": "d6143ba2",
   "metadata": {
    "id": "d6143ba2"
   },
   "source": [
    "### Performance of dataset"
   ]
  },
  {
   "cell_type": "code",
   "execution_count": null,
   "id": "bdd511e4-768c-4234-a4fc-deef056b5f6a",
   "metadata": {
    "colab": {
     "base_uri": "https://localhost:8080/"
    },
    "id": "52d4be28",
    "outputId": "a32d0d84-6908-4eaf-a208-836bed2299e9"
   },
   "outputs": [],
   "source": [
    "dataset_performance"
   ]
  },
  {
   "cell_type": "markdown",
   "id": "a3ca5519-294e-455d-b47e-f54cd1d14b12",
   "metadata": {
    "colab": {
     "base_uri": "https://localhost:8080/"
    },
    "id": "52d4be28",
    "outputId": "a32d0d84-6908-4eaf-a208-836bed2299e9"
   },
   "source": [
    "# Save training stats and parameter"
   ]
  },
  {
   "cell_type": "code",
   "execution_count": null,
   "id": "d8232ae6-6e9b-44a9-99b3-e3555384b7a7",
   "metadata": {
    "colab": {
     "base_uri": "https://localhost:8080/"
    },
    "id": "52d4be28",
    "outputId": "a32d0d84-6908-4eaf-a208-836bed2299e9"
   },
   "outputs": [],
   "source": [
    "log_path = f\"{log_path_base}/{experiment_name}/\"\n",
    "Path(log_path).mkdir(parents=True, exist_ok=True)\n",
    "with open(f'{log_path}/data_stats.json', 'w') as f:\n",
    "    json.dump(dataset_info, f)\n",
    "with open(f'{log_path}/training_args.json', \"w\") as f:\n",
    "    json.dump(training_args, f)\n",
    "trainer_state = get_trainer_state(model_path)\n",
    "with open(f'{log_path}/trainer_state.json', \"w\") as f:\n",
    "    json.dump(trainer_state, f)\n",
    "with open(f'{log_path}/finished.txt', 'w') as file:\n",
    "    file.write(str(datetime.datetime.now()))"
   ]
  },
  {
   "cell_type": "markdown",
   "id": "1c618f71",
   "metadata": {
    "id": "1c618f71"
   },
   "source": [
    "## Predict Test Set"
   ]
  },
  {
   "cell_type": "markdown",
   "id": "d870c4b8",
   "metadata": {
    "id": "d870c4b8"
   },
   "source": [
    "### Load the saved Model and Tokenizer"
   ]
  },
  {
   "cell_type": "code",
   "execution_count": null,
   "id": "8d49b7af-0869-4ede-a0bd-6cb0316f5d75",
   "metadata": {
    "id": "1ab52067"
   },
   "outputs": [],
   "source": [
    "fn_test = '../../data/subtask1/subtask1_test.data.txt'\n",
    "fn_gold = \"../../data/subtask1/subtask1_test.labels.txt\"\n",
    "model_name = get_best_model_checkpoint(model_path)\n",
    "model_name"
   ]
  },
  {
   "cell_type": "code",
   "execution_count": null,
   "id": "7924223a-8f27-45ea-b1fa-e9185db22010",
   "metadata": {
    "id": "1ab52067"
   },
   "outputs": [],
   "source": [
    "model = BertForTokenClassification.from_pretrained(model_name)\n",
    "model.to(device)\n",
    "model.eval()\n",
    "tokenizer = BertTokenizerFast.from_pretrained(model_name)"
   ]
  },
  {
   "cell_type": "code",
   "execution_count": null,
   "id": "86df0bdf-5aaa-41e2-a501-40848a5e4e4c",
   "metadata": {
    "id": "0758fd1f"
   },
   "outputs": [],
   "source": [
    "with open(fn_test, 'r', encoding='utf-8') as file:\n",
    "    test = file.readlines()\n",
    "# prepare test samples\n",
    "test = Dataset.from_list([dict(sentence=s) for s in test], split=\"Test\")"
   ]
  },
  {
   "cell_type": "code",
   "execution_count": null,
   "id": "d8b591cf-477a-4692-94d2-4ba9206afb4d",
   "metadata": {
    "id": "0758fd1f"
   },
   "outputs": [],
   "source": [
    "def predict(batch, model=None):\n",
    "    id_to_label = model.config.id2label\n",
    "    if \"prediction\" in batch:\n",
    "        del batch[\"prediction\"]\n",
    "    texts = [t.split() for t in batch[\"sentence\"]]\n",
    "    tokenized = tokenizer(texts,\n",
    "                          padding=\"longest\",\n",
    "                          max_length=512,\n",
    "                          is_split_into_words=True,\n",
    "                          return_tensors=\"pt\")\n",
    "    word_ids = [tokenized.word_ids(idx) for idx in range(len(tokenized.input_ids))]\n",
    "    tokenized.to(device)\n",
    "    with torch.no_grad():\n",
    "        outputs = model(**tokenized)\n",
    "    prediction = outputs.logits.argmax(dim=2)\n",
    "    pred_labels = []\n",
    "    for pred, w_ids in zip(prediction, word_ids):\n",
    "        predictions_for_words = helper.align_labels(w_ids, pred.tolist())\n",
    "        predicted_labels = [id_to_label[label_id] for label_id in predictions_for_words]\n",
    "        pred_labels.append(predicted_labels)\n",
    "    batch[\"prediction\"] = pred_labels\n",
    "    return batch"
   ]
  },
  {
   "cell_type": "code",
   "execution_count": null,
   "id": "4f4d5274-1cfa-4d69-af11-25e387507c3c",
   "metadata": {
    "id": "0758fd1f"
   },
   "outputs": [],
   "source": [
    "%%time\n",
    "test = test.map(partial(predict, model=model), batched=True, batch_size=128)"
   ]
  },
  {
   "cell_type": "code",
   "execution_count": null,
   "id": "47d9c0ab-73f7-4ee0-b9e8-9338aec41a5f",
   "metadata": {
    "id": "0758fd1f"
   },
   "outputs": [],
   "source": [
    "with open(f'{log_path}/prediction.txt', 'w') as file:\n",
    "    for prediction in test[\"prediction\"]:\n",
    "        file.write(f'{\" \".join(prediction)}\\n')"
   ]
  },
  {
   "cell_type": "code",
   "execution_count": null,
   "id": "164ab4dd-dfe0-4d24-97c5-613741007796",
   "metadata": {
    "id": "0758fd1f"
   },
   "outputs": [],
   "source": [
    "# test performance\n",
    "fn_pred = f'{log_path}/prediction.txt'\n",
    "preds = calc_metrics.load_bio(fn_pred)\n",
    "gold = calc_metrics.load_bio(fn_gold)\n",
    "print(len(preds), len(gold))\n",
    "metrics_df = calc_metrics.compute(preds, gold)\n",
    "metrics_df.to_json(f\"{log_path}/test_metrics.json\")"
   ]
  },
  {
   "cell_type": "code",
   "execution_count": null,
   "id": "f427470a-f719-429c-8437-08f39f2c6d51",
   "metadata": {
    "id": "0758fd1f"
   },
   "outputs": [],
   "source": [
    "metrics_df"
   ]
  },
  {
   "cell_type": "code",
   "execution_count": null,
   "id": "6dbbae0a-6120-4d16-8099-ca333a579973",
   "metadata": {},
   "outputs": [],
   "source": []
  },
  {
   "cell_type": "code",
   "execution_count": null,
   "id": "b41b1f3e-db54-451a-a473-05249e235e47",
   "metadata": {},
   "outputs": [],
   "source": []
  },
  {
   "cell_type": "code",
   "execution_count": null,
   "id": "53adfbfd-cb25-4f66-b53f-5c35b4a56694",
   "metadata": {},
   "outputs": [],
   "source": []
  },
  {
   "cell_type": "code",
   "execution_count": null,
   "id": "f9d77813-d612-4b44-8dd0-d80b0653eb52",
   "metadata": {},
   "outputs": [],
   "source": []
  },
  {
   "cell_type": "code",
   "execution_count": null,
   "id": "0e7f1998-7a22-40cd-8f1e-aa31437ffc8e",
   "metadata": {},
   "outputs": [],
   "source": []
  },
  {
   "cell_type": "code",
   "execution_count": null,
   "id": "0b8008cc-0e4c-43fb-b7fb-a0017a3d66be",
   "metadata": {},
   "outputs": [],
   "source": []
  },
  {
   "cell_type": "code",
   "execution_count": null,
   "id": "c4dcd794-3bf8-46f4-95a2-ed508d37e3cb",
   "metadata": {},
   "outputs": [],
   "source": []
  }
 ],
 "metadata": {
  "accelerator": "GPU",
  "colab": {
   "gpuType": "T4",
   "provenance": []
  },
  "kernelspec": {
   "display_name": "Python 3 (ipykernel)",
   "language": "python",
   "name": "python3"
  },
  "language_info": {
   "codemirror_mode": {
    "name": "ipython",
    "version": 3
   },
   "file_extension": ".py",
   "mimetype": "text/x-python",
   "name": "python",
   "nbconvert_exporter": "python",
   "pygments_lexer": "ipython3",
   "version": "3.11.4"
  },
  "widgets": {
   "application/vnd.jupyter.widget-state+json": {
    "0a9339f34417403795fbbc037632ab8f": {
     "model_module": "@jupyter-widgets/controls",
     "model_module_version": "1.5.0",
     "model_name": "DescriptionStyleModel",
     "state": {
      "_model_module": "@jupyter-widgets/controls",
      "_model_module_version": "1.5.0",
      "_model_name": "DescriptionStyleModel",
      "_view_count": null,
      "_view_module": "@jupyter-widgets/base",
      "_view_module_version": "1.2.0",
      "_view_name": "StyleView",
      "description_width": ""
     }
    },
    "1394ff47d34c4d6d8ed2010a83b09648": {
     "model_module": "@jupyter-widgets/base",
     "model_module_version": "1.2.0",
     "model_name": "LayoutModel",
     "state": {
      "_model_module": "@jupyter-widgets/base",
      "_model_module_version": "1.2.0",
      "_model_name": "LayoutModel",
      "_view_count": null,
      "_view_module": "@jupyter-widgets/base",
      "_view_module_version": "1.2.0",
      "_view_name": "LayoutView",
      "align_content": null,
      "align_items": null,
      "align_self": null,
      "border": null,
      "bottom": null,
      "display": null,
      "flex": null,
      "flex_flow": null,
      "grid_area": null,
      "grid_auto_columns": null,
      "grid_auto_flow": null,
      "grid_auto_rows": null,
      "grid_column": null,
      "grid_gap": null,
      "grid_row": null,
      "grid_template_areas": null,
      "grid_template_columns": null,
      "grid_template_rows": null,
      "height": null,
      "justify_content": null,
      "justify_items": null,
      "left": null,
      "margin": null,
      "max_height": null,
      "max_width": null,
      "min_height": null,
      "min_width": null,
      "object_fit": null,
      "object_position": null,
      "order": null,
      "overflow": null,
      "overflow_x": null,
      "overflow_y": null,
      "padding": null,
      "right": null,
      "top": null,
      "visibility": null,
      "width": null
     }
    },
    "189ed86866564e07a5ec98fa8ab0199e": {
     "model_module": "@jupyter-widgets/base",
     "model_module_version": "1.2.0",
     "model_name": "LayoutModel",
     "state": {
      "_model_module": "@jupyter-widgets/base",
      "_model_module_version": "1.2.0",
      "_model_name": "LayoutModel",
      "_view_count": null,
      "_view_module": "@jupyter-widgets/base",
      "_view_module_version": "1.2.0",
      "_view_name": "LayoutView",
      "align_content": null,
      "align_items": null,
      "align_self": null,
      "border": null,
      "bottom": null,
      "display": null,
      "flex": null,
      "flex_flow": null,
      "grid_area": null,
      "grid_auto_columns": null,
      "grid_auto_flow": null,
      "grid_auto_rows": null,
      "grid_column": null,
      "grid_gap": null,
      "grid_row": null,
      "grid_template_areas": null,
      "grid_template_columns": null,
      "grid_template_rows": null,
      "height": null,
      "justify_content": null,
      "justify_items": null,
      "left": null,
      "margin": null,
      "max_height": null,
      "max_width": null,
      "min_height": null,
      "min_width": null,
      "object_fit": null,
      "object_position": null,
      "order": null,
      "overflow": null,
      "overflow_x": null,
      "overflow_y": null,
      "padding": null,
      "right": null,
      "top": null,
      "visibility": null,
      "width": null
     }
    },
    "19a77db2b9a543dba098bdc392ebce3e": {
     "model_module": "@jupyter-widgets/controls",
     "model_module_version": "1.5.0",
     "model_name": "DescriptionStyleModel",
     "state": {
      "_model_module": "@jupyter-widgets/controls",
      "_model_module_version": "1.5.0",
      "_model_name": "DescriptionStyleModel",
      "_view_count": null,
      "_view_module": "@jupyter-widgets/base",
      "_view_module_version": "1.2.0",
      "_view_name": "StyleView",
      "description_width": ""
     }
    },
    "1fc43ed603804ea08e8db0d13937b079": {
     "model_module": "@jupyter-widgets/base",
     "model_module_version": "1.2.0",
     "model_name": "LayoutModel",
     "state": {
      "_model_module": "@jupyter-widgets/base",
      "_model_module_version": "1.2.0",
      "_model_name": "LayoutModel",
      "_view_count": null,
      "_view_module": "@jupyter-widgets/base",
      "_view_module_version": "1.2.0",
      "_view_name": "LayoutView",
      "align_content": null,
      "align_items": null,
      "align_self": null,
      "border": null,
      "bottom": null,
      "display": null,
      "flex": null,
      "flex_flow": null,
      "grid_area": null,
      "grid_auto_columns": null,
      "grid_auto_flow": null,
      "grid_auto_rows": null,
      "grid_column": null,
      "grid_gap": null,
      "grid_row": null,
      "grid_template_areas": null,
      "grid_template_columns": null,
      "grid_template_rows": null,
      "height": null,
      "justify_content": null,
      "justify_items": null,
      "left": null,
      "margin": null,
      "max_height": null,
      "max_width": null,
      "min_height": null,
      "min_width": null,
      "object_fit": null,
      "object_position": null,
      "order": null,
      "overflow": null,
      "overflow_x": null,
      "overflow_y": null,
      "padding": null,
      "right": null,
      "top": null,
      "visibility": null,
      "width": null
     }
    },
    "236d0a73cb664333bce246649e4ccb2b": {
     "model_module": "@jupyter-widgets/base",
     "model_module_version": "1.2.0",
     "model_name": "LayoutModel",
     "state": {
      "_model_module": "@jupyter-widgets/base",
      "_model_module_version": "1.2.0",
      "_model_name": "LayoutModel",
      "_view_count": null,
      "_view_module": "@jupyter-widgets/base",
      "_view_module_version": "1.2.0",
      "_view_name": "LayoutView",
      "align_content": null,
      "align_items": null,
      "align_self": null,
      "border": null,
      "bottom": null,
      "display": null,
      "flex": null,
      "flex_flow": null,
      "grid_area": null,
      "grid_auto_columns": null,
      "grid_auto_flow": null,
      "grid_auto_rows": null,
      "grid_column": null,
      "grid_gap": null,
      "grid_row": null,
      "grid_template_areas": null,
      "grid_template_columns": null,
      "grid_template_rows": null,
      "height": null,
      "justify_content": null,
      "justify_items": null,
      "left": null,
      "margin": null,
      "max_height": null,
      "max_width": null,
      "min_height": null,
      "min_width": null,
      "object_fit": null,
      "object_position": null,
      "order": null,
      "overflow": null,
      "overflow_x": null,
      "overflow_y": null,
      "padding": null,
      "right": null,
      "top": null,
      "visibility": null,
      "width": null
     }
    },
    "253ffef5ea19431397e7523136115c6f": {
     "model_module": "@jupyter-widgets/controls",
     "model_module_version": "1.5.0",
     "model_name": "HTMLModel",
     "state": {
      "_dom_classes": [],
      "_model_module": "@jupyter-widgets/controls",
      "_model_module_version": "1.5.0",
      "_model_name": "HTMLModel",
      "_view_count": null,
      "_view_module": "@jupyter-widgets/controls",
      "_view_module_version": "1.5.0",
      "_view_name": "HTMLView",
      "description": "",
      "description_tooltip": null,
      "layout": "IPY_MODEL_e723ef6487874645bdbc5307027fdaa1",
      "placeholder": "​",
      "style": "IPY_MODEL_0a9339f34417403795fbbc037632ab8f",
      "value": " 440M/440M [00:06&lt;00:00, 90.2MB/s]"
     }
    },
    "2ada89d80cf940be9f807c3655393ce9": {
     "model_module": "@jupyter-widgets/controls",
     "model_module_version": "1.5.0",
     "model_name": "DescriptionStyleModel",
     "state": {
      "_model_module": "@jupyter-widgets/controls",
      "_model_module_version": "1.5.0",
      "_model_name": "DescriptionStyleModel",
      "_view_count": null,
      "_view_module": "@jupyter-widgets/base",
      "_view_module_version": "1.2.0",
      "_view_name": "StyleView",
      "description_width": ""
     }
    },
    "2b5f717f5c034adebbde3d1b3ca92ff8": {
     "model_module": "@jupyter-widgets/base",
     "model_module_version": "1.2.0",
     "model_name": "LayoutModel",
     "state": {
      "_model_module": "@jupyter-widgets/base",
      "_model_module_version": "1.2.0",
      "_model_name": "LayoutModel",
      "_view_count": null,
      "_view_module": "@jupyter-widgets/base",
      "_view_module_version": "1.2.0",
      "_view_name": "LayoutView",
      "align_content": null,
      "align_items": null,
      "align_self": null,
      "border": null,
      "bottom": null,
      "display": null,
      "flex": null,
      "flex_flow": null,
      "grid_area": null,
      "grid_auto_columns": null,
      "grid_auto_flow": null,
      "grid_auto_rows": null,
      "grid_column": null,
      "grid_gap": null,
      "grid_row": null,
      "grid_template_areas": null,
      "grid_template_columns": null,
      "grid_template_rows": null,
      "height": null,
      "justify_content": null,
      "justify_items": null,
      "left": null,
      "margin": null,
      "max_height": null,
      "max_width": null,
      "min_height": null,
      "min_width": null,
      "object_fit": null,
      "object_position": null,
      "order": null,
      "overflow": null,
      "overflow_x": null,
      "overflow_y": null,
      "padding": null,
      "right": null,
      "top": null,
      "visibility": null,
      "width": null
     }
    },
    "2f83bc3c298d46c1aa2bd6c27631b5ec": {
     "model_module": "@jupyter-widgets/controls",
     "model_module_version": "1.5.0",
     "model_name": "HTMLModel",
     "state": {
      "_dom_classes": [],
      "_model_module": "@jupyter-widgets/controls",
      "_model_module_version": "1.5.0",
      "_model_name": "HTMLModel",
      "_view_count": null,
      "_view_module": "@jupyter-widgets/controls",
      "_view_module_version": "1.5.0",
      "_view_name": "HTMLView",
      "description": "",
      "description_tooltip": null,
      "layout": "IPY_MODEL_6b3af90e92224bcfac3a67127e65866b",
      "placeholder": "​",
      "style": "IPY_MODEL_fe71e8a14585414faa209dfcbc1480c9",
      "value": " 48.0/48.0 [00:00&lt;00:00, 2.20kB/s]"
     }
    },
    "3c4908ecc078474baf00b1965dfd6395": {
     "model_module": "@jupyter-widgets/controls",
     "model_module_version": "1.5.0",
     "model_name": "HBoxModel",
     "state": {
      "_dom_classes": [],
      "_model_module": "@jupyter-widgets/controls",
      "_model_module_version": "1.5.0",
      "_model_name": "HBoxModel",
      "_view_count": null,
      "_view_module": "@jupyter-widgets/controls",
      "_view_module_version": "1.5.0",
      "_view_name": "HBoxView",
      "box_style": "",
      "children": [
       "IPY_MODEL_6658842e0bc7486faa9ea6327ffb3a38",
       "IPY_MODEL_57bb3795a10d47be8aa5f22fa0d7ff4c",
       "IPY_MODEL_253ffef5ea19431397e7523136115c6f"
      ],
      "layout": "IPY_MODEL_d563cca42ef14221a2afa9a37a5c25fa"
     }
    },
    "3dd5fa3321ec4b308a2c8d82b927c7a8": {
     "model_module": "@jupyter-widgets/controls",
     "model_module_version": "1.5.0",
     "model_name": "ProgressStyleModel",
     "state": {
      "_model_module": "@jupyter-widgets/controls",
      "_model_module_version": "1.5.0",
      "_model_name": "ProgressStyleModel",
      "_view_count": null,
      "_view_module": "@jupyter-widgets/base",
      "_view_module_version": "1.2.0",
      "_view_name": "StyleView",
      "bar_color": null,
      "description_width": ""
     }
    },
    "45fcd577563d4a0994ed60b315630e15": {
     "model_module": "@jupyter-widgets/controls",
     "model_module_version": "1.5.0",
     "model_name": "HTMLModel",
     "state": {
      "_dom_classes": [],
      "_model_module": "@jupyter-widgets/controls",
      "_model_module_version": "1.5.0",
      "_model_name": "HTMLModel",
      "_view_count": null,
      "_view_module": "@jupyter-widgets/controls",
      "_view_module_version": "1.5.0",
      "_view_name": "HTMLView",
      "description": "",
      "description_tooltip": null,
      "layout": "IPY_MODEL_2b5f717f5c034adebbde3d1b3ca92ff8",
      "placeholder": "​",
      "style": "IPY_MODEL_c731dfaf6b5347359252725424ffab9f",
      "value": "tokenizer.json: 100%"
     }
    },
    "467646914a824ae3b38e7f6dc07c1386": {
     "model_module": "@jupyter-widgets/controls",
     "model_module_version": "1.5.0",
     "model_name": "DescriptionStyleModel",
     "state": {
      "_model_module": "@jupyter-widgets/controls",
      "_model_module_version": "1.5.0",
      "_model_name": "DescriptionStyleModel",
      "_view_count": null,
      "_view_module": "@jupyter-widgets/base",
      "_view_module_version": "1.2.0",
      "_view_name": "StyleView",
      "description_width": ""
     }
    },
    "47c3e2d835a14705b4c43ef0bfeb5164": {
     "model_module": "@jupyter-widgets/controls",
     "model_module_version": "1.5.0",
     "model_name": "ProgressStyleModel",
     "state": {
      "_model_module": "@jupyter-widgets/controls",
      "_model_module_version": "1.5.0",
      "_model_name": "ProgressStyleModel",
      "_view_count": null,
      "_view_module": "@jupyter-widgets/base",
      "_view_module_version": "1.2.0",
      "_view_name": "StyleView",
      "bar_color": null,
      "description_width": ""
     }
    },
    "4b3c75e0aa0c4e12979c0c5c7777e65e": {
     "model_module": "@jupyter-widgets/base",
     "model_module_version": "1.2.0",
     "model_name": "LayoutModel",
     "state": {
      "_model_module": "@jupyter-widgets/base",
      "_model_module_version": "1.2.0",
      "_model_name": "LayoutModel",
      "_view_count": null,
      "_view_module": "@jupyter-widgets/base",
      "_view_module_version": "1.2.0",
      "_view_name": "LayoutView",
      "align_content": null,
      "align_items": null,
      "align_self": null,
      "border": null,
      "bottom": null,
      "display": null,
      "flex": null,
      "flex_flow": null,
      "grid_area": null,
      "grid_auto_columns": null,
      "grid_auto_flow": null,
      "grid_auto_rows": null,
      "grid_column": null,
      "grid_gap": null,
      "grid_row": null,
      "grid_template_areas": null,
      "grid_template_columns": null,
      "grid_template_rows": null,
      "height": null,
      "justify_content": null,
      "justify_items": null,
      "left": null,
      "margin": null,
      "max_height": null,
      "max_width": null,
      "min_height": null,
      "min_width": null,
      "object_fit": null,
      "object_position": null,
      "order": null,
      "overflow": null,
      "overflow_x": null,
      "overflow_y": null,
      "padding": null,
      "right": null,
      "top": null,
      "visibility": null,
      "width": null
     }
    },
    "4dee39607d72404ca17da3a19ca51401": {
     "model_module": "@jupyter-widgets/controls",
     "model_module_version": "1.5.0",
     "model_name": "ProgressStyleModel",
     "state": {
      "_model_module": "@jupyter-widgets/controls",
      "_model_module_version": "1.5.0",
      "_model_name": "ProgressStyleModel",
      "_view_count": null,
      "_view_module": "@jupyter-widgets/base",
      "_view_module_version": "1.2.0",
      "_view_name": "StyleView",
      "bar_color": null,
      "description_width": ""
     }
    },
    "540258638e39457d8fac71558dddfd5a": {
     "model_module": "@jupyter-widgets/controls",
     "model_module_version": "1.5.0",
     "model_name": "DescriptionStyleModel",
     "state": {
      "_model_module": "@jupyter-widgets/controls",
      "_model_module_version": "1.5.0",
      "_model_name": "DescriptionStyleModel",
      "_view_count": null,
      "_view_module": "@jupyter-widgets/base",
      "_view_module_version": "1.2.0",
      "_view_name": "StyleView",
      "description_width": ""
     }
    },
    "549a630783e84ff28502c4274a89290f": {
     "model_module": "@jupyter-widgets/base",
     "model_module_version": "1.2.0",
     "model_name": "LayoutModel",
     "state": {
      "_model_module": "@jupyter-widgets/base",
      "_model_module_version": "1.2.0",
      "_model_name": "LayoutModel",
      "_view_count": null,
      "_view_module": "@jupyter-widgets/base",
      "_view_module_version": "1.2.0",
      "_view_name": "LayoutView",
      "align_content": null,
      "align_items": null,
      "align_self": null,
      "border": null,
      "bottom": null,
      "display": null,
      "flex": null,
      "flex_flow": null,
      "grid_area": null,
      "grid_auto_columns": null,
      "grid_auto_flow": null,
      "grid_auto_rows": null,
      "grid_column": null,
      "grid_gap": null,
      "grid_row": null,
      "grid_template_areas": null,
      "grid_template_columns": null,
      "grid_template_rows": null,
      "height": null,
      "justify_content": null,
      "justify_items": null,
      "left": null,
      "margin": null,
      "max_height": null,
      "max_width": null,
      "min_height": null,
      "min_width": null,
      "object_fit": null,
      "object_position": null,
      "order": null,
      "overflow": null,
      "overflow_x": null,
      "overflow_y": null,
      "padding": null,
      "right": null,
      "top": null,
      "visibility": null,
      "width": null
     }
    },
    "552f02e95221495b84388ffde345bdd4": {
     "model_module": "@jupyter-widgets/controls",
     "model_module_version": "1.5.0",
     "model_name": "HBoxModel",
     "state": {
      "_dom_classes": [],
      "_model_module": "@jupyter-widgets/controls",
      "_model_module_version": "1.5.0",
      "_model_name": "HBoxModel",
      "_view_count": null,
      "_view_module": "@jupyter-widgets/controls",
      "_view_module_version": "1.5.0",
      "_view_name": "HBoxView",
      "box_style": "",
      "children": [
       "IPY_MODEL_f049e1d471584804833045c0d3a53190",
       "IPY_MODEL_d777c2c5885c44f4ad1e44bdbd985955",
       "IPY_MODEL_8abda490020449ac83d7bc6eac69ad1c"
      ],
      "layout": "IPY_MODEL_549a630783e84ff28502c4274a89290f"
     }
    },
    "57bb3795a10d47be8aa5f22fa0d7ff4c": {
     "model_module": "@jupyter-widgets/controls",
     "model_module_version": "1.5.0",
     "model_name": "FloatProgressModel",
     "state": {
      "_dom_classes": [],
      "_model_module": "@jupyter-widgets/controls",
      "_model_module_version": "1.5.0",
      "_model_name": "FloatProgressModel",
      "_view_count": null,
      "_view_module": "@jupyter-widgets/controls",
      "_view_module_version": "1.5.0",
      "_view_name": "ProgressView",
      "bar_style": "success",
      "description": "",
      "description_tooltip": null,
      "layout": "IPY_MODEL_189ed86866564e07a5ec98fa8ab0199e",
      "max": 440449768,
      "min": 0,
      "orientation": "horizontal",
      "style": "IPY_MODEL_3dd5fa3321ec4b308a2c8d82b927c7a8",
      "value": 440449768
     }
    },
    "5fcb0e3a66104a158e55766dee7cb5c1": {
     "model_module": "@jupyter-widgets/base",
     "model_module_version": "1.2.0",
     "model_name": "LayoutModel",
     "state": {
      "_model_module": "@jupyter-widgets/base",
      "_model_module_version": "1.2.0",
      "_model_name": "LayoutModel",
      "_view_count": null,
      "_view_module": "@jupyter-widgets/base",
      "_view_module_version": "1.2.0",
      "_view_name": "LayoutView",
      "align_content": null,
      "align_items": null,
      "align_self": null,
      "border": null,
      "bottom": null,
      "display": null,
      "flex": null,
      "flex_flow": null,
      "grid_area": null,
      "grid_auto_columns": null,
      "grid_auto_flow": null,
      "grid_auto_rows": null,
      "grid_column": null,
      "grid_gap": null,
      "grid_row": null,
      "grid_template_areas": null,
      "grid_template_columns": null,
      "grid_template_rows": null,
      "height": null,
      "justify_content": null,
      "justify_items": null,
      "left": null,
      "margin": null,
      "max_height": null,
      "max_width": null,
      "min_height": null,
      "min_width": null,
      "object_fit": null,
      "object_position": null,
      "order": null,
      "overflow": null,
      "overflow_x": null,
      "overflow_y": null,
      "padding": null,
      "right": null,
      "top": null,
      "visibility": null,
      "width": null
     }
    },
    "60804a73cd5d451c9eabe77aff1caee6": {
     "model_module": "@jupyter-widgets/controls",
     "model_module_version": "1.5.0",
     "model_name": "HTMLModel",
     "state": {
      "_dom_classes": [],
      "_model_module": "@jupyter-widgets/controls",
      "_model_module_version": "1.5.0",
      "_model_name": "HTMLModel",
      "_view_count": null,
      "_view_module": "@jupyter-widgets/controls",
      "_view_module_version": "1.5.0",
      "_view_name": "HTMLView",
      "description": "",
      "description_tooltip": null,
      "layout": "IPY_MODEL_867c14680dd84c998d4e78182b157412",
      "placeholder": "​",
      "style": "IPY_MODEL_b42421fdcf0b412690d59b48bba50198",
      "value": " 466k/466k [00:00&lt;00:00, 679kB/s]"
     }
    },
    "6658842e0bc7486faa9ea6327ffb3a38": {
     "model_module": "@jupyter-widgets/controls",
     "model_module_version": "1.5.0",
     "model_name": "HTMLModel",
     "state": {
      "_dom_classes": [],
      "_model_module": "@jupyter-widgets/controls",
      "_model_module_version": "1.5.0",
      "_model_name": "HTMLModel",
      "_view_count": null,
      "_view_module": "@jupyter-widgets/controls",
      "_view_module_version": "1.5.0",
      "_view_name": "HTMLView",
      "description": "",
      "description_tooltip": null,
      "layout": "IPY_MODEL_caefe7aeb55d462bb43cfc21c00c9434",
      "placeholder": "​",
      "style": "IPY_MODEL_8bf7096d7a0245ef8855df8736446a19",
      "value": "model.safetensors: 100%"
     }
    },
    "68e1360c5a7d430fbe6838ca31a2051e": {
     "model_module": "@jupyter-widgets/controls",
     "model_module_version": "1.5.0",
     "model_name": "ProgressStyleModel",
     "state": {
      "_model_module": "@jupyter-widgets/controls",
      "_model_module_version": "1.5.0",
      "_model_name": "ProgressStyleModel",
      "_view_count": null,
      "_view_module": "@jupyter-widgets/base",
      "_view_module_version": "1.2.0",
      "_view_name": "StyleView",
      "bar_color": null,
      "description_width": ""
     }
    },
    "6b3af90e92224bcfac3a67127e65866b": {
     "model_module": "@jupyter-widgets/base",
     "model_module_version": "1.2.0",
     "model_name": "LayoutModel",
     "state": {
      "_model_module": "@jupyter-widgets/base",
      "_model_module_version": "1.2.0",
      "_model_name": "LayoutModel",
      "_view_count": null,
      "_view_module": "@jupyter-widgets/base",
      "_view_module_version": "1.2.0",
      "_view_name": "LayoutView",
      "align_content": null,
      "align_items": null,
      "align_self": null,
      "border": null,
      "bottom": null,
      "display": null,
      "flex": null,
      "flex_flow": null,
      "grid_area": null,
      "grid_auto_columns": null,
      "grid_auto_flow": null,
      "grid_auto_rows": null,
      "grid_column": null,
      "grid_gap": null,
      "grid_row": null,
      "grid_template_areas": null,
      "grid_template_columns": null,
      "grid_template_rows": null,
      "height": null,
      "justify_content": null,
      "justify_items": null,
      "left": null,
      "margin": null,
      "max_height": null,
      "max_width": null,
      "min_height": null,
      "min_width": null,
      "object_fit": null,
      "object_position": null,
      "order": null,
      "overflow": null,
      "overflow_x": null,
      "overflow_y": null,
      "padding": null,
      "right": null,
      "top": null,
      "visibility": null,
      "width": null
     }
    },
    "6b9fcbb56e9e431a8083d3616aebe5bb": {
     "model_module": "@jupyter-widgets/controls",
     "model_module_version": "1.5.0",
     "model_name": "HBoxModel",
     "state": {
      "_dom_classes": [],
      "_model_module": "@jupyter-widgets/controls",
      "_model_module_version": "1.5.0",
      "_model_name": "HBoxModel",
      "_view_count": null,
      "_view_module": "@jupyter-widgets/controls",
      "_view_module_version": "1.5.0",
      "_view_name": "HBoxView",
      "box_style": "",
      "children": [
       "IPY_MODEL_cfb8a213d79b47a482677b36858aaf12",
       "IPY_MODEL_dcea58e4bc5f4dfab7ca4da94c914a48",
       "IPY_MODEL_2f83bc3c298d46c1aa2bd6c27631b5ec"
      ],
      "layout": "IPY_MODEL_e5223b587f7a4fe3acc7a47e4517e0ef"
     }
    },
    "6cf4dc4bf13a4d5c9186ad447cfc6c11": {
     "model_module": "@jupyter-widgets/base",
     "model_module_version": "1.2.0",
     "model_name": "LayoutModel",
     "state": {
      "_model_module": "@jupyter-widgets/base",
      "_model_module_version": "1.2.0",
      "_model_name": "LayoutModel",
      "_view_count": null,
      "_view_module": "@jupyter-widgets/base",
      "_view_module_version": "1.2.0",
      "_view_name": "LayoutView",
      "align_content": null,
      "align_items": null,
      "align_self": null,
      "border": null,
      "bottom": null,
      "display": null,
      "flex": null,
      "flex_flow": null,
      "grid_area": null,
      "grid_auto_columns": null,
      "grid_auto_flow": null,
      "grid_auto_rows": null,
      "grid_column": null,
      "grid_gap": null,
      "grid_row": null,
      "grid_template_areas": null,
      "grid_template_columns": null,
      "grid_template_rows": null,
      "height": null,
      "justify_content": null,
      "justify_items": null,
      "left": null,
      "margin": null,
      "max_height": null,
      "max_width": null,
      "min_height": null,
      "min_width": null,
      "object_fit": null,
      "object_position": null,
      "order": null,
      "overflow": null,
      "overflow_x": null,
      "overflow_y": null,
      "padding": null,
      "right": null,
      "top": null,
      "visibility": null,
      "width": null
     }
    },
    "76a33986f2f34a7cbf24e1fdcba8e0a3": {
     "model_module": "@jupyter-widgets/base",
     "model_module_version": "1.2.0",
     "model_name": "LayoutModel",
     "state": {
      "_model_module": "@jupyter-widgets/base",
      "_model_module_version": "1.2.0",
      "_model_name": "LayoutModel",
      "_view_count": null,
      "_view_module": "@jupyter-widgets/base",
      "_view_module_version": "1.2.0",
      "_view_name": "LayoutView",
      "align_content": null,
      "align_items": null,
      "align_self": null,
      "border": null,
      "bottom": null,
      "display": null,
      "flex": null,
      "flex_flow": null,
      "grid_area": null,
      "grid_auto_columns": null,
      "grid_auto_flow": null,
      "grid_auto_rows": null,
      "grid_column": null,
      "grid_gap": null,
      "grid_row": null,
      "grid_template_areas": null,
      "grid_template_columns": null,
      "grid_template_rows": null,
      "height": null,
      "justify_content": null,
      "justify_items": null,
      "left": null,
      "margin": null,
      "max_height": null,
      "max_width": null,
      "min_height": null,
      "min_width": null,
      "object_fit": null,
      "object_position": null,
      "order": null,
      "overflow": null,
      "overflow_x": null,
      "overflow_y": null,
      "padding": null,
      "right": null,
      "top": null,
      "visibility": null,
      "width": null
     }
    },
    "7fcac46a1a7c4427b079c9c20c26e332": {
     "model_module": "@jupyter-widgets/base",
     "model_module_version": "1.2.0",
     "model_name": "LayoutModel",
     "state": {
      "_model_module": "@jupyter-widgets/base",
      "_model_module_version": "1.2.0",
      "_model_name": "LayoutModel",
      "_view_count": null,
      "_view_module": "@jupyter-widgets/base",
      "_view_module_version": "1.2.0",
      "_view_name": "LayoutView",
      "align_content": null,
      "align_items": null,
      "align_self": null,
      "border": null,
      "bottom": null,
      "display": null,
      "flex": null,
      "flex_flow": null,
      "grid_area": null,
      "grid_auto_columns": null,
      "grid_auto_flow": null,
      "grid_auto_rows": null,
      "grid_column": null,
      "grid_gap": null,
      "grid_row": null,
      "grid_template_areas": null,
      "grid_template_columns": null,
      "grid_template_rows": null,
      "height": null,
      "justify_content": null,
      "justify_items": null,
      "left": null,
      "margin": null,
      "max_height": null,
      "max_width": null,
      "min_height": null,
      "min_width": null,
      "object_fit": null,
      "object_position": null,
      "order": null,
      "overflow": null,
      "overflow_x": null,
      "overflow_y": null,
      "padding": null,
      "right": null,
      "top": null,
      "visibility": null,
      "width": null
     }
    },
    "80301d5d63014918892b22ca7c90f797": {
     "model_module": "@jupyter-widgets/controls",
     "model_module_version": "1.5.0",
     "model_name": "HBoxModel",
     "state": {
      "_dom_classes": [],
      "_model_module": "@jupyter-widgets/controls",
      "_model_module_version": "1.5.0",
      "_model_name": "HBoxModel",
      "_view_count": null,
      "_view_module": "@jupyter-widgets/controls",
      "_view_module_version": "1.5.0",
      "_view_name": "HBoxView",
      "box_style": "",
      "children": [
       "IPY_MODEL_a28c6b5a1dd44f8898f70c99f2300897",
       "IPY_MODEL_9695bb7f7a6c40c3858b54c38177e269",
       "IPY_MODEL_fff6275657134fb186dbf9ce94edb5e7"
      ],
      "layout": "IPY_MODEL_6cf4dc4bf13a4d5c9186ad447cfc6c11"
     }
    },
    "81f073dbbad346d0bdd80da0da291215": {
     "model_module": "@jupyter-widgets/controls",
     "model_module_version": "1.5.0",
     "model_name": "ProgressStyleModel",
     "state": {
      "_model_module": "@jupyter-widgets/controls",
      "_model_module_version": "1.5.0",
      "_model_name": "ProgressStyleModel",
      "_view_count": null,
      "_view_module": "@jupyter-widgets/base",
      "_view_module_version": "1.2.0",
      "_view_name": "StyleView",
      "bar_color": null,
      "description_width": ""
     }
    },
    "82d0db6dc5dc47d2bb8f78d90d4435ea": {
     "model_module": "@jupyter-widgets/controls",
     "model_module_version": "1.5.0",
     "model_name": "HTMLModel",
     "state": {
      "_dom_classes": [],
      "_model_module": "@jupyter-widgets/controls",
      "_model_module_version": "1.5.0",
      "_model_name": "HTMLModel",
      "_view_count": null,
      "_view_module": "@jupyter-widgets/controls",
      "_view_module_version": "1.5.0",
      "_view_name": "HTMLView",
      "description": "",
      "description_tooltip": null,
      "layout": "IPY_MODEL_f156b5ad06de40728738996ff0442f6c",
      "placeholder": "​",
      "style": "IPY_MODEL_e65d43f9494b41d48bab9a3dc64396b5",
      "value": " 6.34k/6.34k [00:00&lt;00:00, 321kB/s]"
     }
    },
    "83fe433eb5a740e8a2d757e737ffb02a": {
     "model_module": "@jupyter-widgets/base",
     "model_module_version": "1.2.0",
     "model_name": "LayoutModel",
     "state": {
      "_model_module": "@jupyter-widgets/base",
      "_model_module_version": "1.2.0",
      "_model_name": "LayoutModel",
      "_view_count": null,
      "_view_module": "@jupyter-widgets/base",
      "_view_module_version": "1.2.0",
      "_view_name": "LayoutView",
      "align_content": null,
      "align_items": null,
      "align_self": null,
      "border": null,
      "bottom": null,
      "display": null,
      "flex": null,
      "flex_flow": null,
      "grid_area": null,
      "grid_auto_columns": null,
      "grid_auto_flow": null,
      "grid_auto_rows": null,
      "grid_column": null,
      "grid_gap": null,
      "grid_row": null,
      "grid_template_areas": null,
      "grid_template_columns": null,
      "grid_template_rows": null,
      "height": null,
      "justify_content": null,
      "justify_items": null,
      "left": null,
      "margin": null,
      "max_height": null,
      "max_width": null,
      "min_height": null,
      "min_width": null,
      "object_fit": null,
      "object_position": null,
      "order": null,
      "overflow": null,
      "overflow_x": null,
      "overflow_y": null,
      "padding": null,
      "right": null,
      "top": null,
      "visibility": null,
      "width": null
     }
    },
    "84732dfba1504220b50c0a035fe2a867": {
     "model_module": "@jupyter-widgets/base",
     "model_module_version": "1.2.0",
     "model_name": "LayoutModel",
     "state": {
      "_model_module": "@jupyter-widgets/base",
      "_model_module_version": "1.2.0",
      "_model_name": "LayoutModel",
      "_view_count": null,
      "_view_module": "@jupyter-widgets/base",
      "_view_module_version": "1.2.0",
      "_view_name": "LayoutView",
      "align_content": null,
      "align_items": null,
      "align_self": null,
      "border": null,
      "bottom": null,
      "display": null,
      "flex": null,
      "flex_flow": null,
      "grid_area": null,
      "grid_auto_columns": null,
      "grid_auto_flow": null,
      "grid_auto_rows": null,
      "grid_column": null,
      "grid_gap": null,
      "grid_row": null,
      "grid_template_areas": null,
      "grid_template_columns": null,
      "grid_template_rows": null,
      "height": null,
      "justify_content": null,
      "justify_items": null,
      "left": null,
      "margin": null,
      "max_height": null,
      "max_width": null,
      "min_height": null,
      "min_width": null,
      "object_fit": null,
      "object_position": null,
      "order": null,
      "overflow": null,
      "overflow_x": null,
      "overflow_y": null,
      "padding": null,
      "right": null,
      "top": null,
      "visibility": null,
      "width": null
     }
    },
    "867c14680dd84c998d4e78182b157412": {
     "model_module": "@jupyter-widgets/base",
     "model_module_version": "1.2.0",
     "model_name": "LayoutModel",
     "state": {
      "_model_module": "@jupyter-widgets/base",
      "_model_module_version": "1.2.0",
      "_model_name": "LayoutModel",
      "_view_count": null,
      "_view_module": "@jupyter-widgets/base",
      "_view_module_version": "1.2.0",
      "_view_name": "LayoutView",
      "align_content": null,
      "align_items": null,
      "align_self": null,
      "border": null,
      "bottom": null,
      "display": null,
      "flex": null,
      "flex_flow": null,
      "grid_area": null,
      "grid_auto_columns": null,
      "grid_auto_flow": null,
      "grid_auto_rows": null,
      "grid_column": null,
      "grid_gap": null,
      "grid_row": null,
      "grid_template_areas": null,
      "grid_template_columns": null,
      "grid_template_rows": null,
      "height": null,
      "justify_content": null,
      "justify_items": null,
      "left": null,
      "margin": null,
      "max_height": null,
      "max_width": null,
      "min_height": null,
      "min_width": null,
      "object_fit": null,
      "object_position": null,
      "order": null,
      "overflow": null,
      "overflow_x": null,
      "overflow_y": null,
      "padding": null,
      "right": null,
      "top": null,
      "visibility": null,
      "width": null
     }
    },
    "87d8ba475c864548bce8051a4a267d64": {
     "model_module": "@jupyter-widgets/controls",
     "model_module_version": "1.5.0",
     "model_name": "HBoxModel",
     "state": {
      "_dom_classes": [],
      "_model_module": "@jupyter-widgets/controls",
      "_model_module_version": "1.5.0",
      "_model_name": "HBoxModel",
      "_view_count": null,
      "_view_module": "@jupyter-widgets/controls",
      "_view_module_version": "1.5.0",
      "_view_name": "HBoxView",
      "box_style": "",
      "children": [
       "IPY_MODEL_f46fe6fe3a5241ff9f03435d818bcb44",
       "IPY_MODEL_8ef33d7c57634d48a358f03024a9b19d",
       "IPY_MODEL_82d0db6dc5dc47d2bb8f78d90d4435ea"
      ],
      "layout": "IPY_MODEL_ca6ece53230d4e95b03f421305475ea3"
     }
    },
    "8abda490020449ac83d7bc6eac69ad1c": {
     "model_module": "@jupyter-widgets/controls",
     "model_module_version": "1.5.0",
     "model_name": "HTMLModel",
     "state": {
      "_dom_classes": [],
      "_model_module": "@jupyter-widgets/controls",
      "_model_module_version": "1.5.0",
      "_model_name": "HTMLModel",
      "_view_count": null,
      "_view_module": "@jupyter-widgets/controls",
      "_view_module_version": "1.5.0",
      "_view_name": "HTMLView",
      "description": "",
      "description_tooltip": null,
      "layout": "IPY_MODEL_d773da0a0b624b57b4e2f32c74089f4c",
      "placeholder": "​",
      "style": "IPY_MODEL_19a77db2b9a543dba098bdc392ebce3e",
      "value": " 232k/232k [00:00&lt;00:00, 968kB/s]"
     }
    },
    "8bf7096d7a0245ef8855df8736446a19": {
     "model_module": "@jupyter-widgets/controls",
     "model_module_version": "1.5.0",
     "model_name": "DescriptionStyleModel",
     "state": {
      "_model_module": "@jupyter-widgets/controls",
      "_model_module_version": "1.5.0",
      "_model_name": "DescriptionStyleModel",
      "_view_count": null,
      "_view_module": "@jupyter-widgets/base",
      "_view_module_version": "1.2.0",
      "_view_name": "StyleView",
      "description_width": ""
     }
    },
    "8ef33d7c57634d48a358f03024a9b19d": {
     "model_module": "@jupyter-widgets/controls",
     "model_module_version": "1.5.0",
     "model_name": "FloatProgressModel",
     "state": {
      "_dom_classes": [],
      "_model_module": "@jupyter-widgets/controls",
      "_model_module_version": "1.5.0",
      "_model_name": "FloatProgressModel",
      "_view_count": null,
      "_view_module": "@jupyter-widgets/controls",
      "_view_module_version": "1.5.0",
      "_view_name": "ProgressView",
      "bar_style": "success",
      "description": "",
      "description_tooltip": null,
      "layout": "IPY_MODEL_236d0a73cb664333bce246649e4ccb2b",
      "max": 6338,
      "min": 0,
      "orientation": "horizontal",
      "style": "IPY_MODEL_68e1360c5a7d430fbe6838ca31a2051e",
      "value": 6338
     }
    },
    "94fb091ac8564a62ad754e3d4a7f5d96": {
     "model_module": "@jupyter-widgets/base",
     "model_module_version": "1.2.0",
     "model_name": "LayoutModel",
     "state": {
      "_model_module": "@jupyter-widgets/base",
      "_model_module_version": "1.2.0",
      "_model_name": "LayoutModel",
      "_view_count": null,
      "_view_module": "@jupyter-widgets/base",
      "_view_module_version": "1.2.0",
      "_view_name": "LayoutView",
      "align_content": null,
      "align_items": null,
      "align_self": null,
      "border": null,
      "bottom": null,
      "display": null,
      "flex": null,
      "flex_flow": null,
      "grid_area": null,
      "grid_auto_columns": null,
      "grid_auto_flow": null,
      "grid_auto_rows": null,
      "grid_column": null,
      "grid_gap": null,
      "grid_row": null,
      "grid_template_areas": null,
      "grid_template_columns": null,
      "grid_template_rows": null,
      "height": null,
      "justify_content": null,
      "justify_items": null,
      "left": null,
      "margin": null,
      "max_height": null,
      "max_width": null,
      "min_height": null,
      "min_width": null,
      "object_fit": null,
      "object_position": null,
      "order": null,
      "overflow": null,
      "overflow_x": null,
      "overflow_y": null,
      "padding": null,
      "right": null,
      "top": null,
      "visibility": null,
      "width": null
     }
    },
    "9695bb7f7a6c40c3858b54c38177e269": {
     "model_module": "@jupyter-widgets/controls",
     "model_module_version": "1.5.0",
     "model_name": "FloatProgressModel",
     "state": {
      "_dom_classes": [],
      "_model_module": "@jupyter-widgets/controls",
      "_model_module_version": "1.5.0",
      "_model_name": "FloatProgressModel",
      "_view_count": null,
      "_view_module": "@jupyter-widgets/controls",
      "_view_module_version": "1.5.0",
      "_view_name": "ProgressView",
      "bar_style": "success",
      "description": "",
      "description_tooltip": null,
      "layout": "IPY_MODEL_4b3c75e0aa0c4e12979c0c5c7777e65e",
      "max": 570,
      "min": 0,
      "orientation": "horizontal",
      "style": "IPY_MODEL_4dee39607d72404ca17da3a19ca51401",
      "value": 570
     }
    },
    "a28c6b5a1dd44f8898f70c99f2300897": {
     "model_module": "@jupyter-widgets/controls",
     "model_module_version": "1.5.0",
     "model_name": "HTMLModel",
     "state": {
      "_dom_classes": [],
      "_model_module": "@jupyter-widgets/controls",
      "_model_module_version": "1.5.0",
      "_model_name": "HTMLModel",
      "_view_count": null,
      "_view_module": "@jupyter-widgets/controls",
      "_view_module_version": "1.5.0",
      "_view_name": "HTMLView",
      "description": "",
      "description_tooltip": null,
      "layout": "IPY_MODEL_5fcb0e3a66104a158e55766dee7cb5c1",
      "placeholder": "​",
      "style": "IPY_MODEL_467646914a824ae3b38e7f6dc07c1386",
      "value": "config.json: 100%"
     }
    },
    "b42421fdcf0b412690d59b48bba50198": {
     "model_module": "@jupyter-widgets/controls",
     "model_module_version": "1.5.0",
     "model_name": "DescriptionStyleModel",
     "state": {
      "_model_module": "@jupyter-widgets/controls",
      "_model_module_version": "1.5.0",
      "_model_name": "DescriptionStyleModel",
      "_view_count": null,
      "_view_module": "@jupyter-widgets/base",
      "_view_module_version": "1.2.0",
      "_view_name": "StyleView",
      "description_width": ""
     }
    },
    "b9741ed54f864f768ef5c6671b45c09a": {
     "model_module": "@jupyter-widgets/controls",
     "model_module_version": "1.5.0",
     "model_name": "DescriptionStyleModel",
     "state": {
      "_model_module": "@jupyter-widgets/controls",
      "_model_module_version": "1.5.0",
      "_model_name": "DescriptionStyleModel",
      "_view_count": null,
      "_view_module": "@jupyter-widgets/base",
      "_view_module_version": "1.2.0",
      "_view_name": "StyleView",
      "description_width": ""
     }
    },
    "b98f5dfbc081443b8a2a2d2ecd080b87": {
     "model_module": "@jupyter-widgets/controls",
     "model_module_version": "1.5.0",
     "model_name": "HBoxModel",
     "state": {
      "_dom_classes": [],
      "_model_module": "@jupyter-widgets/controls",
      "_model_module_version": "1.5.0",
      "_model_name": "HBoxModel",
      "_view_count": null,
      "_view_module": "@jupyter-widgets/controls",
      "_view_module_version": "1.5.0",
      "_view_name": "HBoxView",
      "box_style": "",
      "children": [
       "IPY_MODEL_45fcd577563d4a0994ed60b315630e15",
       "IPY_MODEL_bf32fb234aad4ce09d3e05a378eb45b7",
       "IPY_MODEL_60804a73cd5d451c9eabe77aff1caee6"
      ],
      "layout": "IPY_MODEL_be8f96f6345044078462c1f0fdc4a33e"
     }
    },
    "be8f96f6345044078462c1f0fdc4a33e": {
     "model_module": "@jupyter-widgets/base",
     "model_module_version": "1.2.0",
     "model_name": "LayoutModel",
     "state": {
      "_model_module": "@jupyter-widgets/base",
      "_model_module_version": "1.2.0",
      "_model_name": "LayoutModel",
      "_view_count": null,
      "_view_module": "@jupyter-widgets/base",
      "_view_module_version": "1.2.0",
      "_view_name": "LayoutView",
      "align_content": null,
      "align_items": null,
      "align_self": null,
      "border": null,
      "bottom": null,
      "display": null,
      "flex": null,
      "flex_flow": null,
      "grid_area": null,
      "grid_auto_columns": null,
      "grid_auto_flow": null,
      "grid_auto_rows": null,
      "grid_column": null,
      "grid_gap": null,
      "grid_row": null,
      "grid_template_areas": null,
      "grid_template_columns": null,
      "grid_template_rows": null,
      "height": null,
      "justify_content": null,
      "justify_items": null,
      "left": null,
      "margin": null,
      "max_height": null,
      "max_width": null,
      "min_height": null,
      "min_width": null,
      "object_fit": null,
      "object_position": null,
      "order": null,
      "overflow": null,
      "overflow_x": null,
      "overflow_y": null,
      "padding": null,
      "right": null,
      "top": null,
      "visibility": null,
      "width": null
     }
    },
    "bf32fb234aad4ce09d3e05a378eb45b7": {
     "model_module": "@jupyter-widgets/controls",
     "model_module_version": "1.5.0",
     "model_name": "FloatProgressModel",
     "state": {
      "_dom_classes": [],
      "_model_module": "@jupyter-widgets/controls",
      "_model_module_version": "1.5.0",
      "_model_name": "FloatProgressModel",
      "_view_count": null,
      "_view_module": "@jupyter-widgets/controls",
      "_view_module_version": "1.5.0",
      "_view_name": "ProgressView",
      "bar_style": "success",
      "description": "",
      "description_tooltip": null,
      "layout": "IPY_MODEL_1394ff47d34c4d6d8ed2010a83b09648",
      "max": 466062,
      "min": 0,
      "orientation": "horizontal",
      "style": "IPY_MODEL_47c3e2d835a14705b4c43ef0bfeb5164",
      "value": 466062
     }
    },
    "c731dfaf6b5347359252725424ffab9f": {
     "model_module": "@jupyter-widgets/controls",
     "model_module_version": "1.5.0",
     "model_name": "DescriptionStyleModel",
     "state": {
      "_model_module": "@jupyter-widgets/controls",
      "_model_module_version": "1.5.0",
      "_model_name": "DescriptionStyleModel",
      "_view_count": null,
      "_view_module": "@jupyter-widgets/base",
      "_view_module_version": "1.2.0",
      "_view_name": "StyleView",
      "description_width": ""
     }
    },
    "ca6ece53230d4e95b03f421305475ea3": {
     "model_module": "@jupyter-widgets/base",
     "model_module_version": "1.2.0",
     "model_name": "LayoutModel",
     "state": {
      "_model_module": "@jupyter-widgets/base",
      "_model_module_version": "1.2.0",
      "_model_name": "LayoutModel",
      "_view_count": null,
      "_view_module": "@jupyter-widgets/base",
      "_view_module_version": "1.2.0",
      "_view_name": "LayoutView",
      "align_content": null,
      "align_items": null,
      "align_self": null,
      "border": null,
      "bottom": null,
      "display": null,
      "flex": null,
      "flex_flow": null,
      "grid_area": null,
      "grid_auto_columns": null,
      "grid_auto_flow": null,
      "grid_auto_rows": null,
      "grid_column": null,
      "grid_gap": null,
      "grid_row": null,
      "grid_template_areas": null,
      "grid_template_columns": null,
      "grid_template_rows": null,
      "height": null,
      "justify_content": null,
      "justify_items": null,
      "left": null,
      "margin": null,
      "max_height": null,
      "max_width": null,
      "min_height": null,
      "min_width": null,
      "object_fit": null,
      "object_position": null,
      "order": null,
      "overflow": null,
      "overflow_x": null,
      "overflow_y": null,
      "padding": null,
      "right": null,
      "top": null,
      "visibility": null,
      "width": null
     }
    },
    "caefe7aeb55d462bb43cfc21c00c9434": {
     "model_module": "@jupyter-widgets/base",
     "model_module_version": "1.2.0",
     "model_name": "LayoutModel",
     "state": {
      "_model_module": "@jupyter-widgets/base",
      "_model_module_version": "1.2.0",
      "_model_name": "LayoutModel",
      "_view_count": null,
      "_view_module": "@jupyter-widgets/base",
      "_view_module_version": "1.2.0",
      "_view_name": "LayoutView",
      "align_content": null,
      "align_items": null,
      "align_self": null,
      "border": null,
      "bottom": null,
      "display": null,
      "flex": null,
      "flex_flow": null,
      "grid_area": null,
      "grid_auto_columns": null,
      "grid_auto_flow": null,
      "grid_auto_rows": null,
      "grid_column": null,
      "grid_gap": null,
      "grid_row": null,
      "grid_template_areas": null,
      "grid_template_columns": null,
      "grid_template_rows": null,
      "height": null,
      "justify_content": null,
      "justify_items": null,
      "left": null,
      "margin": null,
      "max_height": null,
      "max_width": null,
      "min_height": null,
      "min_width": null,
      "object_fit": null,
      "object_position": null,
      "order": null,
      "overflow": null,
      "overflow_x": null,
      "overflow_y": null,
      "padding": null,
      "right": null,
      "top": null,
      "visibility": null,
      "width": null
     }
    },
    "cfb8a213d79b47a482677b36858aaf12": {
     "model_module": "@jupyter-widgets/controls",
     "model_module_version": "1.5.0",
     "model_name": "HTMLModel",
     "state": {
      "_dom_classes": [],
      "_model_module": "@jupyter-widgets/controls",
      "_model_module_version": "1.5.0",
      "_model_name": "HTMLModel",
      "_view_count": null,
      "_view_module": "@jupyter-widgets/controls",
      "_view_module_version": "1.5.0",
      "_view_name": "HTMLView",
      "description": "",
      "description_tooltip": null,
      "layout": "IPY_MODEL_76a33986f2f34a7cbf24e1fdcba8e0a3",
      "placeholder": "​",
      "style": "IPY_MODEL_2ada89d80cf940be9f807c3655393ce9",
      "value": "tokenizer_config.json: 100%"
     }
    },
    "d563cca42ef14221a2afa9a37a5c25fa": {
     "model_module": "@jupyter-widgets/base",
     "model_module_version": "1.2.0",
     "model_name": "LayoutModel",
     "state": {
      "_model_module": "@jupyter-widgets/base",
      "_model_module_version": "1.2.0",
      "_model_name": "LayoutModel",
      "_view_count": null,
      "_view_module": "@jupyter-widgets/base",
      "_view_module_version": "1.2.0",
      "_view_name": "LayoutView",
      "align_content": null,
      "align_items": null,
      "align_self": null,
      "border": null,
      "bottom": null,
      "display": null,
      "flex": null,
      "flex_flow": null,
      "grid_area": null,
      "grid_auto_columns": null,
      "grid_auto_flow": null,
      "grid_auto_rows": null,
      "grid_column": null,
      "grid_gap": null,
      "grid_row": null,
      "grid_template_areas": null,
      "grid_template_columns": null,
      "grid_template_rows": null,
      "height": null,
      "justify_content": null,
      "justify_items": null,
      "left": null,
      "margin": null,
      "max_height": null,
      "max_width": null,
      "min_height": null,
      "min_width": null,
      "object_fit": null,
      "object_position": null,
      "order": null,
      "overflow": null,
      "overflow_x": null,
      "overflow_y": null,
      "padding": null,
      "right": null,
      "top": null,
      "visibility": null,
      "width": null
     }
    },
    "d773da0a0b624b57b4e2f32c74089f4c": {
     "model_module": "@jupyter-widgets/base",
     "model_module_version": "1.2.0",
     "model_name": "LayoutModel",
     "state": {
      "_model_module": "@jupyter-widgets/base",
      "_model_module_version": "1.2.0",
      "_model_name": "LayoutModel",
      "_view_count": null,
      "_view_module": "@jupyter-widgets/base",
      "_view_module_version": "1.2.0",
      "_view_name": "LayoutView",
      "align_content": null,
      "align_items": null,
      "align_self": null,
      "border": null,
      "bottom": null,
      "display": null,
      "flex": null,
      "flex_flow": null,
      "grid_area": null,
      "grid_auto_columns": null,
      "grid_auto_flow": null,
      "grid_auto_rows": null,
      "grid_column": null,
      "grid_gap": null,
      "grid_row": null,
      "grid_template_areas": null,
      "grid_template_columns": null,
      "grid_template_rows": null,
      "height": null,
      "justify_content": null,
      "justify_items": null,
      "left": null,
      "margin": null,
      "max_height": null,
      "max_width": null,
      "min_height": null,
      "min_width": null,
      "object_fit": null,
      "object_position": null,
      "order": null,
      "overflow": null,
      "overflow_x": null,
      "overflow_y": null,
      "padding": null,
      "right": null,
      "top": null,
      "visibility": null,
      "width": null
     }
    },
    "d777c2c5885c44f4ad1e44bdbd985955": {
     "model_module": "@jupyter-widgets/controls",
     "model_module_version": "1.5.0",
     "model_name": "FloatProgressModel",
     "state": {
      "_dom_classes": [],
      "_model_module": "@jupyter-widgets/controls",
      "_model_module_version": "1.5.0",
      "_model_name": "FloatProgressModel",
      "_view_count": null,
      "_view_module": "@jupyter-widgets/controls",
      "_view_module_version": "1.5.0",
      "_view_name": "ProgressView",
      "bar_style": "success",
      "description": "",
      "description_tooltip": null,
      "layout": "IPY_MODEL_94fb091ac8564a62ad754e3d4a7f5d96",
      "max": 231508,
      "min": 0,
      "orientation": "horizontal",
      "style": "IPY_MODEL_e79c6d54287d41ffbc443b5d614e5433",
      "value": 231508
     }
    },
    "dcea58e4bc5f4dfab7ca4da94c914a48": {
     "model_module": "@jupyter-widgets/controls",
     "model_module_version": "1.5.0",
     "model_name": "FloatProgressModel",
     "state": {
      "_dom_classes": [],
      "_model_module": "@jupyter-widgets/controls",
      "_model_module_version": "1.5.0",
      "_model_name": "FloatProgressModel",
      "_view_count": null,
      "_view_module": "@jupyter-widgets/controls",
      "_view_module_version": "1.5.0",
      "_view_name": "ProgressView",
      "bar_style": "success",
      "description": "",
      "description_tooltip": null,
      "layout": "IPY_MODEL_1fc43ed603804ea08e8db0d13937b079",
      "max": 48,
      "min": 0,
      "orientation": "horizontal",
      "style": "IPY_MODEL_81f073dbbad346d0bdd80da0da291215",
      "value": 48
     }
    },
    "e5223b587f7a4fe3acc7a47e4517e0ef": {
     "model_module": "@jupyter-widgets/base",
     "model_module_version": "1.2.0",
     "model_name": "LayoutModel",
     "state": {
      "_model_module": "@jupyter-widgets/base",
      "_model_module_version": "1.2.0",
      "_model_name": "LayoutModel",
      "_view_count": null,
      "_view_module": "@jupyter-widgets/base",
      "_view_module_version": "1.2.0",
      "_view_name": "LayoutView",
      "align_content": null,
      "align_items": null,
      "align_self": null,
      "border": null,
      "bottom": null,
      "display": null,
      "flex": null,
      "flex_flow": null,
      "grid_area": null,
      "grid_auto_columns": null,
      "grid_auto_flow": null,
      "grid_auto_rows": null,
      "grid_column": null,
      "grid_gap": null,
      "grid_row": null,
      "grid_template_areas": null,
      "grid_template_columns": null,
      "grid_template_rows": null,
      "height": null,
      "justify_content": null,
      "justify_items": null,
      "left": null,
      "margin": null,
      "max_height": null,
      "max_width": null,
      "min_height": null,
      "min_width": null,
      "object_fit": null,
      "object_position": null,
      "order": null,
      "overflow": null,
      "overflow_x": null,
      "overflow_y": null,
      "padding": null,
      "right": null,
      "top": null,
      "visibility": null,
      "width": null
     }
    },
    "e65d43f9494b41d48bab9a3dc64396b5": {
     "model_module": "@jupyter-widgets/controls",
     "model_module_version": "1.5.0",
     "model_name": "DescriptionStyleModel",
     "state": {
      "_model_module": "@jupyter-widgets/controls",
      "_model_module_version": "1.5.0",
      "_model_name": "DescriptionStyleModel",
      "_view_count": null,
      "_view_module": "@jupyter-widgets/base",
      "_view_module_version": "1.2.0",
      "_view_name": "StyleView",
      "description_width": ""
     }
    },
    "e723ef6487874645bdbc5307027fdaa1": {
     "model_module": "@jupyter-widgets/base",
     "model_module_version": "1.2.0",
     "model_name": "LayoutModel",
     "state": {
      "_model_module": "@jupyter-widgets/base",
      "_model_module_version": "1.2.0",
      "_model_name": "LayoutModel",
      "_view_count": null,
      "_view_module": "@jupyter-widgets/base",
      "_view_module_version": "1.2.0",
      "_view_name": "LayoutView",
      "align_content": null,
      "align_items": null,
      "align_self": null,
      "border": null,
      "bottom": null,
      "display": null,
      "flex": null,
      "flex_flow": null,
      "grid_area": null,
      "grid_auto_columns": null,
      "grid_auto_flow": null,
      "grid_auto_rows": null,
      "grid_column": null,
      "grid_gap": null,
      "grid_row": null,
      "grid_template_areas": null,
      "grid_template_columns": null,
      "grid_template_rows": null,
      "height": null,
      "justify_content": null,
      "justify_items": null,
      "left": null,
      "margin": null,
      "max_height": null,
      "max_width": null,
      "min_height": null,
      "min_width": null,
      "object_fit": null,
      "object_position": null,
      "order": null,
      "overflow": null,
      "overflow_x": null,
      "overflow_y": null,
      "padding": null,
      "right": null,
      "top": null,
      "visibility": null,
      "width": null
     }
    },
    "e79c6d54287d41ffbc443b5d614e5433": {
     "model_module": "@jupyter-widgets/controls",
     "model_module_version": "1.5.0",
     "model_name": "ProgressStyleModel",
     "state": {
      "_model_module": "@jupyter-widgets/controls",
      "_model_module_version": "1.5.0",
      "_model_name": "ProgressStyleModel",
      "_view_count": null,
      "_view_module": "@jupyter-widgets/base",
      "_view_module_version": "1.2.0",
      "_view_name": "StyleView",
      "bar_color": null,
      "description_width": ""
     }
    },
    "f049e1d471584804833045c0d3a53190": {
     "model_module": "@jupyter-widgets/controls",
     "model_module_version": "1.5.0",
     "model_name": "HTMLModel",
     "state": {
      "_dom_classes": [],
      "_model_module": "@jupyter-widgets/controls",
      "_model_module_version": "1.5.0",
      "_model_name": "HTMLModel",
      "_view_count": null,
      "_view_module": "@jupyter-widgets/controls",
      "_view_module_version": "1.5.0",
      "_view_name": "HTMLView",
      "description": "",
      "description_tooltip": null,
      "layout": "IPY_MODEL_83fe433eb5a740e8a2d757e737ffb02a",
      "placeholder": "​",
      "style": "IPY_MODEL_f0805c6a2de64e699fad5c3b1d99cc3b",
      "value": "vocab.txt: 100%"
     }
    },
    "f0805c6a2de64e699fad5c3b1d99cc3b": {
     "model_module": "@jupyter-widgets/controls",
     "model_module_version": "1.5.0",
     "model_name": "DescriptionStyleModel",
     "state": {
      "_model_module": "@jupyter-widgets/controls",
      "_model_module_version": "1.5.0",
      "_model_name": "DescriptionStyleModel",
      "_view_count": null,
      "_view_module": "@jupyter-widgets/base",
      "_view_module_version": "1.2.0",
      "_view_name": "StyleView",
      "description_width": ""
     }
    },
    "f156b5ad06de40728738996ff0442f6c": {
     "model_module": "@jupyter-widgets/base",
     "model_module_version": "1.2.0",
     "model_name": "LayoutModel",
     "state": {
      "_model_module": "@jupyter-widgets/base",
      "_model_module_version": "1.2.0",
      "_model_name": "LayoutModel",
      "_view_count": null,
      "_view_module": "@jupyter-widgets/base",
      "_view_module_version": "1.2.0",
      "_view_name": "LayoutView",
      "align_content": null,
      "align_items": null,
      "align_self": null,
      "border": null,
      "bottom": null,
      "display": null,
      "flex": null,
      "flex_flow": null,
      "grid_area": null,
      "grid_auto_columns": null,
      "grid_auto_flow": null,
      "grid_auto_rows": null,
      "grid_column": null,
      "grid_gap": null,
      "grid_row": null,
      "grid_template_areas": null,
      "grid_template_columns": null,
      "grid_template_rows": null,
      "height": null,
      "justify_content": null,
      "justify_items": null,
      "left": null,
      "margin": null,
      "max_height": null,
      "max_width": null,
      "min_height": null,
      "min_width": null,
      "object_fit": null,
      "object_position": null,
      "order": null,
      "overflow": null,
      "overflow_x": null,
      "overflow_y": null,
      "padding": null,
      "right": null,
      "top": null,
      "visibility": null,
      "width": null
     }
    },
    "f46fe6fe3a5241ff9f03435d818bcb44": {
     "model_module": "@jupyter-widgets/controls",
     "model_module_version": "1.5.0",
     "model_name": "HTMLModel",
     "state": {
      "_dom_classes": [],
      "_model_module": "@jupyter-widgets/controls",
      "_model_module_version": "1.5.0",
      "_model_name": "HTMLModel",
      "_view_count": null,
      "_view_module": "@jupyter-widgets/controls",
      "_view_module_version": "1.5.0",
      "_view_name": "HTMLView",
      "description": "",
      "description_tooltip": null,
      "layout": "IPY_MODEL_84732dfba1504220b50c0a035fe2a867",
      "placeholder": "​",
      "style": "IPY_MODEL_b9741ed54f864f768ef5c6671b45c09a",
      "value": "Downloading builder script: 100%"
     }
    },
    "fe71e8a14585414faa209dfcbc1480c9": {
     "model_module": "@jupyter-widgets/controls",
     "model_module_version": "1.5.0",
     "model_name": "DescriptionStyleModel",
     "state": {
      "_model_module": "@jupyter-widgets/controls",
      "_model_module_version": "1.5.0",
      "_model_name": "DescriptionStyleModel",
      "_view_count": null,
      "_view_module": "@jupyter-widgets/base",
      "_view_module_version": "1.2.0",
      "_view_name": "StyleView",
      "description_width": ""
     }
    },
    "fff6275657134fb186dbf9ce94edb5e7": {
     "model_module": "@jupyter-widgets/controls",
     "model_module_version": "1.5.0",
     "model_name": "HTMLModel",
     "state": {
      "_dom_classes": [],
      "_model_module": "@jupyter-widgets/controls",
      "_model_module_version": "1.5.0",
      "_model_name": "HTMLModel",
      "_view_count": null,
      "_view_module": "@jupyter-widgets/controls",
      "_view_module_version": "1.5.0",
      "_view_name": "HTMLView",
      "description": "",
      "description_tooltip": null,
      "layout": "IPY_MODEL_7fcac46a1a7c4427b079c9c20c26e332",
      "placeholder": "​",
      "style": "IPY_MODEL_540258638e39457d8fac71558dddfd5a",
      "value": " 570/570 [00:00&lt;00:00, 41.0kB/s]"
     }
    }
   }
  }
 },
 "nbformat": 4,
 "nbformat_minor": 5
}
