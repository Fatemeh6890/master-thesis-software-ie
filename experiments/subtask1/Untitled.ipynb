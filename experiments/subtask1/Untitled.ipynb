{
 "cells": [
  {
   "cell_type": "code",
   "execution_count": 1,
   "id": "c7398fa3",
   "metadata": {},
   "outputs": [
    {
     "name": "stderr",
     "output_type": "stream",
     "text": [
      "C:\\Users\\fschr\\AppData\\Roaming\\Python\\Python311\\site-packages\\pandas\\core\\arrays\\masked.py:60: UserWarning: Pandas requires version '1.3.6' or newer of 'bottleneck' (version '1.3.5' currently installed).\n",
      "  from pandas.core import (\n"
     ]
    }
   ],
   "source": [
    "import json\n",
    "import pandas as pd\n",
    "\n",
    "path = \"negative_sampling_rate/0_0/trainer_state.json\""
   ]
  },
  {
   "cell_type": "code",
   "execution_count": 2,
   "id": "e2e7c76b",
   "metadata": {},
   "outputs": [
    {
     "data": {
      "text/plain": [
       "dict_keys(['best_metric', 'best_model_checkpoint', 'epoch', 'eval_steps', 'global_step', 'is_hyper_param_search', 'is_local_process_zero', 'is_world_process_zero', 'log_history', 'logging_steps', 'max_steps', 'num_input_tokens_seen', 'num_train_epochs', 'save_steps', 'total_flos', 'train_batch_size', 'trial_name', 'trial_params'])"
      ]
     },
     "execution_count": 2,
     "metadata": {},
     "output_type": "execute_result"
    }
   ],
   "source": [
    "with open(path) as file:\n",
    "    data = json.load(file)\n",
    "    \n",
    "data.keys()"
   ]
  },
  {
   "cell_type": "code",
   "execution_count": 3,
   "id": "25eac3d7",
   "metadata": {},
   "outputs": [],
   "source": [
    "log = pd.DataFrame(data['log_history'])"
   ]
  },
  {
   "cell_type": "code",
   "execution_count": 7,
   "id": "06c71949",
   "metadata": {},
   "outputs": [],
   "source": [
    "precision, recall, f1 = log.iloc[-1]['eval_overall_precision'], log.iloc[-1]['eval_overall_recall'], log.iloc[-1]['eval_overall_f1']"
   ]
  },
  {
   "cell_type": "code",
   "execution_count": 6,
   "id": "a5ba68a8",
   "metadata": {},
   "outputs": [],
   "source": [
    "# f = pd.isnull(log.loss)"
   ]
  },
  {
   "cell_type": "code",
   "execution_count": 8,
   "id": "ed1a8c42",
   "metadata": {},
   "outputs": [
    {
     "data": {
      "text/html": [
       "<div>\n",
       "<style scoped>\n",
       "    .dataframe tbody tr th:only-of-type {\n",
       "        vertical-align: middle;\n",
       "    }\n",
       "\n",
       "    .dataframe tbody tr th {\n",
       "        vertical-align: top;\n",
       "    }\n",
       "\n",
       "    .dataframe thead th {\n",
       "        text-align: right;\n",
       "    }\n",
       "</style>\n",
       "<table border=\"1\" class=\"dataframe\">\n",
       "  <thead>\n",
       "    <tr style=\"text-align: right;\">\n",
       "      <th></th>\n",
       "      <th>epoch</th>\n",
       "      <th>eval_Application_Creation</th>\n",
       "      <th>eval_Application_Deposition</th>\n",
       "      <th>eval_Application_Mention</th>\n",
       "      <th>eval_Application_Usage</th>\n",
       "      <th>eval_OperatingSystem_Mention</th>\n",
       "      <th>eval_OperatingSystem_Usage</th>\n",
       "      <th>eval_PlugIn_Creation</th>\n",
       "      <th>eval_PlugIn_Deposition</th>\n",
       "      <th>eval_PlugIn_Mention</th>\n",
       "      <th>...</th>\n",
       "      <th>eval_SoftwareCoreference_Deposition</th>\n",
       "      <th>eval_loss</th>\n",
       "      <th>eval_overall_accuracy</th>\n",
       "      <th>eval_overall_f1</th>\n",
       "      <th>eval_overall_precision</th>\n",
       "      <th>eval_overall_recall</th>\n",
       "      <th>eval_runtime</th>\n",
       "      <th>eval_samples_per_second</th>\n",
       "      <th>eval_steps_per_second</th>\n",
       "      <th>step</th>\n",
       "    </tr>\n",
       "  </thead>\n",
       "  <tbody>\n",
       "    <tr>\n",
       "      <th>0</th>\n",
       "      <td>0.990826</td>\n",
       "      <td>{'f1': 0.0, 'number': 44, 'precision': 0.0, 'r...</td>\n",
       "      <td>{'f1': 0.0, 'number': 25, 'precision': 0.0, 'r...</td>\n",
       "      <td>{'f1': 0.0, 'number': 45, 'precision': 0.0, 'r...</td>\n",
       "      <td>{'f1': 0.0, 'number': 529, 'precision': 0.0, '...</td>\n",
       "      <td>{'f1': 0.0, 'number': 4, 'precision': 0.0, 're...</td>\n",
       "      <td>{'f1': 0.0, 'number': 30, 'precision': 0.0, 'r...</td>\n",
       "      <td>{'f1': 0.0, 'number': 12, 'precision': 0.0, 'r...</td>\n",
       "      <td>{'f1': 0.0, 'number': 3, 'precision': 0.0, 're...</td>\n",
       "      <td>{'f1': 0.0, 'number': 7, 'precision': 0.0, 're...</td>\n",
       "      <td>...</td>\n",
       "      <td>{'f1': 0.0, 'number': 12, 'precision': 0.0, 'r...</td>\n",
       "      <td>0.066517</td>\n",
       "      <td>0.996071</td>\n",
       "      <td>0.000000</td>\n",
       "      <td>0.000000</td>\n",
       "      <td>0.000000</td>\n",
       "      <td>29.8214</td>\n",
       "      <td>333.385</td>\n",
       "      <td>41.681</td>\n",
       "      <td>27</td>\n",
       "    </tr>\n",
       "    <tr>\n",
       "      <th>1</th>\n",
       "      <td>1.981651</td>\n",
       "      <td>{'f1': 0.0, 'number': 44, 'precision': 0.0, 'r...</td>\n",
       "      <td>{'f1': 0.0, 'number': 25, 'precision': 0.0, 'r...</td>\n",
       "      <td>{'f1': 0.0, 'number': 45, 'precision': 0.0, 'r...</td>\n",
       "      <td>{'f1': 0.398406374501992, 'number': 529, 'prec...</td>\n",
       "      <td>{'f1': 0.0, 'number': 4, 'precision': 0.0, 're...</td>\n",
       "      <td>{'f1': 0.0, 'number': 30, 'precision': 0.0, 'r...</td>\n",
       "      <td>{'f1': 0.0, 'number': 12, 'precision': 0.0, 'r...</td>\n",
       "      <td>{'f1': 0.0, 'number': 3, 'precision': 0.0, 're...</td>\n",
       "      <td>{'f1': 0.0, 'number': 7, 'precision': 0.0, 're...</td>\n",
       "      <td>...</td>\n",
       "      <td>{'f1': 0.0, 'number': 12, 'precision': 0.0, 'r...</td>\n",
       "      <td>0.050223</td>\n",
       "      <td>0.996103</td>\n",
       "      <td>0.298730</td>\n",
       "      <td>0.421053</td>\n",
       "      <td>0.231481</td>\n",
       "      <td>27.8507</td>\n",
       "      <td>356.974</td>\n",
       "      <td>44.631</td>\n",
       "      <td>54</td>\n",
       "    </tr>\n",
       "    <tr>\n",
       "      <th>2</th>\n",
       "      <td>2.972477</td>\n",
       "      <td>{'f1': 0.0, 'number': 44, 'precision': 0.0, 'r...</td>\n",
       "      <td>{'f1': 0.0, 'number': 25, 'precision': 0.0, 'r...</td>\n",
       "      <td>{'f1': 0.0, 'number': 45, 'precision': 0.0, 'r...</td>\n",
       "      <td>{'f1': 0.26130653266331655, 'number': 529, 'pr...</td>\n",
       "      <td>{'f1': 0.0, 'number': 4, 'precision': 0.0, 're...</td>\n",
       "      <td>{'f1': 0.0, 'number': 30, 'precision': 0.0, 'r...</td>\n",
       "      <td>{'f1': 0.0, 'number': 12, 'precision': 0.0, 'r...</td>\n",
       "      <td>{'f1': 0.0, 'number': 3, 'precision': 0.0, 're...</td>\n",
       "      <td>{'f1': 0.0, 'number': 7, 'precision': 0.0, 're...</td>\n",
       "      <td>...</td>\n",
       "      <td>{'f1': 0.0, 'number': 12, 'precision': 0.0, 'r...</td>\n",
       "      <td>0.044423</td>\n",
       "      <td>0.991500</td>\n",
       "      <td>0.234940</td>\n",
       "      <td>0.158795</td>\n",
       "      <td>0.451389</td>\n",
       "      <td>28.3459</td>\n",
       "      <td>350.739</td>\n",
       "      <td>43.851</td>\n",
       "      <td>81</td>\n",
       "    </tr>\n",
       "    <tr>\n",
       "      <th>3</th>\n",
       "      <td>4.000000</td>\n",
       "      <td>{'f1': 0.0, 'number': 44, 'precision': 0.0, 'r...</td>\n",
       "      <td>{'f1': 0.0, 'number': 25, 'precision': 0.0, 'r...</td>\n",
       "      <td>{'f1': 0.0, 'number': 45, 'precision': 0.0, 'r...</td>\n",
       "      <td>{'f1': 0.2641154328732748, 'number': 529, 'pre...</td>\n",
       "      <td>{'f1': 0.0, 'number': 4, 'precision': 0.0, 're...</td>\n",
       "      <td>{'f1': 0.0, 'number': 30, 'precision': 0.0, 'r...</td>\n",
       "      <td>{'f1': 0.0, 'number': 12, 'precision': 0.0, 'r...</td>\n",
       "      <td>{'f1': 0.0, 'number': 3, 'precision': 0.0, 're...</td>\n",
       "      <td>{'f1': 0.0, 'number': 7, 'precision': 0.0, 're...</td>\n",
       "      <td>...</td>\n",
       "      <td>{'f1': 0.0, 'number': 12, 'precision': 0.0, 'r...</td>\n",
       "      <td>0.037813</td>\n",
       "      <td>0.991209</td>\n",
       "      <td>0.239001</td>\n",
       "      <td>0.158330</td>\n",
       "      <td>0.487269</td>\n",
       "      <td>28.3900</td>\n",
       "      <td>350.193</td>\n",
       "      <td>43.783</td>\n",
       "      <td>109</td>\n",
       "    </tr>\n",
       "    <tr>\n",
       "      <th>4</th>\n",
       "      <td>4.954128</td>\n",
       "      <td>{'f1': 0.0, 'number': 44, 'precision': 0.0, 'r...</td>\n",
       "      <td>{'f1': 0.0, 'number': 25, 'precision': 0.0, 'r...</td>\n",
       "      <td>{'f1': 0.0, 'number': 45, 'precision': 0.0, 'r...</td>\n",
       "      <td>{'f1': 0.2680088078011954, 'number': 529, 'pre...</td>\n",
       "      <td>{'f1': 0.0, 'number': 4, 'precision': 0.0, 're...</td>\n",
       "      <td>{'f1': 0.0, 'number': 30, 'precision': 0.0, 'r...</td>\n",
       "      <td>{'f1': 0.0, 'number': 12, 'precision': 0.0, 'r...</td>\n",
       "      <td>{'f1': 0.0, 'number': 3, 'precision': 0.0, 're...</td>\n",
       "      <td>{'f1': 0.0, 'number': 7, 'precision': 0.0, 're...</td>\n",
       "      <td>...</td>\n",
       "      <td>{'f1': 0.0, 'number': 12, 'precision': 0.0, 'r...</td>\n",
       "      <td>0.037159</td>\n",
       "      <td>0.991244</td>\n",
       "      <td>0.243750</td>\n",
       "      <td>0.161521</td>\n",
       "      <td>0.496528</td>\n",
       "      <td>28.6624</td>\n",
       "      <td>346.866</td>\n",
       "      <td>43.367</td>\n",
       "      <td>135</td>\n",
       "    </tr>\n",
       "  </tbody>\n",
       "</table>\n",
       "<p>5 rows × 23 columns</p>\n",
       "</div>"
      ],
      "text/plain": [
       "      epoch                          eval_Application_Creation  \\\n",
       "0  0.990826  {'f1': 0.0, 'number': 44, 'precision': 0.0, 'r...   \n",
       "1  1.981651  {'f1': 0.0, 'number': 44, 'precision': 0.0, 'r...   \n",
       "2  2.972477  {'f1': 0.0, 'number': 44, 'precision': 0.0, 'r...   \n",
       "3  4.000000  {'f1': 0.0, 'number': 44, 'precision': 0.0, 'r...   \n",
       "4  4.954128  {'f1': 0.0, 'number': 44, 'precision': 0.0, 'r...   \n",
       "\n",
       "                         eval_Application_Deposition  \\\n",
       "0  {'f1': 0.0, 'number': 25, 'precision': 0.0, 'r...   \n",
       "1  {'f1': 0.0, 'number': 25, 'precision': 0.0, 'r...   \n",
       "2  {'f1': 0.0, 'number': 25, 'precision': 0.0, 'r...   \n",
       "3  {'f1': 0.0, 'number': 25, 'precision': 0.0, 'r...   \n",
       "4  {'f1': 0.0, 'number': 25, 'precision': 0.0, 'r...   \n",
       "\n",
       "                            eval_Application_Mention  \\\n",
       "0  {'f1': 0.0, 'number': 45, 'precision': 0.0, 'r...   \n",
       "1  {'f1': 0.0, 'number': 45, 'precision': 0.0, 'r...   \n",
       "2  {'f1': 0.0, 'number': 45, 'precision': 0.0, 'r...   \n",
       "3  {'f1': 0.0, 'number': 45, 'precision': 0.0, 'r...   \n",
       "4  {'f1': 0.0, 'number': 45, 'precision': 0.0, 'r...   \n",
       "\n",
       "                              eval_Application_Usage  \\\n",
       "0  {'f1': 0.0, 'number': 529, 'precision': 0.0, '...   \n",
       "1  {'f1': 0.398406374501992, 'number': 529, 'prec...   \n",
       "2  {'f1': 0.26130653266331655, 'number': 529, 'pr...   \n",
       "3  {'f1': 0.2641154328732748, 'number': 529, 'pre...   \n",
       "4  {'f1': 0.2680088078011954, 'number': 529, 'pre...   \n",
       "\n",
       "                        eval_OperatingSystem_Mention  \\\n",
       "0  {'f1': 0.0, 'number': 4, 'precision': 0.0, 're...   \n",
       "1  {'f1': 0.0, 'number': 4, 'precision': 0.0, 're...   \n",
       "2  {'f1': 0.0, 'number': 4, 'precision': 0.0, 're...   \n",
       "3  {'f1': 0.0, 'number': 4, 'precision': 0.0, 're...   \n",
       "4  {'f1': 0.0, 'number': 4, 'precision': 0.0, 're...   \n",
       "\n",
       "                          eval_OperatingSystem_Usage  \\\n",
       "0  {'f1': 0.0, 'number': 30, 'precision': 0.0, 'r...   \n",
       "1  {'f1': 0.0, 'number': 30, 'precision': 0.0, 'r...   \n",
       "2  {'f1': 0.0, 'number': 30, 'precision': 0.0, 'r...   \n",
       "3  {'f1': 0.0, 'number': 30, 'precision': 0.0, 'r...   \n",
       "4  {'f1': 0.0, 'number': 30, 'precision': 0.0, 'r...   \n",
       "\n",
       "                                eval_PlugIn_Creation  \\\n",
       "0  {'f1': 0.0, 'number': 12, 'precision': 0.0, 'r...   \n",
       "1  {'f1': 0.0, 'number': 12, 'precision': 0.0, 'r...   \n",
       "2  {'f1': 0.0, 'number': 12, 'precision': 0.0, 'r...   \n",
       "3  {'f1': 0.0, 'number': 12, 'precision': 0.0, 'r...   \n",
       "4  {'f1': 0.0, 'number': 12, 'precision': 0.0, 'r...   \n",
       "\n",
       "                              eval_PlugIn_Deposition  \\\n",
       "0  {'f1': 0.0, 'number': 3, 'precision': 0.0, 're...   \n",
       "1  {'f1': 0.0, 'number': 3, 'precision': 0.0, 're...   \n",
       "2  {'f1': 0.0, 'number': 3, 'precision': 0.0, 're...   \n",
       "3  {'f1': 0.0, 'number': 3, 'precision': 0.0, 're...   \n",
       "4  {'f1': 0.0, 'number': 3, 'precision': 0.0, 're...   \n",
       "\n",
       "                                 eval_PlugIn_Mention  ...  \\\n",
       "0  {'f1': 0.0, 'number': 7, 'precision': 0.0, 're...  ...   \n",
       "1  {'f1': 0.0, 'number': 7, 'precision': 0.0, 're...  ...   \n",
       "2  {'f1': 0.0, 'number': 7, 'precision': 0.0, 're...  ...   \n",
       "3  {'f1': 0.0, 'number': 7, 'precision': 0.0, 're...  ...   \n",
       "4  {'f1': 0.0, 'number': 7, 'precision': 0.0, 're...  ...   \n",
       "\n",
       "                 eval_SoftwareCoreference_Deposition eval_loss  \\\n",
       "0  {'f1': 0.0, 'number': 12, 'precision': 0.0, 'r...  0.066517   \n",
       "1  {'f1': 0.0, 'number': 12, 'precision': 0.0, 'r...  0.050223   \n",
       "2  {'f1': 0.0, 'number': 12, 'precision': 0.0, 'r...  0.044423   \n",
       "3  {'f1': 0.0, 'number': 12, 'precision': 0.0, 'r...  0.037813   \n",
       "4  {'f1': 0.0, 'number': 12, 'precision': 0.0, 'r...  0.037159   \n",
       "\n",
       "  eval_overall_accuracy eval_overall_f1  eval_overall_precision  \\\n",
       "0              0.996071        0.000000                0.000000   \n",
       "1              0.996103        0.298730                0.421053   \n",
       "2              0.991500        0.234940                0.158795   \n",
       "3              0.991209        0.239001                0.158330   \n",
       "4              0.991244        0.243750                0.161521   \n",
       "\n",
       "   eval_overall_recall  eval_runtime  eval_samples_per_second  \\\n",
       "0             0.000000       29.8214                  333.385   \n",
       "1             0.231481       27.8507                  356.974   \n",
       "2             0.451389       28.3459                  350.739   \n",
       "3             0.487269       28.3900                  350.193   \n",
       "4             0.496528       28.6624                  346.866   \n",
       "\n",
       "   eval_steps_per_second  step  \n",
       "0                 41.681    27  \n",
       "1                 44.631    54  \n",
       "2                 43.851    81  \n",
       "3                 43.783   109  \n",
       "4                 43.367   135  \n",
       "\n",
       "[5 rows x 23 columns]"
      ]
     },
     "execution_count": 8,
     "metadata": {},
     "output_type": "execute_result"
    }
   ],
   "source": [
    "log"
   ]
  },
  {
   "cell_type": "code",
   "execution_count": 9,
   "id": "53c4100c",
   "metadata": {},
   "outputs": [
    {
     "data": {
      "text/plain": [
       "(0.1615210843373494, 0.4965277777777778, 0.24375000000000002)"
      ]
     },
     "execution_count": 9,
     "metadata": {},
     "output_type": "execute_result"
    }
   ],
   "source": [
    "precision, recall, f1"
   ]
  },
  {
   "cell_type": "code",
   "execution_count": 10,
   "id": "ea747e4d",
   "metadata": {},
   "outputs": [
    {
     "data": {
      "text/plain": [
       "<Axes: xlabel='epoch'>"
      ]
     },
     "execution_count": 10,
     "metadata": {},
     "output_type": "execute_result"
    },
    {
     "data": {
      "image/png": "[encoded data removed]",
      "text/plain": [
       "<Figure size 640x480 with 1 Axes>"
      ]
     },
     "metadata": {},
     "output_type": "display_data"
    }
   ],
   "source": [
    "log[f].set_index('epoch').eval_overall_f1.plot()"
   ]
  },
  {
   "cell_type": "code",
   "execution_count": null,
   "id": "63d6edf3",
   "metadata": {},
   "outputs": [],
   "source": []
  }
 ],
 "metadata": {
  "kernelspec": {
   "display_name": "Python 3 (ipykernel)",
   "language": "python",
   "name": "python3"
  },
  "language_info": {
   "codemirror_mode": {
    "name": "ipython",
    "version": 3
   },
   "file_extension": ".py",
   "mimetype": "text/x-python",
   "name": "python",
   "nbconvert_exporter": "python",
   "pygments_lexer": "ipython3",
   "version": "3.11.4"
  }
 },
 "nbformat": 4,
 "nbformat_minor": 5
}
