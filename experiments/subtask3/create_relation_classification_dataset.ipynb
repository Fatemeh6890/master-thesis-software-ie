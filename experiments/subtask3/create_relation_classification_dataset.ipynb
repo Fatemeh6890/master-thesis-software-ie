{
 "cells": [
  {
   "cell_type": "markdown",
   "id": "d3b69ef3-5a82-4dc5-91da-08d45d4bfb99",
   "metadata": {
    "id": "827a7a6e"
   },
   "source": [
    "# Create Dataset for relation classification"
   ]
  },
  {
   "cell_type": "code",
   "execution_count": 1,
   "id": "c286d35d-1a5f-45d5-991c-963af12323f1",
   "metadata": {
    "id": "827a7a6e"
   },
   "outputs": [
    {
     "name": "stderr",
     "output_type": "stream",
     "text": [
      "/home/ottowg/.pyenv/versions/somd_master/lib/python3.10/site-packages/tqdm/auto.py:21: TqdmWarning: IProgress not found. Please update jupyter and ipywidgets. See https://ipywidgets.readthedocs.io/en/stable/user_install.html\n",
      "  from .autonotebook import tqdm as notebook_tqdm\n"
     ]
    }
   ],
   "source": [
    "import sys\n",
    "# sys.path.insert(1, 'C:/Users/fschr/Desktop/Masterarbeit/master-thesis-software-ie/experiments')\n",
    "sys.path.append(\"..\")\n",
    "import helper\n",
    "\n",
    "import pandas as pd\n",
    "import numpy as np\n",
    "import json\n",
    "import gc\n",
    "\n",
    "from sklearn.model_selection import train_test_split\n",
    "\n",
    "import re"
   ]
  },
  {
   "cell_type": "markdown",
   "id": "fda3198f-bc3d-4042-9bbd-57db8c3d7649",
   "metadata": {
    "id": "73b1aa82"
   },
   "source": [
    "### Read the datasets"
   ]
  },
  {
   "cell_type": "code",
   "execution_count": 28,
   "id": "de7080be-9254-4dd8-92c4-1f356375aca6",
   "metadata": {
    "id": "61b00b4d"
   },
   "outputs": [],
   "source": [
    "# open the data of sentences\n",
    "split = \"train\" \n",
    "split = \"test\"\n",
    "with open(f'../../data/subtask3/subtask3_{split}.data.txt', 'r', encoding='utf-8') as file: #../master-thesis-software-ie/data/subtask3/\n",
    "    sentences = file.readlines()\n",
    "\n",
    "# open the entity labels\n",
    "with open(f'../../data/subtask3/subtask3_{split}.info.txt', 'r', encoding='utf-8') as file:\n",
    "    entity_labels = file.readlines()\n",
    "\n",
    "# open the data of relations\n",
    "with open(f'../../data/subtask3/subtask3_{split}.labels.txt', 'r', encoding='utf-8') as file:\n",
    "    relations_info = file.readlines()\n",
    "    if split == \"test\":\n",
    "        relations_info = [r.replace(\";\", \";;\") for r in relations_info]"
   ]
  },
  {
   "cell_type": "markdown",
   "id": "32d00b7f",
   "metadata": {
    "id": "32d00b7f"
   },
   "source": [
    "### Relation_label to ID and reverse"
   ]
  },
  {
   "cell_type": "code",
   "execution_count": 50,
   "id": "734f33e5-c7fa-4892-9d76-b910bcb3a17c",
   "metadata": {
    "colab": {
     "base_uri": "https://localhost:8080/"
    },
    "id": "aed62e4d",
    "outputId": "ca522647-fcdc-4581-8253-62aecf70cf29"
   },
   "outputs": [
    {
     "data": {
      "text/plain": [
       "{'nil': 0,\n",
       " 'Developer_of': 1,\n",
       " 'Abbreviation_of': 2,\n",
       " 'URL_of': 3,\n",
       " 'Citation_of': 4,\n",
       " 'Release_of': 5,\n",
       " 'Version_of': 6,\n",
       " 'Specification_of': 7,\n",
       " 'Extension_of': 8,\n",
       " 'PlugIn_of': 9,\n",
       " 'AlternativeName_of': 10,\n",
       " 'License_of': 11}"
      ]
     },
     "execution_count": 50,
     "metadata": {},
     "output_type": "execute_result"
    }
   ],
   "source": [
    "relation_labels = ['nil', 'Developer_of', 'Abbreviation_of', 'URL_of', 'Citation_of', 'Release_of', 'Version_of',\n",
    "                   'Specification_of', 'Extension_of', 'PlugIn_of', 'AlternativeName_of', 'License_of']\n",
    "                   #'Developer_of-1', 'Abbreviation_of-1', 'URL_of-1', 'Citation_of-1', 'Release_of-1', 'Version_of-1',\n",
    "                   #'Specification_of-1', 'Extension_of-1', 'PlugIn_of-1', 'AlternativeName_of-1', 'License_of-1']\n",
    "\n",
    "relation_label_to_ID = {relation_label: ID for ID, relation_label in enumerate(relation_labels)}\n",
    "ID_to_relation_label = {ID: relation_label for ID, relation_label in enumerate(relation_labels)}\n",
    "with open(\"../../data/subtask3/label_to_id.json\", \"w\") as f:\n",
    "    json.dump(relation_label_to_ID, f)\n",
    "relation_label_to_ID"
   ]
  },
  {
   "cell_type": "markdown",
   "id": "1c03d61a-0159-40d2-9d24-7536e2f22863",
   "metadata": {
    "id": "0867332f-29a4-4c5b-a4a2-3b0e89f0947c",
    "scrolled": true
   },
   "source": [
    "# Combine all info for each sentence"
   ]
  },
  {
   "cell_type": "code",
   "execution_count": 32,
   "id": "b907f3a8-5b27-4f5d-93ff-5f60bf70ff4a",
   "metadata": {
    "id": "0867332f-29a4-4c5b-a4a2-3b0e89f0947c",
    "scrolled": true
   },
   "outputs": [],
   "source": [
    "from pprint import pprint\n",
    "sentence_entities_relations = []\n",
    "for idx, (sentence, entity_label_list, relation_info) in enumerate(tuple(zip(sentences, entity_labels, relations_info))):\n",
    "    token = sentence.split()\n",
    "    entity_bio_tags = entity_label_list.split()\n",
    "    ents = helper.get_entities(token, entity_bio_tags)\n",
    "    ent_dict = {e['begin']:e for e in ents}\n",
    "    relations = helper.get_relations(relation_info)\n",
    "    sentence_info = dict(\n",
    "        sentence=sentence.strip(),\n",
    "        entities=ent_dict,\n",
    "        relations=relations\n",
    "    )\n",
    "    sentence_entities_relations.append(sentence_info)\n",
    "# len(sentence_entities_relations)"
   ]
  },
  {
   "cell_type": "markdown",
   "id": "0aade99e",
   "metadata": {
    "id": "0aade99e"
   },
   "source": [
    "### Allowed subject, object"
   ]
  },
  {
   "cell_type": "code",
   "execution_count": 33,
   "id": "8bfdbf77-a96c-4383-9f61-a811a693bb65",
   "metadata": {
    "colab": {
     "base_uri": "https://localhost:8080/"
    },
    "id": "e9dd222e-03e6-42b6-96ba-a4d83835d5df",
    "outputId": "a9f75deb-b075-4a98-f67d-95910385a1a0",
    "scrolled": true
   },
   "outputs": [],
   "source": [
    "from itertools import chain\n",
    "from collections import Counter\n",
    "\n",
    "allowed_subj_obj_all = list(chain(*[helper.sentence_allowed_subj_obj(sent, allow_inverse=False) for sent in sentence_entities_relations]))\n",
    "allowed_subj_obj_counts = Counter(allowed_subj_obj_all)\n",
    "allowed_subj_obj = set(allowed_subj_obj_counts.keys())\n",
    "len(allowed_subj_obj)\n",
    "he = set(list(allowed_subj_obj))"
   ]
  },
  {
   "cell_type": "code",
   "execution_count": 34,
   "id": "751ba160-7624-482c-b679-cdc2a72f0758",
   "metadata": {
    "colab": {
     "base_uri": "https://localhost:8080/"
    },
    "id": "e9dd222e-03e6-42b6-96ba-a4d83835d5df",
    "outputId": "a9f75deb-b075-4a98-f67d-95910385a1a0",
    "scrolled": true
   },
   "outputs": [
    {
     "data": {
      "text/plain": [
       "40"
      ]
     },
     "execution_count": 34,
     "metadata": {},
     "output_type": "execute_result"
    }
   ],
   "source": [
    "if split == \"train\":\n",
    "    with open(\"data_allowed_sub_obj_test.json\", \"w\") as f:\n",
    "        json.dump(list(allowed_subj_obj), f)\n",
    "if split == \"test\":\n",
    "    with open(\"data_allowed_sub_obj_test.json\", \"r\") as f:\n",
    "        allowed_subj_obj = json.load(f)\n",
    "        allowed_subj_obj = {tuple(p) for p in allowed_subj_obj}\n",
    "len(allowed_subj_obj)"
   ]
  },
  {
   "cell_type": "code",
   "execution_count": 35,
   "id": "07081869-9101-400e-816d-d9ad1151ef30",
   "metadata": {
    "colab": {
     "base_uri": "https://localhost:8080/"
    },
    "id": "ba4ee291-181f-43f5-9e2e-ceb4ff8f3756",
    "outputId": "ba28f527-499e-4273-f79d-3b6e2ffa41d9",
    "scrolled": true
   },
   "outputs": [],
   "source": [
    "import random\n",
    "from itertools import combinations\n",
    "\n",
    "## Idea: transform sentence based\n",
    "def sent_to_relation_representations(sent, allowed_subj_obj):\n",
    "    rel_dict = {(r['subject'], r['object']):r['relation_type'] for r in sent['relations']}\n",
    "    #rel_dict |= {(r['object'], r['subject']):f\"{r['relation_type']}-1\" for r in sent['relations']}\n",
    "    for ent_one, ent_two in combinations(sent['entities'].values(), r=2):\n",
    "        for e_one, e_two in [ent_one, ent_two], [ent_two, ent_one]:\n",
    "            combination_key = e_one['begin'], e_two['begin']\n",
    "            relation_type = rel_dict.get(combination_key, \"nil\")\n",
    "            subj_obj = e_one['label'], e_two['label']\n",
    "            if subj_obj in allowed_subj_obj:\n",
    "                context, relation = helper.build_relation_reprentation(sent, subj=e_one, obj=e_two, rel=relation_type)\n",
    "                label = relation_label_to_ID.get(relation)\n",
    "                rel_context = dict(\n",
    "                    context=context,\n",
    "                    relation=relation,\n",
    "                    label=label,\n",
    "                    subject=e_one,\n",
    "                    object=e_two)\n",
    "                rel_context |= {f\"subject_{key}\": value\n",
    "                                for key, value in e_one.items()}\n",
    "                rel_context |= {f\"object_{key}\": value\n",
    "                                for key, value in e_two.items()}\n",
    "                yield rel_context\n",
    "    #return relation_representations\n",
    "sent = random.choice(sentence_entities_relations)"
   ]
  },
  {
   "cell_type": "code",
   "execution_count": 36,
   "id": "11e73277-e983-4545-8594-9f499da5e960",
   "metadata": {
    "colab": {
     "base_uri": "https://localhost:8080/"
    },
    "id": "ba4ee291-181f-43f5-9e2e-ceb4ff8f3756",
    "outputId": "ba28f527-499e-4273-f79d-3b6e2ffa41d9",
    "scrolled": true
   },
   "outputs": [
    {
     "data": {
      "text/plain": [
       "(131, 960)"
      ]
     },
     "execution_count": 36,
     "metadata": {},
     "output_type": "execute_result"
    }
   ],
   "source": [
    "relation_corpus = []\n",
    "for idx, sent in enumerate(sentence_entities_relations):\n",
    "    sent[\"sentence_id\"] = idx\n",
    "    rel_infos = sent_to_relation_representations(sent, allowed_subj_obj)\n",
    "    for rel_info in rel_infos:\n",
    "        rel_info |= sent\n",
    "        relation_corpus.append(rel_info)\n",
    "len(sentence_entities_relations), len(relation_corpus)"
   ]
  },
  {
   "cell_type": "markdown",
   "id": "efb1e732",
   "metadata": {
    "id": "efb1e732"
   },
   "source": [
    "### Create a dataframe of the dataset"
   ]
  },
  {
   "cell_type": "code",
   "execution_count": 37,
   "id": "bdf22d54-cad1-4e1e-955d-b12325447a60",
   "metadata": {
    "colab": {
     "base_uri": "https://localhost:8080/"
    },
    "id": "ba4ee291-181f-43f5-9e2e-ceb4ff8f3756",
    "outputId": "ba28f527-499e-4273-f79d-3b6e2ffa41d9",
    "scrolled": true
   },
   "outputs": [],
   "source": [
    "infos_dataset_df = pd.DataFrame(relation_corpus)"
   ]
  },
  {
   "cell_type": "code",
   "execution_count": 38,
   "id": "1ddbb11b",
   "metadata": {
    "colab": {
     "base_uri": "https://localhost:8080/"
    },
    "id": "1ddbb11b",
    "outputId": "afd39a04-42ef-4f48-b3ff-42689c9dcc64"
   },
   "outputs": [
    {
     "data": {
      "text/plain": [
       "array(['License_of', 'URL_of', 'nil', 'Version_of', 'Developer_of',\n",
       "       'Citation_of', 'Abbreviation_of', 'AlternativeName_of',\n",
       "       'Extension_of', 'PlugIn_of', 'Specification_of', 'Release_of'],\n",
       "      dtype=object)"
      ]
     },
     "execution_count": 38,
     "metadata": {},
     "output_type": "execute_result"
    }
   ],
   "source": [
    "infos_dataset_df['relation'].unique()"
   ]
  },
  {
   "cell_type": "markdown",
   "id": "53328293-6fe5-4a92-bdf9-21698ebc250c",
   "metadata": {
    "id": "W0DEbJkLg4Y6"
   },
   "source": [
    "# Add Additional Features"
   ]
  },
  {
   "cell_type": "code",
   "execution_count": 39,
   "id": "fec0c09f-deb0-47bd-ba8d-9a261b5a4d67",
   "metadata": {
    "id": "W0DEbJkLg4Y6"
   },
   "outputs": [],
   "source": [
    "infos_dataset_df[\"subject_begin\"] = infos_dataset_df.subject.apply(lambda x: x[\"begin\"])\n",
    "infos_dataset_df[\"object_begin\"] = infos_dataset_df.object.apply(lambda x: x[\"begin\"])\n",
    "infos_dataset_df[\"subject_label\"] = infos_dataset_df.subject.apply(lambda x: x[\"label\"])\n",
    "infos_dataset_df[\"object_label\"] = infos_dataset_df.object.apply(lambda x: x[\"label\"])\n",
    "infos_dataset_df[\"left_to_right\"] = infos_dataset_df.subject_begin < infos_dataset_df.object_begin\n",
    "def get_entity_distance(relation):\n",
    "    if relation.left_to_right:\n",
    "        distance = relation.object_begin - relation.subject_end\n",
    "    else:\n",
    "        distance = relation.subject_end - relation.object_begin\n",
    "    return distance\n",
    "infos_dataset_df[\"subject_object_distance\"] = infos_dataset_df.apply(get_entity_distance, axis=1)"
   ]
  },
  {
   "cell_type": "markdown",
   "id": "d53cef0e-24d9-4e89-a94a-a936b4b2ddce",
   "metadata": {
    "id": "W0DEbJkLg4Y6"
   },
   "source": [
    "## Add info for binary decision (subject_labels have only one possible relation_type)"
   ]
  },
  {
   "cell_type": "code",
   "execution_count": 40,
   "id": "2c62d3ce-c078-4ada-9900-750933779e85",
   "metadata": {
    "id": "W0DEbJkLg4Y6"
   },
   "outputs": [],
   "source": [
    "### Only one exception in whole dataset: License, Specification_of\n",
    "possible_relation_types_for_subjects = {'License': 'License_of',\n",
    " 'URL': 'URL_of',\n",
    " 'Version': 'Version_of',\n",
    " 'Developer': 'Developer_of',\n",
    " 'Citation': 'Citation_of',\n",
    " 'Abbreviation': 'Abbreviation_of',\n",
    " 'AlternativeName': 'AlternativeName_of',\n",
    " 'Extension': 'Extension_of',\n",
    " 'PlugIn': 'PlugIn_of',\n",
    " 'Application': 'Specification_of',\n",
    " 'Release': 'Release_of',\n",
    " 'ProgrammingEnvironment': 'Specification_of'\n",
    "}\n",
    "infos_dataset_df[\"label_binary\"] = (infos_dataset_df.relation != \"nil\").astype(int)\n",
    "infos_dataset_df[\"target_label_binary\"] = infos_dataset_df.subject_label.apply(lambda x: possible_relation_types_for_subjects[x])"
   ]
  },
  {
   "cell_type": "markdown",
   "id": "ce818da9-d19e-4e89-8429-63ad57ebd694",
   "metadata": {
    "id": "W0DEbJkLg4Y6"
   },
   "source": [
    "### maximal existent subject object distance based on train split"
   ]
  },
  {
   "cell_type": "code",
   "execution_count": 41,
   "id": "b47b0181-eac5-4e91-933a-056bc748c32f",
   "metadata": {
    "id": "W0DEbJkLg4Y6"
   },
   "outputs": [],
   "source": [
    "max_distance_train = {'Abbreviation_of': 11,\n",
    " 'AlternativeName_of': 23,\n",
    " 'Citation_of': 33,\n",
    " 'Developer_of': 29,\n",
    " 'Extension_of': 13,\n",
    " 'License_of': 51,\n",
    " 'PlugIn_of': 31,\n",
    " 'Release_of': 16,\n",
    " 'Specification_of': 18,\n",
    " 'URL_of': 46,\n",
    " 'Version_of': 32}\n",
    "infos_dataset_df[\"max_distance_train\"] = infos_dataset_df[\"target_label_binary\"].apply(lambda x: max_distance_train[x])"
   ]
  },
  {
   "cell_type": "markdown",
   "id": "dd3d998e-6425-4791-8f44-9de61dca448e",
   "metadata": {
    "id": "W0DEbJkLg4Y6",
    "scrolled": true
   },
   "source": [
    "### Check how many False Negatives using max distance"
   ]
  },
  {
   "cell_type": "code",
   "execution_count": 42,
   "id": "e0c76e3b-ed00-4b13-90a6-c49e1e3dd728",
   "metadata": {
    "id": "W0DEbJkLg4Y6",
    "scrolled": true
   },
   "outputs": [
    {
     "data": {
      "text/plain": [
       "relation  target_label_binary\n",
       "nil       Abbreviation_of         4\n",
       "          Citation_of            17\n",
       "          Developer_of            2\n",
       "          Extension_of            1\n",
       "          PlugIn_of               2\n",
       "          Release_of              1\n",
       "          Specification_of       71\n",
       "          Version_of             17\n",
       "Name: count, dtype: int64"
      ]
     },
     "execution_count": 42,
     "metadata": {},
     "output_type": "execute_result"
    }
   ],
   "source": [
    "f = infos_dataset_df.subject_object_distance > infos_dataset_df.max_distance_train\n",
    "infos_dataset_df[f][[\"relation\", \"target_label_binary\"]].value_counts().sort_index()"
   ]
  },
  {
   "cell_type": "markdown",
   "id": "4d9c9cb4-1e48-4dd4-9b19-dfe3d5c25721",
   "metadata": {
    "id": "W0DEbJkLg4Y6"
   },
   "source": [
    "## unprobable relation direction"
   ]
  },
  {
   "cell_type": "code",
   "execution_count": 49,
   "id": "246c0e43-7c26-4033-b0bc-279f8cbde3e8",
   "metadata": {
    "id": "W0DEbJkLg4Y6"
   },
   "outputs": [],
   "source": [
    "# only max 2 positive samples are seen in train for those labels and left_to_right relations\n",
    "#  * not for \"Extension\", \"PlugIn\", \"Developer\"\n",
    "unprobable_left_to_right = {\n",
    "    'URL', 'AlternativeName',\n",
    "    'Citation', 'Abbreviation',\n",
    "    'ProgrammingEnvironment', 'Application',\n",
    "    'License',\n",
    "    'Version', 'Release'}\n",
    "infos_dataset_df[\"unprobable_relation_direction\"] = infos_dataset_df[[\"subject_label\", \"left_to_right\"]]\\\n",
    "    .apply(lambda x: x.subject_label in unprobable_left_to_right and x.left_to_right, axis=1)"
   ]
  },
  {
   "cell_type": "markdown",
   "id": "ffa42db9-d880-4578-9539-cd791bbee18c",
   "metadata": {
    "id": "W0DEbJkLg4Y6"
   },
   "source": [
    "## nr alternative candidates for each candidates"
   ]
  },
  {
   "cell_type": "code",
   "execution_count": 44,
   "id": "ad478cc6-2df0-487e-9ae2-514026b8e55f",
   "metadata": {
    "id": "W0DEbJkLg4Y6"
   },
   "outputs": [],
   "source": [
    "f = infos_dataset_df.subject_object_distance < infos_dataset_df.max_distance_train\n",
    "f &= ~infos_dataset_df.unprobable_relation_direction\n",
    "#f = infos_dataset_df.relation != \"nil\"\n",
    "n_alt_cands = infos_dataset_df.groupby([\"subject_begin\", \"sentence_id\"]).target_label_binary.value_counts().rename(\"n_alternative_candidates_by_subject\")\n",
    "n_alt_cands_w_filtering = infos_dataset_df[f].groupby([\"subject_begin\", \"sentence_id\"]).target_label_binary.value_counts().rename(\"n_alternative_candidates_by_subject_filtered\")\n",
    "infos_dataset_df = infos_dataset_df.set_index([\"subject_begin\", \"sentence_id\", \"target_label_binary\"]).join(n_alt_cands).join(n_alt_cands_w_filtering).reset_index()\n",
    "infos_dataset_df[\"n_alternative_candidates_by_subject_filtered\"] = infos_dataset_df.n_alternative_candidates_by_subject_filtered.fillna(0).astype(int)"
   ]
  },
  {
   "cell_type": "markdown",
   "id": "4b296064-fd94-42fd-893e-67ab2a6b768f",
   "metadata": {
    "id": "W0DEbJkLg4Y6"
   },
   "source": [
    "## rank of candidate by relation_distance"
   ]
  },
  {
   "cell_type": "code",
   "execution_count": 45,
   "id": "2173673d-30bc-408f-8d95-88749a8329fc",
   "metadata": {
    "id": "W0DEbJkLg4Y6"
   },
   "outputs": [],
   "source": [
    "def add_distance_order(relations):\n",
    "    rels = relations.sort_values(\"subject_object_distance\").copy()\n",
    "    rels[\"rank_by_candidate_distance\"] = list(range(len(rels)))\n",
    "    rels[\"rank_by_candidate_distance\"] += 1\n",
    "    return rels.set_index([\"object_begin\"]).rank_by_candidate_distance\n",
    "f = infos_dataset_df.subject_object_distance < infos_dataset_df.max_distance_train\n",
    "f &= ~infos_dataset_df.unprobable_relation_direction\n",
    "cols = [\"object_begin\", \"subject_object_distance\"]\n",
    "rank_by_candidate_distance = infos_dataset_df.groupby([\"sentence_id\", \"subject_begin\"])[cols].apply(add_distance_order)\n",
    "rank_by_candidate_distance_filtered = infos_dataset_df[f].groupby([\"sentence_id\", \"subject_begin\"])[cols].apply(add_distance_order).rename(\"rank_by_candidate_distance_filtered\")\n",
    "rank_by_candidate_distance = rank_by_candidate_distance.to_frame().join(rank_by_candidate_distance_filtered).fillna(-1).astype(int)\n",
    "cols_index = [\"sentence_id\", \"subject_begin\", \"object_begin\"]\n",
    "for col in [\"rank_by_candidate_distance\", \"rank_by_candidate_distance_filtered\"]:\n",
    "    if col in infos_dataset_df:\n",
    "        del infos_dataset_df[col]\n",
    "infos_dataset_df = infos_dataset_df.set_index(cols_index).join(rank_by_candidate_distance).reset_index()"
   ]
  },
  {
   "cell_type": "code",
   "execution_count": 46,
   "id": "3abe9113-0cc1-430a-80ba-ac34c12d9f09",
   "metadata": {
    "id": "W0DEbJkLg4Y6"
   },
   "outputs": [
    {
     "data": {
      "text/plain": [
       "rank_by_candidate_distance_filtered\n",
       "-1    328\n",
       " 1    377\n",
       " 2    155\n",
       " 3     59\n",
       " 4     26\n",
       " 5     10\n",
       " 6      4\n",
       " 7      1\n",
       "Name: count, dtype: int64"
      ]
     },
     "execution_count": 46,
     "metadata": {},
     "output_type": "execute_result"
    }
   ],
   "source": [
    "infos_dataset_df.rank_by_candidate_distance_filtered.value_counts().sort_index()"
   ]
  },
  {
   "cell_type": "markdown",
   "id": "6c5c1d0c-4ecf-4b38-9018-ee1b3f29f361",
   "metadata": {
    "id": "W0DEbJkLg4Y6"
   },
   "source": [
    "## Save test split (if loaded)"
   ]
  },
  {
   "cell_type": "code",
   "execution_count": 47,
   "id": "1c2e01cb-ce5d-49fb-9ff1-48d6e6a194fe",
   "metadata": {
    "id": "W0DEbJkLg4Y6"
   },
   "outputs": [],
   "source": [
    "if split == \"test\":\n",
    "    infos_dataset_df.to_json(\"../../data/subtask3/test_prepro.json\", orient=\"records\")"
   ]
  },
  {
   "cell_type": "markdown",
   "id": "c1dc66e3-455b-4bda-9d5c-dffc61b3c36f",
   "metadata": {
    "id": "W0DEbJkLg4Y6"
   },
   "source": [
    "# Split in train and valid set"
   ]
  },
  {
   "cell_type": "code",
   "execution_count": 25,
   "id": "dcdb260b-b121-4f70-8f0b-ad5ef1d4f4e3",
   "metadata": {
    "id": "W0DEbJkLg4Y6"
   },
   "outputs": [
    {
     "data": {
      "text/plain": [
       "(4450, 1446, 0.24525101763907733)"
      ]
     },
     "execution_count": 25,
     "metadata": {},
     "output_type": "execute_result"
    }
   ],
   "source": [
    "#from sklearn.model_selection import train_test_split\n",
    "#train, validation = train_test_split(infos_dataset_df, test_size=0.25, random_state=42)\n",
    "from sklearn.model_selection import GroupShuffleSplit\n",
    "gss = GroupShuffleSplit(n_splits=1, test_size=0.25, random_state=45)\n",
    "# Perform the split\n",
    "train_index, valid_index = next(gss.split(infos_dataset_df, groups=infos_dataset_df.sentence_id))\n",
    "train_split = infos_dataset_df.iloc[train_index].copy()\n",
    "valid_split = infos_dataset_df.iloc[valid_index].copy()\n",
    "len(train_split), len(valid_split), len(valid_split) / len(infos_dataset_df)"
   ]
  },
  {
   "cell_type": "code",
   "execution_count": 26,
   "id": "fa48c544-04ce-4809-81b4-894ed4cb2903",
   "metadata": {
    "id": "W0DEbJkLg4Y6"
   },
   "outputs": [
    {
     "data": {
      "text/plain": [
       "set()"
      ]
     },
     "execution_count": 26,
     "metadata": {},
     "output_type": "execute_result"
    }
   ],
   "source": [
    "set(train_split.sentence_id) & set(valid_split.sentence_id)"
   ]
  },
  {
   "cell_type": "code",
   "execution_count": 48,
   "id": "383afd4c-631b-4a11-a953-7e853800bc50",
   "metadata": {
    "id": "W0DEbJkLg4Y6"
   },
   "outputs": [],
   "source": [
    "if split == \"train\":\n",
    "    train_split.to_json(\"../../data/subtask3/train_prepro.json\", orient=\"records\")\n",
    "    valid_split.to_json(\"../../data/subtask3/valid_prepro.json\", orient=\"records\")"
   ]
  },
  {
   "cell_type": "code",
   "execution_count": null,
   "id": "bed4fc8a-7f7c-4e37-b1ab-f97b91c5e3f1",
   "metadata": {},
   "outputs": [],
   "source": []
  }
 ],
 "metadata": {
  "accelerator": "GPU",
  "colab": {
   "gpuType": "T4",
   "provenance": []
  },
  "kernelspec": {
   "display_name": "Python 3 (ipykernel)",
   "language": "python",
   "name": "python3"
  },
  "language_info": {
   "codemirror_mode": {
    "name": "ipython",
    "version": 3
   },
   "file_extension": ".py",
   "mimetype": "text/x-python",
   "name": "python",
   "nbconvert_exporter": "python",
   "pygments_lexer": "ipython3",
   "version": "3.11.4"
  }
 },
 "nbformat": 4,
 "nbformat_minor": 5
}
