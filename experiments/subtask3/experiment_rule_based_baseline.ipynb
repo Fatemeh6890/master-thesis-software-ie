{
 "cells": [
  {
   "cell_type": "markdown",
   "id": "83658e7e-7cc2-4bf2-9d44-0b5a327a5d9c",
   "metadata": {
    "id": "W0DEbJkLg4Y6",
    "scrolled": true
   },
   "source": [
    "# Experiment Baseline Prediction (Simple rules)\n",
    " * For each subject: \n",
    "   * select maximal one object based on rules\n",
    "     * Do not choose relations for subject labels \"Application\" and \"ProgrammingEnvironment\"\n",
    "     * Do not decide for object if direction is not in train data for the subject_label\n",
    "     * Take nearest candidate object (base on the distance in the text)"
   ]
  },
  {
   "cell_type": "code",
   "execution_count": 1,
   "id": "348c3772-f43f-4b7f-84d3-43c9f362372b",
   "metadata": {
    "id": "827a7a6e"
   },
   "outputs": [
    {
     "name": "stderr",
     "output_type": "stream",
     "text": [
      "C:\\Users\\fschr\\AppData\\Roaming\\Python\\Python311\\site-packages\\pandas\\core\\arrays\\masked.py:60: UserWarning: Pandas requires version '1.3.6' or newer of 'bottleneck' (version '1.3.5' currently installed).\n",
      "  from pandas.core import (\n"
     ]
    }
   ],
   "source": [
    "import pandas as pd\n",
    "from sklearn.metrics import classification_report"
   ]
  },
  {
   "cell_type": "markdown",
   "id": "fda3198f-bc3d-4042-9bbd-57db8c3d7649",
   "metadata": {
    "id": "73b1aa82"
   },
   "source": [
    "### Read the datasets"
   ]
  },
  {
   "cell_type": "code",
   "execution_count": 2,
   "id": "26fb0bc9-4fae-4731-891a-782874dfd264",
   "metadata": {
    "id": "W0DEbJkLg4Y6"
   },
   "outputs": [],
   "source": [
    "train_set = pd.read_json(\"../../data/subtask3/train_prepro.json\")\n",
    "valid_set = pd.read_json(\"../../data/subtask3/valid_prepro.json\")\n",
    "test_set = pd.read_json(\"../../data/subtask3/test_prepro.json\")"
   ]
  },
  {
   "cell_type": "code",
   "execution_count": 3,
   "id": "03cf6acd-db82-4acb-ae6f-1e457dc6397e",
   "metadata": {
    "id": "W0DEbJkLg4Y6"
   },
   "outputs": [],
   "source": [
    "# For Classification Report\n",
    "labels = [\n",
    "    'Version_of',\n",
    "    'Developer_of',\n",
    "    'Citation_of',\n",
    "    'URL_of',\n",
    "    'PlugIn_of',\n",
    "    'Specification_of',\n",
    "    'Release_of',\n",
    "    'Extension_of',\n",
    "    'License_of',    \n",
    "    'Abbreviation_of',\n",
    "    'AlternativeName_of',\n",
    "]"
   ]
  },
  {
   "cell_type": "markdown",
   "id": "5840a449",
   "metadata": {},
   "source": [
    "# number of objects by subject"
   ]
  },
  {
   "cell_type": "code",
   "execution_count": 4,
   "id": "1e520978",
   "metadata": {
    "scrolled": true
   },
   "outputs": [
    {
     "name": "stderr",
     "output_type": "stream",
     "text": [
      "C:\\Users\\Public\\Documents\\Wondershare\\CreatorTemp\\ipykernel_29908\\712645128.py:1: DeprecationWarning: DataFrameGroupBy.apply operated on the grouping columns. This behavior is deprecated, and in a future version of pandas the grouping columns will be excluded from the operation. Either pass `include_groups=False` to exclude the groupings or explicitly select the grouping columns after groupby to silence this warning.\n",
      "  train_set.groupby([\"sentence_id\", \"subject_begin\"]).apply(len).value_counts()#[\"object_begin\"].value_counts()\n"
     ]
    },
    {
     "data": {
      "text/plain": [
       "1     1333\n",
       "2      777\n",
       "3      253\n",
       "4       66\n",
       "8       24\n",
       "5       19\n",
       "6       13\n",
       "9       13\n",
       "7        4\n",
       "10       3\n",
       "Name: count, dtype: int64"
      ]
     },
     "execution_count": 4,
     "metadata": {},
     "output_type": "execute_result"
    }
   ],
   "source": [
    "train_set.groupby([\"sentence_id\", \"subject_begin\"]).apply(len).value_counts()#[\"object_begin\"].value_counts()"
   ]
  },
  {
   "cell_type": "markdown",
   "id": "74fc5cfd",
   "metadata": {},
   "source": [
    "# Why only one object for each subject"
   ]
  },
  {
   "cell_type": "code",
   "execution_count": 5,
   "id": "2a474ac1",
   "metadata": {
    "scrolled": true
   },
   "outputs": [
    {
     "name": "stderr",
     "output_type": "stream",
     "text": [
      "C:\\Users\\Public\\Documents\\Wondershare\\CreatorTemp\\ipykernel_29908\\3716141065.py:2: DeprecationWarning: DataFrameGroupBy.apply operated on the grouping columns. This behavior is deprecated, and in a future version of pandas the grouping columns will be excluded from the operation. Either pass `include_groups=False` to exclude the groupings or explicitly select the grouping columns after groupby to silence this warning.\n",
      "  train_set[filter_nil].groupby([\"sentence_id\", \"subject_begin\"]).apply(lambda x: x.object_begin.unique()).apply(len).value_counts()#[\"object_begin\"].value_counts()#.value_counts()\n"
     ]
    },
    {
     "data": {
      "text/plain": [
       "1    1987\n",
       "2       7\n",
       "3       1\n",
       "Name: count, dtype: int64"
      ]
     },
     "execution_count": 5,
     "metadata": {},
     "output_type": "execute_result"
    }
   ],
   "source": [
    "filter_nil = train_set.relation != 'nil'\n",
    "train_set[filter_nil].groupby([\"sentence_id\", \"subject_begin\"]).apply(lambda x: x.object_begin.unique()).apply(len).value_counts()#[\"object_begin\"].value_counts()#.value_counts()"
   ]
  },
  {
   "cell_type": "markdown",
   "id": "72ad9cd5",
   "metadata": {},
   "source": [
    "### observation \n",
    "- every subject has only one object in the annotated training corpus\n",
    "### conclusion\n",
    "- for every subject we need to select one relation"
   ]
  },
  {
   "cell_type": "markdown",
   "id": "3f2c34e7",
   "metadata": {},
   "source": [
    "# But is there any subject that has more than one objects?"
   ]
  },
  {
   "cell_type": "code",
   "execution_count": 6,
   "id": "0ff3c237",
   "metadata": {},
   "outputs": [
    {
     "name": "stderr",
     "output_type": "stream",
     "text": [
      "C:\\Users\\Public\\Documents\\Wondershare\\CreatorTemp\\ipykernel_29908\\3628859130.py:3: DeprecationWarning: DataFrameGroupBy.apply operated on the grouping columns. This behavior is deprecated, and in a future version of pandas the grouping columns will be excluded from the operation. Either pass `include_groups=False` to exclude the groupings or explicitly select the grouping columns after groupby to silence this warning.\n",
      "  .apply(lambda x: x.relation.value_counts())\\\n"
     ]
    },
    {
     "data": {
      "text/plain": [
       "relation            count\n",
       "Abbreviation_of     1         51\n",
       "AlternativeName_of  1         12\n",
       "Citation_of         1        297\n",
       "                    2          3\n",
       "Developer_of        1        484\n",
       "                    2          4\n",
       "Extension_of        1         27\n",
       "License_of          1         28\n",
       "PlugIn_of           1        125\n",
       "Release_of          1         59\n",
       "Specification_of    1         41\n",
       "URL_of              1        147\n",
       "                    3          1\n",
       "Version_of          1        716\n",
       "Name: count, dtype: int64"
      ]
     },
     "execution_count": 6,
     "metadata": {},
     "output_type": "execute_result"
    }
   ],
   "source": [
    "train_set[filter_nil]\\\n",
    "    .groupby([\"sentence_id\", \"subject_begin\"])\\\n",
    "    .apply(lambda x: x.relation.value_counts())\\\n",
    "    .groupby(\"relation\")\\\n",
    "    .value_counts()"
   ]
  },
  {
   "cell_type": "markdown",
   "id": "1d77be00",
   "metadata": {},
   "source": [
    "### observation\n",
    "- 'Developer_of', 'Citation_of' and 'URL_of' are the relations, that have subjects with more than one objects"
   ]
  },
  {
   "cell_type": "markdown",
   "id": "34ece7f9",
   "metadata": {},
   "source": [
    "# Can we have subject candidates without relations?"
   ]
  },
  {
   "cell_type": "code",
   "execution_count": 7,
   "id": "620bcf69",
   "metadata": {},
   "outputs": [
    {
     "name": "stderr",
     "output_type": "stream",
     "text": [
      "C:\\Users\\Public\\Documents\\Wondershare\\CreatorTemp\\ipykernel_29908\\2536713387.py:9: DeprecationWarning: DataFrameGroupBy.apply operated on the grouping columns. This behavior is deprecated, and in a future version of pandas the grouping columns will be excluded from the operation. Either pass `include_groups=False` to exclude the groupings or explicitly select the grouping columns after groupby to silence this warning.\n",
      "  .apply(subject_of_only_nil_relation)\\\n"
     ]
    },
    {
     "data": {
      "text/plain": [
       "Application               415\n",
       "ProgrammingEnvironment     57\n",
       "PlugIn                     38\n",
       "Name: count, dtype: int64"
      ]
     },
     "execution_count": 7,
     "metadata": {},
     "output_type": "execute_result"
    }
   ],
   "source": [
    "def subject_of_only_nil_relation(object_list):\n",
    "    # are there only nil relations\n",
    "    only_nil = all(object_list.relation == \"nil\")\n",
    "    if only_nil:\n",
    "        return object_list.subject_label.iloc[0]\n",
    "\n",
    "train_set\\\n",
    "    .groupby([\"sentence_id\", \"subject_begin\"])\\\n",
    "    .apply(subject_of_only_nil_relation)\\\n",
    "    .value_counts()"
   ]
  },
  {
   "cell_type": "code",
   "execution_count": 8,
   "id": "8750dd0c",
   "metadata": {
    "scrolled": true
   },
   "outputs": [
    {
     "data": {
      "text/plain": [
       "subject_label           relation          \n",
       "Abbreviation            Abbreviation_of        51\n",
       "AlternativeName         AlternativeName_of     12\n",
       "Application             Specification_of       36\n",
       "                        PlugIn_of               1\n",
       "Citation                Citation_of           303\n",
       "Developer               Developer_of          492\n",
       "Extension               Extension_of           27\n",
       "License                 License_of             28\n",
       "                        Specification_of        1\n",
       "PlugIn                  PlugIn_of             124\n",
       "ProgrammingEnvironment  Specification_of        4\n",
       "Release                 Release_of             59\n",
       "URL                     URL_of                150\n",
       "Version                 Version_of            716\n",
       "Name: count, dtype: int64"
      ]
     },
     "execution_count": 8,
     "metadata": {},
     "output_type": "execute_result"
    }
   ],
   "source": [
    "filter_nil = train_set.relation != 'nil'\n",
    "train_set[filter_nil].groupby(\"subject_label\").relation.value_counts()"
   ]
  },
  {
   "cell_type": "code",
   "execution_count": 9,
   "id": "5aa6ff26",
   "metadata": {},
   "outputs": [
    {
     "data": {
      "text/plain": [
       "subject_label           relation          object_label          \n",
       "PlugIn                  PlugIn_of         Application                33\n",
       "                                          PlugIn                      3\n",
       "                        nil               PlugIn                    159\n",
       "                                          ProgrammingEnvironment     44\n",
       "                                          Application                43\n",
       "ProgrammingEnvironment  Specification_of  ProgrammingEnvironment      4\n",
       "                        nil               ProgrammingEnvironment     82\n",
       "Release                 Release_of        Application                35\n",
       "                                          ProgrammingEnvironment     23\n",
       "                                          OperatingSystem             1\n",
       "                        nil               Application                29\n",
       "                                          ProgrammingEnvironment     12\n",
       "                                          PlugIn                      7\n",
       "                                          OperatingSystem             5\n",
       "URL                     URL_of            Application               107\n",
       "                                          PlugIn                     23\n",
       "                                          Developer                   7\n",
       "                                          SoftwareCoreference         7\n",
       "                                          ProgrammingEnvironment      5\n",
       "                                          License                     1\n",
       "                        nil               Application               144\n",
       "                                          ProgrammingEnvironment     47\n",
       "                                          Developer                  34\n",
       "                                          PlugIn                     27\n",
       "                                          License                    24\n",
       "Version                 Version_of        Application               617\n",
       "                                          ProgrammingEnvironment     43\n",
       "                                          PlugIn                     23\n",
       "                                          License                    17\n",
       "                                          OperatingSystem            16\n",
       "                        nil               Application               318\n",
       "                                          OperatingSystem            87\n",
       "                                          ProgrammingEnvironment     73\n",
       "                                          PlugIn                     66\n",
       "                                          License                     2\n",
       "Name: count, dtype: int64"
      ]
     },
     "execution_count": 9,
     "metadata": {},
     "output_type": "execute_result"
    }
   ],
   "source": [
    "filter_nil = train_set.relation != 'nil'\n",
    "train_set.groupby([\"subject_label\", \"relation\"]).object_label.value_counts()[40:]"
   ]
  },
  {
   "cell_type": "markdown",
   "id": "e21a7747-9d50-44d0-b2d6-d8a2786cd5dd",
   "metadata": {
    "id": "W0DEbJkLg4Y6"
   },
   "source": [
    "## Statistics to see, that some relations are only from right_to_left. (object before subject in text)"
   ]
  },
  {
   "cell_type": "code",
   "execution_count": 10,
   "id": "69717edb-cea0-438e-80d4-3252f5b471c8",
   "metadata": {
    "id": "W0DEbJkLg4Y6"
   },
   "outputs": [
    {
     "data": {
      "text/html": [
       "<div>\n",
       "<style scoped>\n",
       "    .dataframe tbody tr th:only-of-type {\n",
       "        vertical-align: middle;\n",
       "    }\n",
       "\n",
       "    .dataframe tbody tr th {\n",
       "        vertical-align: top;\n",
       "    }\n",
       "\n",
       "    .dataframe thead th {\n",
       "        text-align: right;\n",
       "    }\n",
       "</style>\n",
       "<table border=\"1\" class=\"dataframe\">\n",
       "  <thead>\n",
       "    <tr style=\"text-align: right;\">\n",
       "      <th>left_to_right</th>\n",
       "      <th>False</th>\n",
       "      <th>True</th>\n",
       "    </tr>\n",
       "    <tr>\n",
       "      <th>subject_label</th>\n",
       "      <th></th>\n",
       "      <th></th>\n",
       "    </tr>\n",
       "  </thead>\n",
       "  <tbody>\n",
       "    <tr>\n",
       "      <th>Abbreviation</th>\n",
       "      <td>51</td>\n",
       "      <td>0</td>\n",
       "    </tr>\n",
       "    <tr>\n",
       "      <th>AlternativeName</th>\n",
       "      <td>12</td>\n",
       "      <td>0</td>\n",
       "    </tr>\n",
       "    <tr>\n",
       "      <th>Application</th>\n",
       "      <td>36</td>\n",
       "      <td>1</td>\n",
       "    </tr>\n",
       "    <tr>\n",
       "      <th>Citation</th>\n",
       "      <td>301</td>\n",
       "      <td>2</td>\n",
       "    </tr>\n",
       "    <tr>\n",
       "      <th>Developer</th>\n",
       "      <td>372</td>\n",
       "      <td>120</td>\n",
       "    </tr>\n",
       "    <tr>\n",
       "      <th>Extension</th>\n",
       "      <td>26</td>\n",
       "      <td>1</td>\n",
       "    </tr>\n",
       "    <tr>\n",
       "      <th>License</th>\n",
       "      <td>29</td>\n",
       "      <td>0</td>\n",
       "    </tr>\n",
       "    <tr>\n",
       "      <th>PlugIn</th>\n",
       "      <td>69</td>\n",
       "      <td>55</td>\n",
       "    </tr>\n",
       "    <tr>\n",
       "      <th>ProgrammingEnvironment</th>\n",
       "      <td>4</td>\n",
       "      <td>0</td>\n",
       "    </tr>\n",
       "    <tr>\n",
       "      <th>Release</th>\n",
       "      <td>59</td>\n",
       "      <td>0</td>\n",
       "    </tr>\n",
       "    <tr>\n",
       "      <th>URL</th>\n",
       "      <td>150</td>\n",
       "      <td>0</td>\n",
       "    </tr>\n",
       "    <tr>\n",
       "      <th>Version</th>\n",
       "      <td>715</td>\n",
       "      <td>1</td>\n",
       "    </tr>\n",
       "  </tbody>\n",
       "</table>\n",
       "</div>"
      ],
      "text/plain": [
       "left_to_right           False  True \n",
       "subject_label                       \n",
       "Abbreviation               51      0\n",
       "AlternativeName            12      0\n",
       "Application                36      1\n",
       "Citation                  301      2\n",
       "Developer                 372    120\n",
       "Extension                  26      1\n",
       "License                    29      0\n",
       "PlugIn                     69     55\n",
       "ProgrammingEnvironment      4      0\n",
       "Release                    59      0\n",
       "URL                       150      0\n",
       "Version                   715      1"
      ]
     },
     "execution_count": 10,
     "metadata": {},
     "output_type": "execute_result"
    }
   ],
   "source": [
    "f = train_set.label_binary == True\n",
    "train_set[f].groupby(\"subject_label\").left_to_right.value_counts().unstack().fillna(0).astype(int)"
   ]
  },
  {
   "cell_type": "code",
   "execution_count": 11,
   "id": "5630d154-71c5-49a2-951f-3901c5057b56",
   "metadata": {
    "id": "W0DEbJkLg4Y6",
    "scrolled": true
   },
   "outputs": [],
   "source": [
    "def decide_by_rule(rels):\n",
    "    #return rels.set_index(\"object_begin\")\n",
    "    rels[\"prediction_baseline\"] = 0\n",
    "    rels[\"prediction_label_baseline\"] = \"nil\"\n",
    "    rel_label = rels.iloc[0].target_label_binary\n",
    "    subject_label = rels.subject_label.iloc[0]\n",
    "    if subject_label not in {\"Application\", \"ProgrammingEnvironment\"}:\n",
    "#     if rel_label not in {\"Specification_of\", \"PlugIn_of\", \"Extension_of\"}:\n",
    "        f = rels.unprobable_relation_direction == False\n",
    "        if len(rels[f]) > 0:\n",
    "            index_best = rels[f].sort_values(\"subject_object_distance\").index[0]\n",
    "            rels.loc[index_best, \"prediction_baseline\"] = 1\n",
    "            rels.loc[index_best, \"prediction_label_baseline\"] = rel_label\n",
    "    return rels.set_index(\"object_begin\")[[\"prediction_baseline\", \"prediction_label_baseline\"]]"
   ]
  },
  {
   "cell_type": "code",
   "execution_count": 12,
   "id": "0e57d985-5dfe-492d-b2c5-5d2cfd24479f",
   "metadata": {
    "id": "W0DEbJkLg4Y6",
    "scrolled": true
   },
   "outputs": [
    {
     "name": "stdout",
     "output_type": "stream",
     "text": [
      "CPU times: total: 12.1 s\n",
      "Wall time: 12.2 s\n"
     ]
    }
   ],
   "source": [
    "%%time\n",
    "cols_for_rules = [\"object_begin\", \"subject_object_distance\", \"unprobable_relation_direction\", \"target_label_binary\",\n",
    "                \"max_distance_train\", \"subject_label\"\n",
    "                 ]\n",
    "pred = train_set.groupby([\"sentence_id\", \"subject_begin\"])[cols_for_rules].apply(decide_by_rule)\n",
    "train_set = train_set.set_index([\"sentence_id\", \"subject_begin\", \"object_begin\"]).join(pred).reset_index()\n",
    "\n",
    "pred = valid_set.groupby([\"sentence_id\", \"subject_begin\"])[cols_for_rules].apply(decide_by_rule)\n",
    "valid_set = valid_set.set_index([\"sentence_id\", \"subject_begin\", \"object_begin\"]).join(pred).reset_index()\n",
    "\n",
    "pred = test_set.groupby([\"sentence_id\", \"subject_begin\"])[cols_for_rules].apply(decide_by_rule)\n",
    "test_set = test_set.set_index([\"sentence_id\", \"subject_begin\", \"object_begin\"]).join(pred).reset_index()"
   ]
  },
  {
   "cell_type": "markdown",
   "id": "5defd2f2-023e-4bd3-92ff-4daf00f947db",
   "metadata": {
    "id": "W0DEbJkLg4Y6",
    "scrolled": true
   },
   "source": [
    "## Baseline on train"
   ]
  },
  {
   "cell_type": "code",
   "execution_count": 13,
   "id": "c9484ba4-9443-459e-9c14-963c58e93b5a",
   "metadata": {
    "id": "W0DEbJkLg4Y6"
   },
   "outputs": [
    {
     "data": {
      "text/html": [
       "<div>\n",
       "<style scoped>\n",
       "    .dataframe tbody tr th:only-of-type {\n",
       "        vertical-align: middle;\n",
       "    }\n",
       "\n",
       "    .dataframe tbody tr th {\n",
       "        vertical-align: top;\n",
       "    }\n",
       "\n",
       "    .dataframe thead th {\n",
       "        text-align: right;\n",
       "    }\n",
       "</style>\n",
       "<table border=\"1\" class=\"dataframe\">\n",
       "  <thead>\n",
       "    <tr style=\"text-align: right;\">\n",
       "      <th></th>\n",
       "      <th>precision</th>\n",
       "      <th>recall</th>\n",
       "      <th>f1-score</th>\n",
       "      <th>support</th>\n",
       "    </tr>\n",
       "  </thead>\n",
       "  <tbody>\n",
       "    <tr>\n",
       "      <th>Version_of</th>\n",
       "      <td>0.962238</td>\n",
       "      <td>0.960894</td>\n",
       "      <td>0.961565</td>\n",
       "      <td>716.0</td>\n",
       "    </tr>\n",
       "    <tr>\n",
       "      <th>Developer_of</th>\n",
       "      <td>0.897541</td>\n",
       "      <td>0.890244</td>\n",
       "      <td>0.893878</td>\n",
       "      <td>492.0</td>\n",
       "    </tr>\n",
       "    <tr>\n",
       "      <th>Citation_of</th>\n",
       "      <td>0.942953</td>\n",
       "      <td>0.927393</td>\n",
       "      <td>0.935108</td>\n",
       "      <td>303.0</td>\n",
       "    </tr>\n",
       "    <tr>\n",
       "      <th>URL_of</th>\n",
       "      <td>0.777027</td>\n",
       "      <td>0.766667</td>\n",
       "      <td>0.771812</td>\n",
       "      <td>150.0</td>\n",
       "    </tr>\n",
       "    <tr>\n",
       "      <th>PlugIn_of</th>\n",
       "      <td>0.592593</td>\n",
       "      <td>0.768000</td>\n",
       "      <td>0.668990</td>\n",
       "      <td>125.0</td>\n",
       "    </tr>\n",
       "    <tr>\n",
       "      <th>Specification_of</th>\n",
       "      <td>0.000000</td>\n",
       "      <td>0.000000</td>\n",
       "      <td>0.000000</td>\n",
       "      <td>41.0</td>\n",
       "    </tr>\n",
       "    <tr>\n",
       "      <th>Release_of</th>\n",
       "      <td>0.932203</td>\n",
       "      <td>0.932203</td>\n",
       "      <td>0.932203</td>\n",
       "      <td>59.0</td>\n",
       "    </tr>\n",
       "    <tr>\n",
       "      <th>Extension_of</th>\n",
       "      <td>1.000000</td>\n",
       "      <td>1.000000</td>\n",
       "      <td>1.000000</td>\n",
       "      <td>27.0</td>\n",
       "    </tr>\n",
       "    <tr>\n",
       "      <th>License_of</th>\n",
       "      <td>0.862069</td>\n",
       "      <td>0.892857</td>\n",
       "      <td>0.877193</td>\n",
       "      <td>28.0</td>\n",
       "    </tr>\n",
       "    <tr>\n",
       "      <th>Abbreviation_of</th>\n",
       "      <td>1.000000</td>\n",
       "      <td>1.000000</td>\n",
       "      <td>1.000000</td>\n",
       "      <td>51.0</td>\n",
       "    </tr>\n",
       "    <tr>\n",
       "      <th>AlternativeName_of</th>\n",
       "      <td>1.000000</td>\n",
       "      <td>1.000000</td>\n",
       "      <td>1.000000</td>\n",
       "      <td>12.0</td>\n",
       "    </tr>\n",
       "    <tr>\n",
       "      <th>micro avg</th>\n",
       "      <td>0.898944</td>\n",
       "      <td>0.892216</td>\n",
       "      <td>0.895567</td>\n",
       "      <td>2004.0</td>\n",
       "    </tr>\n",
       "    <tr>\n",
       "      <th>macro avg</th>\n",
       "      <td>0.815148</td>\n",
       "      <td>0.830751</td>\n",
       "      <td>0.821886</td>\n",
       "      <td>2004.0</td>\n",
       "    </tr>\n",
       "    <tr>\n",
       "      <th>weighted avg</th>\n",
       "      <td>0.886244</td>\n",
       "      <td>0.892216</td>\n",
       "      <td>0.888505</td>\n",
       "      <td>2004.0</td>\n",
       "    </tr>\n",
       "  </tbody>\n",
       "</table>\n",
       "</div>"
      ],
      "text/plain": [
       "                    precision    recall  f1-score  support\n",
       "Version_of           0.962238  0.960894  0.961565    716.0\n",
       "Developer_of         0.897541  0.890244  0.893878    492.0\n",
       "Citation_of          0.942953  0.927393  0.935108    303.0\n",
       "URL_of               0.777027  0.766667  0.771812    150.0\n",
       "PlugIn_of            0.592593  0.768000  0.668990    125.0\n",
       "Specification_of     0.000000  0.000000  0.000000     41.0\n",
       "Release_of           0.932203  0.932203  0.932203     59.0\n",
       "Extension_of         1.000000  1.000000  1.000000     27.0\n",
       "License_of           0.862069  0.892857  0.877193     28.0\n",
       "Abbreviation_of      1.000000  1.000000  1.000000     51.0\n",
       "AlternativeName_of   1.000000  1.000000  1.000000     12.0\n",
       "micro avg            0.898944  0.892216  0.895567   2004.0\n",
       "macro avg            0.815148  0.830751  0.821886   2004.0\n",
       "weighted avg         0.886244  0.892216  0.888505   2004.0"
      ]
     },
     "execution_count": 13,
     "metadata": {},
     "output_type": "execute_result"
    }
   ],
   "source": [
    "pd.DataFrame(classification_report(train_set.relation, train_set.prediction_label_baseline, zero_division=0., labels=labels, output_dict=True)).T"
   ]
  },
  {
   "cell_type": "markdown",
   "id": "cddf6301-72e3-4c6f-9d64-359a25939860",
   "metadata": {
    "id": "W0DEbJkLg4Y6",
    "scrolled": true
   },
   "source": [
    "## Baseline on validation"
   ]
  },
  {
   "cell_type": "code",
   "execution_count": 14,
   "id": "742e3ec8-8108-467b-8dd3-be146cd8e459",
   "metadata": {
    "id": "W0DEbJkLg4Y6"
   },
   "outputs": [
    {
     "data": {
      "text/html": [
       "<div>\n",
       "<style scoped>\n",
       "    .dataframe tbody tr th:only-of-type {\n",
       "        vertical-align: middle;\n",
       "    }\n",
       "\n",
       "    .dataframe tbody tr th {\n",
       "        vertical-align: top;\n",
       "    }\n",
       "\n",
       "    .dataframe thead th {\n",
       "        text-align: right;\n",
       "    }\n",
       "</style>\n",
       "<table border=\"1\" class=\"dataframe\">\n",
       "  <thead>\n",
       "    <tr style=\"text-align: right;\">\n",
       "      <th></th>\n",
       "      <th>precision</th>\n",
       "      <th>recall</th>\n",
       "      <th>f1-score</th>\n",
       "      <th>support</th>\n",
       "    </tr>\n",
       "  </thead>\n",
       "  <tbody>\n",
       "    <tr>\n",
       "      <th>Version_of</th>\n",
       "      <td>0.963563</td>\n",
       "      <td>0.963563</td>\n",
       "      <td>0.963563</td>\n",
       "      <td>247.0</td>\n",
       "    </tr>\n",
       "    <tr>\n",
       "      <th>Developer_of</th>\n",
       "      <td>0.935294</td>\n",
       "      <td>0.913793</td>\n",
       "      <td>0.924419</td>\n",
       "      <td>174.0</td>\n",
       "    </tr>\n",
       "    <tr>\n",
       "      <th>Citation_of</th>\n",
       "      <td>0.933333</td>\n",
       "      <td>0.913043</td>\n",
       "      <td>0.923077</td>\n",
       "      <td>92.0</td>\n",
       "    </tr>\n",
       "    <tr>\n",
       "      <th>URL_of</th>\n",
       "      <td>0.704918</td>\n",
       "      <td>0.704918</td>\n",
       "      <td>0.704918</td>\n",
       "      <td>61.0</td>\n",
       "    </tr>\n",
       "    <tr>\n",
       "      <th>PlugIn_of</th>\n",
       "      <td>0.595238</td>\n",
       "      <td>0.892857</td>\n",
       "      <td>0.714286</td>\n",
       "      <td>28.0</td>\n",
       "    </tr>\n",
       "    <tr>\n",
       "      <th>Specification_of</th>\n",
       "      <td>0.000000</td>\n",
       "      <td>0.000000</td>\n",
       "      <td>0.000000</td>\n",
       "      <td>18.0</td>\n",
       "    </tr>\n",
       "    <tr>\n",
       "      <th>Release_of</th>\n",
       "      <td>1.000000</td>\n",
       "      <td>1.000000</td>\n",
       "      <td>1.000000</td>\n",
       "      <td>16.0</td>\n",
       "    </tr>\n",
       "    <tr>\n",
       "      <th>Extension_of</th>\n",
       "      <td>1.000000</td>\n",
       "      <td>1.000000</td>\n",
       "      <td>1.000000</td>\n",
       "      <td>13.0</td>\n",
       "    </tr>\n",
       "    <tr>\n",
       "      <th>License_of</th>\n",
       "      <td>0.800000</td>\n",
       "      <td>0.800000</td>\n",
       "      <td>0.800000</td>\n",
       "      <td>10.0</td>\n",
       "    </tr>\n",
       "    <tr>\n",
       "      <th>Abbreviation_of</th>\n",
       "      <td>1.000000</td>\n",
       "      <td>1.000000</td>\n",
       "      <td>1.000000</td>\n",
       "      <td>6.0</td>\n",
       "    </tr>\n",
       "    <tr>\n",
       "      <th>AlternativeName_of</th>\n",
       "      <td>1.000000</td>\n",
       "      <td>1.000000</td>\n",
       "      <td>1.000000</td>\n",
       "      <td>3.0</td>\n",
       "    </tr>\n",
       "    <tr>\n",
       "      <th>micro avg</th>\n",
       "      <td>0.904255</td>\n",
       "      <td>0.890719</td>\n",
       "      <td>0.897436</td>\n",
       "      <td>668.0</td>\n",
       "    </tr>\n",
       "    <tr>\n",
       "      <th>macro avg</th>\n",
       "      <td>0.812031</td>\n",
       "      <td>0.835289</td>\n",
       "      <td>0.820933</td>\n",
       "      <td>668.0</td>\n",
       "    </tr>\n",
       "    <tr>\n",
       "      <th>weighted avg</th>\n",
       "      <td>0.886638</td>\n",
       "      <td>0.890719</td>\n",
       "      <td>0.887383</td>\n",
       "      <td>668.0</td>\n",
       "    </tr>\n",
       "  </tbody>\n",
       "</table>\n",
       "</div>"
      ],
      "text/plain": [
       "                    precision    recall  f1-score  support\n",
       "Version_of           0.963563  0.963563  0.963563    247.0\n",
       "Developer_of         0.935294  0.913793  0.924419    174.0\n",
       "Citation_of          0.933333  0.913043  0.923077     92.0\n",
       "URL_of               0.704918  0.704918  0.704918     61.0\n",
       "PlugIn_of            0.595238  0.892857  0.714286     28.0\n",
       "Specification_of     0.000000  0.000000  0.000000     18.0\n",
       "Release_of           1.000000  1.000000  1.000000     16.0\n",
       "Extension_of         1.000000  1.000000  1.000000     13.0\n",
       "License_of           0.800000  0.800000  0.800000     10.0\n",
       "Abbreviation_of      1.000000  1.000000  1.000000      6.0\n",
       "AlternativeName_of   1.000000  1.000000  1.000000      3.0\n",
       "micro avg            0.904255  0.890719  0.897436    668.0\n",
       "macro avg            0.812031  0.835289  0.820933    668.0\n",
       "weighted avg         0.886638  0.890719  0.887383    668.0"
      ]
     },
     "execution_count": 14,
     "metadata": {},
     "output_type": "execute_result"
    }
   ],
   "source": [
    "pd.DataFrame(classification_report(valid_set.relation, valid_set.prediction_label_baseline, zero_division=0., labels=labels, output_dict=True)).T"
   ]
  },
  {
   "cell_type": "markdown",
   "id": "6c7e2860-8ad2-45a7-9c6b-e254289eb240",
   "metadata": {
    "id": "W0DEbJkLg4Y6",
    "scrolled": true
   },
   "source": [
    "## Baseline on test"
   ]
  },
  {
   "cell_type": "code",
   "execution_count": 15,
   "id": "e65f2d74-58ff-41aa-8aa7-ddac8cd2d39c",
   "metadata": {
    "id": "W0DEbJkLg4Y6"
   },
   "outputs": [],
   "source": [
    "test_output = pd.DataFrame(classification_report(test_set.relation, test_set.prediction_label_baseline, zero_division=0., labels=labels, output_dict=True)).T"
   ]
  },
  {
   "cell_type": "code",
   "execution_count": 16,
   "id": "dc6909c3-c59b-4bee-b9fa-e7276148641b",
   "metadata": {},
   "outputs": [
    {
     "data": {
      "text/html": [
       "<div>\n",
       "<style scoped>\n",
       "    .dataframe tbody tr th:only-of-type {\n",
       "        vertical-align: middle;\n",
       "    }\n",
       "\n",
       "    .dataframe tbody tr th {\n",
       "        vertical-align: top;\n",
       "    }\n",
       "\n",
       "    .dataframe thead th {\n",
       "        text-align: right;\n",
       "    }\n",
       "</style>\n",
       "<table border=\"1\" class=\"dataframe\">\n",
       "  <thead>\n",
       "    <tr style=\"text-align: right;\">\n",
       "      <th></th>\n",
       "      <th>precision</th>\n",
       "      <th>recall</th>\n",
       "      <th>f1-score</th>\n",
       "      <th>support</th>\n",
       "    </tr>\n",
       "  </thead>\n",
       "  <tbody>\n",
       "    <tr>\n",
       "      <th>Version_of</th>\n",
       "      <td>0.954128</td>\n",
       "      <td>0.954128</td>\n",
       "      <td>0.954128</td>\n",
       "      <td>109.0</td>\n",
       "    </tr>\n",
       "    <tr>\n",
       "      <th>Developer_of</th>\n",
       "      <td>0.879518</td>\n",
       "      <td>0.879518</td>\n",
       "      <td>0.879518</td>\n",
       "      <td>83.0</td>\n",
       "    </tr>\n",
       "    <tr>\n",
       "      <th>Citation_of</th>\n",
       "      <td>0.977778</td>\n",
       "      <td>0.977778</td>\n",
       "      <td>0.977778</td>\n",
       "      <td>45.0</td>\n",
       "    </tr>\n",
       "    <tr>\n",
       "      <th>URL_of</th>\n",
       "      <td>0.666667</td>\n",
       "      <td>0.666667</td>\n",
       "      <td>0.666667</td>\n",
       "      <td>39.0</td>\n",
       "    </tr>\n",
       "    <tr>\n",
       "      <th>PlugIn_of</th>\n",
       "      <td>0.500000</td>\n",
       "      <td>0.923077</td>\n",
       "      <td>0.648649</td>\n",
       "      <td>13.0</td>\n",
       "    </tr>\n",
       "    <tr>\n",
       "      <th>Specification_of</th>\n",
       "      <td>0.000000</td>\n",
       "      <td>0.000000</td>\n",
       "      <td>0.000000</td>\n",
       "      <td>8.0</td>\n",
       "    </tr>\n",
       "    <tr>\n",
       "      <th>Release_of</th>\n",
       "      <td>0.857143</td>\n",
       "      <td>0.857143</td>\n",
       "      <td>0.857143</td>\n",
       "      <td>7.0</td>\n",
       "    </tr>\n",
       "    <tr>\n",
       "      <th>Extension_of</th>\n",
       "      <td>1.000000</td>\n",
       "      <td>0.909091</td>\n",
       "      <td>0.952381</td>\n",
       "      <td>11.0</td>\n",
       "    </tr>\n",
       "    <tr>\n",
       "      <th>License_of</th>\n",
       "      <td>0.700000</td>\n",
       "      <td>0.777778</td>\n",
       "      <td>0.736842</td>\n",
       "      <td>9.0</td>\n",
       "    </tr>\n",
       "    <tr>\n",
       "      <th>Abbreviation_of</th>\n",
       "      <td>1.000000</td>\n",
       "      <td>1.000000</td>\n",
       "      <td>1.000000</td>\n",
       "      <td>5.0</td>\n",
       "    </tr>\n",
       "    <tr>\n",
       "      <th>AlternativeName_of</th>\n",
       "      <td>1.000000</td>\n",
       "      <td>1.000000</td>\n",
       "      <td>1.000000</td>\n",
       "      <td>1.0</td>\n",
       "    </tr>\n",
       "    <tr>\n",
       "      <th>micro avg</th>\n",
       "      <td>0.864865</td>\n",
       "      <td>0.872727</td>\n",
       "      <td>0.868778</td>\n",
       "      <td>330.0</td>\n",
       "    </tr>\n",
       "    <tr>\n",
       "      <th>macro avg</th>\n",
       "      <td>0.775930</td>\n",
       "      <td>0.813198</td>\n",
       "      <td>0.788464</td>\n",
       "      <td>330.0</td>\n",
       "    </tr>\n",
       "    <tr>\n",
       "      <th>weighted avg</th>\n",
       "      <td>0.856970</td>\n",
       "      <td>0.872727</td>\n",
       "      <td>0.862243</td>\n",
       "      <td>330.0</td>\n",
       "    </tr>\n",
       "  </tbody>\n",
       "</table>\n",
       "</div>"
      ],
      "text/plain": [
       "                    precision    recall  f1-score  support\n",
       "Version_of           0.954128  0.954128  0.954128    109.0\n",
       "Developer_of         0.879518  0.879518  0.879518     83.0\n",
       "Citation_of          0.977778  0.977778  0.977778     45.0\n",
       "URL_of               0.666667  0.666667  0.666667     39.0\n",
       "PlugIn_of            0.500000  0.923077  0.648649     13.0\n",
       "Specification_of     0.000000  0.000000  0.000000      8.0\n",
       "Release_of           0.857143  0.857143  0.857143      7.0\n",
       "Extension_of         1.000000  0.909091  0.952381     11.0\n",
       "License_of           0.700000  0.777778  0.736842      9.0\n",
       "Abbreviation_of      1.000000  1.000000  1.000000      5.0\n",
       "AlternativeName_of   1.000000  1.000000  1.000000      1.0\n",
       "micro avg            0.864865  0.872727  0.868778    330.0\n",
       "macro avg            0.775930  0.813198  0.788464    330.0\n",
       "weighted avg         0.856970  0.872727  0.862243    330.0"
      ]
     },
     "execution_count": 16,
     "metadata": {},
     "output_type": "execute_result"
    }
   ],
   "source": [
    "test_output"
   ]
  },
  {
   "cell_type": "code",
   "execution_count": 17,
   "id": "f85a9fb7",
   "metadata": {},
   "outputs": [],
   "source": [
    "test_output = test_output.iloc[:-3]"
   ]
  },
  {
   "cell_type": "code",
   "execution_count": 42,
   "id": "c725784a",
   "metadata": {},
   "outputs": [
    {
     "data": {
      "text/plain": [
       "<Figure size 1400x800 with 0 Axes>"
      ]
     },
     "metadata": {},
     "output_type": "display_data"
    },
    {
     "data": {
      "image/png": "[encoded data removed]",
      "text/plain": [
       "<Figure size 1400x800 with 1 Axes>"
      ]
     },
     "metadata": {},
     "output_type": "display_data"
    }
   ],
   "source": [
    "import seaborn as sns\n",
    "import matplotlib.pyplot as plt\n",
    "colors = sns.color_palette('Set3')\n",
    "colors_list = [colors[7], colors[9], colors[6]]\n",
    "# Set the size of the plot\n",
    "plt.figure(figsize=(14, 8))\n",
    "\n",
    "# Plotting the precision, recall, and f1-score\n",
    "ax = test_output.plot(kind='bar', x='support', y=['precision', 'recall', 'f1-score'], color=colors_list, figsize=(14, 8))\n",
    "\n",
    "# Adding title and labels\n",
    "plt.title('Performance Metrics for rule-based model')\n",
    "plt.xlabel('number of samples in each class')\n",
    "plt.ylabel('score')\n",
    "# Annotate class names on the middle bar of each class group\n",
    "for i in range(len(test_output)):\n",
    "    p = ax.containers[1][i]  # Select the middle bar in each group\n",
    "    class_name = test_output.index[i]  # Get the class name for the current group\n",
    "    ax.text(x=p.get_x() + p.get_width() / 2, \n",
    "            y=p.get_height() if p.get_height() != 0 else 0.2 ,  # Position slightly above the bar#+ 0.02\n",
    "            s=class_name, \n",
    "            ha='center', va='top', rotation=90, fontsize=8, color='black')\n",
    "# Rotating the x-axis labels for better readability\n",
    "plt.xticks(rotation=45, ha='right')\n",
    "plt.legend(['Precision', 'Recall', 'F1-Score'], loc=(0.45, 0.5))\n",
    "# Show the plot\n",
    "plt.tight_layout()\n",
    "plt.show()"
   ]
  },
  {
   "cell_type": "code",
   "execution_count": 43,
   "id": "feea58ef",
   "metadata": {},
   "outputs": [
    {
     "data": {
      "text/html": [
       "<div>\n",
       "<style scoped>\n",
       "    .dataframe tbody tr th:only-of-type {\n",
       "        vertical-align: middle;\n",
       "    }\n",
       "\n",
       "    .dataframe tbody tr th {\n",
       "        vertical-align: top;\n",
       "    }\n",
       "\n",
       "    .dataframe thead th {\n",
       "        text-align: right;\n",
       "    }\n",
       "</style>\n",
       "<table border=\"1\" class=\"dataframe\">\n",
       "  <thead>\n",
       "    <tr style=\"text-align: right;\">\n",
       "      <th></th>\n",
       "      <th>precision</th>\n",
       "      <th>recall</th>\n",
       "      <th>f1-score</th>\n",
       "      <th>support</th>\n",
       "    </tr>\n",
       "  </thead>\n",
       "  <tbody>\n",
       "    <tr>\n",
       "      <th>Version_of</th>\n",
       "      <td>0.954128</td>\n",
       "      <td>0.954128</td>\n",
       "      <td>0.954128</td>\n",
       "      <td>109.0</td>\n",
       "    </tr>\n",
       "    <tr>\n",
       "      <th>Developer_of</th>\n",
       "      <td>0.879518</td>\n",
       "      <td>0.879518</td>\n",
       "      <td>0.879518</td>\n",
       "      <td>83.0</td>\n",
       "    </tr>\n",
       "    <tr>\n",
       "      <th>Citation_of</th>\n",
       "      <td>0.977778</td>\n",
       "      <td>0.977778</td>\n",
       "      <td>0.977778</td>\n",
       "      <td>45.0</td>\n",
       "    </tr>\n",
       "    <tr>\n",
       "      <th>URL_of</th>\n",
       "      <td>0.666667</td>\n",
       "      <td>0.666667</td>\n",
       "      <td>0.666667</td>\n",
       "      <td>39.0</td>\n",
       "    </tr>\n",
       "    <tr>\n",
       "      <th>PlugIn_of</th>\n",
       "      <td>0.500000</td>\n",
       "      <td>0.923077</td>\n",
       "      <td>0.648649</td>\n",
       "      <td>13.0</td>\n",
       "    </tr>\n",
       "    <tr>\n",
       "      <th>Specification_of</th>\n",
       "      <td>0.000000</td>\n",
       "      <td>0.000000</td>\n",
       "      <td>0.000000</td>\n",
       "      <td>8.0</td>\n",
       "    </tr>\n",
       "    <tr>\n",
       "      <th>Release_of</th>\n",
       "      <td>0.857143</td>\n",
       "      <td>0.857143</td>\n",
       "      <td>0.857143</td>\n",
       "      <td>7.0</td>\n",
       "    </tr>\n",
       "    <tr>\n",
       "      <th>Extension_of</th>\n",
       "      <td>1.000000</td>\n",
       "      <td>0.909091</td>\n",
       "      <td>0.952381</td>\n",
       "      <td>11.0</td>\n",
       "    </tr>\n",
       "    <tr>\n",
       "      <th>License_of</th>\n",
       "      <td>0.700000</td>\n",
       "      <td>0.777778</td>\n",
       "      <td>0.736842</td>\n",
       "      <td>9.0</td>\n",
       "    </tr>\n",
       "    <tr>\n",
       "      <th>Abbreviation_of</th>\n",
       "      <td>1.000000</td>\n",
       "      <td>1.000000</td>\n",
       "      <td>1.000000</td>\n",
       "      <td>5.0</td>\n",
       "    </tr>\n",
       "    <tr>\n",
       "      <th>AlternativeName_of</th>\n",
       "      <td>1.000000</td>\n",
       "      <td>1.000000</td>\n",
       "      <td>1.000000</td>\n",
       "      <td>1.0</td>\n",
       "    </tr>\n",
       "  </tbody>\n",
       "</table>\n",
       "</div>"
      ],
      "text/plain": [
       "                    precision    recall  f1-score  support\n",
       "Version_of           0.954128  0.954128  0.954128    109.0\n",
       "Developer_of         0.879518  0.879518  0.879518     83.0\n",
       "Citation_of          0.977778  0.977778  0.977778     45.0\n",
       "URL_of               0.666667  0.666667  0.666667     39.0\n",
       "PlugIn_of            0.500000  0.923077  0.648649     13.0\n",
       "Specification_of     0.000000  0.000000  0.000000      8.0\n",
       "Release_of           0.857143  0.857143  0.857143      7.0\n",
       "Extension_of         1.000000  0.909091  0.952381     11.0\n",
       "License_of           0.700000  0.777778  0.736842      9.0\n",
       "Abbreviation_of      1.000000  1.000000  1.000000      5.0\n",
       "AlternativeName_of   1.000000  1.000000  1.000000      1.0"
      ]
     },
     "execution_count": 43,
     "metadata": {},
     "output_type": "execute_result"
    }
   ],
   "source": [
    "test_output"
   ]
  },
  {
   "cell_type": "code",
   "execution_count": 22,
   "id": "cc470117",
   "metadata": {},
   "outputs": [],
   "source": [
    "output = test_output.loc['weighted avg'].drop('support').to_dict()"
   ]
  },
  {
   "cell_type": "code",
   "execution_count": 23,
   "id": "2c7cb405",
   "metadata": {},
   "outputs": [],
   "source": [
    "output['name'] = 'rule based'"
   ]
  },
  {
   "cell_type": "code",
   "execution_count": 24,
   "id": "7fc9628f",
   "metadata": {},
   "outputs": [
    {
     "data": {
      "text/plain": [
       "{'precision': 0.856969696969697,\n",
       " 'recall': 0.8727272727272727,\n",
       " 'f1-score': 0.8622430359272466,\n",
       " 'name': 'rule based'}"
      ]
     },
     "execution_count": 24,
     "metadata": {},
     "output_type": "execute_result"
    }
   ],
   "source": [
    "output"
   ]
  },
  {
   "cell_type": "code",
   "execution_count": 26,
   "id": "712ed6b5",
   "metadata": {},
   "outputs": [],
   "source": [
    "import json\n",
    "with open(\"subtask3_results.txt\", \"a\") as myfile:\n",
    "    myfile.write(json.dumps(output) + \"\\n\")"
   ]
  },
  {
   "cell_type": "code",
   "execution_count": null,
   "id": "c7b832c1",
   "metadata": {},
   "outputs": [],
   "source": []
  }
 ],
 "metadata": {
  "accelerator": "GPU",
  "colab": {
   "gpuType": "T4",
   "provenance": []
  },
  "kernelspec": {
   "display_name": "Python 3 (ipykernel)",
   "language": "python",
   "name": "python3"
  },
  "language_info": {
   "codemirror_mode": {
    "name": "ipython",
    "version": 3
   },
   "file_extension": ".py",
   "mimetype": "text/x-python",
   "name": "python",
   "nbconvert_exporter": "python",
   "pygments_lexer": "ipython3",
   "version": "3.11.4"
  }
 },
 "nbformat": 4,
 "nbformat_minor": 5
}
