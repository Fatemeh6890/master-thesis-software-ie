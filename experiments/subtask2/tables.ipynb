{
 "cells": [
  {
   "cell_type": "code",
   "execution_count": 1,
   "id": "88ab000b",
   "metadata": {},
   "outputs": [],
   "source": [
    "import pandas as pd\n",
    "import json\n",
    "import os\n",
    "import statistics\n",
    "import sys\n",
    "import ast\n",
    "\n",
    "sys.path.append('..')\n",
    "import analysis_helper"
   ]
  },
  {
   "cell_type": "markdown",
   "id": "47326869",
   "metadata": {},
   "source": [
    "### bert_base_uncased"
   ]
  },
  {
   "cell_type": "code",
   "execution_count": 2,
   "id": "a2bee334",
   "metadata": {},
   "outputs": [],
   "source": [
    "path_of_bert_base_uncased = \"optimized/bert_base_uncased/\"\n",
    "\n",
    "# get the list of json files in the directory\n",
    "json_files_bert_base_uncased = analysis_helper.get_list_of_json_files(path=path_of_bert_base_uncased)\n",
    "\n",
    "# combine all json files in a list\n",
    "data_bert_base_uncased = analysis_helper.data(path=path_of_bert_base_uncased, json_files=json_files_bert_base_uncased)\n",
    "\n",
    "# calculate the mean of precision, recall, f1\n",
    "means_of_precision_bert_base_uncased, means_of_recall_bert_base_uncased, means_of_f1_bert_base_uncased = analysis_helper.calculate_mean(list_of_data=data_bert_base_uncased)\n",
    "\n",
    "# create dictionary of infos and write them in a text file\n",
    "# analysis_helper.create_dictionary_write_in_text_file(name=\"training_bert_base_uncased\",\n",
    "#                                                          precision=means_of_precision_bert_base_uncased,\n",
    "#                                                          recall=means_of_recall_bert_base_uncased,\n",
    "#                                                          f1=means_of_f1_bert_base_uncased)\n",
    "different_models_info = {}\n",
    "different_models_info['bert-base-uncased'] = {}\n",
    "different_models_info['bert-base-uncased']['training_f1'] = means_of_f1_bert_base_uncased\n"
   ]
  },
  {
   "cell_type": "markdown",
   "id": "d17fdeae",
   "metadata": {},
   "source": [
    "### bert_base_cased"
   ]
  },
  {
   "cell_type": "code",
   "execution_count": 3,
   "id": "9d2e95bd",
   "metadata": {},
   "outputs": [],
   "source": [
    "path_of_bert_base_cased = \"optimized/bert_base_cased\"\n",
    "\n",
    "# get the list of json files in the directory\n",
    "json_files_bert_base_cased = analysis_helper.get_list_of_json_files(path=path_of_bert_base_cased)\n",
    "\n",
    "# combine all json files in a list\n",
    "data_bert_base_cased = analysis_helper.data(path=path_of_bert_base_cased, json_files=json_files_bert_base_cased)\n",
    "\n",
    "# calculate the mean of precision, recall, f1\n",
    "means_of_precision_bert_base_cased, means_of_recall_bert_base_cased, means_of_f1_bert_base_cased = analysis_helper.calculate_mean(list_of_data=data_bert_base_cased)\n",
    "\n",
    "# create dictionary of infos and write them in a text file\n",
    "# analysis_helper.create_dictionary_write_in_text_file(name=\"training_bert_base_cased\",\n",
    "#                                                      precision=means_of_precision_bert_base_cased,\n",
    "#                                                      recall=means_of_recall_bert_base_cased,\n",
    "#                                                      f1=means_of_f1_bert_base_cased)\n",
    "different_models_info['bert-base-cased'] = {}\n",
    "different_models_info['bert-base-cased']['training_f1'] = means_of_f1_bert_base_cased"
   ]
  },
  {
   "cell_type": "markdown",
   "id": "2cb47cf5",
   "metadata": {},
   "source": [
    "### roberta_base"
   ]
  },
  {
   "cell_type": "code",
   "execution_count": 4,
   "id": "7c16691d",
   "metadata": {},
   "outputs": [],
   "source": [
    "path_of_roberta_base = \"optimized/roberta_base\"\n",
    "\n",
    "# get the list of json files in the directory\n",
    "json_files_roberta_base = analysis_helper.get_list_of_json_files(path=path_of_roberta_base)\n",
    "\n",
    "# combine all json files in a list\n",
    "data_roberta_base= analysis_helper.data(path=path_of_roberta_base, json_files=json_files_roberta_base)\n",
    "\n",
    "# calculate the mean of precision, recall, f1\n",
    "means_of_precision_roberta_base, means_of_recall_roberta_base, means_of_f1_roberta_base = analysis_helper.calculate_mean(list_of_data=data_roberta_base)\n",
    "\n",
    "# create dictionary of infos and write them in a text file\n",
    "# analysis_helper.create_dictionary_write_in_text_file(name=\"training_robeta_base\",\n",
    "#                                                      precision=means_of_precision_roberta_base,\n",
    "#                                                      recall=means_of_recall_roberta_base,\n",
    "#                                                      f1=means_of_f1_roberta_base)\n",
    "\n",
    "different_models_info['roberta-base'] = {}\n",
    "different_models_info['roberta-base']['training_f1'] = means_of_f1_roberta_base"
   ]
  },
  {
   "cell_type": "markdown",
   "id": "7d160cc4",
   "metadata": {},
   "source": [
    "### scibert"
   ]
  },
  {
   "cell_type": "code",
   "execution_count": 5,
   "id": "d7a0fe3f",
   "metadata": {},
   "outputs": [],
   "source": [
    "path_of_scibert = \"optimized/scibert\"\n",
    "\n",
    "# get the list of json files in the directory\n",
    "json_files_scibert = analysis_helper.get_list_of_json_files(path=path_of_scibert)\n",
    "\n",
    "# combine all json files in a list\n",
    "data_scibert = analysis_helper.data(path=path_of_scibert, json_files=json_files_scibert)\n",
    "\n",
    "# calculate the mean of precision, recall, f1\n",
    "means_of_precision_scibert, means_of_recall_scibert, means_of_f1_scibert = analysis_helper.calculate_mean(list_of_data=data_scibert)\n",
    "\n",
    "# create dictionary of infos and write them in a text file\n",
    "# analysis_helper.create_dictionary_write_in_text_file(name=\"training_allenai/scibert_scivocab_uncased\",\n",
    "#                                                      precision=means_of_precision_scibert,\n",
    "#                                                      recall=means_of_recall_scibert,\n",
    "#                                                      f1=means_of_f1_scibert)\n",
    "\n",
    "different_models_info['allenai/scibert_scivocab_uncased'] = {}\n",
    "different_models_info['allenai/scibert_scivocab_uncased']['training_f1'] = means_of_f1_scibert"
   ]
  },
  {
   "cell_type": "markdown",
   "id": "3d724da0",
   "metadata": {},
   "source": [
    "### read the prediction infos"
   ]
  },
  {
   "cell_type": "code",
   "execution_count": 28,
   "id": "f3613f78",
   "metadata": {},
   "outputs": [
    {
     "name": "stdout",
     "output_type": "stream",
     "text": [
      "['{\"precision\": 0.8064483855298218, \"recall\": 0.8769990713487288, \"f1\": 0.8250462096664043, \"name\": \"bert-base-uncased\", \"epochs\": 8, \"train_batch_size\": 8, \"val_batch_size\": 4, \"lr\": 4.049121342923264e-05, \"weight_decay\": 0.0006606303078059762, \"warmup_ratio\": 0.1}\\n', '{\"precision\": 0.7748511860477655, \"recall\": 0.8368376613154597, \"f1\": 0.7918764200658032, \"name\": \"bert-base-cased\", \"epochs\": 8, \"train_batch_size\": 8, \"val_batch_size\": 8, \"lr\": 4.618029808981708e-05, \"weight_decay\": 0.03758347847992206, \"warmup_ratio\": 0.1}\\n', '{\"precision\": 0.7117765460896792, \"recall\": 0.8330462415860046, \"f1\": 0.7532072699727134, \"name\": \"roberta-base\", \"epochs\": 10, \"train_batch_size\": 8, \"val_batch_size\": 16, \"lr\": 0.00015515173680859392, \"weight_decay\": 0.005460881581285625, \"warmup_ratio\": 0.1}\\n', '{\"precision\": 0.775089647012504, \"recall\": 0.887378165293999, \"f1\": 0.8070763208194794, \"name\": \"allenai/scibert_scivocab_uncased\", \"epochs\": 6, \"train_batch_size\": 16, \"val_batch_size\": 32, \"lr\": 4.4290568906213565e-05, \"weight_decay\": 0.06442536680008212, \"warmup_ratio\": 0.1}']\n"
     ]
    }
   ],
   "source": [
    "with open(\"../../evaluation/subtask2/subtask2_optimized_results.txt\") as f:\n",
    "    prediction_infos = f.readlines()\n",
    "    print(prediction_infos)"
   ]
  },
  {
   "cell_type": "code",
   "execution_count": 29,
   "id": "e2b04ea8",
   "metadata": {},
   "outputs": [],
   "source": [
    "result_of_predictions = []\n",
    "for pred in prediction_infos:\n",
    "    result_of_predictions.append(ast.literal_eval(pred))"
   ]
  },
  {
   "cell_type": "code",
   "execution_count": 33,
   "id": "c4f8355a",
   "metadata": {},
   "outputs": [
    {
     "data": {
      "text/plain": [
       "{'bert-base-uncased': {'training_f1': 0.879297905898066,\n",
       "  'test_f1': 0.8250462096664043},\n",
       " 'bert-base-cased': {'training_f1': 0.8971037492363625,\n",
       "  'test_f1': 0.7918764200658032},\n",
       " 'roberta-base': {'training_f1': 0.8587004044124531,\n",
       "  'test_f1': 0.7532072699727134},\n",
       " 'allenai/scibert_scivocab_uncased': {'training_f1': 0.8959438964892893,\n",
       "  'test_f1': 0.8070763208194794}}"
      ]
     },
     "execution_count": 33,
     "metadata": {},
     "output_type": "execute_result"
    }
   ],
   "source": [
    "different_models_info"
   ]
  },
  {
   "cell_type": "code",
   "execution_count": 37,
   "id": "ba314ce9",
   "metadata": {},
   "outputs": [
    {
     "data": {
      "text/html": [
       "<div>\n",
       "<style scoped>\n",
       "    .dataframe tbody tr th:only-of-type {\n",
       "        vertical-align: middle;\n",
       "    }\n",
       "\n",
       "    .dataframe tbody tr th {\n",
       "        vertical-align: top;\n",
       "    }\n",
       "\n",
       "    .dataframe thead th {\n",
       "        text-align: right;\n",
       "    }\n",
       "</style>\n",
       "<table border=\"1\" class=\"dataframe\">\n",
       "  <thead>\n",
       "    <tr style=\"text-align: right;\">\n",
       "      <th></th>\n",
       "      <th>training_f1</th>\n",
       "      <th>test_f1</th>\n",
       "    </tr>\n",
       "  </thead>\n",
       "  <tbody>\n",
       "    <tr>\n",
       "      <th>bert-base-uncased</th>\n",
       "      <td>0.879298</td>\n",
       "      <td>0.825046</td>\n",
       "    </tr>\n",
       "    <tr>\n",
       "      <th>bert-base-cased</th>\n",
       "      <td>0.897104</td>\n",
       "      <td>0.791876</td>\n",
       "    </tr>\n",
       "    <tr>\n",
       "      <th>roberta-base</th>\n",
       "      <td>0.858700</td>\n",
       "      <td>0.753207</td>\n",
       "    </tr>\n",
       "    <tr>\n",
       "      <th>allenai/scibert_scivocab_uncased</th>\n",
       "      <td>0.895944</td>\n",
       "      <td>0.807076</td>\n",
       "    </tr>\n",
       "  </tbody>\n",
       "</table>\n",
       "</div>"
      ],
      "text/plain": [
       "                                  training_f1   test_f1\n",
       "bert-base-uncased                    0.879298  0.825046\n",
       "bert-base-cased                      0.897104  0.791876\n",
       "roberta-base                         0.858700  0.753207\n",
       "allenai/scibert_scivocab_uncased     0.895944  0.807076"
      ]
     },
     "execution_count": 37,
     "metadata": {},
     "output_type": "execute_result"
    }
   ],
   "source": [
    "df = pd.DataFrame.from_dict(different_models_info, orient='index')\n",
    "df.head()"
   ]
  },
  {
   "cell_type": "code",
   "execution_count": null,
   "id": "3c012b78",
   "metadata": {},
   "outputs": [],
   "source": []
  }
 ],
 "metadata": {
  "kernelspec": {
   "display_name": "Python 3 (ipykernel)",
   "language": "python",
   "name": "python3"
  },
  "language_info": {
   "codemirror_mode": {
    "name": "ipython",
    "version": 3
   },
   "file_extension": ".py",
   "mimetype": "text/x-python",
   "name": "python",
   "nbconvert_exporter": "python",
   "pygments_lexer": "ipython3",
   "version": "3.11.4"
  }
 },
 "nbformat": 4,
 "nbformat_minor": 5
}
