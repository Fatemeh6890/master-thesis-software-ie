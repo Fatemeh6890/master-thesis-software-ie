{
 "cells": [
  {
   "cell_type": "code",
   "execution_count": 4,
   "id": "5e84e0c6",
   "metadata": {},
   "outputs": [],
   "source": [
    "sys.path.insert(1, 'C:/Users/fschr/Desktop/Masterarbeit/master-thesis-software-ie/experiments')\n",
    "import calc_metrics\n",
    "import random"
   ]
  },
  {
   "cell_type": "markdown",
   "id": "3e78a8b1",
   "metadata": {},
   "source": [
    "## Load Predictions and gold"
   ]
  },
  {
   "cell_type": "code",
   "execution_count": null,
   "id": "cde0c8e2",
   "metadata": {},
   "outputs": [],
   "source": [
    "fn_pred = \"../data/subtask2/prediction_dataset.txt\"\n",
    "fn_gold = \"../data/subtask2/subtask2_test.labels.txt\"\n",
    "\n",
    "preds = calc_metrics.load_bio(fn_pred)\n",
    "gold = calc_metrics.load_bio(fn_gold)\n",
    "print(len(preds), len(gold))\n"
   ]
  },
  {
   "cell_type": "markdown",
   "id": "0eee15f3",
   "metadata": {},
   "source": [
    "## Show Example"
   ]
  },
  {
   "cell_type": "code",
   "execution_count": null,
   "id": "92939823",
   "metadata": {},
   "outputs": [],
   "source": [
    "idx = random.choice(list(range(len(gold))))\n",
    "print(f\"test sentence: {idx}\")\n",
    "print(list(zip(gold[idx], preds[idx])))"
   ]
  },
  {
   "cell_type": "markdown",
   "id": "1dc2a99f",
   "metadata": {},
   "source": [
    "## every sentence need to have the same length!"
   ]
  },
  {
   "cell_type": "code",
   "execution_count": null,
   "id": "5f0ac30a",
   "metadata": {},
   "outputs": [],
   "source": [
    "for idx, (g, pred) in enumerate(zip(gold, preds)):\n",
    "    if len(g) != len(pred):\n",
    "        print(idx, len(g), len(pred))"
   ]
  },
  {
   "cell_type": "markdown",
   "id": "452dc334",
   "metadata": {},
   "source": [
    "## Are there different labels in gold and prediction?"
   ]
  },
  {
   "cell_type": "code",
   "execution_count": null,
   "id": "0eedf5ae",
   "metadata": {},
   "outputs": [],
   "source": [
    "label_test = {anno for sentence in gold for anno in sentence}\n",
    "label_pred = {anno for sentence in preds for anno in sentence}\n",
    "print(len(label_test), len(label_pred))\n",
    "label_test - label_pred"
   ]
  },
  {
   "cell_type": "markdown",
   "id": "02a2d78e",
   "metadata": {},
   "source": [
    "## Calculate Metrics"
   ]
  },
  {
   "cell_type": "code",
   "execution_count": null,
   "id": "5c17e048",
   "metadata": {},
   "outputs": [],
   "source": [
    "metrics_df = calc_metrics.compute(preds, gold)\n",
    "metrics_df"
   ]
  },
  {
   "cell_type": "markdown",
   "id": "68b39c78",
   "metadata": {},
   "source": [
    "metrics_df.mean()"
   ]
  },
  {
   "cell_type": "code",
   "execution_count": null,
   "id": "76585cb8",
   "metadata": {},
   "outputs": [],
   "source": [
    "metrics_df.mean()[:-1].to_dict()"
   ]
  },
  {
   "cell_type": "markdown",
   "id": "4b48343b",
   "metadata": {},
   "source": [
    "## Visualization of Evaluation"
   ]
  },
  {
   "cell_type": "markdown",
   "id": "03dbce21",
   "metadata": {},
   "source": [
    "### All dataset"
   ]
  },
  {
   "cell_type": "code",
   "execution_count": null,
   "id": "f0557b7f",
   "metadata": {},
   "outputs": [],
   "source": [
    "import pandas as pd\n",
    "import matplotlib.pyplot as plt\n",
    "\n",
    "precision = metrics.df['precision'].tolist()\n",
    "recall = metrics_df['recall'].tolist()\n",
    "f1 = metrics_df['f1'].tolist()\n",
    "labels = metrics_df.index.tolist()\n",
    "\n",
    "\n",
    "plt.figure(figsize=(10, 6))\n",
    "plt.plot(labels, precision, marker='o', label='Precision')\n",
    "plt.plot(labels, recall, marker='+', label='Recall')\n",
    "plt.plot(labels, f1, marker='-', label='F1-score')\n",
    "plt.title('Precision, Recall and F1-Score for each label')\n",
    "plt.xlabel('Labels')\n",
    "plt.ylabel('Scores')\n",
    "plt.xticks(rotation=45, ha='right')\n",
    "plt.legend()\n",
    "plt."
   ]
  }
 ],
 "metadata": {
  "kernelspec": {
   "display_name": "Python 3 (ipykernel)",
   "language": "python",
   "name": "python3"
  },
  "language_info": {
   "codemirror_mode": {
    "name": "ipython",
    "version": 3
   },
   "file_extension": ".py",
   "mimetype": "text/x-python",
   "name": "python",
   "nbconvert_exporter": "python",
   "pygments_lexer": "ipython3",
   "version": "3.11.4"
  }
 },
 "nbformat": 4,
 "nbformat_minor": 5
}
