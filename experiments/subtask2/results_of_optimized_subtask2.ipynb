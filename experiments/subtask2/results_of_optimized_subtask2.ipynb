{
 "cells": [
  {
   "cell_type": "code",
   "execution_count": 1,
   "id": "88ab000b",
   "metadata": {},
   "outputs": [
    {
     "name": "stderr",
     "output_type": "stream",
     "text": [
      "C:\\Users\\fschr\\AppData\\Roaming\\Python\\Python311\\site-packages\\pandas\\core\\arrays\\masked.py:60: UserWarning: Pandas requires version '1.3.6' or newer of 'bottleneck' (version '1.3.5' currently installed).\n",
      "  from pandas.core import (\n"
     ]
    }
   ],
   "source": [
    "import pandas as pd\n",
    "import json\n",
    "import os\n",
    "import statistics\n",
    "import sys\n",
    "import ast\n",
    "\n",
    "sys.path.append('..')\n",
    "import analysis_helper"
   ]
  },
  {
   "cell_type": "markdown",
   "id": "47326869",
   "metadata": {},
   "source": [
    "### bert_base_uncased"
   ]
  },
  {
   "cell_type": "code",
   "execution_count": 2,
   "id": "a2bee334",
   "metadata": {},
   "outputs": [],
   "source": [
    "path_of_bert_base_uncased = \"optimized/bert_base_uncased/\"\n",
    "\n",
    "# get the list of json files in the directory\n",
    "json_files_bert_base_uncased = analysis_helper.get_list_of_json_files(path=path_of_bert_base_uncased)\n",
    "\n",
    "# combine all json files in a list\n",
    "data_bert_base_uncased = analysis_helper.data(path=path_of_bert_base_uncased, json_files=json_files_bert_base_uncased)\n",
    "\n",
    "# calculate the mean of precision, recall, f1\n",
    "means_of_precision_bert_base_uncased, means_of_recall_bert_base_uncased, means_of_f1_bert_base_uncased = analysis_helper.calculate_mean(list_of_data=data_bert_base_uncased)\n",
    "\n",
    "# create dictionary of infos and write them in a text file\n",
    "# analysis_helper.create_dictionary_write_in_text_file(name=\"training_bert_base_uncased\",\n",
    "#                                                          precision=means_of_precision_bert_base_uncased,\n",
    "#                                                          recall=means_of_recall_bert_base_uncased,\n",
    "#                                                          f1=means_of_f1_bert_base_uncased)\n",
    "different_models_info = {}\n",
    "different_models_info['bert-base-uncased'] = {}\n",
    "different_models_info['bert-base-uncased']['training_f1'] = means_of_f1_bert_base_uncased\n"
   ]
  },
  {
   "cell_type": "markdown",
   "id": "e5751148",
   "metadata": {},
   "source": [
    "### bert_base_cased"
   ]
  },
  {
   "cell_type": "code",
   "execution_count": 3,
   "id": "606c43da",
   "metadata": {},
   "outputs": [],
   "source": [
    "path_of_bert_base_cased = \"optimized/bert_base_cased\"\n",
    "\n",
    "# get the list of json files in the directory\n",
    "json_files_bert_base_cased = analysis_helper.get_list_of_json_files(path=path_of_bert_base_cased)\n",
    "\n",
    "# combine all json files in a list\n",
    "data_bert_base_cased = analysis_helper.data(path=path_of_bert_base_cased, json_files=json_files_bert_base_cased)\n",
    "\n",
    "# calculate the mean of precision, recall, f1\n",
    "means_of_precision_bert_base_cased, means_of_recall_bert_base_cased, means_of_f1_bert_base_cased = analysis_helper.calculate_mean(list_of_data=data_bert_base_cased)\n",
    "\n",
    "# create dictionary of infos and write them in a text file\n",
    "# analysis_helper.create_dictionary_write_in_text_file(name=\"training_bert_base_cased\",\n",
    "#                                                      precision=means_of_precision_bert_base_cased,\n",
    "#                                                      recall=means_of_recall_bert_base_cased,\n",
    "#                                                      f1=means_of_f1_bert_base_cased)\n",
    "different_models_info['bert-base-cased'] = {}\n",
    "different_models_info['bert-base-cased']['training_f1'] = means_of_f1_bert_base_cased"
   ]
  },
  {
   "cell_type": "markdown",
   "id": "f3be5468",
   "metadata": {},
   "source": [
    "### roberta_base"
   ]
  },
  {
   "cell_type": "code",
   "execution_count": 4,
   "id": "19f2ea26",
   "metadata": {},
   "outputs": [],
   "source": [
    "path_of_roberta_base = \"optimized/roberta_base\"\n",
    "\n",
    "# get the list of json files in the directory\n",
    "json_files_roberta_base = analysis_helper.get_list_of_json_files(path=path_of_roberta_base)\n",
    "\n",
    "# combine all json files in a list\n",
    "data_roberta_base= analysis_helper.data(path=path_of_roberta_base, json_files=json_files_roberta_base)\n",
    "\n",
    "# calculate the mean of precision, recall, f1\n",
    "means_of_precision_roberta_base, means_of_recall_roberta_base, means_of_f1_roberta_base = analysis_helper.calculate_mean(list_of_data=data_roberta_base)\n",
    "\n",
    "# create dictionary of infos and write them in a text file\n",
    "# analysis_helper.create_dictionary_write_in_text_file(name=\"training_robeta_base\",\n",
    "#                                                      precision=means_of_precision_roberta_base,\n",
    "#                                                      recall=means_of_recall_roberta_base,\n",
    "#                                                      f1=means_of_f1_roberta_base)\n",
    "\n",
    "different_models_info['roberta-base'] = {}\n",
    "different_models_info['roberta-base']['training_f1'] = means_of_f1_roberta_base"
   ]
  },
  {
   "cell_type": "markdown",
   "id": "e16d7ecd",
   "metadata": {},
   "source": [
    "### scibert"
   ]
  },
  {
   "cell_type": "code",
   "execution_count": 5,
   "id": "d3f05b99",
   "metadata": {},
   "outputs": [],
   "source": [
    "path_of_scibert = \"optimized/scibert\"\n",
    "\n",
    "# get the list of json files in the directory\n",
    "json_files_scibert = analysis_helper.get_list_of_json_files(path=path_of_scibert)\n",
    "\n",
    "# combine all json files in a list\n",
    "data_scibert = analysis_helper.data(path=path_of_scibert, json_files=json_files_scibert)\n",
    "\n",
    "# calculate the mean of precision, recall, f1\n",
    "means_of_precision_scibert, means_of_recall_scibert, means_of_f1_scibert = analysis_helper.calculate_mean(list_of_data=data_scibert)\n",
    "\n",
    "# create dictionary of infos and write them in a text file\n",
    "# analysis_helper.create_dictionary_write_in_text_file(name=\"training_allenai/scibert_scivocab_uncased\",\n",
    "#                                                      precision=means_of_precision_scibert,\n",
    "#                                                      recall=means_of_recall_scibert,\n",
    "#                                                      f1=means_of_f1_scibert)\n",
    "\n",
    "different_models_info['allenai/scibert_scivocab_uncased'] = {}\n",
    "different_models_info['allenai/scibert_scivocab_uncased']['training_f1'] = means_of_f1_scibert"
   ]
  },
  {
   "cell_type": "markdown",
   "id": "ce9bba2c",
   "metadata": {},
   "source": [
    "### read the prediction infos"
   ]
  },
  {
   "cell_type": "code",
   "execution_count": 6,
   "id": "db18204d",
   "metadata": {},
   "outputs": [],
   "source": [
    "with open(\"../../evaluation/subtask2/subtask2_optimized_results.txt\") as f:\n",
    "    prediction_infos =f.readlines()"
   ]
  },
  {
   "cell_type": "code",
   "execution_count": 7,
   "id": "7006c9ac",
   "metadata": {},
   "outputs": [],
   "source": [
    "prediction_infos = [json.loads(item) for item in prediction_infos]\n"
   ]
  },
  {
   "cell_type": "code",
   "execution_count": 8,
   "id": "160cc636",
   "metadata": {
    "scrolled": true
   },
   "outputs": [],
   "source": [
    "# result_of_predictions = []\n",
    "# for pred in prediction_infos:\n",
    "#     print(pred)\n",
    "#     result_of_predictions.append(ast.literal_eval(pred))"
   ]
  },
  {
   "cell_type": "code",
   "execution_count": 9,
   "id": "4e3cfbf9",
   "metadata": {},
   "outputs": [],
   "source": [
    "# result_of_predictions"
   ]
  },
  {
   "cell_type": "code",
   "execution_count": 16,
   "id": "308070f6",
   "metadata": {},
   "outputs": [
    {
     "data": {
      "text/html": [
       "<div>\n",
       "<style scoped>\n",
       "    .dataframe tbody tr th:only-of-type {\n",
       "        vertical-align: middle;\n",
       "    }\n",
       "\n",
       "    .dataframe tbody tr th {\n",
       "        vertical-align: top;\n",
       "    }\n",
       "\n",
       "    .dataframe thead th {\n",
       "        text-align: right;\n",
       "    }\n",
       "</style>\n",
       "<table border=\"1\" class=\"dataframe\">\n",
       "  <thead>\n",
       "    <tr style=\"text-align: right;\">\n",
       "      <th></th>\n",
       "      <th>precision</th>\n",
       "      <th>recall</th>\n",
       "      <th>f1</th>\n",
       "      <th>name</th>\n",
       "      <th>epochs</th>\n",
       "      <th>train_batch_size</th>\n",
       "      <th>val_batch_size</th>\n",
       "      <th>lr</th>\n",
       "      <th>weight_decay</th>\n",
       "      <th>warmup_ratio</th>\n",
       "    </tr>\n",
       "  </thead>\n",
       "  <tbody>\n",
       "    <tr>\n",
       "      <th>0</th>\n",
       "      <td>0.879712</td>\n",
       "      <td>0.898058</td>\n",
       "      <td>0.885908</td>\n",
       "      <td>bert-base-cased</td>\n",
       "      <td>8</td>\n",
       "      <td>8</td>\n",
       "      <td>8</td>\n",
       "      <td>0.000046</td>\n",
       "      <td>0.037583</td>\n",
       "      <td>0.1</td>\n",
       "    </tr>\n",
       "    <tr>\n",
       "      <th>1</th>\n",
       "      <td>0.859252</td>\n",
       "      <td>0.905340</td>\n",
       "      <td>0.877731</td>\n",
       "      <td>bert-base-uncased</td>\n",
       "      <td>8</td>\n",
       "      <td>8</td>\n",
       "      <td>4</td>\n",
       "      <td>0.000040</td>\n",
       "      <td>0.000661</td>\n",
       "      <td>0.1</td>\n",
       "    </tr>\n",
       "    <tr>\n",
       "      <th>2</th>\n",
       "      <td>0.859153</td>\n",
       "      <td>0.890777</td>\n",
       "      <td>0.871184</td>\n",
       "      <td>roberta-base</td>\n",
       "      <td>10</td>\n",
       "      <td>8</td>\n",
       "      <td>16</td>\n",
       "      <td>0.000155</td>\n",
       "      <td>0.005461</td>\n",
       "      <td>0.1</td>\n",
       "    </tr>\n",
       "    <tr>\n",
       "      <th>3</th>\n",
       "      <td>0.875204</td>\n",
       "      <td>0.905340</td>\n",
       "      <td>0.886565</td>\n",
       "      <td>allenai/scibert_scivocab_uncased</td>\n",
       "      <td>6</td>\n",
       "      <td>16</td>\n",
       "      <td>32</td>\n",
       "      <td>0.000044</td>\n",
       "      <td>0.064425</td>\n",
       "      <td>0.1</td>\n",
       "    </tr>\n",
       "  </tbody>\n",
       "</table>\n",
       "</div>"
      ],
      "text/plain": [
       "   precision    recall        f1                              name  epochs  \\\n",
       "0   0.879712  0.898058  0.885908                   bert-base-cased       8   \n",
       "1   0.859252  0.905340  0.877731                 bert-base-uncased       8   \n",
       "2   0.859153  0.890777  0.871184                      roberta-base      10   \n",
       "3   0.875204  0.905340  0.886565  allenai/scibert_scivocab_uncased       6   \n",
       "\n",
       "   train_batch_size  val_batch_size        lr  weight_decay  warmup_ratio  \n",
       "0                 8               8  0.000046      0.037583           0.1  \n",
       "1                 8               4  0.000040      0.000661           0.1  \n",
       "2                 8              16  0.000155      0.005461           0.1  \n",
       "3                16              32  0.000044      0.064425           0.1  "
      ]
     },
     "execution_count": 16,
     "metadata": {},
     "output_type": "execute_result"
    }
   ],
   "source": [
    "pd.DataFrame(prediction_infos)"
   ]
  },
  {
   "cell_type": "code",
   "execution_count": 10,
   "id": "43a71ecc",
   "metadata": {
    "scrolled": true
   },
   "outputs": [
    {
     "data": {
      "text/plain": [
       "{'bert-base-uncased': {'training_f1': 0.879297905898066},\n",
       " 'bert-base-cased': {'training_f1': 0.8971037492363625},\n",
       " 'roberta-base': {'training_f1': 0.8587004044124531},\n",
       " 'allenai/scibert_scivocab_uncased': {'training_f1': 0.8959438964892893}}"
      ]
     },
     "execution_count": 10,
     "metadata": {},
     "output_type": "execute_result"
    }
   ],
   "source": [
    "different_models_info"
   ]
  },
  {
   "cell_type": "code",
   "execution_count": 11,
   "id": "83bf1dfc",
   "metadata": {},
   "outputs": [
    {
     "name": "stdout",
     "output_type": "stream",
     "text": [
      "bert-base-uncased\n",
      "bert-base-cased\n",
      "roberta-base\n",
      "allenai/scibert_scivocab_uncased\n"
     ]
    }
   ],
   "source": [
    "for item in different_models_info:\n",
    "    print(item)"
   ]
  },
  {
   "cell_type": "code",
   "execution_count": 12,
   "id": "9b3ba23d",
   "metadata": {},
   "outputs": [
    {
     "data": {
      "text/plain": [
       "{'bert-base-uncased': {'training_f1': 0.879297905898066,\n",
       "  'test_f1': 0.8777309199255193},\n",
       " 'bert-base-cased': {'training_f1': 0.8971037492363625,\n",
       "  'test_f1': 0.8859077096950067},\n",
       " 'roberta-base': {'training_f1': 0.8587004044124531,\n",
       "  'test_f1': 0.8711838055959945},\n",
       " 'allenai/scibert_scivocab_uncased': {'training_f1': 0.8959438964892893,\n",
       "  'test_f1': 0.8865653558103316}}"
      ]
     },
     "execution_count": 12,
     "metadata": {},
     "output_type": "execute_result"
    }
   ],
   "source": [
    "for model_name in different_models_info:\n",
    "    for item in prediction_infos:\n",
    "        if item['name'] == model_name:\n",
    "            different_models_info[model_name]['test_f1'] = item['f1']\n",
    "            \n",
    "different_models_info"
   ]
  },
  {
   "cell_type": "code",
   "execution_count": 13,
   "id": "178e6c39",
   "metadata": {},
   "outputs": [
    {
     "name": "stdout",
     "output_type": "stream",
     "text": [
      "                                  training_f1   test_f1\n",
      "bert-base-uncased                    0.879298  0.877731\n",
      "bert-base-cased                      0.897104  0.885908\n",
      "roberta-base                         0.858700  0.871184\n",
      "allenai/scibert_scivocab_uncased     0.895944  0.886565\n"
     ]
    }
   ],
   "source": [
    "# Create DataFrame from the dictionary\n",
    "df = pd.DataFrame.from_dict(different_models_info, orient='index')\n",
    "\n",
    "# Display the DataFrame\n",
    "print(df.head())"
   ]
  },
  {
   "cell_type": "markdown",
   "id": "0c2ac379",
   "metadata": {},
   "source": [
    "### create a table in latex"
   ]
  },
  {
   "cell_type": "code",
   "execution_count": 14,
   "id": "bee5f113",
   "metadata": {},
   "outputs": [
    {
     "data": {
      "text/html": [
       "<div>\n",
       "<style scoped>\n",
       "    .dataframe tbody tr th:only-of-type {\n",
       "        vertical-align: middle;\n",
       "    }\n",
       "\n",
       "    .dataframe tbody tr th {\n",
       "        vertical-align: top;\n",
       "    }\n",
       "\n",
       "    .dataframe thead th {\n",
       "        text-align: right;\n",
       "    }\n",
       "</style>\n",
       "<table border=\"1\" class=\"dataframe\">\n",
       "  <thead>\n",
       "    <tr style=\"text-align: right;\">\n",
       "      <th></th>\n",
       "      <th>name</th>\n",
       "      <th>precision</th>\n",
       "      <th>recall</th>\n",
       "      <th>f1</th>\n",
       "    </tr>\n",
       "  </thead>\n",
       "  <tbody>\n",
       "    <tr>\n",
       "      <th>0</th>\n",
       "      <td>bert-base-cased</td>\n",
       "      <td>0.879712</td>\n",
       "      <td>0.898058</td>\n",
       "      <td>0.885908</td>\n",
       "    </tr>\n",
       "    <tr>\n",
       "      <th>1</th>\n",
       "      <td>bert-base-uncased</td>\n",
       "      <td>0.859252</td>\n",
       "      <td>0.905340</td>\n",
       "      <td>0.877731</td>\n",
       "    </tr>\n",
       "    <tr>\n",
       "      <th>2</th>\n",
       "      <td>roberta-base</td>\n",
       "      <td>0.859153</td>\n",
       "      <td>0.890777</td>\n",
       "      <td>0.871184</td>\n",
       "    </tr>\n",
       "    <tr>\n",
       "      <th>3</th>\n",
       "      <td>allenai/scibert_scivocab_uncased</td>\n",
       "      <td>0.875204</td>\n",
       "      <td>0.905340</td>\n",
       "      <td>0.886565</td>\n",
       "    </tr>\n",
       "  </tbody>\n",
       "</table>\n",
       "</div>"
      ],
      "text/plain": [
       "                               name  precision    recall        f1\n",
       "0                   bert-base-cased   0.879712  0.898058  0.885908\n",
       "1                 bert-base-uncased   0.859252  0.905340  0.877731\n",
       "2                      roberta-base   0.859153  0.890777  0.871184\n",
       "3  allenai/scibert_scivocab_uncased   0.875204  0.905340  0.886565"
      ]
     },
     "execution_count": 14,
     "metadata": {},
     "output_type": "execute_result"
    }
   ],
   "source": [
    "filtered_data = [{'name': item['name'], 'precision': item['precision'], 'recall': item['recall'], 'f1': item['f1']} for item in prediction_infos]\n",
    "\n",
    "# Create a DataFrame\n",
    "df = pd.DataFrame(filtered_data)\n",
    "df.head()"
   ]
  },
  {
   "cell_type": "code",
   "execution_count": 15,
   "id": "faca9f12",
   "metadata": {},
   "outputs": [
    {
     "name": "stdout",
     "output_type": "stream",
     "text": [
      "\\begin{tabular}{llrrr}\n",
      "\\toprule\n",
      " & name & precision & recall & f1 \\\\\n",
      "\\midrule\n",
      "0 & bert-base-cased & 0.879712 & 0.898058 & 0.885908 \\\\\n",
      "1 & bert-base-uncased & 0.859252 & 0.905340 & 0.877731 \\\\\n",
      "2 & roberta-base & 0.859153 & 0.890777 & 0.871184 \\\\\n",
      "3 & allenai/scibert_scivocab_uncased & 0.875204 & 0.905340 & 0.886565 \\\\\n",
      "\\bottomrule\n",
      "\\end{tabular}\n",
      "\n"
     ]
    }
   ],
   "source": [
    "print(df.to_latex())"
   ]
  },
  {
   "cell_type": "code",
   "execution_count": null,
   "id": "a9e84955",
   "metadata": {},
   "outputs": [],
   "source": []
  }
 ],
 "metadata": {
  "kernelspec": {
   "display_name": "Python 3 (ipykernel)",
   "language": "python",
   "name": "python3"
  },
  "language_info": {
   "codemirror_mode": {
    "name": "ipython",
    "version": 3
   },
   "file_extension": ".py",
   "mimetype": "text/x-python",
   "name": "python",
   "nbconvert_exporter": "python",
   "pygments_lexer": "ipython3",
   "version": "3.11.4"
  }
 },
 "nbformat": 4,
 "nbformat_minor": 5
}
