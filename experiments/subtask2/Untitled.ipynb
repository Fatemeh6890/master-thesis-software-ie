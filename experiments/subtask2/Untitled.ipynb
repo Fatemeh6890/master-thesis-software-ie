{
 "cells": [
  {
   "cell_type": "code",
   "execution_count": 4,
   "id": "39620bb9",
   "metadata": {},
   "outputs": [],
   "source": [
    "import json\n",
    "import pandas as pd\n",
    "import ast"
   ]
  },
  {
   "cell_type": "code",
   "execution_count": 5,
   "id": "ccfde6c2",
   "metadata": {},
   "outputs": [],
   "source": [
    "with open(\"../../evaluation/subtask2/subtask2_results.txt\") as f:\n",
    "    prediction_infos =f.readlines()"
   ]
  },
  {
   "cell_type": "code",
   "execution_count": 6,
   "id": "4b43046a",
   "metadata": {},
   "outputs": [],
   "source": [
    "result_of_predictions = []\n",
    "for pred in prediction_infos:\n",
    "    result_of_predictions.append(ast.literal_eval(pred))"
   ]
  },
  {
   "cell_type": "code",
   "execution_count": 10,
   "id": "91f2f991",
   "metadata": {},
   "outputs": [
    {
     "data": {
      "text/html": [
       "<div>\n",
       "<style scoped>\n",
       "    .dataframe tbody tr th:only-of-type {\n",
       "        vertical-align: middle;\n",
       "    }\n",
       "\n",
       "    .dataframe tbody tr th {\n",
       "        vertical-align: top;\n",
       "    }\n",
       "\n",
       "    .dataframe thead th {\n",
       "        text-align: right;\n",
       "    }\n",
       "</style>\n",
       "<table border=\"1\" class=\"dataframe\">\n",
       "  <thead>\n",
       "    <tr style=\"text-align: right;\">\n",
       "      <th></th>\n",
       "      <th>precision</th>\n",
       "      <th>recall</th>\n",
       "      <th>f1</th>\n",
       "      <th>name</th>\n",
       "      <th>epochs</th>\n",
       "      <th>train_batch_size</th>\n",
       "      <th>val_batch_size</th>\n",
       "      <th>lr</th>\n",
       "      <th>weight_decay</th>\n",
       "      <th>warmup_ratio</th>\n",
       "    </tr>\n",
       "  </thead>\n",
       "  <tbody>\n",
       "    <tr>\n",
       "      <th>0</th>\n",
       "      <td>0.823716</td>\n",
       "      <td>0.871359</td>\n",
       "      <td>0.842060</td>\n",
       "      <td>caren_bert-base-uncased</td>\n",
       "      <td>8</td>\n",
       "      <td>64</td>\n",
       "      <td>8</td>\n",
       "      <td>0.00007</td>\n",
       "      <td>0.01</td>\n",
       "      <td>0.1</td>\n",
       "    </tr>\n",
       "    <tr>\n",
       "      <th>1</th>\n",
       "      <td>0.776741</td>\n",
       "      <td>0.844660</td>\n",
       "      <td>0.797238</td>\n",
       "      <td>claus_bert-base-uncased</td>\n",
       "      <td>6</td>\n",
       "      <td>64</td>\n",
       "      <td>8</td>\n",
       "      <td>0.00005</td>\n",
       "      <td>0.01</td>\n",
       "      <td>0.1</td>\n",
       "    </tr>\n",
       "    <tr>\n",
       "      <th>2</th>\n",
       "      <td>0.851193</td>\n",
       "      <td>0.888350</td>\n",
       "      <td>0.863527</td>\n",
       "      <td>john_bert-base-uncased</td>\n",
       "      <td>8</td>\n",
       "      <td>64</td>\n",
       "      <td>8</td>\n",
       "      <td>0.00010</td>\n",
       "      <td>0.01</td>\n",
       "      <td>0.1</td>\n",
       "    </tr>\n",
       "    <tr>\n",
       "      <th>3</th>\n",
       "      <td>0.799658</td>\n",
       "      <td>0.873786</td>\n",
       "      <td>0.831031</td>\n",
       "      <td>peter_bert-base-uncased</td>\n",
       "      <td>8</td>\n",
       "      <td>64</td>\n",
       "      <td>8</td>\n",
       "      <td>0.00005</td>\n",
       "      <td>0.01</td>\n",
       "      <td>0.1</td>\n",
       "    </tr>\n",
       "  </tbody>\n",
       "</table>\n",
       "</div>"
      ],
      "text/plain": [
       "   precision    recall        f1                     name  epochs  \\\n",
       "0   0.823716  0.871359  0.842060  caren_bert-base-uncased       8   \n",
       "1   0.776741  0.844660  0.797238  claus_bert-base-uncased       6   \n",
       "2   0.851193  0.888350  0.863527   john_bert-base-uncased       8   \n",
       "3   0.799658  0.873786  0.831031  peter_bert-base-uncased       8   \n",
       "\n",
       "   train_batch_size  val_batch_size       lr  weight_decay  warmup_ratio  \n",
       "0                64               8  0.00007          0.01           0.1  \n",
       "1                64               8  0.00005          0.01           0.1  \n",
       "2                64               8  0.00010          0.01           0.1  \n",
       "3                64               8  0.00005          0.01           0.1  "
      ]
     },
     "execution_count": 10,
     "metadata": {},
     "output_type": "execute_result"
    }
   ],
   "source": [
    "pd.DataFrame(result_of_predictions)"
   ]
  },
  {
   "cell_type": "code",
   "execution_count": 7,
   "id": "f1958c0c",
   "metadata": {},
   "outputs": [],
   "source": [
    "metrics = []\n",
    "for d in result_of_predictions:\n",
    "    metrics.append({\n",
    "        'name': d['name'],\n",
    "        'precision': d['precision'],\n",
    "        'recall': d['recall'],\n",
    "        'f1': d['f1']\n",
    "    })"
   ]
  },
  {
   "cell_type": "code",
   "execution_count": 8,
   "id": "9e2ce275",
   "metadata": {},
   "outputs": [
    {
     "data": {
      "text/html": [
       "<div>\n",
       "<style scoped>\n",
       "    .dataframe tbody tr th:only-of-type {\n",
       "        vertical-align: middle;\n",
       "    }\n",
       "\n",
       "    .dataframe tbody tr th {\n",
       "        vertical-align: top;\n",
       "    }\n",
       "\n",
       "    .dataframe thead th {\n",
       "        text-align: right;\n",
       "    }\n",
       "</style>\n",
       "<table border=\"1\" class=\"dataframe\">\n",
       "  <thead>\n",
       "    <tr style=\"text-align: right;\">\n",
       "      <th></th>\n",
       "      <th>name</th>\n",
       "      <th>precision</th>\n",
       "      <th>recall</th>\n",
       "      <th>f1</th>\n",
       "    </tr>\n",
       "  </thead>\n",
       "  <tbody>\n",
       "    <tr>\n",
       "      <th>0</th>\n",
       "      <td>caren_bert-base-uncased</td>\n",
       "      <td>0.823716</td>\n",
       "      <td>0.871359</td>\n",
       "      <td>0.842060</td>\n",
       "    </tr>\n",
       "    <tr>\n",
       "      <th>1</th>\n",
       "      <td>claus_bert-base-uncased</td>\n",
       "      <td>0.776741</td>\n",
       "      <td>0.844660</td>\n",
       "      <td>0.797238</td>\n",
       "    </tr>\n",
       "    <tr>\n",
       "      <th>2</th>\n",
       "      <td>john_bert-base-uncased</td>\n",
       "      <td>0.851193</td>\n",
       "      <td>0.888350</td>\n",
       "      <td>0.863527</td>\n",
       "    </tr>\n",
       "    <tr>\n",
       "      <th>3</th>\n",
       "      <td>peter_bert-base-uncased</td>\n",
       "      <td>0.799658</td>\n",
       "      <td>0.873786</td>\n",
       "      <td>0.831031</td>\n",
       "    </tr>\n",
       "  </tbody>\n",
       "</table>\n",
       "</div>"
      ],
      "text/plain": [
       "                      name  precision    recall        f1\n",
       "0  caren_bert-base-uncased   0.823716  0.871359  0.842060\n",
       "1  claus_bert-base-uncased   0.776741  0.844660  0.797238\n",
       "2   john_bert-base-uncased   0.851193  0.888350  0.863527\n",
       "3  peter_bert-base-uncased   0.799658  0.873786  0.831031"
      ]
     },
     "execution_count": 8,
     "metadata": {},
     "output_type": "execute_result"
    }
   ],
   "source": [
    "# Converting to DataFrame\n",
    "df = pd.DataFrame(metrics)\n",
    "df.head()"
   ]
  },
  {
   "cell_type": "code",
   "execution_count": null,
   "id": "8653ff0a",
   "metadata": {},
   "outputs": [],
   "source": [
    "print(df.to_latex())"
   ]
  }
 ],
 "metadata": {
  "kernelspec": {
   "display_name": "Python 3 (ipykernel)",
   "language": "python",
   "name": "python3"
  },
  "language_info": {
   "codemirror_mode": {
    "name": "ipython",
    "version": 3
   },
   "file_extension": ".py",
   "mimetype": "text/x-python",
   "name": "python",
   "nbconvert_exporter": "python",
   "pygments_lexer": "ipython3",
   "version": "3.11.4"
  }
 },
 "nbformat": 4,
 "nbformat_minor": 5
}
